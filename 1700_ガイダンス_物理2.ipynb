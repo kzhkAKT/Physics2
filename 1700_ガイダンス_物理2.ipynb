{
  "nbformat": 4,
  "nbformat_minor": 0,
  "metadata": {
    "colab": {
      "name": "1700_ガイダンス_物理2",
      "provenance": [],
      "toc_visible": true,
      "authorship_tag": "ABX9TyP/iHqW4OrkzMJHUV5e/H3J",
      "include_colab_link": true
    },
    "kernelspec": {
      "name": "python3",
      "display_name": "Python 3"
    }
  },
  "cells": [
    {
      "cell_type": "markdown",
      "metadata": {
        "id": "view-in-github",
        "colab_type": "text"
      },
      "source": [
        "<a href=\"https://colab.research.google.com/github/kzhkAKT/Physics2/blob/draft/1700_%E3%82%AC%E3%82%A4%E3%83%80%E3%83%B3%E3%82%B9_%E7%89%A9%E7%90%862.ipynb\" target=\"_parent\"><img src=\"https://colab.research.google.com/assets/colab-badge.svg\" alt=\"Open In Colab\"/></a>"
      ]
    },
    {
      "cell_type": "markdown",
      "metadata": {
        "id": "V75dY5t_Ckh-"
      },
      "source": [
        "# 科目名 物理II\n",
        "## 取り扱う話題 (静止)流体, 熱と分子運動\n",
        "1. 流体\n",
        "2. 温度と熱\n",
        "3. 気体分子の運動\n",
        "4. 熱力学の第一法則と第二法則\n"
      ]
    },
    {
      "cell_type": "markdown",
      "metadata": {
        "id": "mr89w69ADf_d"
      },
      "source": [
        "## シラバス\n",
        "- [R05 3E 物理II](https://classroom.google.com/c/NTE4MDg3NDA5MjA4/p/NjAyOTk3MDM5NTA2/details)\n",
        "- [R05 3B 物理II](https://classroom.google.com/c/NjAxNzgxNjk0OTkx/p/NjAyOTk3NjUzMjY4/details)\n",
        "\n",
        "- 前期科目 1単位\n",
        "  - 到達度試験 2回\n"
      ]
    },
    {
      "cell_type": "markdown",
      "metadata": {
        "id": "EexQ5RbaD7g5"
      },
      "source": [
        "## 評価方法\n",
        "\n",
        "総合評価 50 で合格.\n",
        "\n",
        "| 総合評価 |到達度試験\t|課題|姿勢|\n",
        "|:-:|:-:|:-:|:-:|\n",
        "|100|  75|\t20\t|5|"
      ]
    },
    {
      "cell_type": "markdown",
      "source": [
        "## 授業の進め方\n",
        "- 授業での解説と課題"
      ],
      "metadata": {
        "id": "NOCYO3mXLsQ6"
      }
    },
    {
      "cell_type": "markdown",
      "metadata": {
        "id": "nm3ZXZNFe_Rq"
      },
      "source": [
        "#### 講義演習\n",
        "\n",
        "毎回の講義終了後に, 問題を Google Classroom を通じて通知.\n",
        "  \n",
        "1. 各自, 出題した問題(4-7題)を講義都度, 取り組むこと.\n",
        "2. 状況が許す限り, 出題した問題で最も解説希望が多い問題を  \n",
        " **2,3題** だけ, 次の講義で担当教員が解説\n",
        "  - 解説希望については, Google classroom で集計\n",
        "  - 集計に対する回答は、姿勢として評価\n",
        "\n",
        "- 出題問題略解は次回の講義で、Google Classroom にて紹介。\n",
        "- 解説できなかった問題についても、略解を参照し自作の解説を提出してください。\n",
        "\n",
        "\n",
        "###### 提出と評価方法\n",
        "- 各自作成した講義毎の課題は,\n",
        "  1. 紙面上に自筆で作成\n",
        "    - 略解から得られた知見を、**<font color=\"red\"> 赤ペン </font>** で書き加え、改善する。\n",
        "    - 略解を参照し、解けなかった問題についても作成\n",
        "  1. 画像を撮影しPDF化する。アプリ例\n",
        "    - Microsoft Lens: [Android 版](https://play.google.com/store/apps/details?id=com.microsoft.office.officelens&hl=ja&gl=US) [iOS 版](https://apps.apple.com/jp/app/microsoft-lens-pdf-scanner/id975925059)\n",
        "    - https://app-liv.jp/4444824/\n",
        "  1. Google classroom 経由で、変換したPDFを期日までに提出\n",
        "\n",
        "###### 評価チエック項目\n",
        "1. 期日は守れたか? 遅れた場合は受理しません.\n",
        "2. 第三者 {が読める,へ伝わる} 解答であるか?\n",
        "3. 略解を参考に自身の解答へ改善を試みた形跡はあるか？ **<font color=\"red\"> 赤ペン利用 </font>**\n",
        "4. 答え合わせをしているか？"
      ]
    }
  ]
}