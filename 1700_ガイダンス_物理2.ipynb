{
  "nbformat": 4,
  "nbformat_minor": 0,
  "metadata": {
    "colab": {
      "name": "1700_ガイダンス_物理2",
      "provenance": [],
      "collapsed_sections": [],
      "authorship_tag": "ABX9TyP+/E/EnSiMGQWA4xhHtV94",
      "include_colab_link": true
    },
    "kernelspec": {
      "name": "python3",
      "display_name": "Python 3"
    }
  },
  "cells": [
    {
      "cell_type": "markdown",
      "metadata": {
        "id": "view-in-github",
        "colab_type": "text"
      },
      "source": [
        "<a href=\"https://colab.research.google.com/github/kzhkAKT/Physics2/blob/master/1700_%E3%82%AC%E3%82%A4%E3%83%80%E3%83%B3%E3%82%B9_%E7%89%A9%E7%90%862.ipynb\" target=\"_parent\"><img src=\"https://colab.research.google.com/assets/colab-badge.svg\" alt=\"Open In Colab\"/></a>"
      ]
    },
    {
      "cell_type": "markdown",
      "metadata": {
        "id": "V75dY5t_Ckh-",
        "colab_type": "text"
      },
      "source": [
        "# 科目名 物理II\n",
        "## 取り扱う話題 (静止)流体, 熱と分子運動\n",
        "1. 流体\n",
        "2. 温度と熱\n",
        "3. 気体分子の運動\n",
        "4. 熱力学の第一法則と第二法則\n"
      ]
    },
    {
      "cell_type": "markdown",
      "metadata": {
        "id": "mr89w69ADf_d",
        "colab_type": "text"
      },
      "source": [
        "## シラバス\n",
        "[3M 物理II](https://syllabus.kosen-k.go.jp/Pages/PublicSyllabus?school_id=08&department_id=11&subject_id=0058&year=2018&lang=ja) ,  [3E 物理II](https://syllabus.kosen-k.go.jp/Pages/PublicSyllabus?school_id=08&department_id=11&subject_id=0059&year=2018&lang=ja)\n",
        "\n",
        "- 前期科目 1単位\n",
        "  - 到達度試験 2回\n"
      ]
    },
    {
      "cell_type": "markdown",
      "metadata": {
        "id": "EexQ5RbaD7g5",
        "colab_type": "text"
      },
      "source": [
        "## 評価方法\n",
        "\n",
        "総合評価 50 で合格.\n",
        "\n",
        "| 総合評価 |到達度試験\t|課題|\n",
        "|--|--|--|\n",
        "|100|  75|\t25\t|"
      ]
    },
    {
      "cell_type": "markdown",
      "metadata": {
        "id": "IFFKIkViD2i8",
        "colab_type": "text"
      },
      "source": [
        "### 課題の基本方針\n",
        "\n",
        "#### 基本的な出題方法\n",
        "毎回の講義終了後に, 問題を Google Classroom を通じて通知.\n",
        "1. 各自, 出題した問題を講義の度に取り組むこと.\n",
        "2. 状況が許す限り, 出題した問題で最も解説希望が多い問題を  \n",
        " **一題** だけ, 次の講義で担当教員が解説\n",
        "  - 解説希望については, Google classroom で集計 ~~を取る予定です~~.\n",
        "3. 出題問題略解は出題一週間を目処に, Google Classroom で紹介します.\n",
        "\n",
        "#### 基本的な評価方法\n",
        "各自作成した講義毎の課題は, 各定期試験終了直後に **指定の表紙** をつけて提出する.\n",
        "\n",
        "##### チエック項目\n",
        "1. 期日は守れたか? 遅れた場合は受理しません.\n",
        "2. 第三者 {が読める,へ伝わる} 解答であるか?\n",
        "3. 略解を参考に自身の解答へ改善を試みた形跡はあるか？ **赤ペン利用**\n",
        "4. 答え合わせをしているか？\n",
        "\n"
      ]
    }
  ]
}