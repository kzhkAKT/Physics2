{
  "nbformat": 4,
  "nbformat_minor": 0,
  "metadata": {
    "colab": {
      "name": "1700_ガイダンス_物理2",
      "provenance": [],
      "collapsed_sections": [],
      "toc_visible": true,
      "authorship_tag": "ABX9TyOCUImOL8lGa5mE9VJ/fT1N",
      "include_colab_link": true
    },
    "kernelspec": {
      "name": "python3",
      "display_name": "Python 3"
    }
  },
  "cells": [
    {
      "cell_type": "markdown",
      "metadata": {
        "id": "view-in-github",
        "colab_type": "text"
      },
      "source": [
        "<a href=\"https://colab.research.google.com/github/kzhkAKT/Physics2/blob/draft/1700_%E3%82%AC%E3%82%A4%E3%83%80%E3%83%B3%E3%82%B9_%E7%89%A9%E7%90%862.ipynb\" target=\"_parent\"><img src=\"https://colab.research.google.com/assets/colab-badge.svg\" alt=\"Open In Colab\"/></a>"
      ]
    },
    {
      "cell_type": "markdown",
      "metadata": {
        "id": "V75dY5t_Ckh-"
      },
      "source": [
        "# 科目名 物理II\n",
        "## 取り扱う話題 (静止)流体, 熱と分子運動\n",
        "1. 流体\n",
        "2. 温度と熱\n",
        "3. 気体分子の運動\n",
        "4. 熱力学の第一法則と第二法則\n"
      ]
    },
    {
      "cell_type": "markdown",
      "metadata": {
        "id": "mr89w69ADf_d"
      },
      "source": [
        "## シラバス\n",
        "- [R04 3E 物理II](https://syllabus.kosen-k.go.jp/Pages/PublicSyllabus?school_id=08&department_id=11&subject_id=0050&year=2020&lang=ja)\n",
        "- [R04 3B 物理II](https://syllabus.kosen-k.go.jp/Pages/PublicSyllabus?school_id=08&department_id=11&subject_id=0052&year=2020&lang=ja)\n",
        "\n",
        "\n",
        "- 前期科目 1単位\n",
        "  - 到達度試験 2回\n"
      ]
    },
    {
      "cell_type": "markdown",
      "metadata": {
        "id": "EexQ5RbaD7g5"
      },
      "source": [
        "## 評価方法\n",
        "\n",
        "総合評価 50 で合格.\n",
        "\n",
        "| 総合評価 |到達度試験\t|課題|姿勢|\n",
        "|:-:|:-:|:-:|:-:|\n",
        "|100|  75|\t20\t|5|"
      ]
    },
    {
      "cell_type": "markdown",
      "source": [
        "## 授業の進め方\n",
        "- 授業での解説と課題"
      ],
      "metadata": {
        "id": "NOCYO3mXLsQ6"
      }
    },
    {
      "cell_type": "markdown",
      "metadata": {
        "id": "zvW2yNYdB760"
      },
      "source": [
        "### 課題\n",
        "\n",
        "#### 基本的な出題方法\n",
        "毎回の講義終了後に, 問題を Google Classroom を通じて通知.\n",
        "\n",
        "##### 物理IIの内容\n",
        "\n",
        "1. 各自, 出題した問題(4-7題)を講義都度, 取り組む\n",
        "1. 解説希望については, Google classroom で集計\n",
        "1. 出題した問題で最も解説希望が多い問題順に  \n",
        "   次の講義で担当教員が解説 (解説時間30-45分。*全問は解説できません*)\n",
        "\n",
        "##### 前年度復習\n",
        "\n",
        "* 物理Iの(前年度到達度試験の)内容から、大問一題出題\n",
        "\n",
        "**いずれの問題も出題問題略解は出題後一週間を目処に, Google Classroom で紹介**\n",
        "\n",
        "#### 提出と評価方法\n",
        "- 各自作成した講義毎の課題は,\n",
        "  - **<font color=\"blue\">A4レポート</font>** に、紙面上に**自筆**で作成\n",
        "  - 各定期試験終了直後に **指定の表紙** をつけて提出\n",
        "\n",
        "##### 評価チエック項目\n",
        "1. 期日は守れたか? 遅れた場合は受理しません.\n",
        "1. 第三者 {が読める,へ伝わる} 解答であるか?\n",
        "1. 略解を参考に自身の解答へ**改善を試みた形跡**はあるか？ **<font color=\"red\"> 赤ペン利用 </font>**\n",
        "1. 答え合わせをしているか？\n",
        "1. 表紙のガイドに従って, とじられているか?\n"
      ]
    }
  ]
}