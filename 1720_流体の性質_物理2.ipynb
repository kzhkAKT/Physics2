{
  "nbformat": 4,
  "nbformat_minor": 0,
  "metadata": {
    "colab": {
      "name": "1720_流体の性質_物理2",
      "provenance": [],
      "collapsed_sections": [],
      "authorship_tag": "ABX9TyNmeyGpxuh+qJhcudDtZJxX",
      "include_colab_link": true
    },
    "kernelspec": {
      "name": "python3",
      "display_name": "Python 3"
    }
  },
  "cells": [
    {
      "cell_type": "markdown",
      "metadata": {
        "id": "view-in-github",
        "colab_type": "text"
      },
      "source": [
        "<a href=\"https://colab.research.google.com/github/kzhkAKT/Physics2/blob/master/1720_%E6%B5%81%E4%BD%93%E3%81%AE%E6%80%A7%E8%B3%AA_%E7%89%A9%E7%90%862.ipynb\" target=\"_parent\"><img src=\"https://colab.research.google.com/assets/colab-badge.svg\" alt=\"Open In Colab\"/></a>"
      ]
    },
    {
      "cell_type": "markdown",
      "metadata": {
        "id": "tLhyqLLZ15OU",
        "colab_type": "text"
      },
      "source": [
        "# ~~剛体や~~ 流体に働く力\n",
        "\n",
        "## 流体の性質\n",
        "* 流体 $\\supset$ 液体 & 気体\n",
        "* 流体 $:=$ 流体を構成する分子は、ほぼ自由に移動し、流れやすい性質をもつ\n",
        "* この2回の講義で扱う流体の特徴\n",
        "  1. **静止流体** ~ 流れなし、渦なし ~ 例: 水槽に蓄えた水\n",
        "  2. **非圧縮性流体** ~ 流体の体積が(圧力によってほとんど)変化しない ~ 例: 水"
      ]
    },
    {
      "cell_type": "code",
      "metadata": {
        "id": "gLhAW5k36kwZ",
        "colab_type": "code",
        "colab": {
          "base_uri": "https://localhost:8080/",
          "height": 336
        },
        "cellView": "form",
        "outputId": "c6c16709-35de-4aa6-f130-2d33e1a4ed57"
      },
      "source": [
        "#@title 静止流体の概念写真\n",
        "%%html\n",
        "\n",
        "<iframe width=\"560\" height=\"315\" src=\"https://www.youtube-nocookie.com/embed/wUY3H545al8?start=349\" frameborder=\"0\" allow=\"accelerometer; autoplay; encrypted-media; gyroscope; picture-in-picture\" allowfullscreen></iframe>"
      ],
      "execution_count": 6,
      "outputs": [
        {
          "output_type": "display_data",
          "data": {
            "text/html": [
              "\n",
              "<iframe width=\"560\" height=\"315\" src=\"https://www.youtube-nocookie.com/embed/wUY3H545al8?start=349\" frameborder=\"0\" allow=\"accelerometer; autoplay; encrypted-media; gyroscope; picture-in-picture\" allowfullscreen></iframe>"
            ],
            "text/plain": [
              "<IPython.core.display.HTML object>"
            ]
          },
          "metadata": {
            "tags": []
          }
        }
      ]
    }
  ]
}