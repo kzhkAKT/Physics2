{
  "nbformat": 4,
  "nbformat_minor": 0,
  "metadata": {
    "colab": {
      "name": "1721_圧力_物理2",
      "provenance": [],
      "collapsed_sections": [],
      "authorship_tag": "ABX9TyPG66cnpfkI4FtPMdOp7uGW",
      "include_colab_link": true
    },
    "kernelspec": {
      "name": "python3",
      "display_name": "Python 3"
    }
  },
  "cells": [
    {
      "cell_type": "markdown",
      "metadata": {
        "id": "view-in-github",
        "colab_type": "text"
      },
      "source": [
        "<a href=\"https://colab.research.google.com/github/kzhkAKT/Physics2/blob/kzhk_phys2/1721_%E5%9C%A7%E5%8A%9B_%E7%89%A9%E7%90%862.ipynb\" target=\"_parent\"><img src=\"https://colab.research.google.com/assets/colab-badge.svg\" alt=\"Open In Colab\"/></a>"
      ]
    },
    {
      "cell_type": "markdown",
      "metadata": {
        "id": "tLhyqLLZ15OU",
        "colab_type": "text"
      },
      "source": [
        "# ~~剛体や~~ 流体に働く力\n",
        "\n",
        "## 流体の性質\n",
        "### 圧力\n",
        "\n",
        "圧力(Pressure)の定義\n",
        "\n",
        "$$\n",
        "P = \\dfrac{F}{S}\n",
        "$$\n",
        "\n",
        "* 力 $F$ は, 接触している面積 $S$ を **垂直に** 押す力です.(概念図参照)\n",
        "* 定義式から圧力の単位は ${\\rm N/m^2}$ で, これは $\\dfrac{\\rm N}{\\rm 1 m^2}$ と解釈できるので,   \n",
        "したがって圧力を **単位面積当たりに働く力** と表現することができます.\n",
        "* 圧力の単位 ${\\rm N/m^2}$ は、発見者の名前にちなんで **Pa** と  \n",
        "一般的に標記されます. (読み方は[パスカル](https://ja.wikipedia.org/wiki/%E3%83%96%E3%83%AC%E3%83%BC%E3%82%BA%E3%83%BB%E3%83%91%E3%82%B9%E3%82%AB%E3%83%AB)) 例を挙げると\n",
        "  * 気象予報における気圧:  $\\quad{\\rm 996\\ hPa = 996\\ h\\ Pa =996 \\times 10^2\\ Pa = 9.96\\times 10^4\\ Pa}$\n",
        "    * [SI接頭語](https://www.dainippon-tosho.co.jp/unit/si_prefix.html)の理解はOK?\n",
        "  * 自転車の空気圧: $\\qquad{\\rm 1.1\\ bar = 1.1\\ kPa = 1.1\\ k\\ Pa = 1.1\\times 10^3\\ Pa}$\n",
        "  \n",
        "\n"
      ]
    },
    {
      "cell_type": "code",
      "metadata": {
        "id": "crcKdAUp-5rc",
        "colab_type": "code",
        "cellView": "form",
        "outputId": "de370c87-237e-4f0d-c053-771ec8cbd125",
        "colab": {
          "base_uri": "https://localhost:8080/",
          "height": 372
        }
      },
      "source": [
        "#@title 圧力定義の概念図 (教科書では接触面積を S \b~ \"surface area\" としていますが, 図では A ~ area)\n",
        "%%svg\n",
        "https://upload.wikimedia.org/wikipedia/commons/f/ff/Pressure_force_area.svg"
      ],
      "execution_count": 0,
      "outputs": [
        {
          "output_type": "display_data",
          "data": {
            "text/plain": [
              "<IPython.core.display.SVG object>"
            ],
            "image/svg+xml": "<svg height=\"350\" id=\"svg2\" inkscape:version=\"0.48.3.1 r9886\" sodipodi:docname=\"Pressure force area.svg\" version=\"1.1\" width=\"350\" xmlns=\"http://www.w3.org/2000/svg\" xmlns:cc=\"http://creativecommons.org/ns#\" xmlns:dc=\"http://purl.org/dc/elements/1.1/\" xmlns:inkscape=\"http://www.inkscape.org/namespaces/inkscape\" xmlns:rdf=\"http://www.w3.org/1999/02/22-rdf-syntax-ns#\" xmlns:sodipodi=\"http://sodipodi.sourceforge.net/DTD/sodipodi-0.dtd\" xmlns:svg=\"http://www.w3.org/2000/svg\">\n  <defs id=\"defs4\">\n    <marker id=\"Arrow2Lend\" inkscape:stockid=\"Arrow2Lend\" orient=\"auto\" refX=\"0\" refY=\"0\" style=\"overflow:visible\">\n      <path d=\"M 8.7185878,4.0337352 -2.2072895,0.01601326 8.7185884,-4.0017078 c -1.7454984,2.3720609 -1.7354408,5.6174519 -6e-7,8.035443 z\" id=\"path3805\" inkscape:connector-curvature=\"0\" style=\"fill-rule:evenodd;stroke-width:0.625;stroke-linejoin:round\" transform=\"matrix(-1.1,0,0,-1.1,-1.1,0)\"/>\n    </marker>\n    <marker id=\"Arrow2Lend-0\" inkscape:stockid=\"Arrow2Lend\" orient=\"auto\" refX=\"0\" refY=\"0\" style=\"overflow:visible\">\n      <path d=\"M 8.7185878,4.0337352 -2.2072895,0.01601326 8.7185884,-4.0017078 c -1.7454984,2.3720609 -1.7354408,5.6174519 -6e-7,8.035443 z\" id=\"path3805-1\" inkscape:connector-curvature=\"0\" style=\"fill-rule:evenodd;stroke-width:0.625;stroke-linejoin:round\" transform=\"matrix(-1.1,0,0,-1.1,-1.1,0)\"/>\n    </marker>\n    <marker id=\"Arrow2Lend-0-2\" inkscape:stockid=\"Arrow2Lend\" orient=\"auto\" refX=\"0\" refY=\"0\" style=\"overflow:visible\">\n      <path d=\"M 8.7185878,4.0337352 -2.2072895,0.01601326 8.7185884,-4.0017078 c -1.7454984,2.3720609 -1.7354408,5.6174519 -6e-7,8.035443 z\" id=\"path3805-1-1\" inkscape:connector-curvature=\"0\" style=\"fill-rule:evenodd;stroke-width:0.625;stroke-linejoin:round\" transform=\"matrix(-1.1,0,0,-1.1,-1.1,0)\"/>\n    </marker>\n    <marker id=\"Arrow2Lend-0-0\" inkscape:stockid=\"Arrow2Lend\" orient=\"auto\" refX=\"0\" refY=\"0\" style=\"overflow:visible\">\n      <path d=\"M 8.7185878,4.0337352 -2.2072895,0.01601326 8.7185884,-4.0017078 c -1.7454984,2.3720609 -1.7354408,5.6174519 -6e-7,8.035443 z\" id=\"path3805-1-4\" inkscape:connector-curvature=\"0\" style=\"fill-rule:evenodd;stroke-width:0.625;stroke-linejoin:round\" transform=\"matrix(-1.1,0,0,-1.1,-1.1,0)\"/>\n    </marker>\n    <marker id=\"Arrow2Lend-0-4\" inkscape:stockid=\"Arrow2Lend\" orient=\"auto\" refX=\"0\" refY=\"0\" style=\"overflow:visible\">\n      <path d=\"M 8.7185878,4.0337352 -2.2072895,0.01601326 8.7185884,-4.0017078 c -1.7454984,2.3720609 -1.7354408,5.6174519 -6e-7,8.035443 z\" id=\"path3805-1-10\" inkscape:connector-curvature=\"0\" style=\"fill-rule:evenodd;stroke-width:0.625;stroke-linejoin:round\" transform=\"matrix(-1.1,0,0,-1.1,-1.1,0)\"/>\n    </marker>\n    <marker id=\"Arrow2Lend-0-8\" inkscape:stockid=\"Arrow2Lend\" orient=\"auto\" refX=\"0\" refY=\"0\" style=\"overflow:visible\">\n      <path d=\"M 8.7185878,4.0337352 -2.2072895,0.01601326 8.7185884,-4.0017078 c -1.7454984,2.3720609 -1.7354408,5.6174519 -6e-7,8.035443 z\" id=\"path3805-1-0\" inkscape:connector-curvature=\"0\" style=\"fill-rule:evenodd;stroke-width:0.625;stroke-linejoin:round\" transform=\"matrix(-1.1,0,0,-1.1,-1.1,0)\"/>\n    </marker>\n    <marker id=\"Arrow2Lend-0-09\" inkscape:stockid=\"Arrow2Lend\" orient=\"auto\" refX=\"0\" refY=\"0\" style=\"overflow:visible\">\n      <path d=\"M 8.7185878,4.0337352 -2.2072895,0.01601326 8.7185884,-4.0017078 c -1.7454984,2.3720609 -1.7354408,5.6174519 -6e-7,8.035443 z\" id=\"path3805-1-7\" inkscape:connector-curvature=\"0\" style=\"fill-rule:evenodd;stroke-width:0.625;stroke-linejoin:round\" transform=\"matrix(-1.1,0,0,-1.1,-1.1,0)\"/>\n    </marker>\n    <marker id=\"Arrow2Lend-0-3\" inkscape:stockid=\"Arrow2Lend\" orient=\"auto\" refX=\"0\" refY=\"0\" style=\"overflow:visible\">\n      <path d=\"M 8.7185878,4.0337352 -2.2072895,0.01601326 8.7185884,-4.0017078 c -1.7454984,2.3720609 -1.7354408,5.6174519 -6e-7,8.035443 z\" id=\"path3805-1-2\" inkscape:connector-curvature=\"0\" style=\"fill-rule:evenodd;stroke-width:0.625;stroke-linejoin:round\" transform=\"matrix(-1.1,0,0,-1.1,-1.1,0)\"/>\n    </marker>\n  </defs>\n  <sodipodi:namedview bordercolor=\"#666666\" borderopacity=\"1.0\" fit-margin-bottom=\"0\" fit-margin-left=\"0\" fit-margin-right=\"0\" fit-margin-top=\"0\" id=\"base\" inkscape:current-layer=\"g3029\" inkscape:cx=\"175.01369\" inkscape:cy=\"213.40262\" inkscape:document-units=\"px\" inkscape:pageopacity=\"0.0\" inkscape:pageshadow=\"2\" inkscape:window-height=\"876\" inkscape:window-maximized=\"1\" inkscape:window-width=\"1551\" inkscape:window-x=\"49\" inkscape:window-y=\"24\" inkscape:zoom=\"2.0828571\" pagecolor=\"#ffffff\" showgrid=\"false\"/>\n  <metadata id=\"metadata7\">\n    <rdf:RDF>\n      <cc:Work rdf:about=\"\">\n        <dc:format>image/svg+xml</dc:format>\n        <dc:type rdf:resource=\"http://purl.org/dc/dcmitype/StillImage\"/>\n        <dc:title/>\n      </cc:Work>\n    </rdf:RDF>\n  </metadata>\n  <g id=\"layer1\" inkscape:groupmode=\"layer\" inkscape:label=\"Ebene 1\" transform=\"translate(-71.84375,-49.15625)\">\n    <path d=\"m 214.04842,240.86424 195.00509,0 -113.31376,90.52248 -208.839889,0 z\" id=\"rect3775\" inkscape:connector-curvature=\"0\" sodipodi:nodetypes=\"ccccc\" style=\"fill:none;stroke:#000000;stroke-width:3;stroke-linecap:square;stroke-linejoin:miter;stroke-miterlimit:4;stroke-opacity:1;stroke-dasharray:none;stroke-dashoffset:0\"/>\n    <g id=\"g3029\" transform=\"matrix(0.8713085,0.49073566,-0.49073566,0.8713085,116.05166,-55.659972)\">\n      <path d=\"m 278.44891,201.35717 6.11597,37.9259 -29.22916,-24.9286 c 9.64634,1.18396 18.96513,-4.09438 23.11319,-12.9973 z\" id=\"path3035\" inkscape:connector-curvature=\"0\" style=\"fill-rule:evenodd;stroke-width:0.625;stroke-linejoin:round\"/>\n      <rect height=\"9.6021948\" id=\"rect3029\" style=\"fill:#ffffff;fill-opacity:1;stroke:#ffffff;stroke-width:2;stroke-linecap:square;stroke-linejoin:miter;stroke-miterlimit:4;stroke-opacity:1;stroke-dasharray:none;stroke-dashoffset:0\" transform=\"matrix(0.87130851,-0.49073566,0.49073566,0.87130851,0,0)\" width=\"8.6419754\" x=\"126.23106\" y=\"291.57889\"/>\n      <path d=\"m 179.96957,50.282931 -2.59445,1.46752 103.8915,184.812329 2.59444,-1.46752 L 179.96957,50.282931 z\" id=\"path3778\" inkscape:connector-curvature=\"0\" style=\"font-size:medium;font-style:normal;font-variant:normal;font-weight:normal;font-stretch:normal;text-indent:0;text-align:start;text-decoration:none;line-height:normal;letter-spacing:normal;word-spacing:normal;text-transform:none;direction:ltr;block-progression:tb;writing-mode:lr-tb;text-anchor:start;baseline-shift:baseline;color:#000000;fill:#000000;fill-opacity:1;stroke:none;stroke-width:3.00000024;marker:none;visibility:visible;display:inline;overflow:visible;enable-background:accumulate;font-family:Sans;-inkscape-font-specification:Sans\"/>\n      <g id=\"text3031\" style=\"font-size:48px;font-style:normal;font-variant:normal;font-weight:normal;font-stretch:normal;text-align:start;line-height:125%;letter-spacing:0px;word-spacing:0px;writing-mode:lr-tb;text-anchor:start;fill:#000000;fill-opacity:1;stroke:none;font-family:Liberation Sans;-inkscape-font-specification:Liberation Sans\" transform=\"matrix(0.87130851,-0.49073566,0.49073566,0.87130851,0,0)\">\n        <path d=\"m 54.680006,379.9191 -3.773437,-9.65625 -15.046875,0 -3.796875,9.65625 -4.640625,0 13.476562,-33.02344 5.085938,0 13.265625,33.02344 -4.570313,0 m -9.351562,-24.04688 c -0.250018,-0.62497 -0.492205,-1.25778 -0.726563,-1.89843 -0.218767,-0.6406 -0.414079,-1.21873 -0.585937,-1.73438 -0.171892,-0.53122 -0.320329,-0.96872 -0.445313,-1.3125 -0.109391,-0.35935 -0.171891,-0.5781 -0.1875,-0.65625 -0.03127,0.0781 -0.101578,0.2969 -0.210937,0.65625 -0.109391,0.3594 -0.257829,0.80472 -0.445313,1.33594 -0.17189,0.53128 -0.375015,1.11721 -0.609375,1.75781 -0.218765,0.64065 -0.445327,1.27346 -0.679687,1.89844 l -4.21875,10.85156 12.351562,0 -4.242187,-10.89844\" id=\"path3010\" style=\"\"/>\n      </g>\n      <g id=\"text3035\" style=\"font-size:48px;font-style:normal;font-variant:normal;font-weight:normal;font-stretch:normal;text-align:start;line-height:125%;letter-spacing:0px;word-spacing:0px;writing-mode:lr-tb;text-anchor:start;fill:#000000;fill-opacity:1;stroke:none;font-family:Liberation Sans;-inkscape-font-specification:Liberation Sans\" transform=\"matrix(0.87130851,-0.49073566,0.49073566,0.87130851,0,0)\">\n        <path d=\"m 148.5683,174.83174 0,12.28125 18.42187,0 0,3.70313 -18.42187,0 0,13.38281 -4.47656,0 0,-33.02344 23.46093,0 0,3.65625 -18.98437,0\" id=\"path3013\" style=\"\"/>\n      </g>\n      <path d=\"m 221.58379,58.744534 10.45882,-1.6866 -6.87456,8.060524 c 0.3265,-2.66017 -1.1291,-5.230014 -3.58426,-6.373924 z\" id=\"path3035-8\" inkscape:connector-curvature=\"0\" style=\"fill-rule:evenodd;stroke-width:0.625;stroke-linejoin:round\"/>\n      <path d=\"m 202.42076,72.600121 1.07214,1.902222 22.64975,-12.611742 -1.07212,-1.902208 -22.64977,12.611728 z\" id=\"path3778-7\" inkscape:connector-curvature=\"0\" style=\"font-size:medium;font-style:normal;font-variant:normal;font-weight:normal;font-stretch:normal;text-indent:0;text-align:start;text-decoration:none;line-height:normal;letter-spacing:normal;word-spacing:normal;text-transform:none;direction:ltr;block-progression:tb;writing-mode:lr-tb;text-anchor:start;baseline-shift:baseline;color:#000000;fill:#000000;fill-opacity:1;stroke:none;stroke-width:3.00000024;marker:none;visibility:visible;display:inline;overflow:visible;enable-background:accumulate;font-family:Sans;-inkscape-font-specification:Sans\"/>\n    </g>\n  </g>\n</svg>"
          },
          "metadata": {
            "tags": []
          }
        }
      ]
    },
    {
      "cell_type": "markdown",
      "metadata": {
        "id": "8nuZpUaD7FMF",
        "colab_type": "text"
      },
      "source": [
        "#### 圧力は一点に働く力の源\n",
        "\n",
        "1. 下の画像は無重力の宇宙空間に(ほぼ)静止している水滴です.  \n",
        "この水滴は周囲からの力を受け同じ大きさの力を受け,  \n",
        "一つにまとまりほぼ静止しています.\n",
        "\n",
        "2. この水滴を無限に小さくします。\n",
        "そうすると, 四方八方から受ける力は, ほぼ同じとみなしてよいでしょう。\n",
        "\n",
        "3. この考察から, **圧力は一点を表す物理量** として理解しておいてください.\n",
        "\n"
      ]
    },
    {
      "cell_type": "code",
      "metadata": {
        "id": "1i1pgC8v1fq4",
        "colab_type": "code",
        "cellView": "form",
        "outputId": "d5f444f3-c153-496f-907b-5a8acadf97c0",
        "colab": {
          "base_uri": "https://localhost:8080/",
          "height": 336
        }
      },
      "source": [
        "#@title 宇宙空間に(ほぼ)静止している水滴(通信量注意)\n",
        "%%html\n",
        "<iframe width=\"560\" height=\"315\" src=\"https://www.youtube.com/embed/bKk_7NIKY3Y?start=9\" frameborder=\"0\" allow=\"accelerometer; autoplay; encrypted-media; gyroscope; picture-in-picture\" allowfullscreen></iframe>"
      ],
      "execution_count": 0,
      "outputs": [
        {
          "output_type": "display_data",
          "data": {
            "text/html": [
              "<iframe width=\"560\" height=\"315\" src=\"https://www.youtube.com/embed/bKk_7NIKY3Y?start=9\" frameborder=\"0\" allow=\"accelerometer; autoplay; encrypted-media; gyroscope; picture-in-picture\" allowfullscreen></iframe>"
            ],
            "text/plain": [
              "<IPython.core.display.HTML object>"
            ]
          },
          "metadata": {
            "tags": []
          }
        }
      ]
    },
    {
      "cell_type": "markdown",
      "metadata": {
        "id": "QUanaaX6Dvzw",
        "colab_type": "text"
      },
      "source": [
        ">Q. 上の圧力の定義式から, 力を導出してください.\n",
        "\n",
        ">Q. 圧力の単位 Pa を, 国際単位系の基本単位(k,m,s)で表してください.\n",
        "\n",
        ">Q. 一片が 1.2 m の正方形の天板を持つ四つ足の机がある. この机の質量は 3.6 kg で, 一本の足の底面積は 0.2 m² とする. 足を下にして机を置いたと天板を下にしておいたときのそれぞれの圧力を求めよ. ただし、足も天板も鉛直方向に重力が加わっているもとのする."
      ]
    },
    {
      "cell_type": "code",
      "metadata": {
        "id": "5a4a5Ix2Tmcr",
        "colab_type": "code",
        "cellView": "form",
        "colab": {}
      },
      "source": [
        "#@title\n",
        "S1=0.2*4\n",
        "F=3.6*9.8 # m*g\n",
        "P1 = F/S1\n",
        "print(P1,\"Pa\")"
      ],
      "execution_count": 0,
      "outputs": []
    },
    {
      "cell_type": "code",
      "metadata": {
        "id": "pk6gQlxoTcSs",
        "colab_type": "code",
        "cellView": "form",
        "colab": {}
      },
      "source": [
        "#@title\n",
        "S2=1.2*1.2 # l*l\n",
        "F=3.6*9.8 # m*g\n",
        "P2=F/S2\n",
        "print(P2,\"Pa\")"
      ],
      "execution_count": 0,
      "outputs": []
    }
  ]
}