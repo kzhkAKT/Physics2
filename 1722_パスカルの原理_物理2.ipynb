{
  "nbformat": 4,
  "nbformat_minor": 0,
  "metadata": {
    "colab": {
      "name": "1722_パスカルの原理_物理2",
      "provenance": [],
      "collapsed_sections": [],
      "toc_visible": true,
      "include_colab_link": true
    },
    "kernelspec": {
      "name": "python3",
      "display_name": "Python 3"
    }
  },
  "cells": [
    {
      "cell_type": "markdown",
      "metadata": {
        "id": "view-in-github",
        "colab_type": "text"
      },
      "source": [
        "<a href=\"https://colab.research.google.com/github/kzhkAKT/Physics2/blob/master/1722_%E3%83%91%E3%82%B9%E3%82%AB%E3%83%AB%E3%81%AE%E5%8E%9F%E7%90%86_%E7%89%A9%E7%90%862.ipynb\" target=\"_parent\"><img src=\"https://colab.research.google.com/assets/colab-badge.svg\" alt=\"Open In Colab\"/></a>"
      ]
    },
    {
      "cell_type": "markdown",
      "metadata": {
        "id": "tLhyqLLZ15OU",
        "colab_type": "text"
      },
      "source": [
        "# ~~剛体や~~ 流体に働く力\n",
        "\n",
        "## 流体の性質\n",
        "\n",
        "* 水中で受ける圧力を **水圧**, 空気中で受ける圧力を **気圧** といいます.\n",
        "\n"
      ]
    },
    {
      "cell_type": "code",
      "metadata": {
        "id": "gLhAW5k36kwZ",
        "colab_type": "code",
        "cellView": "form",
        "outputId": "ad9b6467-6401-49a7-efa4-f6e9b2bf6bd7",
        "colab": {
          "base_uri": "https://localhost:8080/",
          "height": 336
        }
      },
      "source": [
        "#@title 水圧機の動画(通信量注意)\n",
        "%%html\n",
        "<iframe width=\"560\" height=\"315\" src=\"https://www.youtube-nocookie.com/embed/4xegpADGUBM\" frameborder=\"0\" allow=\"accelerometer; autoplay; encrypted-media; gyroscope; picture-in-picture\" allowfullscreen></iframe>"
      ],
      "execution_count": 0,
      "outputs": [
        {
          "output_type": "display_data",
          "data": {
            "text/html": [
              "<iframe width=\"560\" height=\"315\" src=\"https://www.youtube-nocookie.com/embed/4xegpADGUBM\" frameborder=\"0\" allow=\"accelerometer; autoplay; encrypted-media; gyroscope; picture-in-picture\" allowfullscreen></iframe>"
            ],
            "text/plain": [
              "<IPython.core.display.HTML object>"
            ]
          },
          "metadata": {
            "tags": []
          }
        }
      ]
    },
    {
      "cell_type": "markdown",
      "metadata": {
        "id": "26hCw79KF3lS",
        "colab_type": "text"
      },
      "source": [
        "\n",
        "### パスカルの原理\n",
        "\n",
        "> 容器に密閉された流体の一点に加えられた圧力は流体全体に伝わり, すべての面に対して垂直な力を生じる.\n",
        "\n",
        "<img src=\"https://blog-imgs-37-origin.fc2.com/r/i/k/rikatime/20100305-3.jpg\" alt=\"パスカルの原理・ピンポン球編, 理科とか苦手で\" width=55%>"
      ]
    },
    {
      "cell_type": "code",
      "metadata": {
        "id": "ZUbKB_hBZiQ0",
        "colab_type": "code",
        "cellView": "form",
        "outputId": "b6a37c73-0cb2-4ddf-e34a-cf96e805cabe",
        "colab": {
          "base_uri": "https://localhost:8080/",
          "height": 336
        }
      },
      "source": [
        "#@title 風船の形状に注目\n",
        "%%html\n",
        "<iframe width=\"560\" height=\"315\" src=\"https://www.youtube-nocookie.com/embed/JZSajBakGK4?start=34\" frameborder=\"0\" allow=\"accelerometer; autoplay; encrypted-media; gyroscope; picture-in-picture\" allowfullscreen></iframe>"
      ],
      "execution_count": 0,
      "outputs": [
        {
          "output_type": "display_data",
          "data": {
            "text/html": [
              "<iframe width=\"560\" height=\"315\" src=\"https://www.youtube-nocookie.com/embed/JZSajBakGK4?start=34\" frameborder=\"0\" allow=\"accelerometer; autoplay; encrypted-media; gyroscope; picture-in-picture\" allowfullscreen></iframe>"
            ],
            "text/plain": [
              "<IPython.core.display.HTML object>"
            ]
          },
          "metadata": {
            "tags": []
          }
        }
      ]
    },
    {
      "cell_type": "markdown",
      "metadata": {
        "id": "onvZhaGzdfDu",
        "colab_type": "text"
      },
      "source": [
        "#### 水圧機の原理解説\n",
        "\n",
        "![ref http://www.mstworkbooks.co.za/technology/gr9/gr9-technology-05.html](http://www.mstworkbooks.co.za/technology/gr9/Tech_English_LG_Grade9_term2-web-resources/image/Tech_9A-Chapter-5-fig-_opt.jpeg)\n",
        "\n",
        "上の図のような大小大きさの異なるピストンを考えます.\n",
        "* 小さい方のピストンA の黒いフタの断面積を$a$, この蓋に垂直に働く力を$F$\n",
        "* 大きい方のピストンB の黒いフタ断面積を$b$, この蓋に垂直に働く力を$F'$\n",
        "  * $a<b$であることは条件から明らかでしょう.\n",
        "\n",
        "これを用いてピストン A,B のそれぞれの\n",
        "フタに働く圧力 $P_{\\rm A}, P_{\\rm B}$ を求めると\n",
        "\n",
        "$$\n",
        "P_{\\rm A} = \\dfrac{F}{a}, \\qquad P_{\\rm B} = \\dfrac{F'}{b}\n",
        "$$\n",
        "\n",
        "となります. 一方パスカルの原理から\n",
        "> 容器内に閉じ込められた流体の圧力はどこでも等しい\n",
        "\n",
        "ので\n",
        "$$\n",
        "\\begin{align*}\n",
        "P_{\\rm A}&=P_{\\rm B}&\\\\\n",
        "\\dfrac{F}{a}&=\\dfrac{F'}{b}\n",
        "\\end{align*}\n",
        "$$\n",
        "これをさらに変形し, $F'$ についてまとめると\n",
        "$$\n",
        "\\begin{align*}\n",
        "F' = \\dfrac{b}{a}F\n",
        "\\end{align*}\n",
        "$$\n",
        "ここで断面積の関係 $a<b$ から $1<\\frac{b}{a}$ なので\n",
        "$$\n",
        "\\begin{align*}\n",
        "F' &= \\dfrac{b}{a}F > F&\\\\\n",
        "F' &> F&\n",
        "\\end{align*}\n",
        "$$\n",
        "このことから, 水圧機を利用すると\n",
        "> 小さな力で大きな力を得る\n",
        "\n",
        "ことができます."
      ]
    }
  ]
}