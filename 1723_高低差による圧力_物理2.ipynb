{
  "nbformat": 4,
  "nbformat_minor": 0,
  "metadata": {
    "colab": {
      "name": "1723_高低差による圧力_物理2",
      "provenance": [],
      "collapsed_sections": [],
      "toc_visible": true,
      "authorship_tag": "ABX9TyN8BEnvnTrw14P0/C3nuIjT",
      "include_colab_link": true
    },
    "kernelspec": {
      "name": "python3",
      "display_name": "Python 3"
    }
  },
  "cells": [
    {
      "cell_type": "markdown",
      "metadata": {
        "id": "view-in-github",
        "colab_type": "text"
      },
      "source": [
        "<a href=\"https://colab.research.google.com/github/kzhkAKT/Physics2/blob/master/1723_%E9%AB%98%E4%BD%8E%E5%B7%AE%E3%81%AB%E3%82%88%E3%82%8B%E5%9C%A7%E5%8A%9B_%E7%89%A9%E7%90%862.ipynb\" target=\"_parent\"><img src=\"https://colab.research.google.com/assets/colab-badge.svg\" alt=\"Open In Colab\"/></a>"
      ]
    },
    {
      "cell_type": "markdown",
      "metadata": {
        "id": "tLhyqLLZ15OU",
        "colab_type": "text"
      },
      "source": [
        "# ~~剛体や~~ 流体に働く力\n",
        "\n",
        "## 流体の性質\n",
        "\n",
        "地球上では重力の影響で、水は低きを流れます.\n",
        "\n",
        "そしてその大半は湖や大海に流れ着き\b,\n",
        "大量の流体が一つの場所に蓄えられます.\n",
        "\n",
        "このように重力下で蓄えられた(静止)流体では、流体の深部ほど圧力が高くなります."
      ]
    },
    {
      "cell_type": "code",
      "metadata": {
        "id": "6mpqo2FO4XYZ",
        "colab_type": "code",
        "colab": {
          "base_uri": "https://localhost:8080/",
          "height": 336
        },
        "cellView": "form",
        "outputId": "1a6d1948-4c5a-4945-a6cb-4cb981a6ebb5"
      },
      "source": [
        "#@title ペットボトルと水圧\n",
        "%%html\n",
        "<iframe width=\"560\" height=\"315\" src=\"https://www.youtube-nocookie.com/embed/A_UwdemGzKI\" frameborder=\"0\" allow=\"accelerometer; autoplay; encrypted-media; gyroscope; picture-in-picture\" allowfullscreen></iframe>"
      ],
      "execution_count": 5,
      "outputs": [
        {
          "output_type": "display_data",
          "data": {
            "text/html": [
              "<iframe width=\"560\" height=\"315\" src=\"https://www.youtube-nocookie.com/embed/A_UwdemGzKI\" frameborder=\"0\" allow=\"accelerometer; autoplay; encrypted-media; gyroscope; picture-in-picture\" allowfullscreen></iframe>"
            ],
            "text/plain": [
              "<IPython.core.display.HTML object>"
            ]
          },
          "metadata": {
            "tags": []
          }
        }
      ]
    },
    {
      "cell_type": "code",
      "metadata": {
        "id": "fujXVeRC6_of",
        "colab_type": "code",
        "colab": {},
        "cellView": "form"
      },
      "source": [
        "#@title\n",
        "%%html\n",
        "<iframe width=\"560\" height=\"315\" src=\"https://www.youtube-nocookie.com/embed/tTWUSPdWLE0\" frameborder=\"0\" allow=\"accelerometer; autoplay; encrypted-media; gyroscope; picture-in-picture\" allowfullscreen></iframe>"
      ],
      "execution_count": 0,
      "outputs": []
    },
    {
      "cell_type": "code",
      "metadata": {
        "id": "VhooyYMi7kwF",
        "colab_type": "code",
        "colab": {
          "base_uri": "https://localhost:8080/",
          "height": 336
        },
        "cellView": "form",
        "outputId": "e6446e2b-047f-4ec5-ea53-ea3c7977aac7"
      },
      "source": [
        "#@title 高圧実験とカップ\n",
        "%%html\n",
        "<iframe width=\"560\" height=\"315\" src=\"https://www.youtube-nocookie.com/embed/cbxTU7PtB6w\" frameborder=\"0\" allow=\"accelerometer; autoplay; encrypted-media; gyroscope; picture-in-picture\" allowfullscreen></iframe>"
      ],
      "execution_count": 6,
      "outputs": [
        {
          "output_type": "display_data",
          "data": {
            "text/html": [
              "<iframe width=\"560\" height=\"315\" src=\"https://www.youtube-nocookie.com/embed/cbxTU7PtB6w\" frameborder=\"0\" allow=\"accelerometer; autoplay; encrypted-media; gyroscope; picture-in-picture\" allowfullscreen></iframe>"
            ],
            "text/plain": [
              "<IPython.core.display.HTML object>"
            ]
          },
          "metadata": {
            "tags": []
          }
        }
      ]
    },
    {
      "cell_type": "markdown",
      "metadata": {
        "id": "Jv7W4NsQ8b4j",
        "colab_type": "text"
      },
      "source": [
        "### 高低差による圧力\n",
        "\n",
        "**重力下** ので *均質な* **静止流体** による影響のみを考えます.  \n",
        "深さ、つまり高低差による圧力の原因として考えられるものは,\n",
        "1. 重力\n",
        "2. 流体そのものの質量  ~ 流体の密度\n",
        "\n",
        "が考えられます.\n",
        "\n"
      ]
    },
    {
      "cell_type": "markdown",
      "metadata": {
        "id": "pYm0KKUIFWY0",
        "colab_type": "text"
      },
      "source": [
        "#### 重力 $W$\n",
        "\n",
        "重力加速度を $g$ とすると, 質量 $m$ の物体に働く重力の\n",
        "* 大きさ: $m\\cdot g$\n",
        "* 方向: 鉛直下向き\n",
        "\n",
        "ここで基準となる座標の向きを 鉛直**下向き** を 正(+) として表すと  \n",
        "この物体に働く重力 $W$ は\n",
        "> $W = m\\cdot g$\n",
        "\n",
        "一方, 基準となる座標の向きを 鉛直 **上向き** を 正(+) として表すと,   \n",
        "物体に働く重力は鉛直下向きに働くので, 重力 $W = \b- m\\cdot g$ となります.\n",
        "\n"
      ]
    },
    {
      "cell_type": "markdown",
      "metadata": {
        "id": "1tnEOQosFYbw",
        "colab_type": "text"
      },
      "source": [
        "#### 密度 $\\rho$\n",
        "\n",
        "体積 $V$ を占める一様な流体の質量は, 流体の密度 $\\rho$ (\"ロー\"と読みます) を用いて表すことができます.\n",
        "\n",
        "##### 密度の単位\n",
        "\n",
        "SI単位系で, 密度の単位は ${\\rm kg/m^3}$ です.  \n",
        "これは ${\\rm \\dfrac{kg}{1 m^3}}$ と読むことができ,  \n",
        " 文章で簡潔に表すと\n",
        "> 単位体積(${\\rm 1 m^3}$)あたりの, 質量(${\\rm kg}$)   \n",
        "\n",
        "と表現できます.\n",
        "\n",
        "> Q. 質量が $M$, 体積が $V$ の物体がある.  \n",
        "> この物体は一様な密度を持つとすると, この物体の密度 $\\rho$ を求めてください.\n"
      ]
    },
    {
      "cell_type": "code",
      "metadata": {
        "id": "kNoxncmY-_kE",
        "colab_type": "code",
        "colab": {}
      },
      "source": [
        ""
      ],
      "execution_count": 0,
      "outputs": []
    }
  ]
}