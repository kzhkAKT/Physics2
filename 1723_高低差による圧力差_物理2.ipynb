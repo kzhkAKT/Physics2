{
  "nbformat": 4,
  "nbformat_minor": 0,
  "metadata": {
    "colab": {
      "name": "1723_高低差による圧力差_物理2.ipynb",
      "provenance": [],
      "collapsed_sections": [],
      "toc_visible": true,
      "include_colab_link": true
    },
    "kernelspec": {
      "name": "python3",
      "display_name": "Python 3"
    }
  },
  "cells": [
    {
      "cell_type": "markdown",
      "metadata": {
        "id": "view-in-github",
        "colab_type": "text"
      },
      "source": [
        "<a href=\"https://colab.research.google.com/github/kzhkAKT/Physics2/blob/master/1723_%E9%AB%98%E4%BD%8E%E5%B7%AE%E3%81%AB%E3%82%88%E3%82%8B%E5%9C%A7%E5%8A%9B%E5%B7%AE_%E7%89%A9%E7%90%862.ipynb\" target=\"_parent\"><img src=\"https://colab.research.google.com/assets/colab-badge.svg\" alt=\"Open In Colab\"/></a>"
      ]
    },
    {
      "cell_type": "markdown",
      "metadata": {
        "id": "tLhyqLLZ15OU",
        "colab_type": "text"
      },
      "source": [
        "# ~~剛体や~~ 流体に働く力\n",
        "\n",
        "## 流体の性質\n",
        "\n",
        "地球上では重力の影響で、水は低きを流れます.\n",
        "\n",
        "そしてその大半は湖や大海に流れ着き\b,\n",
        "大量の流体が一つの場所に蓄えられます.\n",
        "\n",
        "このように重力下で蓄えられた(静止)流体では、流体の深部ほど圧力が高くなります."
      ]
    },
    {
      "cell_type": "code",
      "metadata": {
        "id": "6mpqo2FO4XYZ",
        "colab_type": "code",
        "cellView": "form",
        "outputId": "1a6d1948-4c5a-4945-a6cb-4cb981a6ebb5",
        "colab": {
          "base_uri": "https://localhost:8080/",
          "height": 336
        }
      },
      "source": [
        "#@title ペットボトルと水圧\n",
        "%%html\n",
        "<iframe width=\"560\" height=\"315\" src=\"https://www.youtube-nocookie.com/embed/A_UwdemGzKI\" frameborder=\"0\" allow=\"accelerometer; autoplay; encrypted-media; gyroscope; picture-in-picture\" allowfullscreen></iframe>"
      ],
      "execution_count": 0,
      "outputs": [
        {
          "output_type": "display_data",
          "data": {
            "text/html": [
              "<iframe width=\"560\" height=\"315\" src=\"https://www.youtube-nocookie.com/embed/A_UwdemGzKI\" frameborder=\"0\" allow=\"accelerometer; autoplay; encrypted-media; gyroscope; picture-in-picture\" allowfullscreen></iframe>"
            ],
            "text/plain": [
              "<IPython.core.display.HTML object>"
            ]
          },
          "metadata": {
            "tags": []
          }
        }
      ]
    },
    {
      "cell_type": "code",
      "metadata": {
        "id": "fujXVeRC6_of",
        "colab_type": "code",
        "cellView": "form",
        "colab": {}
      },
      "source": [
        "#@title\n",
        "%%html\n",
        "<iframe width=\"560\" height=\"315\" src=\"https://www.youtube-nocookie.com/embed/tTWUSPdWLE0\" frameborder=\"0\" allow=\"accelerometer; autoplay; encrypted-media; gyroscope; picture-in-picture\" allowfullscreen></iframe>"
      ],
      "execution_count": 0,
      "outputs": []
    },
    {
      "cell_type": "code",
      "metadata": {
        "id": "VhooyYMi7kwF",
        "colab_type": "code",
        "cellView": "form",
        "outputId": "e6446e2b-047f-4ec5-ea53-ea3c7977aac7",
        "colab": {
          "base_uri": "https://localhost:8080/",
          "height": 336
        }
      },
      "source": [
        "#@title 高圧実験とカップ\n",
        "%%html\n",
        "<iframe width=\"560\" height=\"315\" src=\"https://www.youtube-nocookie.com/embed/cbxTU7PtB6w\" frameborder=\"0\" allow=\"accelerometer; autoplay; encrypted-media; gyroscope; picture-in-picture\" allowfullscreen></iframe>"
      ],
      "execution_count": 0,
      "outputs": [
        {
          "output_type": "display_data",
          "data": {
            "text/html": [
              "<iframe width=\"560\" height=\"315\" src=\"https://www.youtube-nocookie.com/embed/cbxTU7PtB6w\" frameborder=\"0\" allow=\"accelerometer; autoplay; encrypted-media; gyroscope; picture-in-picture\" allowfullscreen></iframe>"
            ],
            "text/plain": [
              "<IPython.core.display.HTML object>"
            ]
          },
          "metadata": {
            "tags": []
          }
        }
      ]
    },
    {
      "cell_type": "markdown",
      "metadata": {
        "id": "Jv7W4NsQ8b4j",
        "colab_type": "text"
      },
      "source": [
        "### 高低差による圧力\n",
        "\n",
        "**重力下** ので *均質な* **静止流体** による影響のみを考えます.  \n",
        "深さ、つまり高低差による圧力の原因として考えられるものは,\n",
        "1. 重力\n",
        "2. 流体そのものの質量  ~ 流体の密度\n",
        "\n",
        "が考えられます.\n",
        "\n"
      ]
    },
    {
      "cell_type": "markdown",
      "metadata": {
        "id": "pYm0KKUIFWY0",
        "colab_type": "text"
      },
      "source": [
        "#### 重力 $W$\n",
        "\n",
        "重力加速度を $g$ とすると, 質量 $m$ の物体に働く重力の\n",
        "* 大きさ: $m\\cdot g$\n",
        "* 方向: 鉛直下向き\n",
        "\n",
        "ここで基準となる座標の向きを 鉛直**下向き** を 正(+) として表すと  \n",
        "この物体に働く重力 $W$ は\n",
        "> $W = m\\cdot g$\n",
        "\n",
        "一方, 基準となる座標の向きを 鉛直 **上向き** を 正(+) として表すと,   \n",
        "物体に働く重力は鉛直下向きに働くので, 重力 $W = \b- m\\cdot g$ となります.\n",
        "\n"
      ]
    },
    {
      "cell_type": "markdown",
      "metadata": {
        "id": "1tnEOQosFYbw",
        "colab_type": "text"
      },
      "source": [
        "#### 密度 $\\rho$\n",
        "\n",
        "体積 $V$ を占める一様な流体の質量は, 流体の密度 $\\rho$ (\"ロー\"と読みます) を用いて表すことができます.\n",
        "\n",
        "##### 密度の単位\n",
        "\n",
        "SI単位系で, 密度の単位は ${\\rm kg/m^3}$ です.\n",
        "これは ${\\rm \\dfrac{kg}{1 m^3}}$ と読むことができ,  \n",
        " 文章で簡潔に表すと\n",
        "> 単位体積(${\\rm 1 m^3}$)あたりの, 質量(${\\rm kg}$)   \n",
        "\n",
        "と表現できます.\n",
        "\n",
        "> Q. 質量が $M$, 体積が $V$ の物体がある.  \n",
        "> この物体は一様な密度を持つとすると, この物体の密度 $\\rho$ を求めてください."
      ]
    },
    {
      "cell_type": "markdown",
      "metadata": {
        "id": "OzhjXgwX6_Hl",
        "colab_type": "text"
      },
      "source": [
        "#### 高低差による圧力の力学的関係式\n",
        "\n",
        "重力下にある水槽を考えます. この水槽には水(静止流体)が注がれており,\n",
        "その水面は大気圧(▽)の影響を受けているとします. 水槽が静止していれば, この水面は水平です. また水(流体)が受ける重力は常に鉛直下向きになるはずです.\n",
        "\n",
        "そこで, 水面下に下の図のような仮想的な四角柱を考えてみましょう. (上辺と底辺は水面に対して平行に取ってあります)\n",
        "今考えている水は静止流体であることを考えれば, この仮想的な四角柱は\n",
        "下方へずれ落ちるでしょう. 実際にはそうなっていません. \n",
        "\n",
        "---\n",
        "\n",
        "これを元に高低差による圧力を考えていきましょう.\n",
        "着眼点を整理すると\n",
        "\n",
        "* 静止流体なので、*水平な方向に対し左右方向の圧力は変化ない*\n",
        "* 静止流体であっても、地上では重力が働いているので **鉛直方向には圧力が変化** する\n",
        "\n",
        "言えそうです. \n"
      ]
    },
    {
      "cell_type": "code",
      "metadata": {
        "id": "gRWyWiGF65oz",
        "colab_type": "code",
        "cellView": "form",
        "outputId": "809aa787-bfa8-4b30-a9a9-d2bc1e93e14f",
        "colab": {
          "base_uri": "https://localhost:8080/",
          "height": 666
        }
      },
      "source": [
        "#@title 大気圧下にある静止流体の模式図\n",
        "%%svg\n",
        "<svg xmlns=\"http://www.w3.org/2000/svg\" xmlns:xlink=\"http://www.w3.org/1999/xlink\" version=\"1.1\" width=\"403px\" viewBox=\"-0.5 -0.5 403 645\" content=\"&lt;mxfile host=&quot;www.draw.io&quot; modified=&quot;2020-05-14T07:47:39.289Z&quot; agent=&quot;5.0 (Macintosh; Intel Mac OS X 10_10_5) AppleWebKit/537.36 (KHTML, like Gecko) Chrome/81.0.4044.138 Safari/537.36&quot; etag=&quot;4E0GK2uCkEgqNHfkopXM&quot; version=&quot;13.1.1&quot; type=&quot;google&quot;&gt;&lt;diagram id=&quot;Rk1kgF4CJR_5eJMBiW6s&quot; name=&quot;Page-1&quot;&gt;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&lt;/diagram&gt;&lt;/mxfile&gt;\" onclick=\"(function(svg){var src=window.event.target||window.event.srcElement;while (src!=null&amp;&amp;src.nodeName.toLowerCase()!='a'){src=src.parentNode;}if(src==null){if(svg.wnd!=null&amp;&amp;!svg.wnd.closed){svg.wnd.focus();}else{var r=function(evt){if(evt.data=='ready'&amp;&amp;evt.source==svg.wnd){svg.wnd.postMessage(decodeURIComponent(svg.getAttribute('content')),'*');window.removeEventListener('message',r);}};window.addEventListener('message',r);svg.wnd=window.open('https://www.draw.io/?client=1&amp;lightbox=1&amp;edit=_blank');}}})(this);\" style=\"cursor:pointer;max-width:100%;max-height:645px;\"><defs/><g><path d=\"M 15 -5 L 45 15 L 15 35 Z\" fill=\"#ffffff\" stroke=\"#000000\" stroke-miterlimit=\"10\" transform=\"rotate(90,30,15)\" pointer-events=\"all\"/><path d=\"M 160 190 L 240 190 L 260 210 L 260 490 L 180 490 L 160 470 L 160 190 Z\" fill=\"#ffffff\" stroke=\"#000000\" stroke-width=\"2\" stroke-miterlimit=\"10\" stroke-dasharray=\"6 6\" pointer-events=\"all\"/><path d=\"M 160 190 L 240 190 L 260 210 L 180 210 Z\" fill-opacity=\"0.05\" fill=\"#000000\" stroke=\"none\" pointer-events=\"all\"/><path d=\"M 160 190 L 180 210 L 180 490 L 160 470 Z\" fill-opacity=\"0.1\" fill=\"#000000\" stroke=\"none\" pointer-events=\"all\"/><path d=\"M 180 490 L 180 210 L 160 190 M 180 210 L 260 210\" fill=\"none\" stroke=\"#000000\" stroke-width=\"2\" stroke-miterlimit=\"10\" stroke-dasharray=\"6 6\" pointer-events=\"all\"/><path d=\"M 80 110 L 0 30\" fill=\"none\" stroke=\"#000000\" stroke-miterlimit=\"10\" pointer-events=\"stroke\"/><path d=\"M 400 110 L 320 30\" fill=\"none\" stroke=\"#000000\" stroke-miterlimit=\"10\" pointer-events=\"stroke\"/><path d=\"M 0 30 L 320 30\" fill=\"none\" stroke=\"#000000\" stroke-miterlimit=\"10\" pointer-events=\"stroke\"/><path d=\"M 80 110 L 400 110\" fill=\"none\" stroke=\"#000000\" stroke-miterlimit=\"10\" pointer-events=\"stroke\"/><path d=\"M 160 470 L 240 470\" fill=\"none\" stroke=\"#000000\" stroke-width=\"2\" stroke-miterlimit=\"10\" stroke-dasharray=\"2 8\" pointer-events=\"stroke\"/><path d=\"M 260 491 L 240 471\" fill=\"none\" stroke=\"#000000\" stroke-width=\"2\" stroke-miterlimit=\"10\" stroke-dasharray=\"2 8\" pointer-events=\"stroke\"/><path d=\"M 240 470 L 240 190\" fill=\"none\" stroke=\"#000000\" stroke-width=\"2\" stroke-miterlimit=\"10\" stroke-dasharray=\"2 8\" pointer-events=\"stroke\"/><path d=\"M 160 190 L 160 70\" fill=\"none\" stroke=\"#000000\" stroke-miterlimit=\"10\" stroke-dasharray=\"3 3\" pointer-events=\"stroke\"/><path d=\"M 180 210 L 180 90\" fill=\"none\" stroke=\"#000000\" stroke-miterlimit=\"10\" stroke-dasharray=\"3 3\" pointer-events=\"stroke\"/><path d=\"M 260 211 L 260 91\" fill=\"none\" stroke=\"#000000\" stroke-miterlimit=\"10\" stroke-dasharray=\"3 3\" pointer-events=\"stroke\"/><path d=\"M 240 191 L 240 71\" fill=\"none\" stroke=\"#000000\" stroke-miterlimit=\"10\" stroke-dasharray=\"3 3\" pointer-events=\"stroke\"/><rect x=\"190\" y=\"186\" width=\"40\" height=\"30\" fill=\"none\" stroke=\"none\" pointer-events=\"all\"/><g transform=\"translate(-0.5 -0.5)\"><switch><foreignObject style=\"overflow: visible; text-align: left;\" pointer-events=\"none\" width=\"100%\" height=\"100%\" requiredFeatures=\"http://www.w3.org/TR/SVG11/feature#Extensibility\"><div xmlns=\"http://www.w3.org/1999/xhtml\" style=\"display: flex; align-items: unsafe center; justify-content: unsafe center; width: 1px; height: 1px; padding-top: 201px; margin-left: 210px;\"><div style=\"box-sizing: border-box; font-size: 0; text-align: center; \"><div style=\"display: inline-block; font-size: 18px; font-family: Courier New; color: #000000; line-height: 1.2; pointer-events: all; white-space: nowrap; \"><i style=\"font-size: 18px\">S</i><sub style=\"font-size: 18px\">1</sub></div></div></div></foreignObject><text x=\"210\" y=\"206\" fill=\"#000000\" font-family=\"Courier New\" font-size=\"18px\" text-anchor=\"middle\">S1</text></switch></g><rect x=\"190\" y=\"465\" width=\"40\" height=\"30\" fill=\"none\" stroke=\"none\" pointer-events=\"all\"/><g transform=\"translate(-0.5 -0.5)\"><switch><foreignObject style=\"overflow: visible; text-align: left;\" pointer-events=\"none\" width=\"100%\" height=\"100%\" requiredFeatures=\"http://www.w3.org/TR/SVG11/feature#Extensibility\"><div xmlns=\"http://www.w3.org/1999/xhtml\" style=\"display: flex; align-items: unsafe center; justify-content: unsafe center; width: 1px; height: 1px; padding-top: 480px; margin-left: 210px;\"><div style=\"box-sizing: border-box; font-size: 0; text-align: center; \"><div style=\"display: inline-block; font-size: 18px; font-family: Courier New; color: #000000; line-height: 1.2; pointer-events: all; white-space: nowrap; \"><i style=\"font-size: 18px\">S</i><sub style=\"font-size: 18px\">2</sub></div></div></div></foreignObject><text x=\"210\" y=\"485\" fill=\"#000000\" font-family=\"Courier New\" font-size=\"18px\" text-anchor=\"middle\">S2</text></switch></g><path d=\"M 80 190 L 160 190\" fill=\"none\" stroke=\"#000000\" stroke-miterlimit=\"10\" pointer-events=\"stroke\"/><path d=\"M 40 470 L 160 470\" fill=\"none\" stroke=\"#000000\" stroke-miterlimit=\"10\" pointer-events=\"stroke\"/><rect x=\"319\" y=\"160\" width=\"30\" height=\"30\" fill=\"none\" stroke=\"none\" pointer-events=\"all\"/><g transform=\"translate(-0.5 -0.5)\"><switch><foreignObject style=\"overflow: visible; text-align: left;\" pointer-events=\"none\" width=\"100%\" height=\"100%\" requiredFeatures=\"http://www.w3.org/TR/SVG11/feature#Extensibility\"><div xmlns=\"http://www.w3.org/1999/xhtml\" style=\"display: flex; align-items: unsafe center; justify-content: unsafe center; width: 1px; height: 1px; padding-top: 175px; margin-left: 334px;\"><div style=\"box-sizing: border-box; font-size: 0; text-align: center; \"><div style=\"display: inline-block; font-size: 20px; font-family: Courier New; color: #000000; line-height: 1.2; pointer-events: all; font-style: italic; white-space: nowrap; \">ρ</div></div></div></foreignObject><text x=\"334\" y=\"181\" fill=\"#000000\" font-family=\"Courier New\" font-size=\"20px\" text-anchor=\"middle\" font-style=\"italic\">ρ</text></switch></g><path d=\"M 372 440.5 L 388 440.5 L 388 455.49 L 401.5 455.49 L 380 479.5 L 358.5 455.49 L 372 455.49 Z\" fill=\"none\" stroke=\"#000000\" stroke-linejoin=\"round\" stroke-miterlimit=\"10\" pointer-events=\"all\"/><g transform=\"translate(-0.5 -0.5)\"><switch><foreignObject style=\"overflow: visible; text-align: left;\" pointer-events=\"none\" width=\"100%\" height=\"100%\" requiredFeatures=\"http://www.w3.org/TR/SVG11/feature#Extensibility\"><div xmlns=\"http://www.w3.org/1999/xhtml\" style=\"display: flex; align-items: unsafe center; justify-content: unsafe center; width: 1px; height: 1px; padding-top: 460px; margin-left: 380px;\"><div style=\"box-sizing: border-box; font-size: 0; text-align: center; \"><div style=\"display: inline-block; font-size: 18px; font-family: Courier New; color: #000000; line-height: 1.2; pointer-events: all; background-color: #ffffff; white-space: nowrap; \"><i>g</i></div></div></div></foreignObject><text x=\"380\" y=\"465\" fill=\"#000000\" font-family=\"Courier New\" font-size=\"18px\" text-anchor=\"middle\">g</text></switch></g><rect x=\"50\" y=\"180\" width=\"40\" height=\"30\" fill=\"none\" stroke=\"none\" pointer-events=\"all\"/><g transform=\"translate(-0.5 -0.5)\"><switch><foreignObject style=\"overflow: visible; text-align: left;\" pointer-events=\"none\" width=\"100%\" height=\"100%\" requiredFeatures=\"http://www.w3.org/TR/SVG11/feature#Extensibility\"><div xmlns=\"http://www.w3.org/1999/xhtml\" style=\"display: flex; align-items: unsafe center; justify-content: unsafe center; width: 1px; height: 1px; padding-top: 195px; margin-left: 70px;\"><div style=\"box-sizing: border-box; font-size: 0; text-align: center; \"><div style=\"display: inline-block; font-size: 20px; font-family: Courier New; color: #000000; line-height: 1.2; pointer-events: all; font-weight: bold; white-space: nowrap; \"><i style=\"font-size: 20px\">P</i><sub style=\"font-size: 20px\">1</sub></div></div></div></foreignObject><text x=\"70\" y=\"201\" fill=\"#000000\" font-family=\"Courier New\" font-size=\"20px\" text-anchor=\"middle\" font-weight=\"bold\">P1</text></switch></g><rect x=\"4\" y=\"460\" width=\"40\" height=\"30\" fill=\"none\" stroke=\"none\" pointer-events=\"all\"/><g transform=\"translate(-0.5 -0.5)\"><switch><foreignObject style=\"overflow: visible; text-align: left;\" pointer-events=\"none\" width=\"100%\" height=\"100%\" requiredFeatures=\"http://www.w3.org/TR/SVG11/feature#Extensibility\"><div xmlns=\"http://www.w3.org/1999/xhtml\" style=\"display: flex; align-items: unsafe center; justify-content: unsafe center; width: 1px; height: 1px; padding-top: 475px; margin-left: 24px;\"><div style=\"box-sizing: border-box; font-size: 0; text-align: center; \"><div style=\"display: inline-block; font-size: 20px; font-family: Courier New; color: #000000; line-height: 1.2; pointer-events: all; font-weight: bold; white-space: nowrap; \"><i style=\"font-size: 20px\">P</i><sub style=\"font-size: 20px\">2</sub></div></div></div></foreignObject><text x=\"24\" y=\"481\" fill=\"#000000\" font-family=\"Courier New\" font-size=\"20px\" text-anchor=\"middle\" font-weight=\"bold\">P2</text></switch></g><path d=\"M 120 463.63 L 120 196.37\" fill=\"none\" stroke=\"#000000\" stroke-miterlimit=\"10\" pointer-events=\"stroke\"/><path d=\"M 120 468.88 L 116.5 461.88 L 120 463.63 L 123.5 461.88 Z\" fill=\"#000000\" stroke=\"#000000\" stroke-miterlimit=\"10\" pointer-events=\"all\"/><path d=\"M 120 191.12 L 123.5 198.12 L 120 196.37 L 116.5 198.12 Z\" fill=\"#000000\" stroke=\"#000000\" stroke-miterlimit=\"10\" pointer-events=\"all\"/><g transform=\"translate(-0.5 -0.5)\"><switch><foreignObject style=\"overflow: visible; text-align: left;\" pointer-events=\"none\" width=\"100%\" height=\"100%\" requiredFeatures=\"http://www.w3.org/TR/SVG11/feature#Extensibility\"><div xmlns=\"http://www.w3.org/1999/xhtml\" style=\"display: flex; align-items: unsafe center; justify-content: unsafe center; width: 1px; height: 1px; padding-top: 321px; margin-left: 111px;\"><div style=\"box-sizing: border-box; font-size: 0; text-align: center; \"><div style=\"display: inline-block; font-size: 20px; font-family: Courier New; color: #000000; line-height: 1.2; pointer-events: all; font-weight: bold; background-color: #ffffff; white-space: nowrap; \"><i><font style=\"font-size: 24px\">h</font></i></div></div></div></foreignObject><text x=\"111\" y=\"327\" fill=\"#000000\" font-family=\"Courier New\" font-size=\"20px\" text-anchor=\"middle\" font-weight=\"bold\">h</text></switch></g><path d=\"M 215 609.5 L 205 609.5 L 205 509.5 L 194.5 509.5 L 210 490.5 L 225.5 509.5 L 215 509.5 Z\" fill=\"none\" stroke=\"#000000\" stroke-linejoin=\"round\" stroke-miterlimit=\"10\" pointer-events=\"all\"/><g transform=\"translate(-0.5 -0.5)\"><switch><foreignObject style=\"overflow: visible; text-align: left;\" pointer-events=\"none\" width=\"100%\" height=\"100%\" requiredFeatures=\"http://www.w3.org/TR/SVG11/feature#Extensibility\"><div xmlns=\"http://www.w3.org/1999/xhtml\" style=\"display: flex; align-items: unsafe center; justify-content: unsafe center; width: 1px; height: 1px; padding-top: 631px; margin-left: 209px;\"><div style=\"box-sizing: border-box; font-size: 0; text-align: center; \"><div style=\"display: inline-block; font-size: 20px; font-family: Courier New; color: #000000; line-height: 1.2; pointer-events: all; background-color: #ffffff; white-space: nowrap; \"><i>F</i><sub>2</sub></div></div></div></foreignObject><text x=\"209\" y=\"637\" fill=\"#000000\" font-family=\"Courier New\" font-size=\"20px\" text-anchor=\"middle\">F2</text></switch></g><path d=\"M 205.5 140.45 L 215.49 140.55 L 215.19 170.55 L 225.69 170.66 L 210 189.5 L 194.7 170.35 L 205.2 170.45 Z\" fill=\"none\" stroke=\"#000000\" stroke-linejoin=\"round\" stroke-miterlimit=\"10\" pointer-events=\"all\"/><g transform=\"translate(-0.5 -0.5)\"><switch><foreignObject style=\"overflow: visible; text-align: left;\" pointer-events=\"none\" width=\"100%\" height=\"100%\" requiredFeatures=\"http://www.w3.org/TR/SVG11/feature#Extensibility\"><div xmlns=\"http://www.w3.org/1999/xhtml\" style=\"display: flex; align-items: unsafe center; justify-content: unsafe center; width: 1px; height: 1px; padding-top: 125px; margin-left: 211px;\"><div style=\"box-sizing: border-box; font-size: 0; text-align: center; \"><div style=\"display: inline-block; font-size: 20px; font-family: Courier New; color: #000000; line-height: 1.2; pointer-events: all; background-color: #ffffff; white-space: nowrap; \"><i>F</i><sub>1</sub></div></div></div></foreignObject><text x=\"211\" y=\"131\" fill=\"#000000\" font-family=\"Courier New\" font-size=\"20px\" text-anchor=\"middle\">F1</text></switch></g><path d=\"M 205.5 295.47 L 215.5 295.53 L 215.12 355.53 L 225.62 355.6 L 210 374.5 L 194.62 355.4 L 205.12 355.47 Z\" fill=\"none\" stroke=\"#000000\" stroke-linejoin=\"round\" stroke-miterlimit=\"10\" pointer-events=\"all\"/><g transform=\"translate(-0.5 -0.5)\"><switch><foreignObject style=\"overflow: visible; text-align: left;\" pointer-events=\"none\" width=\"100%\" height=\"100%\" requiredFeatures=\"http://www.w3.org/TR/SVG11/feature#Extensibility\"><div xmlns=\"http://www.w3.org/1999/xhtml\" style=\"display: flex; align-items: unsafe center; justify-content: unsafe center; width: 1px; height: 1px; padding-top: 335px; margin-left: 210px;\"><div style=\"box-sizing: border-box; font-size: 0; text-align: center; \"><div style=\"display: inline-block; font-size: 20px; font-family: Courier New; color: #000000; line-height: 1.2; pointer-events: all; background-color: #ffffff; white-space: nowrap; \"><i><font style=\"font-size: 24px\">W</font></i></div></div></div></foreignObject><text x=\"210\" y=\"341\" fill=\"#000000\" font-family=\"Courier New\" font-size=\"20px\" text-anchor=\"middle\">W</text></switch></g><path d=\"M 100 183.63 L 100 76.37\" fill=\"none\" stroke=\"#000000\" stroke-miterlimit=\"10\" stroke-dasharray=\"3 3\" pointer-events=\"stroke\"/><path d=\"M 100 188.88 L 96.5 181.88 L 100 183.63 L 103.5 181.88 Z\" fill=\"#000000\" stroke=\"#000000\" stroke-miterlimit=\"10\" pointer-events=\"all\"/><path d=\"M 100 71.12 L 103.5 78.12 L 100 76.37 L 96.5 78.12 Z\" fill=\"#000000\" stroke=\"#000000\" stroke-miterlimit=\"10\" pointer-events=\"all\"/><g transform=\"translate(-0.5 -0.5)\"><switch><foreignObject style=\"overflow: visible; text-align: left;\" pointer-events=\"none\" width=\"100%\" height=\"100%\" requiredFeatures=\"http://www.w3.org/TR/SVG11/feature#Extensibility\"><div xmlns=\"http://www.w3.org/1999/xhtml\" style=\"display: flex; align-items: unsafe center; justify-content: unsafe center; width: 1px; height: 1px; padding-top: 141px; margin-left: 98px;\"><div style=\"box-sizing: border-box; font-size: 0; text-align: center; \"><div style=\"display: inline-block; font-size: 11px; font-family: Helvetica; color: #000000; line-height: 1.2; pointer-events: all; background-color: #ffffff; white-space: nowrap; \"><font face=\"Courier New\" style=\"font-size: 18px\"><i>H</i><sub>1</sub></font></div></div></div></foreignObject><text x=\"98\" y=\"144\" fill=\"#000000\" font-family=\"Helvetica\" font-size=\"11px\" text-anchor=\"middle\">H1</text></switch></g><path d=\"M 39 464.63 L 39 76.37\" fill=\"none\" stroke=\"#000000\" stroke-miterlimit=\"10\" stroke-dasharray=\"3 3\" pointer-events=\"stroke\"/><path d=\"M 39 469.88 L 35.5 462.88 L 39 464.63 L 42.5 462.88 Z\" fill=\"#000000\" stroke=\"#000000\" stroke-miterlimit=\"10\" pointer-events=\"all\"/><path d=\"M 39 71.12 L 42.5 78.12 L 39 76.37 L 35.5 78.12 Z\" fill=\"#000000\" stroke=\"#000000\" stroke-miterlimit=\"10\" pointer-events=\"all\"/><g transform=\"translate(-0.5 -0.5)\"><switch><foreignObject style=\"overflow: visible; text-align: left;\" pointer-events=\"none\" width=\"100%\" height=\"100%\" requiredFeatures=\"http://www.w3.org/TR/SVG11/feature#Extensibility\"><div xmlns=\"http://www.w3.org/1999/xhtml\" style=\"display: flex; align-items: unsafe center; justify-content: unsafe center; width: 1px; height: 1px; padding-top: 270px; margin-left: 39px;\"><div style=\"box-sizing: border-box; font-size: 0; text-align: center; \"><div style=\"display: inline-block; font-size: 11px; font-family: Helvetica; color: #000000; line-height: 1.2; pointer-events: all; background-color: #ffffff; white-space: nowrap; \"><font style=\"font-size: 18px\" face=\"Courier New\"><i>H</i><sub>2</sub></font></div></div></div></foreignObject><text x=\"39\" y=\"273\" fill=\"#000000\" font-family=\"Helvetica\" font-size=\"11px\" text-anchor=\"middle\">H2</text></switch></g></g><switch><g requiredFeatures=\"http://www.w3.org/TR/SVG11/feature#Extensibility\"/><a transform=\"translate(0,-5)\" xlink:href=\"https://desk.draw.io/support/solutions/articles/16000042487\" target=\"_blank\"><text text-anchor=\"middle\" font-size=\"10px\" x=\"50%\" y=\"100%\">Viewer does not support full SVG 1.1</text></a></switch></svg>"
      ],
      "execution_count": 0,
      "outputs": [
        {
          "output_type": "display_data",
          "data": {
            "text/plain": [
              "<IPython.core.display.SVG object>"
            ],
            "image/svg+xml": "<svg content=\"&lt;mxfile host=&quot;www.draw.io&quot; modified=&quot;2020-05-14T07:47:39.289Z&quot; agent=&quot;5.0 (Macintosh; Intel Mac OS X 10_10_5) AppleWebKit/537.36 (KHTML, like Gecko) Chrome/81.0.4044.138 Safari/537.36&quot; etag=&quot;4E0GK2uCkEgqNHfkopXM&quot; version=&quot;13.1.1&quot; type=&quot;google&quot;&gt;&lt;diagram id=&quot;Rk1kgF4CJR_5eJMBiW6s&quot; name=&quot;Page-1&quot;&gt;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&lt;/diagram&gt;&lt;/mxfile&gt;\" onclick=\"(function(svg){var src=window.event.target||window.event.srcElement;while (src!=null&amp;&amp;src.nodeName.toLowerCase()!='a'){src=src.parentNode;}if(src==null){if(svg.wnd!=null&amp;&amp;!svg.wnd.closed){svg.wnd.focus();}else{var r=function(evt){if(evt.data=='ready'&amp;&amp;evt.source==svg.wnd){svg.wnd.postMessage(decodeURIComponent(svg.getAttribute('content')),'*');window.removeEventListener('message',r);}};window.addEventListener('message',r);svg.wnd=window.open('https://www.draw.io/?client=1&amp;lightbox=1&amp;edit=_blank');}}})(this);\" style=\"cursor:pointer;max-width:100%;max-height:645px;\" version=\"1.1\" viewBox=\"-0.5 -0.5 403 645\" width=\"403px\" xmlns=\"http://www.w3.org/2000/svg\" xmlns:xlink=\"http://www.w3.org/1999/xlink\"><defs/><g><path d=\"M 15 -5 L 45 15 L 15 35 Z\" fill=\"#ffffff\" pointer-events=\"all\" stroke=\"#000000\" stroke-miterlimit=\"10\" transform=\"rotate(90,30,15)\"/><path d=\"M 160 190 L 240 190 L 260 210 L 260 490 L 180 490 L 160 470 L 160 190 Z\" fill=\"#ffffff\" pointer-events=\"all\" stroke=\"#000000\" stroke-dasharray=\"6 6\" stroke-miterlimit=\"10\" stroke-width=\"2\"/><path d=\"M 160 190 L 240 190 L 260 210 L 180 210 Z\" fill=\"#000000\" fill-opacity=\"0.05\" pointer-events=\"all\" stroke=\"none\"/><path d=\"M 160 190 L 180 210 L 180 490 L 160 470 Z\" fill=\"#000000\" fill-opacity=\"0.1\" pointer-events=\"all\" stroke=\"none\"/><path d=\"M 180 490 L 180 210 L 160 190 M 180 210 L 260 210\" fill=\"none\" pointer-events=\"all\" stroke=\"#000000\" stroke-dasharray=\"6 6\" stroke-miterlimit=\"10\" stroke-width=\"2\"/><path d=\"M 80 110 L 0 30\" fill=\"none\" pointer-events=\"stroke\" stroke=\"#000000\" stroke-miterlimit=\"10\"/><path d=\"M 400 110 L 320 30\" fill=\"none\" pointer-events=\"stroke\" stroke=\"#000000\" stroke-miterlimit=\"10\"/><path d=\"M 0 30 L 320 30\" fill=\"none\" pointer-events=\"stroke\" stroke=\"#000000\" stroke-miterlimit=\"10\"/><path d=\"M 80 110 L 400 110\" fill=\"none\" pointer-events=\"stroke\" stroke=\"#000000\" stroke-miterlimit=\"10\"/><path d=\"M 160 470 L 240 470\" fill=\"none\" pointer-events=\"stroke\" stroke=\"#000000\" stroke-dasharray=\"2 8\" stroke-miterlimit=\"10\" stroke-width=\"2\"/><path d=\"M 260 491 L 240 471\" fill=\"none\" pointer-events=\"stroke\" stroke=\"#000000\" stroke-dasharray=\"2 8\" stroke-miterlimit=\"10\" stroke-width=\"2\"/><path d=\"M 240 470 L 240 190\" fill=\"none\" pointer-events=\"stroke\" stroke=\"#000000\" stroke-dasharray=\"2 8\" stroke-miterlimit=\"10\" stroke-width=\"2\"/><path d=\"M 160 190 L 160 70\" fill=\"none\" pointer-events=\"stroke\" stroke=\"#000000\" stroke-dasharray=\"3 3\" stroke-miterlimit=\"10\"/><path d=\"M 180 210 L 180 90\" fill=\"none\" pointer-events=\"stroke\" stroke=\"#000000\" stroke-dasharray=\"3 3\" stroke-miterlimit=\"10\"/><path d=\"M 260 211 L 260 91\" fill=\"none\" pointer-events=\"stroke\" stroke=\"#000000\" stroke-dasharray=\"3 3\" stroke-miterlimit=\"10\"/><path d=\"M 240 191 L 240 71\" fill=\"none\" pointer-events=\"stroke\" stroke=\"#000000\" stroke-dasharray=\"3 3\" stroke-miterlimit=\"10\"/><rect fill=\"none\" height=\"30\" pointer-events=\"all\" stroke=\"none\" width=\"40\" x=\"190\" y=\"186\"/><g transform=\"translate(-0.5 -0.5)\"><switch><foreignObject height=\"100%\" pointer-events=\"none\" requiredFeatures=\"http://www.w3.org/TR/SVG11/feature#Extensibility\" style=\"overflow: visible; text-align: left;\" width=\"100%\"><div style=\"display: flex; align-items: unsafe center; justify-content: unsafe center; width: 1px; height: 1px; padding-top: 201px; margin-left: 210px;\" xmlns=\"http://www.w3.org/1999/xhtml\"><div style=\"box-sizing: border-box; font-size: 0; text-align: center; \"><div style=\"display: inline-block; font-size: 18px; font-family: Courier New; color: #000000; line-height: 1.2; pointer-events: all; white-space: nowrap; \"><i style=\"font-size: 18px\">S</i><sub style=\"font-size: 18px\">1</sub></div></div></div></foreignObject><text fill=\"#000000\" font-family=\"Courier New\" font-size=\"18px\" text-anchor=\"middle\" x=\"210\" y=\"206\">S1</text></switch></g><rect fill=\"none\" height=\"30\" pointer-events=\"all\" stroke=\"none\" width=\"40\" x=\"190\" y=\"465\"/><g transform=\"translate(-0.5 -0.5)\"><switch><foreignObject height=\"100%\" pointer-events=\"none\" requiredFeatures=\"http://www.w3.org/TR/SVG11/feature#Extensibility\" style=\"overflow: visible; text-align: left;\" width=\"100%\"><div style=\"display: flex; align-items: unsafe center; justify-content: unsafe center; width: 1px; height: 1px; padding-top: 480px; margin-left: 210px;\" xmlns=\"http://www.w3.org/1999/xhtml\"><div style=\"box-sizing: border-box; font-size: 0; text-align: center; \"><div style=\"display: inline-block; font-size: 18px; font-family: Courier New; color: #000000; line-height: 1.2; pointer-events: all; white-space: nowrap; \"><i style=\"font-size: 18px\">S</i><sub style=\"font-size: 18px\">2</sub></div></div></div></foreignObject><text fill=\"#000000\" font-family=\"Courier New\" font-size=\"18px\" text-anchor=\"middle\" x=\"210\" y=\"485\">S2</text></switch></g><path d=\"M 80 190 L 160 190\" fill=\"none\" pointer-events=\"stroke\" stroke=\"#000000\" stroke-miterlimit=\"10\"/><path d=\"M 40 470 L 160 470\" fill=\"none\" pointer-events=\"stroke\" stroke=\"#000000\" stroke-miterlimit=\"10\"/><rect fill=\"none\" height=\"30\" pointer-events=\"all\" stroke=\"none\" width=\"30\" x=\"319\" y=\"160\"/><g transform=\"translate(-0.5 -0.5)\"><switch><foreignObject height=\"100%\" pointer-events=\"none\" requiredFeatures=\"http://www.w3.org/TR/SVG11/feature#Extensibility\" style=\"overflow: visible; text-align: left;\" width=\"100%\"><div style=\"display: flex; align-items: unsafe center; justify-content: unsafe center; width: 1px; height: 1px; padding-top: 175px; margin-left: 334px;\" xmlns=\"http://www.w3.org/1999/xhtml\"><div style=\"box-sizing: border-box; font-size: 0; text-align: center; \"><div style=\"display: inline-block; font-size: 20px; font-family: Courier New; color: #000000; line-height: 1.2; pointer-events: all; font-style: italic; white-space: nowrap; \">ρ</div></div></div></foreignObject><text fill=\"#000000\" font-family=\"Courier New\" font-size=\"20px\" font-style=\"italic\" text-anchor=\"middle\" x=\"334\" y=\"181\">ρ</text></switch></g><path d=\"M 372 440.5 L 388 440.5 L 388 455.49 L 401.5 455.49 L 380 479.5 L 358.5 455.49 L 372 455.49 Z\" fill=\"none\" pointer-events=\"all\" stroke=\"#000000\" stroke-linejoin=\"round\" stroke-miterlimit=\"10\"/><g transform=\"translate(-0.5 -0.5)\"><switch><foreignObject height=\"100%\" pointer-events=\"none\" requiredFeatures=\"http://www.w3.org/TR/SVG11/feature#Extensibility\" style=\"overflow: visible; text-align: left;\" width=\"100%\"><div style=\"display: flex; align-items: unsafe center; justify-content: unsafe center; width: 1px; height: 1px; padding-top: 460px; margin-left: 380px;\" xmlns=\"http://www.w3.org/1999/xhtml\"><div style=\"box-sizing: border-box; font-size: 0; text-align: center; \"><div style=\"display: inline-block; font-size: 18px; font-family: Courier New; color: #000000; line-height: 1.2; pointer-events: all; background-color: #ffffff; white-space: nowrap; \"><i>g</i></div></div></div></foreignObject><text fill=\"#000000\" font-family=\"Courier New\" font-size=\"18px\" text-anchor=\"middle\" x=\"380\" y=\"465\">g</text></switch></g><rect fill=\"none\" height=\"30\" pointer-events=\"all\" stroke=\"none\" width=\"40\" x=\"50\" y=\"180\"/><g transform=\"translate(-0.5 -0.5)\"><switch><foreignObject height=\"100%\" pointer-events=\"none\" requiredFeatures=\"http://www.w3.org/TR/SVG11/feature#Extensibility\" style=\"overflow: visible; text-align: left;\" width=\"100%\"><div style=\"display: flex; align-items: unsafe center; justify-content: unsafe center; width: 1px; height: 1px; padding-top: 195px; margin-left: 70px;\" xmlns=\"http://www.w3.org/1999/xhtml\"><div style=\"box-sizing: border-box; font-size: 0; text-align: center; \"><div style=\"display: inline-block; font-size: 20px; font-family: Courier New; color: #000000; line-height: 1.2; pointer-events: all; font-weight: bold; white-space: nowrap; \"><i style=\"font-size: 20px\">P</i><sub style=\"font-size: 20px\">1</sub></div></div></div></foreignObject><text fill=\"#000000\" font-family=\"Courier New\" font-size=\"20px\" font-weight=\"bold\" text-anchor=\"middle\" x=\"70\" y=\"201\">P1</text></switch></g><rect fill=\"none\" height=\"30\" pointer-events=\"all\" stroke=\"none\" width=\"40\" x=\"4\" y=\"460\"/><g transform=\"translate(-0.5 -0.5)\"><switch><foreignObject height=\"100%\" pointer-events=\"none\" requiredFeatures=\"http://www.w3.org/TR/SVG11/feature#Extensibility\" style=\"overflow: visible; text-align: left;\" width=\"100%\"><div style=\"display: flex; align-items: unsafe center; justify-content: unsafe center; width: 1px; height: 1px; padding-top: 475px; margin-left: 24px;\" xmlns=\"http://www.w3.org/1999/xhtml\"><div style=\"box-sizing: border-box; font-size: 0; text-align: center; \"><div style=\"display: inline-block; font-size: 20px; font-family: Courier New; color: #000000; line-height: 1.2; pointer-events: all; font-weight: bold; white-space: nowrap; \"><i style=\"font-size: 20px\">P</i><sub style=\"font-size: 20px\">2</sub></div></div></div></foreignObject><text fill=\"#000000\" font-family=\"Courier New\" font-size=\"20px\" font-weight=\"bold\" text-anchor=\"middle\" x=\"24\" y=\"481\">P2</text></switch></g><path d=\"M 120 463.63 L 120 196.37\" fill=\"none\" pointer-events=\"stroke\" stroke=\"#000000\" stroke-miterlimit=\"10\"/><path d=\"M 120 468.88 L 116.5 461.88 L 120 463.63 L 123.5 461.88 Z\" fill=\"#000000\" pointer-events=\"all\" stroke=\"#000000\" stroke-miterlimit=\"10\"/><path d=\"M 120 191.12 L 123.5 198.12 L 120 196.37 L 116.5 198.12 Z\" fill=\"#000000\" pointer-events=\"all\" stroke=\"#000000\" stroke-miterlimit=\"10\"/><g transform=\"translate(-0.5 -0.5)\"><switch><foreignObject height=\"100%\" pointer-events=\"none\" requiredFeatures=\"http://www.w3.org/TR/SVG11/feature#Extensibility\" style=\"overflow: visible; text-align: left;\" width=\"100%\"><div style=\"display: flex; align-items: unsafe center; justify-content: unsafe center; width: 1px; height: 1px; padding-top: 321px; margin-left: 111px;\" xmlns=\"http://www.w3.org/1999/xhtml\"><div style=\"box-sizing: border-box; font-size: 0; text-align: center; \"><div style=\"display: inline-block; font-size: 20px; font-family: Courier New; color: #000000; line-height: 1.2; pointer-events: all; font-weight: bold; background-color: #ffffff; white-space: nowrap; \"><i><font style=\"font-size: 24px\">h</font></i></div></div></div></foreignObject><text fill=\"#000000\" font-family=\"Courier New\" font-size=\"20px\" font-weight=\"bold\" text-anchor=\"middle\" x=\"111\" y=\"327\">h</text></switch></g><path d=\"M 215 609.5 L 205 609.5 L 205 509.5 L 194.5 509.5 L 210 490.5 L 225.5 509.5 L 215 509.5 Z\" fill=\"none\" pointer-events=\"all\" stroke=\"#000000\" stroke-linejoin=\"round\" stroke-miterlimit=\"10\"/><g transform=\"translate(-0.5 -0.5)\"><switch><foreignObject height=\"100%\" pointer-events=\"none\" requiredFeatures=\"http://www.w3.org/TR/SVG11/feature#Extensibility\" style=\"overflow: visible; text-align: left;\" width=\"100%\"><div style=\"display: flex; align-items: unsafe center; justify-content: unsafe center; width: 1px; height: 1px; padding-top: 631px; margin-left: 209px;\" xmlns=\"http://www.w3.org/1999/xhtml\"><div style=\"box-sizing: border-box; font-size: 0; text-align: center; \"><div style=\"display: inline-block; font-size: 20px; font-family: Courier New; color: #000000; line-height: 1.2; pointer-events: all; background-color: #ffffff; white-space: nowrap; \"><i>F</i><sub>2</sub></div></div></div></foreignObject><text fill=\"#000000\" font-family=\"Courier New\" font-size=\"20px\" text-anchor=\"middle\" x=\"209\" y=\"637\">F2</text></switch></g><path d=\"M 205.5 140.45 L 215.49 140.55 L 215.19 170.55 L 225.69 170.66 L 210 189.5 L 194.7 170.35 L 205.2 170.45 Z\" fill=\"none\" pointer-events=\"all\" stroke=\"#000000\" stroke-linejoin=\"round\" stroke-miterlimit=\"10\"/><g transform=\"translate(-0.5 -0.5)\"><switch><foreignObject height=\"100%\" pointer-events=\"none\" requiredFeatures=\"http://www.w3.org/TR/SVG11/feature#Extensibility\" style=\"overflow: visible; text-align: left;\" width=\"100%\"><div style=\"display: flex; align-items: unsafe center; justify-content: unsafe center; width: 1px; height: 1px; padding-top: 125px; margin-left: 211px;\" xmlns=\"http://www.w3.org/1999/xhtml\"><div style=\"box-sizing: border-box; font-size: 0; text-align: center; \"><div style=\"display: inline-block; font-size: 20px; font-family: Courier New; color: #000000; line-height: 1.2; pointer-events: all; background-color: #ffffff; white-space: nowrap; \"><i>F</i><sub>1</sub></div></div></div></foreignObject><text fill=\"#000000\" font-family=\"Courier New\" font-size=\"20px\" text-anchor=\"middle\" x=\"211\" y=\"131\">F1</text></switch></g><path d=\"M 205.5 295.47 L 215.5 295.53 L 215.12 355.53 L 225.62 355.6 L 210 374.5 L 194.62 355.4 L 205.12 355.47 Z\" fill=\"none\" pointer-events=\"all\" stroke=\"#000000\" stroke-linejoin=\"round\" stroke-miterlimit=\"10\"/><g transform=\"translate(-0.5 -0.5)\"><switch><foreignObject height=\"100%\" pointer-events=\"none\" requiredFeatures=\"http://www.w3.org/TR/SVG11/feature#Extensibility\" style=\"overflow: visible; text-align: left;\" width=\"100%\"><div style=\"display: flex; align-items: unsafe center; justify-content: unsafe center; width: 1px; height: 1px; padding-top: 335px; margin-left: 210px;\" xmlns=\"http://www.w3.org/1999/xhtml\"><div style=\"box-sizing: border-box; font-size: 0; text-align: center; \"><div style=\"display: inline-block; font-size: 20px; font-family: Courier New; color: #000000; line-height: 1.2; pointer-events: all; background-color: #ffffff; white-space: nowrap; \"><i><font style=\"font-size: 24px\">W</font></i></div></div></div></foreignObject><text fill=\"#000000\" font-family=\"Courier New\" font-size=\"20px\" text-anchor=\"middle\" x=\"210\" y=\"341\">W</text></switch></g><path d=\"M 100 183.63 L 100 76.37\" fill=\"none\" pointer-events=\"stroke\" stroke=\"#000000\" stroke-dasharray=\"3 3\" stroke-miterlimit=\"10\"/><path d=\"M 100 188.88 L 96.5 181.88 L 100 183.63 L 103.5 181.88 Z\" fill=\"#000000\" pointer-events=\"all\" stroke=\"#000000\" stroke-miterlimit=\"10\"/><path d=\"M 100 71.12 L 103.5 78.12 L 100 76.37 L 96.5 78.12 Z\" fill=\"#000000\" pointer-events=\"all\" stroke=\"#000000\" stroke-miterlimit=\"10\"/><g transform=\"translate(-0.5 -0.5)\"><switch><foreignObject height=\"100%\" pointer-events=\"none\" requiredFeatures=\"http://www.w3.org/TR/SVG11/feature#Extensibility\" style=\"overflow: visible; text-align: left;\" width=\"100%\"><div style=\"display: flex; align-items: unsafe center; justify-content: unsafe center; width: 1px; height: 1px; padding-top: 141px; margin-left: 98px;\" xmlns=\"http://www.w3.org/1999/xhtml\"><div style=\"box-sizing: border-box; font-size: 0; text-align: center; \"><div style=\"display: inline-block; font-size: 11px; font-family: Helvetica; color: #000000; line-height: 1.2; pointer-events: all; background-color: #ffffff; white-space: nowrap; \"><font face=\"Courier New\" style=\"font-size: 18px\"><i>H</i><sub>1</sub></font></div></div></div></foreignObject><text fill=\"#000000\" font-family=\"Helvetica\" font-size=\"11px\" text-anchor=\"middle\" x=\"98\" y=\"144\">H1</text></switch></g><path d=\"M 39 464.63 L 39 76.37\" fill=\"none\" pointer-events=\"stroke\" stroke=\"#000000\" stroke-dasharray=\"3 3\" stroke-miterlimit=\"10\"/><path d=\"M 39 469.88 L 35.5 462.88 L 39 464.63 L 42.5 462.88 Z\" fill=\"#000000\" pointer-events=\"all\" stroke=\"#000000\" stroke-miterlimit=\"10\"/><path d=\"M 39 71.12 L 42.5 78.12 L 39 76.37 L 35.5 78.12 Z\" fill=\"#000000\" pointer-events=\"all\" stroke=\"#000000\" stroke-miterlimit=\"10\"/><g transform=\"translate(-0.5 -0.5)\"><switch><foreignObject height=\"100%\" pointer-events=\"none\" requiredFeatures=\"http://www.w3.org/TR/SVG11/feature#Extensibility\" style=\"overflow: visible; text-align: left;\" width=\"100%\"><div style=\"display: flex; align-items: unsafe center; justify-content: unsafe center; width: 1px; height: 1px; padding-top: 270px; margin-left: 39px;\" xmlns=\"http://www.w3.org/1999/xhtml\"><div style=\"box-sizing: border-box; font-size: 0; text-align: center; \"><div style=\"display: inline-block; font-size: 11px; font-family: Helvetica; color: #000000; line-height: 1.2; pointer-events: all; background-color: #ffffff; white-space: nowrap; \"><font face=\"Courier New\" style=\"font-size: 18px\"><i>H</i><sub>2</sub></font></div></div></div></foreignObject><text fill=\"#000000\" font-family=\"Helvetica\" font-size=\"11px\" text-anchor=\"middle\" x=\"39\" y=\"273\">H2</text></switch></g></g><switch><g requiredFeatures=\"http://www.w3.org/TR/SVG11/feature#Extensibility\"/><a target=\"_blank\" transform=\"translate(0,-5)\" xlink:href=\"https://desk.draw.io/support/solutions/articles/16000042487\"><text font-size=\"10px\" text-anchor=\"middle\" x=\"50%\" y=\"100%\">Viewer does not support full SVG 1.1</text></a></switch></svg>"
          },
          "metadata": {
            "tags": []
          }
        }
      ]
    },
    {
      "cell_type": "markdown",
      "metadata": {
        "id": "VD4LYlWMG1sO",
        "colab_type": "text"
      },
      "source": [
        "上辺と底辺が水面に対して平行な仮想的な正四角柱(A)について働く力を考えていきます.  \n",
        "水(流体)の密度を $\\rho$, 重力加速度を$g$とします.\n",
        "(図より$h=H_2-H_1$$で、$もちろん$S_1=S_2=S$です).\n",
        "\n",
        "1. Aの上辺と底辺の深さ $H_1, H_2$ での圧力をそれぞれ $P_1, P_2$ とします.\n",
        "1. パスカルの原理から(A)の上断面積 $S_1$ には,下方に抑える力 $F_1$ が働きます.\n",
        "  - この力は圧力の定義から $F_1=P_1\\cdot S_1$\n",
        "1. 同様に(A)の下断面積 $S_2$ には, 上方に力 $F_2$ が働きます.\n",
        "  - この力は圧力の定義から $F_2=P_2\\cdot S_2$\n",
        "1. この四角柱(A)には、重力 $W$ 働きます.\n",
        "  - 重力の大きさは $W=mg$\n",
        "  - 四角柱の体積 $V$ は, $V=S\\cdot h$\n",
        "  - 四角柱の質量は密度の定義から $\\rho=\\dfrac{M}{V}$\n",
        "\n",
        "これらを利用して力の釣り合いを考え整理していくと\n",
        "$$\n",
        "\\require{cancel}\n",
        "\\begin{align*}\n",
        "F_2 &= F_1 + W&\\\\\n",
        "P_2\\cdot S_2 &= P_1\\cdot S_1 + M g&\\\\\n",
        "P_2\\cdot \\cancel{S} \n",
        "&= P_1\\cdot \\cancel{S} + \\rho \\cancel{S} h g&\\\\\n",
        "P_2 &= P_1 + \\rho h g\n",
        "\\end{align*}\n",
        "$$\n",
        "この考察の途中で断面積 $S$ が消去されています. これは正四角柱(A)の形状に依存しない. つまり,\n",
        "> 重力下における静止流体の圧力は深さによってのみ決まる\n",
        "\n",
        "ということができます.\n"
      ]
    },
    {
      "cell_type": "markdown",
      "metadata": {
        "id": "iJ2wufBVPZXJ",
        "colab_type": "text"
      },
      "source": [
        "#### 大気圧\n",
        "これまで考えた仮想的な正四角柱の下面を水面にとり,\n",
        "上方に大気を考えたものが **大気圧** です.\n",
        "ただし, 大気の密度は地表近くと大気圏で異なるため, 歴史的には水銀柱を利用し, 一気圧が定義されています."
      ]
    },
    {
      "cell_type": "markdown",
      "metadata": {
        "id": "tYJ3EQlgUEXO",
        "colab_type": "text"
      },
      "source": [
        "##### トリチィリの実験"
      ]
    },
    {
      "cell_type": "code",
      "metadata": {
        "id": "ILVEvqmJT-kj",
        "colab_type": "code",
        "outputId": "03b5b3c3-2146-4455-b4de-76e3a6286c55",
        "colab": {
          "base_uri": "https://localhost:8080/",
          "height": 336
        }
      },
      "source": [
        "%%html\n",
        "<iframe width=\"560\" height=\"315\" src=\"https://www.youtube-nocookie.com/embed/GgBE8_SyQCU\" frameborder=\"0\" allow=\"accelerometer; autoplay; encrypted-media; gyroscope; picture-in-picture\" allowfullscreen></iframe>"
      ],
      "execution_count": 0,
      "outputs": [
        {
          "output_type": "display_data",
          "data": {
            "text/html": [
              "<iframe width=\"560\" height=\"315\" src=\"https://www.youtube-nocookie.com/embed/GgBE8_SyQCU\" frameborder=\"0\" allow=\"accelerometer; autoplay; encrypted-media; gyroscope; picture-in-picture\" allowfullscreen></iframe>"
            ],
            "text/plain": [
              "<IPython.core.display.HTML object>"
            ]
          },
          "metadata": {
            "tags": []
          }
        }
      ]
    },
    {
      "cell_type": "markdown",
      "metadata": {
        "id": "Bp7wBDBOU3El",
        "colab_type": "text"
      },
      "source": [
        "> DG No.175 の問題に取り組んでください."
      ]
    }
  ]
}