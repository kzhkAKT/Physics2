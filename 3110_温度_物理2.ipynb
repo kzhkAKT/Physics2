{
  "nbformat": 4,
  "nbformat_minor": 0,
  "metadata": {
    "colab": {
      "name": "3110_温度_物理2",
      "provenance": [],
      "collapsed_sections": [],
      "toc_visible": true,
      "authorship_tag": "ABX9TyOZ8HSFElRiTe7pwDDgSbAf",
      "include_colab_link": true
    },
    "kernelspec": {
      "name": "python3",
      "display_name": "Python 3"
    }
  },
  "cells": [
    {
      "cell_type": "markdown",
      "metadata": {
        "id": "view-in-github",
        "colab_type": "text"
      },
      "source": [
        "<a href=\"https://colab.research.google.com/github/kzhkAKT/Physics2/blob/draft/3110_%E6%B8%A9%E5%BA%A6_%E7%89%A9%E7%90%862.ipynb\" target=\"_parent\"><img src=\"https://colab.research.google.com/assets/colab-badge.svg\" alt=\"Open In Colab\"/></a>"
      ]
    },
    {
      "cell_type": "markdown",
      "metadata": {
        "id": "bT30O49uxTuo",
        "colab_type": "text"
      },
      "source": [
        "# 温度と熱"
      ]
    },
    {
      "cell_type": "markdown",
      "metadata": {
        "id": "HmIBuDKfq-jz",
        "colab_type": "text"
      },
      "source": [
        "\n",
        "\n",
        "## 温度\n",
        "\n",
        "- セシ温度\n",
        "- 絶対温度\n",
        "  - 絶対零度\n",
        "\n",
        "### セシ温度 $t$ ℃ と絶対温度 $T$ K の変換\n",
        "\n",
        "> $\\qquad T = t + 273.15$"
      ]
    },
    {
      "cell_type": "code",
      "metadata": {
        "id": "MxCWZ8LUsMTv",
        "colab_type": "code",
        "cellView": "form",
        "outputId": "a9ba1be6-4127-402f-81b6-64321369b2d0",
        "colab": {
          "base_uri": "https://localhost:8080/",
          "height": 335
        }
      },
      "source": [
        "#@title Temperature\n",
        "%%html\n",
        "<iframe width=\"560\" height=\"315\" src=\"https://www.youtube-nocookie.com/embed/pfxSw9SbX9o\" frameborder=\"0\" allow=\"accelerometer; autoplay; encrypted-media; gyroscope; picture-in-picture\" allowfullscreen></iframe>\n"
      ],
      "execution_count": 0,
      "outputs": [
        {
          "output_type": "display_data",
          "data": {
            "text/html": [
              "<iframe width=\"560\" height=\"315\" src=\"https://www.youtube-nocookie.com/embed/pfxSw9SbX9o\" frameborder=\"0\" allow=\"accelerometer; autoplay; encrypted-media; gyroscope; picture-in-picture\" allowfullscreen></iframe>"
            ],
            "text/plain": [
              "<IPython.core.display.HTML object>"
            ]
          },
          "metadata": {
            "tags": []
          }
        }
      ]
    },
    {
      "cell_type": "code",
      "metadata": {
        "id": "2HhgbFjttt5y",
        "colab_type": "code",
        "cellView": "form",
        "outputId": "bcb50e5b-ade9-4ada-ccf6-6923d9666413",
        "colab": {
          "base_uri": "https://localhost:8080/",
          "height": 335
        }
      },
      "source": [
        "#@title 温度の比較\n",
        "%%html\n",
        "<iframe width=\"560\" height=\"315\" src=\"https://www.youtube-nocookie.com/embed/V_sJB66FNEo\" frameborder=\"0\" allow=\"accelerometer; autoplay; encrypted-media; gyroscope; picture-in-picture\" allowfullscreen></iframe>"
      ],
      "execution_count": 0,
      "outputs": [
        {
          "output_type": "display_data",
          "data": {
            "text/html": [
              "<iframe width=\"560\" height=\"315\" src=\"https://www.youtube-nocookie.com/embed/V_sJB66FNEo\" frameborder=\"0\" allow=\"accelerometer; autoplay; encrypted-media; gyroscope; picture-in-picture\" allowfullscreen></iframe>"
            ],
            "text/plain": [
              "<IPython.core.display.HTML object>"
            ]
          },
          "metadata": {
            "tags": []
          }
        }
      ]
    },
    {
      "cell_type": "code",
      "metadata": {
        "id": "nzYX9eCOtvLP",
        "colab_type": "code",
        "cellView": "form",
        "outputId": "6011b0a2-4186-40c5-81dc-797e6eeaaeea",
        "colab": {
          "base_uri": "https://localhost:8080/",
          "height": 624
        }
      },
      "source": [
        "#@title 機体の分子の熱運動イメージ\n",
        "%%html\n",
        "<iframe src=\"https://phet.colorado.edu/sims/html/states-of-matter-basics/latest/states-of-matter-basics_en.html\" width=\"800\" height=\"600\" scrolling=\"no\" allowfullscreen></iframe>"
      ],
      "execution_count": 0,
      "outputs": [
        {
          "output_type": "display_data",
          "data": {
            "text/html": [
              "<iframe src=\"https://phet.colorado.edu/sims/html/states-of-matter-basics/latest/states-of-matter-basics_en.html\" width=\"800\" height=\"600\" scrolling=\"no\" allowfullscreen></iframe>"
            ],
            "text/plain": [
              "<IPython.core.display.HTML object>"
            ]
          },
          "metadata": {
            "tags": []
          }
        }
      ]
    },
    {
      "cell_type": "markdown",
      "metadata": {
        "id": "9uu2gH7R0UVH",
        "colab_type": "text"
      },
      "source": [
        "### 熱 = エネルギーの移動"
      ]
    },
    {
      "cell_type": "code",
      "metadata": {
        "id": "cerKccP8u8N3",
        "colab_type": "code",
        "cellView": "form",
        "outputId": "d80c948e-e9d8-48ad-f8ae-786c3b13a69e",
        "colab": {
          "base_uri": "https://localhost:8080/",
          "height": 625
        }
      },
      "source": [
        "#@title 熱(エネルギーの移動)と熱平衡\n",
        "%%html\n",
        "<iframe src=\"https://phet.colorado.edu/sims/html/diffusion/latest/diffusion_en.html\" width=\"800\" height=\"600\" scrolling=\"no\" allowfullscreen></iframe>"
      ],
      "execution_count": 0,
      "outputs": [
        {
          "output_type": "display_data",
          "data": {
            "text/html": [
              "<iframe src=\"https://phet.colorado.edu/sims/html/diffusion/latest/diffusion_en.html\" width=\"800\" height=\"600\" scrolling=\"no\" allowfullscreen></iframe>"
            ],
            "text/plain": [
              "<IPython.core.display.HTML object>"
            ]
          },
          "metadata": {
            "tags": []
          }
        }
      ]
    },
    {
      "cell_type": "markdown",
      "metadata": {
        "id": "obBpXKPk2j6A",
        "colab_type": "text"
      },
      "source": [
        "#### 熱平衡を利用した温度測定\n",
        "アルコール温度計は, 測定する物体と温度計内の  \n",
        "アルコールとの熱平衡を利用して温度を測定しています."
      ]
    },
    {
      "cell_type": "markdown",
      "metadata": {
        "id": "az5-JTZxxJSi",
        "colab_type": "text"
      },
      "source": [
        "## 仕事等量\n",
        "\n",
        "### 熱の単位\n",
        "\n",
        "#### 生活"
      ]
    },
    {
      "cell_type": "code",
      "metadata": {
        "id": "OWW_NFFexVj8",
        "colab_type": "code",
        "cellView": "both",
        "outputId": "90b1eb90-08c4-4bd8-aa03-b0b0d6f762fa",
        "colab": {
          "base_uri": "https://localhost:8080/",
          "height": 335
        }
      },
      "source": [
        "#@title ジュールの実験装置(教科書 p 図)\n",
        "%%html\n",
        "<iframe width=\"560\" height=\"315\" src=\"https://www.youtube-nocookie.com/embed/MBrTDKc9YZ0\" frameborder=\"0\" allow=\"accelerometer; autoplay; encrypted-media; gyroscope; picture-in-picture\" allowfullscreen></iframe>"
      ],
      "execution_count": 0,
      "outputs": [
        {
          "output_type": "display_data",
          "data": {
            "text/html": [
              "<iframe width=\"560\" height=\"315\" src=\"https://www.youtube-nocookie.com/embed/MBrTDKc9YZ0\" frameborder=\"0\" allow=\"accelerometer; autoplay; encrypted-media; gyroscope; picture-in-picture\" allowfullscreen></iframe>"
            ],
            "text/plain": [
              "<IPython.core.display.HTML object>"
            ]
          },
          "metadata": {
            "tags": []
          }
        }
      ]
    },
    {
      "cell_type": "code",
      "metadata": {
        "id": "wDHhlGR3yMv5",
        "colab_type": "code",
        "colab": {}
      },
      "source": [
        " "
      ],
      "execution_count": 0,
      "outputs": []
    }
  ]
}