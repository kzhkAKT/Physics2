{
  "nbformat": 4,
  "nbformat_minor": 0,
  "metadata": {
    "colab": {
      "name": "3110_温度_物理2",
      "provenance": [],
      "collapsed_sections": [],
      "toc_visible": true,
      "authorship_tag": "ABX9TyNBkgN6L7Qa1msLMHkYoujX",
      "include_colab_link": true
    },
    "kernelspec": {
      "name": "python3",
      "display_name": "Python 3"
    }
  },
  "cells": [
    {
      "cell_type": "markdown",
      "metadata": {
        "id": "view-in-github",
        "colab_type": "text"
      },
      "source": [
        "<a href=\"https://colab.research.google.com/github/kzhkAKT/Physics2/blob/draft/3110_%E6%B8%A9%E5%BA%A6_%E7%89%A9%E7%90%862.ipynb\" target=\"_parent\"><img src=\"https://colab.research.google.com/assets/colab-badge.svg\" alt=\"Open In Colab\"/></a>"
      ]
    },
    {
      "cell_type": "markdown",
      "metadata": {
        "id": "bT30O49uxTuo",
        "colab_type": "text"
      },
      "source": [
        "# 温度と熱"
      ]
    },
    {
      "cell_type": "markdown",
      "metadata": {
        "id": "HmIBuDKfq-jz",
        "colab_type": "text"
      },
      "source": [
        "\n",
        "\n",
        "## 温度\n",
        "\n",
        "- セシ温度\n",
        "- 絶対温度\n",
        "  - 絶対零度\n",
        "\n",
        "### セシ温度 $t$ ℃ と絶対温度 $T$ K の変換\n",
        "\n",
        "> $\\qquad T = t + 273.15$"
      ]
    },
    {
      "cell_type": "markdown",
      "metadata": {
        "id": "PDfiulKHgCO0",
        "colab_type": "text"
      },
      "source": [
        "##### 絶対零度\n",
        "(理想)気体が, 高温では\b膨張, 低温では収縮することを拡張し, 絶対零度で(理想)気体の体積がゼロ(と仮定)した温度."
      ]
    },
    {
      "cell_type": "code",
      "metadata": {
        "id": "MxCWZ8LUsMTv",
        "colab_type": "code",
        "cellView": "form",
        "outputId": "a9ba1be6-4127-402f-81b6-64321369b2d0",
        "colab": {
          "base_uri": "https://localhost:8080/",
          "height": 335
        }
      },
      "source": [
        "#@title Temperature\n",
        "%%html\n",
        "<iframe width=\"560\" height=\"315\" src=\"https://www.youtube-nocookie.com/embed/pfxSw9SbX9o\" frameborder=\"0\" allow=\"accelerometer; autoplay; encrypted-media; gyroscope; picture-in-picture\" allowfullscreen></iframe>\n"
      ],
      "execution_count": 0,
      "outputs": [
        {
          "output_type": "display_data",
          "data": {
            "text/html": [
              "<iframe width=\"560\" height=\"315\" src=\"https://www.youtube-nocookie.com/embed/pfxSw9SbX9o\" frameborder=\"0\" allow=\"accelerometer; autoplay; encrypted-media; gyroscope; picture-in-picture\" allowfullscreen></iframe>"
            ],
            "text/plain": [
              "<IPython.core.display.HTML object>"
            ]
          },
          "metadata": {
            "tags": []
          }
        }
      ]
    },
    {
      "cell_type": "markdown",
      "metadata": {
        "id": "ZGN4h7W4gtTm",
        "colab_type": "text"
      },
      "source": [
        "##### セシ温度\n",
        "大気圧下(1 atm) における 水の**凝固点** を 0℃, \n",
        "水の**沸点**を100℃ とし, 100等分したもの. 日常生活で使う一般的な温度.\n"
      ]
    },
    {
      "cell_type": "code",
      "metadata": {
        "id": "tGLT6m05fkV1",
        "colab_type": "code",
        "cellView": "form",
        "outputId": "19b030b3-98ea-42db-b5b5-107a994c5127",
        "colab": {
          "base_uri": "https://localhost:8080/",
          "height": 465
        }
      },
      "source": [
        "#@title 気体の体積に注目したセシ温度と絶対温度の変換\n",
        "%%svg\n",
        "<svg xmlns=\"http://www.w3.org/2000/svg\" xmlns:xlink=\"http://www.w3.org/1999/xlink\" version=\"1.1\" width=\"243px\" viewBox=\"-0.5 -0.5 243 444\" content=\"&lt;mxfile host=&quot;www.draw.io&quot; modified=&quot;2020-05-21T04:29:20.542Z&quot; agent=&quot;5.0 (Macintosh; Intel Mac OS X 10_10_5) AppleWebKit/537.36 (KHTML, like Gecko) Chrome/81.0.4044.138 Safari/537.36&quot; etag=&quot;A6h9jli-FevwDpElztiQ&quot; version=&quot;13.1.3&quot; type=&quot;google&quot;&gt;&lt;diagram id=&quot;Nmu4QtkBdiWyKUxg0wgC&quot; name=&quot;Page-1&quot;&gt;5Vhdr5owGP41XG6hLSBcHj1uS06WLHFz1z3QQTOgpFRFf/2KFJEW43RqIruifWif0vd5P1osNMuqzxwXyVcWkdSCdlRZ6NWCENgBkI8a2baIHTRIzGmksA5Y0B1pByp0RSNS9gYKxlJBiz4YsjwnoehhmHO26Q/7xdL+qgWOiQEsQpya6E8aiaRBfTjp8C+Exkm7MvDU/jLcDlY7KRMcsc0RhOYWmnHGRNPKqhlJa+u1dmnmfTrx9vBhnOTibyb8yNHcDRYeqN52LC68l9/L5QfFssbpSm1YfazYthYgefRSG1L2whSXJQ0tNE1ElkoAyGYzgUSGHbsPA4ftSkchLCOCb+WQTWdQVxkpObJli3GSYkHXfXqsdI0PdIcVvjEqF4a2ckJf0SgPdBy7z1CyFQ+JmnRsP43nLJHAPCbCIJKNo1130F6eC6SC45cKQM3E/pVa6URQJ7qzVt6AVl4qjTWlshHXje8tIhc4gHLOm6GqIJXo64hTGue1yFI2wiWwJlxQmbRe1IuMRlE9fcpJSXf4fU9ly35R73hvA3dqua8110qwskm7nYvUfKS61ElOBQpS/SMnQgNOBO3T/tIT6FI1JufVWA6r8eRKAKCFgWcqAR+phH9RDstZTp48gd2q2CBdkjsnsGD8xUazsOe6t5HKILqzVG2Mj1kraGs2Dq4VSyNydKJ7izV04NZqkRiuRR7OCtnI38v6Yc2h5TuWj56+SMGJ29fWcY0i5TyySAH0n1Wpm6U+Fz04mpzz0TTSk12g5bGJZwTNQ092wL0maCJcJiRSZnnmCLrVRdW48d47goZuqqOVzaj+bdT86zHi0f8XgHmRghP0sQ3CEZ389ABxvSsjTZfMILpaMtnt/uI2w7uf4Wj+Bw==&lt;/diagram&gt;&lt;/mxfile&gt;\" onclick=\"(function(svg){var src=window.event.target||window.event.srcElement;while (src!=null&amp;&amp;src.nodeName.toLowerCase()!='a'){src=src.parentNode;}if(src==null){if(svg.wnd!=null&amp;&amp;!svg.wnd.closed){svg.wnd.focus();}else{var r=function(evt){if(evt.data=='ready'&amp;&amp;evt.source==svg.wnd){svg.wnd.postMessage(decodeURIComponent(svg.getAttribute('content')),'*');window.removeEventListener('message',r);}};window.addEventListener('message',r);svg.wnd=window.open('https://www.draw.io/?client=1&amp;lightbox=1&amp;edit=_blank');}}})(this);\" style=\"cursor:pointer;max-width:100%;max-height:444px;\"><defs/><g><path d=\"M 7 180 L 200.63 180\" fill=\"none\" stroke=\"#000000\" stroke-miterlimit=\"10\" pointer-events=\"stroke\"/><path d=\"M 205.88 180 L 198.88 183.5 L 200.63 180 L 198.88 176.5 Z\" fill=\"#000000\" stroke=\"#000000\" stroke-miterlimit=\"10\" pointer-events=\"all\"/><path d=\"M 47 220 L 47 26.37\" fill=\"none\" stroke=\"#000000\" stroke-miterlimit=\"10\" pointer-events=\"stroke\"/><path d=\"M 47 21.12 L 50.5 28.12 L 47 26.37 L 43.5 28.12 Z\" fill=\"#000000\" stroke=\"#000000\" stroke-miterlimit=\"10\" pointer-events=\"all\"/><rect x=\"207\" y=\"170\" width=\"30\" height=\"20\" fill=\"none\" stroke=\"none\" pointer-events=\"all\"/><g transform=\"translate(-0.5 -0.5)\"><switch><foreignObject style=\"overflow: visible; text-align: left;\" pointer-events=\"none\" width=\"100%\" height=\"100%\" requiredFeatures=\"http://www.w3.org/TR/SVG11/feature#Extensibility\"><div xmlns=\"http://www.w3.org/1999/xhtml\" style=\"display: flex; align-items: unsafe center; justify-content: unsafe center; width: 1px; height: 1px; padding-top: 180px; margin-left: 222px;\"><div style=\"box-sizing: border-box; font-size: 0; text-align: center; \"><div style=\"display: inline-block; font-size: 12px; font-family: Helvetica; color: #000000; line-height: 1.2; pointer-events: all; white-space: nowrap; \"><i>T</i> K</div></div></div></foreignObject><text x=\"222\" y=\"184\" fill=\"#000000\" font-family=\"Helvetica\" font-size=\"12px\" text-anchor=\"middle\">T K</text></switch></g><rect x=\"37\" y=\"0\" width=\"20\" height=\"20\" fill=\"none\" stroke=\"none\" pointer-events=\"all\"/><g transform=\"translate(-0.5 -0.5)\"><switch><foreignObject style=\"overflow: visible; text-align: left;\" pointer-events=\"none\" width=\"100%\" height=\"100%\" requiredFeatures=\"http://www.w3.org/TR/SVG11/feature#Extensibility\"><div xmlns=\"http://www.w3.org/1999/xhtml\" style=\"display: flex; align-items: unsafe center; justify-content: unsafe center; width: 1px; height: 1px; padding-top: 10px; margin-left: 47px;\"><div style=\"box-sizing: border-box; font-size: 0; text-align: center; \"><div style=\"display: inline-block; font-size: 12px; font-family: Helvetica; color: #000000; line-height: 1.2; pointer-events: all; white-space: nowrap; \"><i>V</i></div></div></div></foreignObject><text x=\"47\" y=\"14\" fill=\"#000000\" font-family=\"Helvetica\" font-size=\"12px\" text-anchor=\"middle\">V</text></switch></g><path d=\"M 47 180 L 207 60\" fill=\"none\" stroke=\"#000000\" stroke-miterlimit=\"10\" pointer-events=\"stroke\"/><path d=\"M 7 395 L 200.63 395\" fill=\"none\" stroke=\"#000000\" stroke-miterlimit=\"10\" pointer-events=\"stroke\"/><path d=\"M 205.88 395 L 198.88 398.5 L 200.63 395 L 198.88 391.5 Z\" fill=\"#000000\" stroke=\"#000000\" stroke-miterlimit=\"10\" pointer-events=\"all\"/><path d=\"M 127 435 L 127 241.37\" fill=\"none\" stroke=\"#000000\" stroke-miterlimit=\"10\" pointer-events=\"stroke\"/><path d=\"M 127 236.12 L 130.5 243.12 L 127 241.37 L 123.5 243.12 Z\" fill=\"#000000\" stroke=\"#000000\" stroke-miterlimit=\"10\" pointer-events=\"all\"/><rect x=\"202\" y=\"385\" width=\"40\" height=\"20\" fill=\"none\" stroke=\"none\" pointer-events=\"all\"/><g transform=\"translate(-0.5 -0.5)\"><switch><foreignObject style=\"overflow: visible; text-align: left;\" pointer-events=\"none\" width=\"100%\" height=\"100%\" requiredFeatures=\"http://www.w3.org/TR/SVG11/feature#Extensibility\"><div xmlns=\"http://www.w3.org/1999/xhtml\" style=\"display: flex; align-items: unsafe center; justify-content: unsafe center; width: 1px; height: 1px; padding-top: 395px; margin-left: 222px;\"><div style=\"box-sizing: border-box; font-size: 0; text-align: center; \"><div style=\"display: inline-block; font-size: 12px; font-family: Helvetica; color: #000000; line-height: 1.2; pointer-events: all; white-space: nowrap; \"><i>t</i> ℃</div></div></div></foreignObject><text x=\"222\" y=\"399\" fill=\"#000000\" font-family=\"Helvetica\" font-size=\"12px\" text-anchor=\"middle\">t ℃</text></switch></g><path d=\"M 47 395 L 207 275\" fill=\"none\" stroke=\"#000000\" stroke-miterlimit=\"10\" pointer-events=\"stroke\"/><rect x=\"117\" y=\"216\" width=\"20\" height=\"20\" fill=\"none\" stroke=\"none\" pointer-events=\"all\"/><g transform=\"translate(-0.5 -0.5)\"><switch><foreignObject style=\"overflow: visible; text-align: left;\" pointer-events=\"none\" width=\"100%\" height=\"100%\" requiredFeatures=\"http://www.w3.org/TR/SVG11/feature#Extensibility\"><div xmlns=\"http://www.w3.org/1999/xhtml\" style=\"display: flex; align-items: unsafe center; justify-content: unsafe center; width: 1px; height: 1px; padding-top: 226px; margin-left: 127px;\"><div style=\"box-sizing: border-box; font-size: 0; text-align: center; \"><div style=\"display: inline-block; font-size: 12px; font-family: Helvetica; color: #000000; line-height: 1.2; pointer-events: all; white-space: nowrap; \"><i>V</i></div></div></div></foreignObject><text x=\"127\" y=\"230\" fill=\"#000000\" font-family=\"Helvetica\" font-size=\"12px\" text-anchor=\"middle\">V</text></switch></g><path d=\"M 47 420 L 47 220\" fill=\"none\" stroke=\"#000000\" stroke-miterlimit=\"10\" stroke-dasharray=\"3 3\" pointer-events=\"stroke\"/><path d=\"M 127 216 L 127 20\" fill=\"none\" stroke=\"#000000\" stroke-miterlimit=\"10\" stroke-dasharray=\"3 3\" pointer-events=\"stroke\"/><path d=\"M 47 300 L 120.63 300\" fill=\"none\" stroke=\"#000000\" stroke-miterlimit=\"10\" pointer-events=\"stroke\"/><path d=\"M 125.88 300 L 118.88 303.5 L 120.63 300 L 118.88 296.5 Z\" fill=\"#000000\" stroke=\"#000000\" stroke-miterlimit=\"10\" pointer-events=\"all\"/><g transform=\"translate(-0.5 -0.5)\"><switch><foreignObject style=\"overflow: visible; text-align: left;\" pointer-events=\"none\" width=\"100%\" height=\"100%\" requiredFeatures=\"http://www.w3.org/TR/SVG11/feature#Extensibility\"><div xmlns=\"http://www.w3.org/1999/xhtml\" style=\"display: flex; align-items: unsafe center; justify-content: unsafe center; width: 1px; height: 1px; padding-top: 300px; margin-left: 87px;\"><div style=\"box-sizing: border-box; font-size: 0; text-align: center; \"><div style=\"display: inline-block; font-size: 11px; font-family: Helvetica; color: #000000; line-height: 1.2; pointer-events: all; background-color: #ffffff; white-space: nowrap; \">273.15</div></div></div></foreignObject><text x=\"87\" y=\"303\" fill=\"#000000\" font-family=\"Helvetica\" font-size=\"11px\" text-anchor=\"middle\">273.15</text></switch></g></g><switch><g requiredFeatures=\"http://www.w3.org/TR/SVG11/feature#Extensibility\"/><a transform=\"translate(0,-5)\" xlink:href=\"https://desk.draw.io/support/solutions/articles/16000042487\" target=\"_blank\"><text text-anchor=\"middle\" font-size=\"10px\" x=\"50%\" y=\"100%\">Viewer does not support full SVG 1.1</text></a></switch></svg>"
      ],
      "execution_count": 0,
      "outputs": [
        {
          "output_type": "display_data",
          "data": {
            "text/plain": [
              "<IPython.core.display.SVG object>"
            ],
            "image/svg+xml": "<svg content=\"&lt;mxfile host=&quot;www.draw.io&quot; modified=&quot;2020-05-21T04:29:20.542Z&quot; agent=&quot;5.0 (Macintosh; Intel Mac OS X 10_10_5) AppleWebKit/537.36 (KHTML, like Gecko) Chrome/81.0.4044.138 Safari/537.36&quot; etag=&quot;A6h9jli-FevwDpElztiQ&quot; version=&quot;13.1.3&quot; type=&quot;google&quot;&gt;&lt;diagram id=&quot;Nmu4QtkBdiWyKUxg0wgC&quot; name=&quot;Page-1&quot;&gt;5Vhdr5owGP41XG6hLSBcHj1uS06WLHFz1z3QQTOgpFRFf/2KFJEW43RqIruifWif0vd5P1osNMuqzxwXyVcWkdSCdlRZ6NWCENgBkI8a2baIHTRIzGmksA5Y0B1pByp0RSNS9gYKxlJBiz4YsjwnoehhmHO26Q/7xdL+qgWOiQEsQpya6E8aiaRBfTjp8C+Exkm7MvDU/jLcDlY7KRMcsc0RhOYWmnHGRNPKqhlJa+u1dmnmfTrx9vBhnOTibyb8yNHcDRYeqN52LC68l9/L5QfFssbpSm1YfazYthYgefRSG1L2whSXJQ0tNE1ElkoAyGYzgUSGHbsPA4ftSkchLCOCb+WQTWdQVxkpObJli3GSYkHXfXqsdI0PdIcVvjEqF4a2ckJf0SgPdBy7z1CyFQ+JmnRsP43nLJHAPCbCIJKNo1130F6eC6SC45cKQM3E/pVa6URQJ7qzVt6AVl4qjTWlshHXje8tIhc4gHLOm6GqIJXo64hTGue1yFI2wiWwJlxQmbRe1IuMRlE9fcpJSXf4fU9ly35R73hvA3dqua8110qwskm7nYvUfKS61ElOBQpS/SMnQgNOBO3T/tIT6FI1JufVWA6r8eRKAKCFgWcqAR+phH9RDstZTp48gd2q2CBdkjsnsGD8xUazsOe6t5HKILqzVG2Mj1kraGs2Dq4VSyNydKJ7izV04NZqkRiuRR7OCtnI38v6Yc2h5TuWj56+SMGJ29fWcY0i5TyySAH0n1Wpm6U+Fz04mpzz0TTSk12g5bGJZwTNQ092wL0maCJcJiRSZnnmCLrVRdW48d47goZuqqOVzaj+bdT86zHi0f8XgHmRghP0sQ3CEZ389ABxvSsjTZfMILpaMtnt/uI2w7uf4Wj+Bw==&lt;/diagram&gt;&lt;/mxfile&gt;\" onclick=\"(function(svg){var src=window.event.target||window.event.srcElement;while (src!=null&amp;&amp;src.nodeName.toLowerCase()!='a'){src=src.parentNode;}if(src==null){if(svg.wnd!=null&amp;&amp;!svg.wnd.closed){svg.wnd.focus();}else{var r=function(evt){if(evt.data=='ready'&amp;&amp;evt.source==svg.wnd){svg.wnd.postMessage(decodeURIComponent(svg.getAttribute('content')),'*');window.removeEventListener('message',r);}};window.addEventListener('message',r);svg.wnd=window.open('https://www.draw.io/?client=1&amp;lightbox=1&amp;edit=_blank');}}})(this);\" style=\"cursor:pointer;max-width:100%;max-height:444px;\" version=\"1.1\" viewBox=\"-0.5 -0.5 243 444\" width=\"243px\" xmlns=\"http://www.w3.org/2000/svg\" xmlns:xlink=\"http://www.w3.org/1999/xlink\"><defs/><g><path d=\"M 7 180 L 200.63 180\" fill=\"none\" pointer-events=\"stroke\" stroke=\"#000000\" stroke-miterlimit=\"10\"/><path d=\"M 205.88 180 L 198.88 183.5 L 200.63 180 L 198.88 176.5 Z\" fill=\"#000000\" pointer-events=\"all\" stroke=\"#000000\" stroke-miterlimit=\"10\"/><path d=\"M 47 220 L 47 26.37\" fill=\"none\" pointer-events=\"stroke\" stroke=\"#000000\" stroke-miterlimit=\"10\"/><path d=\"M 47 21.12 L 50.5 28.12 L 47 26.37 L 43.5 28.12 Z\" fill=\"#000000\" pointer-events=\"all\" stroke=\"#000000\" stroke-miterlimit=\"10\"/><rect fill=\"none\" height=\"20\" pointer-events=\"all\" stroke=\"none\" width=\"30\" x=\"207\" y=\"170\"/><g transform=\"translate(-0.5 -0.5)\"><switch><foreignObject height=\"100%\" pointer-events=\"none\" requiredFeatures=\"http://www.w3.org/TR/SVG11/feature#Extensibility\" style=\"overflow: visible; text-align: left;\" width=\"100%\"><div style=\"display: flex; align-items: unsafe center; justify-content: unsafe center; width: 1px; height: 1px; padding-top: 180px; margin-left: 222px;\" xmlns=\"http://www.w3.org/1999/xhtml\"><div style=\"box-sizing: border-box; font-size: 0; text-align: center; \"><div style=\"display: inline-block; font-size: 12px; font-family: Helvetica; color: #000000; line-height: 1.2; pointer-events: all; white-space: nowrap; \"><i>T</i> K</div></div></div></foreignObject><text fill=\"#000000\" font-family=\"Helvetica\" font-size=\"12px\" text-anchor=\"middle\" x=\"222\" y=\"184\">T K</text></switch></g><rect fill=\"none\" height=\"20\" pointer-events=\"all\" stroke=\"none\" width=\"20\" x=\"37\" y=\"0\"/><g transform=\"translate(-0.5 -0.5)\"><switch><foreignObject height=\"100%\" pointer-events=\"none\" requiredFeatures=\"http://www.w3.org/TR/SVG11/feature#Extensibility\" style=\"overflow: visible; text-align: left;\" width=\"100%\"><div style=\"display: flex; align-items: unsafe center; justify-content: unsafe center; width: 1px; height: 1px; padding-top: 10px; margin-left: 47px;\" xmlns=\"http://www.w3.org/1999/xhtml\"><div style=\"box-sizing: border-box; font-size: 0; text-align: center; \"><div style=\"display: inline-block; font-size: 12px; font-family: Helvetica; color: #000000; line-height: 1.2; pointer-events: all; white-space: nowrap; \"><i>V</i></div></div></div></foreignObject><text fill=\"#000000\" font-family=\"Helvetica\" font-size=\"12px\" text-anchor=\"middle\" x=\"47\" y=\"14\">V</text></switch></g><path d=\"M 47 180 L 207 60\" fill=\"none\" pointer-events=\"stroke\" stroke=\"#000000\" stroke-miterlimit=\"10\"/><path d=\"M 7 395 L 200.63 395\" fill=\"none\" pointer-events=\"stroke\" stroke=\"#000000\" stroke-miterlimit=\"10\"/><path d=\"M 205.88 395 L 198.88 398.5 L 200.63 395 L 198.88 391.5 Z\" fill=\"#000000\" pointer-events=\"all\" stroke=\"#000000\" stroke-miterlimit=\"10\"/><path d=\"M 127 435 L 127 241.37\" fill=\"none\" pointer-events=\"stroke\" stroke=\"#000000\" stroke-miterlimit=\"10\"/><path d=\"M 127 236.12 L 130.5 243.12 L 127 241.37 L 123.5 243.12 Z\" fill=\"#000000\" pointer-events=\"all\" stroke=\"#000000\" stroke-miterlimit=\"10\"/><rect fill=\"none\" height=\"20\" pointer-events=\"all\" stroke=\"none\" width=\"40\" x=\"202\" y=\"385\"/><g transform=\"translate(-0.5 -0.5)\"><switch><foreignObject height=\"100%\" pointer-events=\"none\" requiredFeatures=\"http://www.w3.org/TR/SVG11/feature#Extensibility\" style=\"overflow: visible; text-align: left;\" width=\"100%\"><div style=\"display: flex; align-items: unsafe center; justify-content: unsafe center; width: 1px; height: 1px; padding-top: 395px; margin-left: 222px;\" xmlns=\"http://www.w3.org/1999/xhtml\"><div style=\"box-sizing: border-box; font-size: 0; text-align: center; \"><div style=\"display: inline-block; font-size: 12px; font-family: Helvetica; color: #000000; line-height: 1.2; pointer-events: all; white-space: nowrap; \"><i>t</i> ℃</div></div></div></foreignObject><text fill=\"#000000\" font-family=\"Helvetica\" font-size=\"12px\" text-anchor=\"middle\" x=\"222\" y=\"399\">t ℃</text></switch></g><path d=\"M 47 395 L 207 275\" fill=\"none\" pointer-events=\"stroke\" stroke=\"#000000\" stroke-miterlimit=\"10\"/><rect fill=\"none\" height=\"20\" pointer-events=\"all\" stroke=\"none\" width=\"20\" x=\"117\" y=\"216\"/><g transform=\"translate(-0.5 -0.5)\"><switch><foreignObject height=\"100%\" pointer-events=\"none\" requiredFeatures=\"http://www.w3.org/TR/SVG11/feature#Extensibility\" style=\"overflow: visible; text-align: left;\" width=\"100%\"><div style=\"display: flex; align-items: unsafe center; justify-content: unsafe center; width: 1px; height: 1px; padding-top: 226px; margin-left: 127px;\" xmlns=\"http://www.w3.org/1999/xhtml\"><div style=\"box-sizing: border-box; font-size: 0; text-align: center; \"><div style=\"display: inline-block; font-size: 12px; font-family: Helvetica; color: #000000; line-height: 1.2; pointer-events: all; white-space: nowrap; \"><i>V</i></div></div></div></foreignObject><text fill=\"#000000\" font-family=\"Helvetica\" font-size=\"12px\" text-anchor=\"middle\" x=\"127\" y=\"230\">V</text></switch></g><path d=\"M 47 420 L 47 220\" fill=\"none\" pointer-events=\"stroke\" stroke=\"#000000\" stroke-dasharray=\"3 3\" stroke-miterlimit=\"10\"/><path d=\"M 127 216 L 127 20\" fill=\"none\" pointer-events=\"stroke\" stroke=\"#000000\" stroke-dasharray=\"3 3\" stroke-miterlimit=\"10\"/><path d=\"M 47 300 L 120.63 300\" fill=\"none\" pointer-events=\"stroke\" stroke=\"#000000\" stroke-miterlimit=\"10\"/><path d=\"M 125.88 300 L 118.88 303.5 L 120.63 300 L 118.88 296.5 Z\" fill=\"#000000\" pointer-events=\"all\" stroke=\"#000000\" stroke-miterlimit=\"10\"/><g transform=\"translate(-0.5 -0.5)\"><switch><foreignObject height=\"100%\" pointer-events=\"none\" requiredFeatures=\"http://www.w3.org/TR/SVG11/feature#Extensibility\" style=\"overflow: visible; text-align: left;\" width=\"100%\"><div style=\"display: flex; align-items: unsafe center; justify-content: unsafe center; width: 1px; height: 1px; padding-top: 300px; margin-left: 87px;\" xmlns=\"http://www.w3.org/1999/xhtml\"><div style=\"box-sizing: border-box; font-size: 0; text-align: center; \"><div style=\"display: inline-block; font-size: 11px; font-family: Helvetica; color: #000000; line-height: 1.2; pointer-events: all; background-color: #ffffff; white-space: nowrap; \">273.15</div></div></div></foreignObject><text fill=\"#000000\" font-family=\"Helvetica\" font-size=\"11px\" text-anchor=\"middle\" x=\"87\" y=\"303\">273.15</text></switch></g></g><switch><g requiredFeatures=\"http://www.w3.org/TR/SVG11/feature#Extensibility\"/><a target=\"_blank\" transform=\"translate(0,-5)\" xlink:href=\"https://desk.draw.io/support/solutions/articles/16000042487\"><text font-size=\"10px\" text-anchor=\"middle\" x=\"50%\" y=\"100%\">Viewer does not support full SVG 1.1</text></a></switch></svg>"
          },
          "metadata": {
            "tags": []
          }
        }
      ]
    },
    {
      "cell_type": "markdown",
      "metadata": {
        "id": "gMFvLW19higb",
        "colab_type": "text"
      },
      "source": [
        "上の図のように, 絶対温度 $T$ の定義に合わせるために1段目のグラフを 273.15 ずらし, それを改めてセシ温度 $t$ として再定義したと考えることができます.\n",
        "\n",
        "\\begin{align*}\n",
        "V &= V(T) \\sim V(T - 273.15) = V(t)&\\\\\n",
        "T &- 273.15 = t&\\\\\n",
        "T &= t + 273.15&\n",
        "\\end{align*}\n",
        "\n",
        "また 絶対温度 $T$ と セシ温度 $t$ の目盛りの幅は\n",
        "\\begin{align*}\n",
        "T_1 &= t_1 + 273.15&\\\\\n",
        "T_0 &= t_0 + 273.15&\\\\\n",
        "T_1 - T_0 &= t_1 - t_0&\\\\\n",
        "\\Delta T & = \\Delta t&\n",
        "\\end{align*}\n",
        "となり, 目盛りの幅は等しいことがわかります.\n"
      ]
    },
    {
      "cell_type": "code",
      "metadata": {
        "id": "2HhgbFjttt5y",
        "colab_type": "code",
        "cellView": "form",
        "outputId": "eb1e0685-a760-4de9-b7eb-4a870f551039",
        "colab": {
          "base_uri": "https://localhost:8080/",
          "height": 336
        }
      },
      "source": [
        "#@title 温度の比較\n",
        "%%html\n",
        "<iframe width=\"560\" height=\"315\" src=\"https://www.youtube-nocookie.com/embed/V_sJB66FNEo\" frameborder=\"0\" allow=\"accelerometer; autoplay; encrypted-media; gyroscope; picture-in-picture\" allowfullscreen></iframe>"
      ],
      "execution_count": 0,
      "outputs": [
        {
          "output_type": "display_data",
          "data": {
            "text/html": [
              "<iframe width=\"560\" height=\"315\" src=\"https://www.youtube-nocookie.com/embed/V_sJB66FNEo\" frameborder=\"0\" allow=\"accelerometer; autoplay; encrypted-media; gyroscope; picture-in-picture\" allowfullscreen></iframe>"
            ],
            "text/plain": [
              "<IPython.core.display.HTML object>"
            ]
          },
          "metadata": {
            "tags": []
          }
        }
      ]
    },
    {
      "cell_type": "markdown",
      "metadata": {
        "id": "fcX-WO-KwnPa",
        "colab_type": "text"
      },
      "source": [
        "### 熱運動\n",
        "\n",
        "> 温度は, 分子や固体の熱運動の激しさを表す物理量"
      ]
    },
    {
      "cell_type": "code",
      "metadata": {
        "id": "nzYX9eCOtvLP",
        "colab_type": "code",
        "cellView": "form",
        "outputId": "64295c9b-d16e-45a0-b406-2924e91356e6",
        "colab": {
          "base_uri": "https://localhost:8080/",
          "height": 625
        }
      },
      "source": [
        "#@title 気体と固体における分子の熱運動(教科書 p2 図3.1)\n",
        "%%html\n",
        "<iframe src=\"https://phet.colorado.edu/sims/html/states-of-matter-basics/latest/states-of-matter-basics_en.html\" width=\"800\" height=\"600\" scrolling=\"no\" allowfullscreen></iframe>"
      ],
      "execution_count": 0,
      "outputs": [
        {
          "output_type": "display_data",
          "data": {
            "text/html": [
              "<iframe src=\"https://phet.colorado.edu/sims/html/states-of-matter-basics/latest/states-of-matter-basics_en.html\" width=\"800\" height=\"600\" scrolling=\"no\" allowfullscreen></iframe>"
            ],
            "text/plain": [
              "<IPython.core.display.HTML object>"
            ]
          },
          "metadata": {
            "tags": []
          }
        }
      ]
    }
  ]
}