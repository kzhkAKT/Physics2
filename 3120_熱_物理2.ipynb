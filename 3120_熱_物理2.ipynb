{
  "nbformat": 4,
  "nbformat_minor": 0,
  "metadata": {
    "colab": {
      "name": "3120_熱_物理2",
      "provenance": [],
      "collapsed_sections": [],
      "toc_visible": true,
      "authorship_tag": "ABX9TyMi1hu8XkfGJd2CMmOeUU29",
      "include_colab_link": true
    },
    "kernelspec": {
      "name": "python3",
      "display_name": "Python 3"
    }
  },
  "cells": [
    {
      "cell_type": "markdown",
      "metadata": {
        "id": "view-in-github",
        "colab_type": "text"
      },
      "source": [
        "<a href=\"https://colab.research.google.com/github/kzhkAKT/Physics2/blob/draft/3120_%E7%86%B1_%E7%89%A9%E7%90%862.ipynb\" target=\"_parent\"><img src=\"https://colab.research.google.com/assets/colab-badge.svg\" alt=\"Open In Colab\"/></a>"
      ]
    },
    {
      "cell_type": "markdown",
      "metadata": {
        "id": "bT30O49uxTuo",
        "colab_type": "text"
      },
      "source": [
        "# 温度と熱"
      ]
    },
    {
      "cell_type": "markdown",
      "metadata": {
        "id": "5qaLoCzU3HeF",
        "colab_type": "text"
      },
      "source": [
        "## 熱"
      ]
    },
    {
      "cell_type": "markdown",
      "metadata": {
        "id": "9uu2gH7R0UVH",
        "colab_type": "text"
      },
      "source": [
        "### 熱量 = 分子の熱運動エネルギーの移動\n",
        "\n",
        "熱とは, 高温物質から低温物質に自然に流れる分子の熱運動や, 冷却により低温物質から高温物質に流れる分子の熱運動によって表現される, エネルギーの移動形態である.\n"
      ]
    },
    {
      "cell_type": "code",
      "metadata": {
        "id": "cerKccP8u8N3",
        "colab_type": "code",
        "cellView": "form",
        "outputId": "7e065c5b-f6dc-46ee-de4e-7296e60b1af0",
        "colab": {
          "base_uri": "https://localhost:8080/",
          "height": 625
        }
      },
      "source": [
        "#@title 熱(エネルギーの移動)と熱平衡[同種分子]\n",
        "%%html\n",
        "<iframe src=\"https://phet.colorado.edu/sims/html/diffusion/latest/diffusion_en.html\" width=\"800\" height=\"600\" scrolling=\"no\" allowfullscreen></iframe>"
      ],
      "execution_count": 0,
      "outputs": [
        {
          "output_type": "display_data",
          "data": {
            "text/html": [
              "<iframe src=\"https://phet.colorado.edu/sims/html/diffusion/latest/diffusion_en.html\" width=\"800\" height=\"600\" scrolling=\"no\" allowfullscreen></iframe>"
            ],
            "text/plain": [
              "<IPython.core.display.HTML object>"
            ]
          },
          "metadata": {
            "tags": []
          }
        }
      ]
    },
    {
      "cell_type": "markdown",
      "metadata": {
        "id": "obBpXKPk2j6A",
        "colab_type": "text"
      },
      "source": [
        "#### 熱平衡を利用した温度測定\n",
        "アルコール温度計は, 測定する物体と温度計内の  \n",
        "アルコールとの熱平衡を利用して温度を測定しています.\n",
        "> 熱力学第ゼロ法則: $T_{\\rm A} = T_{\\rm B}$ かつ $T_{\\rm A} = T_{\\rm C}$ ならば,  $T_{\\rm B} = T_{\\rm C}$ "
      ]
    },
    {
      "cell_type": "markdown",
      "metadata": {
        "id": "az5-JTZxxJSi",
        "colab_type": "text"
      },
      "source": [
        "### 熱量の単位\n",
        "\n",
        "#### 国際単位系: J\b\b, 記号: $Q, W$\n",
        "\n",
        "仕事の定義に基づく単位\n",
        "\n",
        "定義は\n",
        "> ${\\rm \b1\\ J = 1\\ N \\cdot 1\\ m}$\n",
        "\n",
        "#### 生活単位: cal, 記号: $Q$\n",
        "\n",
        "cal は カロリー/calorie とよみます.\n",
        "食品や飲料水に記載されている熱量の単位. \n",
        "\n",
        "定義は\n",
        "> 水 1g を 1℃ 上昇させるための熱量を 1 cal\n",
        "\n",
        "とする.\n",
        "\n",
        "#### 熱の仕事等量 $\\mathcal{J}$\n",
        "\n",
        "1 J と 1 cal を換算する係数.\n",
        "> \\begin{align*}\n",
        "W = \\mathcal{J} Q\n",
        "\\end{align*}\n",
        "\n",
        ">> $\\mathcal{J} = {\\rm 4.1855\\ cal/J} \\sim {\\rm 4.2\\ cal/J} $"
      ]
    },
    {
      "cell_type": "code",
      "metadata": {
        "id": "aRvD4U5Yykzq",
        "colab_type": "code",
        "cellView": "form",
        "outputId": "c0c09ec1-ff4f-41bf-ae4b-3246d4fce1b5",
        "colab": {
          "base_uri": "https://localhost:8080/",
          "height": 336
        }
      },
      "source": [
        "#@title ジュールの実験装置(教科書 p4 図3.3)\n",
        "%%html\n",
        "<iframe width=\"560\" height=\"315\" src=\"https://www.youtube-nocookie.com/embed/ZbZjo7zhWFk\" frameborder=\"0\" allow=\"accelerometer; autoplay; encrypted-media; gyroscope; picture-in-picture\" allowfullscreen></iframe>"
      ],
      "execution_count": 0,
      "outputs": [
        {
          "output_type": "display_data",
          "data": {
            "text/html": [
              "<iframe width=\"560\" height=\"315\" src=\"https://www.youtube-nocookie.com/embed/ZbZjo7zhWFk\" frameborder=\"0\" allow=\"accelerometer; autoplay; encrypted-media; gyroscope; picture-in-picture\" allowfullscreen></iframe>"
            ],
            "text/plain": [
              "<IPython.core.display.HTML object>"
            ]
          },
          "metadata": {
            "tags": []
          }
        }
      ]
    },
    {
      "cell_type": "code",
      "metadata": {
        "id": "OWW_NFFexVj8",
        "colab_type": "code",
        "cellView": "form",
        "outputId": "90b1eb90-08c4-4bd8-aa03-b0b0d6f762fa",
        "colab": {
          "base_uri": "https://localhost:8080/",
          "height": 335
        }
      },
      "source": [
        "#@title 史実に基づく再現\n",
        "%%html\n",
        "<iframe width=\"560\" height=\"315\" src=\"https://www.youtube-nocookie.com/embed/MBrTDKc9YZ0\" frameborder=\"0\" allow=\"accelerometer; autoplay; encrypted-media; gyroscope; picture-in-picture\" allowfullscreen></iframe>"
      ],
      "execution_count": 0,
      "outputs": [
        {
          "output_type": "display_data",
          "data": {
            "text/html": [
              "<iframe width=\"560\" height=\"315\" src=\"https://www.youtube-nocookie.com/embed/MBrTDKc9YZ0\" frameborder=\"0\" allow=\"accelerometer; autoplay; encrypted-media; gyroscope; picture-in-picture\" allowfullscreen></iframe>"
            ],
            "text/plain": [
              "<IPython.core.display.HTML object>"
            ]
          },
          "metadata": {
            "tags": []
          }
        }
      ]
    }
  ]
}