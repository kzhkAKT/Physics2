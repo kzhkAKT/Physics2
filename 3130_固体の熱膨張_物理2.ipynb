{
  "nbformat": 4,
  "nbformat_minor": 0,
  "metadata": {
    "colab": {
      "name": "3130_固体の熱膨張_物理2",
      "provenance": [],
      "collapsed_sections": [],
      "authorship_tag": "ABX9TyONDX27RZRNYuUo2ZOaqXgy",
      "include_colab_link": true
    },
    "kernelspec": {
      "name": "python3",
      "display_name": "Python 3"
    }
  },
  "cells": [
    {
      "cell_type": "markdown",
      "metadata": {
        "id": "view-in-github",
        "colab_type": "text"
      },
      "source": [
        "<a href=\"https://colab.research.google.com/github/kzhkAKT/Physics2/blob/draft/3130_%E5%9B%BA%E4%BD%93%E3%81%AE%E7%86%B1%E8%86%A8%E5%BC%B5_%E7%89%A9%E7%90%862.ipynb\" target=\"_parent\"><img src=\"https://colab.research.google.com/assets/colab-badge.svg\" alt=\"Open In Colab\"/></a>"
      ]
    },
    {
      "cell_type": "markdown",
      "metadata": {
        "id": "lxoPdy1I6CMJ",
        "colab_type": "text"
      },
      "source": [
        "# 温度と熱\n"
      ]
    },
    {
      "cell_type": "markdown",
      "metadata": {
        "id": "-b2T3o7cOfWl",
        "colab_type": "text"
      },
      "source": [
        "## 固体の熱膨張"
      ]
    },
    {
      "cell_type": "code",
      "metadata": {
        "id": "obyzAywY5_BU",
        "colab_type": "code",
        "outputId": "6f76ef03-ca0e-4461-ad7d-6ae415f82edc",
        "cellView": "form",
        "colab": {
          "base_uri": "https://localhost:8080/",
          "height": 336
        }
      },
      "source": [
        "#@title 熱膨張の実験\n",
        "%%html\n",
        "<iframe width=\"560\" height=\"315\" src=\"https://www.youtube-nocookie.com/embed/EkQ2886Sxpg\" frameborder=\"0\" allow=\"accelerometer; autoplay; encrypted-media; gyroscope; picture-in-picture\" allowfullscreen></iframe>"
      ],
      "execution_count": 0,
      "outputs": [
        {
          "output_type": "display_data",
          "data": {
            "text/html": [
              "<iframe width=\"560\" height=\"315\" src=\"https://www.youtube-nocookie.com/embed/EkQ2886Sxpg\" frameborder=\"0\" allow=\"accelerometer; autoplay; encrypted-media; gyroscope; picture-in-picture\" allowfullscreen></iframe>"
            ],
            "text/plain": [
              "<IPython.core.display.HTML object>"
            ]
          },
          "metadata": {
            "tags": []
          }
        }
      ]
    },
    {
      "cell_type": "code",
      "metadata": {
        "id": "1MdDJZ_86Qmn",
        "colab_type": "code",
        "outputId": "486bf073-0f0c-4c81-91b7-0fb558428d1e",
        "cellView": "form",
        "colab": {
          "base_uri": "https://localhost:8080/",
          "height": 336
        }
      },
      "source": [
        "#@title \n",
        "%%html\n",
        "<iframe width=\"560\" height=\"315\" src=\"https://www.youtube-nocookie.com/embed/2L8dWMX8u3o\" frameborder=\"0\" allow=\"accelerometer; autoplay; encrypted-media; gyroscope; picture-in-picture\" allowfullscreen></iframe>"
      ],
      "execution_count": 0,
      "outputs": [
        {
          "output_type": "display_data",
          "data": {
            "text/html": [
              "<iframe width=\"560\" height=\"315\" src=\"https://www.youtube-nocookie.com/embed/2L8dWMX8u3o\" frameborder=\"0\" allow=\"accelerometer; autoplay; encrypted-media; gyroscope; picture-in-picture\" allowfullscreen></iframe>"
            ],
            "text/plain": [
              "<IPython.core.display.HTML object>"
            ]
          },
          "metadata": {
            "tags": []
          }
        }
      ]
    },
    {
      "cell_type": "markdown",
      "metadata": {
        "id": "17RlfuyL8yq3",
        "colab_type": "text"
      },
      "source": [
        "### 線路の隙間\n",
        "![中継レール(50T-50Nレール)](https://upload.wikimedia.org/wikipedia/commons/5/51/50T-50N_Transition_Rail_of_Mashu-station.jpg)\n",
        "\n"
      ]
    },
    {
      "cell_type": "code",
      "metadata": {
        "id": "lQBkvSs36cIb",
        "colab_type": "code",
        "outputId": "6c8f0073-9976-4708-f047-66626ac9382e",
        "cellView": "form",
        "colab": {
          "base_uri": "https://localhost:8080/",
          "height": 336
        }
      },
      "source": [
        "#@title 軌条の熱膨張\n",
        "%%html\n",
        "<iframe width=\"560\" height=\"315\" src=\"https://www.youtube-nocookie.com/embed/jJeiYaSFCf0\" frameborder=\"0\" allow=\"accelerometer; autoplay; encrypted-media; gyroscope; picture-in-picture\" allowfullscreen></iframe>"
      ],
      "execution_count": 0,
      "outputs": [
        {
          "output_type": "display_data",
          "data": {
            "text/html": [
              "<iframe width=\"560\" height=\"315\" src=\"https://www.youtube-nocookie.com/embed/jJeiYaSFCf0\" frameborder=\"0\" allow=\"accelerometer; autoplay; encrypted-media; gyroscope; picture-in-picture\" allowfullscreen></iframe>"
            ],
            "text/plain": [
              "<IPython.core.display.HTML object>"
            ]
          },
          "metadata": {
            "tags": []
          }
        }
      ]
    },
    {
      "cell_type": "markdown",
      "metadata": {
        "id": "MCLLxc1qOXfG",
        "colab_type": "text"
      },
      "source": [
        "### 線膨張率 $\\alpha$ の導出"
      ]
    },
    {
      "cell_type": "code",
      "metadata": {
        "id": "zUQ8KzXqOdTA",
        "colab_type": "code",
        "cellView": "form",
        "outputId": "1e013d35-ad86-4b35-b57f-1ea09ad81429",
        "colab": {
          "base_uri": "https://localhost:8080/",
          "height": 223
        }
      },
      "source": [
        "#@title 線膨張率を導出する概念図\n",
        "%%svg\n",
        "<svg xmlns=\"http://www.w3.org/2000/svg\" xmlns:xlink=\"http://www.w3.org/1999/xlink\" version=\"1.1\" width=\"338px\" viewBox=\"-0.5 -0.5 338 202\" content=\"&lt;mxfile host=&quot;www.draw.io&quot; modified=&quot;2020-05-21T07:53:32.624Z&quot; agent=&quot;5.0 (Macintosh; Intel Mac OS X 10_10_5) AppleWebKit/537.36 (KHTML, like Gecko) Chrome/81.0.4044.138 Safari/537.36&quot; etag=&quot;hQj2vb1lmOSLw5F-xGeE&quot; version=&quot;13.1.3&quot; type=&quot;google&quot;&gt;&lt;diagram id=&quot;veNhKWrdR9zbm09gi63X&quot; name=&quot;Page-1&quot;&gt;7VlNc5swEP01HJ0BYWx8jB2nzTRtM01n2h5lEEZTGblCjnF/fQVIGAFOHILJR3NJrCexSPverqTFsGer5AOD6/Az9RExgOknhn1hAOA6lvibArscsExzkiNLhn2J7YFb/BepgRLdYB/F2kBOKeF4rYMejSLkcQ2DjNGtPiygRH/rGi5RDbj1IKmjP7DPQ7kuMN7jHxFehurN1kiubwXVYLmSOIQ+3ZYge27YM0Ypz3+tkhkiqfOUX/LnLg/0FhNjKOLHPHD19ebbVUAWnwZuMp6baJrEeCCt3EGykQuWk+U75QFGN5GPUiOmYU+3Iebodg29tHcrOBdYyFdEtCzxM8CEzCihLHvW9iFyA0/gMWf0Nyr1jDwXLQLRIyeAGEfJwZVZhb+E0BBdIc52YohSmfSw1FjR3u4JA0OJhSWyFAalRpaF5b0bxQ/pyUd4FTzsVRT556k8RSuikQCnPozDzM2W7lLhBLb7mbr/zFHNX5KNrHGRaK2dbOWvRH5N3xW3ioCCbIn4Qyqpu7/kX6fBvQpjiECO7/RpNPlcvuGGYjHBgl1g6vTaoEJbTDfMQ/KpcgBUDTkVnYwrhnI/1AxlEiiW3V4V9mljLXA95DXG2sJ1ho55klizR/VYKwjqJdaGrynWni2G7IlYUJm4odk2imqmCg30FEfOS2A8tXcDOUcsyiwBc/gKdGBNOtNB3VTfOhi966CtDgRVXemgbqpvHYzb6KBEfb5fqtO99RroA/ouPKzurkeTVzFU26ZPTJ3bOXVFHFvlKLY62r+POCvbzymModmRMGqGrH6FMfnvYtrtiLnqZbjniFY6OZI5j8A4xvmtBTJeh98Sp6C6MbZO0z3vsFZTmWhEeHoJpdlE9+yO/myo6hjEWT3vXAyw3HWy7xS/lvJ/ZgUr4FohYp64OireLBRklsaV4BKaT0zBVQUKyVzDBSK6wiDBy/QY5wn5IHF5nqZXZexBci47Vtj3UxtThsTS4CKzl24g69T1GRnO1HAu5Pov4QqTlLOZIBoLi8D8grb3XcRlGVNaNoriYVnS98TdwWv7wDwz9VOaKlK1lbgaQoMgRqdRHegxlRxB18vNM7XzYNsSWW3brxo6daJpqpHJ4F/D6AmJZjY3JsNy0sjM1bJQW/sH8tbbTzugWfcqyVgvPsk01Q9PsrV9N4DZrJJp2qMJtPzQ4f3woV1OsMx1pVX1Azec5gt5pBAbhFeqRsvzuF6IlqBe4m4n1+PL1Vb144Gq+ZcSs9uQmKt5r7NytdVUvTyV3t6l8xTpAP3ABCYNnzq6kY5o7r8D55lt/zXdnv8D&lt;/diagram&gt;&lt;/mxfile&gt;\" onclick=\"(function(svg){var src=window.event.target||window.event.srcElement;while (src!=null&amp;&amp;src.nodeName.toLowerCase()!='a'){src=src.parentNode;}if(src==null){if(svg.wnd!=null&amp;&amp;!svg.wnd.closed){svg.wnd.focus();}else{var r=function(evt){if(evt.data=='ready'&amp;&amp;evt.source==svg.wnd){svg.wnd.postMessage(decodeURIComponent(svg.getAttribute('content')),'*');window.removeEventListener('message',r);}};window.addEventListener('message',r);svg.wnd=window.open('https://www.draw.io/?client=1&amp;lightbox=1&amp;edit=_blank');}}})(this);\" style=\"cursor:pointer;max-width:100%;max-height:202px;\"><defs/><g><rect x=\"8\" y=\"40\" width=\"240\" height=\"40\" fill=\"#dae8fc\" stroke=\"#6c8ebf\" pointer-events=\"all\"/><path d=\"M 128 80 L 128 40\" fill=\"none\" stroke=\"#000000\" stroke-miterlimit=\"10\" stroke-dasharray=\"3 3\" pointer-events=\"stroke\"/><rect x=\"8\" y=\"120\" width=\"320\" height=\"40\" fill=\"#f8cecc\" stroke=\"#b85450\" pointer-events=\"all\"/><path d=\"M 167.5 160 L 167.5 120\" fill=\"none\" stroke=\"#000000\" stroke-miterlimit=\"10\" stroke-dasharray=\"3 3\" pointer-events=\"stroke\"/><path d=\"M 127.5 160 L 127.5 120\" fill=\"none\" stroke=\"#000000\" stroke-miterlimit=\"10\" stroke-dasharray=\"1 4\" pointer-events=\"stroke\"/><path d=\"M 288.5 160 L 288.5 120\" fill=\"none\" stroke=\"#000000\" stroke-miterlimit=\"10\" stroke-dasharray=\"1 4\" pointer-events=\"stroke\"/><path d=\"M 248 200 L 248 0\" fill=\"none\" stroke=\"#000000\" stroke-miterlimit=\"10\" pointer-events=\"stroke\"/><path d=\"M 328 200 L 328 160\" fill=\"none\" stroke=\"#000000\" stroke-miterlimit=\"10\" pointer-events=\"stroke\"/><path d=\"M 8 200 L 8 0\" fill=\"none\" stroke=\"#000000\" stroke-miterlimit=\"10\" pointer-events=\"stroke\"/><path d=\"M 14.37 20 L 241.63 20\" fill=\"none\" stroke=\"#000000\" stroke-miterlimit=\"10\" pointer-events=\"stroke\"/><path d=\"M 9.12 20 L 16.12 16.5 L 14.37 20 L 16.12 23.5 Z\" fill=\"#000000\" stroke=\"#000000\" stroke-miterlimit=\"10\" pointer-events=\"all\"/><path d=\"M 246.88 20 L 239.88 23.5 L 241.63 20 L 239.88 16.5 Z\" fill=\"#000000\" stroke=\"#000000\" stroke-miterlimit=\"10\" pointer-events=\"all\"/><g transform=\"translate(-0.5 -0.5)\"><switch><foreignObject style=\"overflow: visible; text-align: left;\" pointer-events=\"none\" width=\"100%\" height=\"100%\" requiredFeatures=\"http://www.w3.org/TR/SVG11/feature#Extensibility\"><div xmlns=\"http://www.w3.org/1999/xhtml\" style=\"display: flex; align-items: unsafe center; justify-content: unsafe center; width: 1px; height: 1px; padding-top: 23px; margin-left: 123px;\"><div style=\"box-sizing: border-box; font-size: 0; text-align: center; \"><div style=\"display: inline-block; font-size: 11px; font-family: Courier New; color: #000000; line-height: 1.2; pointer-events: all; background-color: #ffffff; white-space: nowrap; \"><font style=\"font-size: 18px\"><i>L</i><sub>0</sub></font></div></div></div></foreignObject><text x=\"123\" y=\"26\" fill=\"#000000\" font-family=\"Courier New\" font-size=\"11px\" text-anchor=\"middle\">L0</text></switch></g><path d=\"M 254.37 180 L 321.63 180\" fill=\"none\" stroke=\"#000000\" stroke-miterlimit=\"10\" pointer-events=\"stroke\"/><path d=\"M 249.12 180 L 256.12 176.5 L 254.37 180 L 256.12 183.5 Z\" fill=\"#000000\" stroke=\"#000000\" stroke-miterlimit=\"10\" pointer-events=\"all\"/><path d=\"M 326.88 180 L 319.88 183.5 L 321.63 180 L 319.88 176.5 Z\" fill=\"#000000\" stroke=\"#000000\" stroke-miterlimit=\"10\" pointer-events=\"all\"/><g transform=\"translate(-0.5 -0.5)\"><switch><foreignObject style=\"overflow: visible; text-align: left;\" pointer-events=\"none\" width=\"100%\" height=\"100%\" requiredFeatures=\"http://www.w3.org/TR/SVG11/feature#Extensibility\"><div xmlns=\"http://www.w3.org/1999/xhtml\" style=\"display: flex; align-items: unsafe center; justify-content: unsafe center; width: 1px; height: 1px; padding-top: 182px; margin-left: 289px;\"><div style=\"box-sizing: border-box; font-size: 0; text-align: center; \"><div style=\"display: inline-block; font-size: 11px; font-family: Courier New; color: #000000; line-height: 1.2; pointer-events: all; background-color: #ffffff; white-space: nowrap; \"><span style=\"font-size: 18px\">Δ</span><i style=\"font-size: 18px\">L</i></div></div></div></foreignObject><text x=\"289\" y=\"185\" fill=\"#000000\" font-family=\"Courier New\" font-size=\"11px\" text-anchor=\"middle\">ΔL</text></switch></g><rect x=\"28\" y=\"130\" width=\"80\" height=\"20\" fill=\"none\" stroke=\"none\" pointer-events=\"all\"/><g transform=\"translate(-0.5 -0.5)\"><switch><foreignObject style=\"overflow: visible; text-align: left;\" pointer-events=\"none\" width=\"100%\" height=\"100%\" requiredFeatures=\"http://www.w3.org/TR/SVG11/feature#Extensibility\"><div xmlns=\"http://www.w3.org/1999/xhtml\" style=\"display: flex; align-items: unsafe center; justify-content: unsafe center; width: 1px; height: 1px; padding-top: 140px; margin-left: 68px;\"><div style=\"box-sizing: border-box; font-size: 0; text-align: center; \"><div style=\"display: inline-block; font-size: 12px; font-family: Courier New; color: #000000; line-height: 1.2; pointer-events: all; white-space: nowrap; \"><font style=\"font-size: 18px\"><i>T </i>+ Δ<i>T</i></font></div></div></div></foreignObject><text x=\"68\" y=\"144\" fill=\"#000000\" font-family=\"Courier New\" font-size=\"12px\" text-anchor=\"middle\">T + ΔT</text></switch></g><rect x=\"53\" y=\"50\" width=\"30\" height=\"20\" fill=\"none\" stroke=\"none\" pointer-events=\"all\"/><g transform=\"translate(-0.5 -0.5)\"><switch><foreignObject style=\"overflow: visible; text-align: left;\" pointer-events=\"none\" width=\"100%\" height=\"100%\" requiredFeatures=\"http://www.w3.org/TR/SVG11/feature#Extensibility\"><div xmlns=\"http://www.w3.org/1999/xhtml\" style=\"display: flex; align-items: unsafe center; justify-content: unsafe center; width: 1px; height: 1px; padding-top: 60px; margin-left: 68px;\"><div style=\"box-sizing: border-box; font-size: 0; text-align: center; \"><div style=\"display: inline-block; font-size: 12px; font-family: Courier New; color: #000000; line-height: 1.2; pointer-events: all; white-space: nowrap; \"><font style=\"font-size: 18px\"><i>T</i></font></div></div></div></foreignObject><text x=\"68\" y=\"64\" fill=\"#000000\" font-family=\"Courier New\" font-size=\"12px\" text-anchor=\"middle\">T</text></switch></g></g><switch><g requiredFeatures=\"http://www.w3.org/TR/SVG11/feature#Extensibility\"/><a transform=\"translate(0,-5)\" xlink:href=\"https://desk.draw.io/support/solutions/articles/16000042487\" target=\"_blank\"><text text-anchor=\"middle\" font-size=\"10px\" x=\"50%\" y=\"100%\">Viewer does not support full SVG 1.1</text></a></switch></svg>"
      ],
      "execution_count": 0,
      "outputs": [
        {
          "output_type": "display_data",
          "data": {
            "text/plain": [
              "<IPython.core.display.SVG object>"
            ],
            "image/svg+xml": "<svg content=\"&lt;mxfile host=&quot;www.draw.io&quot; modified=&quot;2020-05-21T07:53:32.624Z&quot; agent=&quot;5.0 (Macintosh; Intel Mac OS X 10_10_5) AppleWebKit/537.36 (KHTML, like Gecko) Chrome/81.0.4044.138 Safari/537.36&quot; etag=&quot;hQj2vb1lmOSLw5F-xGeE&quot; version=&quot;13.1.3&quot; type=&quot;google&quot;&gt;&lt;diagram id=&quot;veNhKWrdR9zbm09gi63X&quot; name=&quot;Page-1&quot;&gt;7VlNc5swEP01HJ0BYWx8jB2nzTRtM01n2h5lEEZTGblCjnF/fQVIGAFOHILJR3NJrCexSPverqTFsGer5AOD6/Az9RExgOknhn1hAOA6lvibArscsExzkiNLhn2J7YFb/BepgRLdYB/F2kBOKeF4rYMejSLkcQ2DjNGtPiygRH/rGi5RDbj1IKmjP7DPQ7kuMN7jHxFehurN1kiubwXVYLmSOIQ+3ZYge27YM0Ypz3+tkhkiqfOUX/LnLg/0FhNjKOLHPHD19ebbVUAWnwZuMp6baJrEeCCt3EGykQuWk+U75QFGN5GPUiOmYU+3Iebodg29tHcrOBdYyFdEtCzxM8CEzCihLHvW9iFyA0/gMWf0Nyr1jDwXLQLRIyeAGEfJwZVZhb+E0BBdIc52YohSmfSw1FjR3u4JA0OJhSWyFAalRpaF5b0bxQ/pyUd4FTzsVRT556k8RSuikQCnPozDzM2W7lLhBLb7mbr/zFHNX5KNrHGRaK2dbOWvRH5N3xW3ioCCbIn4Qyqpu7/kX6fBvQpjiECO7/RpNPlcvuGGYjHBgl1g6vTaoEJbTDfMQ/KpcgBUDTkVnYwrhnI/1AxlEiiW3V4V9mljLXA95DXG2sJ1ho55klizR/VYKwjqJdaGrynWni2G7IlYUJm4odk2imqmCg30FEfOS2A8tXcDOUcsyiwBc/gKdGBNOtNB3VTfOhi966CtDgRVXemgbqpvHYzb6KBEfb5fqtO99RroA/ouPKzurkeTVzFU26ZPTJ3bOXVFHFvlKLY62r+POCvbzymModmRMGqGrH6FMfnvYtrtiLnqZbjniFY6OZI5j8A4xvmtBTJeh98Sp6C6MbZO0z3vsFZTmWhEeHoJpdlE9+yO/myo6hjEWT3vXAyw3HWy7xS/lvJ/ZgUr4FohYp64OireLBRklsaV4BKaT0zBVQUKyVzDBSK6wiDBy/QY5wn5IHF5nqZXZexBci47Vtj3UxtThsTS4CKzl24g69T1GRnO1HAu5Pov4QqTlLOZIBoLi8D8grb3XcRlGVNaNoriYVnS98TdwWv7wDwz9VOaKlK1lbgaQoMgRqdRHegxlRxB18vNM7XzYNsSWW3brxo6daJpqpHJ4F/D6AmJZjY3JsNy0sjM1bJQW/sH8tbbTzugWfcqyVgvPsk01Q9PsrV9N4DZrJJp2qMJtPzQ4f3woV1OsMx1pVX1Azec5gt5pBAbhFeqRsvzuF6IlqBe4m4n1+PL1Vb144Gq+ZcSs9uQmKt5r7NytdVUvTyV3t6l8xTpAP3ABCYNnzq6kY5o7r8D55lt/zXdnv8D&lt;/diagram&gt;&lt;/mxfile&gt;\" onclick=\"(function(svg){var src=window.event.target||window.event.srcElement;while (src!=null&amp;&amp;src.nodeName.toLowerCase()!='a'){src=src.parentNode;}if(src==null){if(svg.wnd!=null&amp;&amp;!svg.wnd.closed){svg.wnd.focus();}else{var r=function(evt){if(evt.data=='ready'&amp;&amp;evt.source==svg.wnd){svg.wnd.postMessage(decodeURIComponent(svg.getAttribute('content')),'*');window.removeEventListener('message',r);}};window.addEventListener('message',r);svg.wnd=window.open('https://www.draw.io/?client=1&amp;lightbox=1&amp;edit=_blank');}}})(this);\" style=\"cursor:pointer;max-width:100%;max-height:202px;\" version=\"1.1\" viewBox=\"-0.5 -0.5 338 202\" width=\"338px\" xmlns=\"http://www.w3.org/2000/svg\" xmlns:xlink=\"http://www.w3.org/1999/xlink\"><defs/><g><rect fill=\"#dae8fc\" height=\"40\" pointer-events=\"all\" stroke=\"#6c8ebf\" width=\"240\" x=\"8\" y=\"40\"/><path d=\"M 128 80 L 128 40\" fill=\"none\" pointer-events=\"stroke\" stroke=\"#000000\" stroke-dasharray=\"3 3\" stroke-miterlimit=\"10\"/><rect fill=\"#f8cecc\" height=\"40\" pointer-events=\"all\" stroke=\"#b85450\" width=\"320\" x=\"8\" y=\"120\"/><path d=\"M 167.5 160 L 167.5 120\" fill=\"none\" pointer-events=\"stroke\" stroke=\"#000000\" stroke-dasharray=\"3 3\" stroke-miterlimit=\"10\"/><path d=\"M 127.5 160 L 127.5 120\" fill=\"none\" pointer-events=\"stroke\" stroke=\"#000000\" stroke-dasharray=\"1 4\" stroke-miterlimit=\"10\"/><path d=\"M 288.5 160 L 288.5 120\" fill=\"none\" pointer-events=\"stroke\" stroke=\"#000000\" stroke-dasharray=\"1 4\" stroke-miterlimit=\"10\"/><path d=\"M 248 200 L 248 0\" fill=\"none\" pointer-events=\"stroke\" stroke=\"#000000\" stroke-miterlimit=\"10\"/><path d=\"M 328 200 L 328 160\" fill=\"none\" pointer-events=\"stroke\" stroke=\"#000000\" stroke-miterlimit=\"10\"/><path d=\"M 8 200 L 8 0\" fill=\"none\" pointer-events=\"stroke\" stroke=\"#000000\" stroke-miterlimit=\"10\"/><path d=\"M 14.37 20 L 241.63 20\" fill=\"none\" pointer-events=\"stroke\" stroke=\"#000000\" stroke-miterlimit=\"10\"/><path d=\"M 9.12 20 L 16.12 16.5 L 14.37 20 L 16.12 23.5 Z\" fill=\"#000000\" pointer-events=\"all\" stroke=\"#000000\" stroke-miterlimit=\"10\"/><path d=\"M 246.88 20 L 239.88 23.5 L 241.63 20 L 239.88 16.5 Z\" fill=\"#000000\" pointer-events=\"all\" stroke=\"#000000\" stroke-miterlimit=\"10\"/><g transform=\"translate(-0.5 -0.5)\"><switch><foreignObject height=\"100%\" pointer-events=\"none\" requiredFeatures=\"http://www.w3.org/TR/SVG11/feature#Extensibility\" style=\"overflow: visible; text-align: left;\" width=\"100%\"><div style=\"display: flex; align-items: unsafe center; justify-content: unsafe center; width: 1px; height: 1px; padding-top: 23px; margin-left: 123px;\" xmlns=\"http://www.w3.org/1999/xhtml\"><div style=\"box-sizing: border-box; font-size: 0; text-align: center; \"><div style=\"display: inline-block; font-size: 11px; font-family: Courier New; color: #000000; line-height: 1.2; pointer-events: all; background-color: #ffffff; white-space: nowrap; \"><font style=\"font-size: 18px\"><i>L</i><sub>0</sub></font></div></div></div></foreignObject><text fill=\"#000000\" font-family=\"Courier New\" font-size=\"11px\" text-anchor=\"middle\" x=\"123\" y=\"26\">L0</text></switch></g><path d=\"M 254.37 180 L 321.63 180\" fill=\"none\" pointer-events=\"stroke\" stroke=\"#000000\" stroke-miterlimit=\"10\"/><path d=\"M 249.12 180 L 256.12 176.5 L 254.37 180 L 256.12 183.5 Z\" fill=\"#000000\" pointer-events=\"all\" stroke=\"#000000\" stroke-miterlimit=\"10\"/><path d=\"M 326.88 180 L 319.88 183.5 L 321.63 180 L 319.88 176.5 Z\" fill=\"#000000\" pointer-events=\"all\" stroke=\"#000000\" stroke-miterlimit=\"10\"/><g transform=\"translate(-0.5 -0.5)\"><switch><foreignObject height=\"100%\" pointer-events=\"none\" requiredFeatures=\"http://www.w3.org/TR/SVG11/feature#Extensibility\" style=\"overflow: visible; text-align: left;\" width=\"100%\"><div style=\"display: flex; align-items: unsafe center; justify-content: unsafe center; width: 1px; height: 1px; padding-top: 182px; margin-left: 289px;\" xmlns=\"http://www.w3.org/1999/xhtml\"><div style=\"box-sizing: border-box; font-size: 0; text-align: center; \"><div style=\"display: inline-block; font-size: 11px; font-family: Courier New; color: #000000; line-height: 1.2; pointer-events: all; background-color: #ffffff; white-space: nowrap; \"><span style=\"font-size: 18px\">Δ</span><i style=\"font-size: 18px\">L</i></div></div></div></foreignObject><text fill=\"#000000\" font-family=\"Courier New\" font-size=\"11px\" text-anchor=\"middle\" x=\"289\" y=\"185\">ΔL</text></switch></g><rect fill=\"none\" height=\"20\" pointer-events=\"all\" stroke=\"none\" width=\"80\" x=\"28\" y=\"130\"/><g transform=\"translate(-0.5 -0.5)\"><switch><foreignObject height=\"100%\" pointer-events=\"none\" requiredFeatures=\"http://www.w3.org/TR/SVG11/feature#Extensibility\" style=\"overflow: visible; text-align: left;\" width=\"100%\"><div style=\"display: flex; align-items: unsafe center; justify-content: unsafe center; width: 1px; height: 1px; padding-top: 140px; margin-left: 68px;\" xmlns=\"http://www.w3.org/1999/xhtml\"><div style=\"box-sizing: border-box; font-size: 0; text-align: center; \"><div style=\"display: inline-block; font-size: 12px; font-family: Courier New; color: #000000; line-height: 1.2; pointer-events: all; white-space: nowrap; \"><font style=\"font-size: 18px\"><i>T </i>+ Δ<i>T</i></font></div></div></div></foreignObject><text fill=\"#000000\" font-family=\"Courier New\" font-size=\"12px\" text-anchor=\"middle\" x=\"68\" y=\"144\">T + ΔT</text></switch></g><rect fill=\"none\" height=\"20\" pointer-events=\"all\" stroke=\"none\" width=\"30\" x=\"53\" y=\"50\"/><g transform=\"translate(-0.5 -0.5)\"><switch><foreignObject height=\"100%\" pointer-events=\"none\" requiredFeatures=\"http://www.w3.org/TR/SVG11/feature#Extensibility\" style=\"overflow: visible; text-align: left;\" width=\"100%\"><div style=\"display: flex; align-items: unsafe center; justify-content: unsafe center; width: 1px; height: 1px; padding-top: 60px; margin-left: 68px;\" xmlns=\"http://www.w3.org/1999/xhtml\"><div style=\"box-sizing: border-box; font-size: 0; text-align: center; \"><div style=\"display: inline-block; font-size: 12px; font-family: Courier New; color: #000000; line-height: 1.2; pointer-events: all; white-space: nowrap; \"><font style=\"font-size: 18px\"><i>T</i></font></div></div></div></foreignObject><text fill=\"#000000\" font-family=\"Courier New\" font-size=\"12px\" text-anchor=\"middle\" x=\"68\" y=\"64\">T</text></switch></g></g><switch><g requiredFeatures=\"http://www.w3.org/TR/SVG11/feature#Extensibility\"/><a target=\"_blank\" transform=\"translate(0,-5)\" xlink:href=\"https://desk.draw.io/support/solutions/articles/16000042487\"><text font-size=\"10px\" text-anchor=\"middle\" x=\"50%\" y=\"100%\">Viewer does not support full SVG 1.1</text></a></switch></svg>"
          },
          "metadata": {
            "tags": []
          }
        }
      ]
    },
    {
      "cell_type": "markdown",
      "metadata": {
        "id": "f8l9B4ZgOmlv",
        "colab_type": "text"
      },
      "source": [
        "この図を見ながら式を立てると($\\propto$は比例を表します)\n",
        "\\begin{align*}\n",
        "\\Delta L &\\propto L_0&\\\\\n",
        "\\Delta L &\\propto \\Delta T&\\\\\n",
        "\\Delta L &\\propto L_0\\cdot\\Delta T&\\\\\n",
        "\\Delta L &= \\alpha \\cdot L_0\\cdot\\Delta T&\n",
        "\\end{align*}\n",
        "> $(3.3) \\quad \\Delta L = \\alpha \\cdot L_0\\cdot\\Delta T$\n",
        "\n",
        "$\\alpha$ を **線膨張率** という. 単位は $\\alpha = \\frac{\\Delta L}{L_0 \\Delta T}$ より ${\\rm K^{-1}}$ です.   \n",
        "温度差 $\\Delta T$ に依存するので ${\\rm {}^\\circ C^{-1}}$ とも表記できます."
      ]
    },
    {
      "cell_type": "markdown",
      "metadata": {
        "id": "eykSHrWIRHCd",
        "colab_type": "text"
      },
      "source": [
        "### 体膨張率 $\\beta$\n",
        "\n",
        "**三**次元の立方体を考慮することで線膨張率と同様の議論が可能で\n",
        "\n",
        "> $(3.5) \\qquad \\Delta V = \\beta\\cdot V_0 \\cdot \\Delta T$\n",
        "\n",
        "ここで $V_0$ は元の体積, $\\Delta V$ は体積の増加分です. また\n",
        ">> $\\quad \\beta = 3 \\alpha$\n",
        "\n",
        "となります."
      ]
    }
  ]
}