{
  "nbformat": 4,
  "nbformat_minor": 0,
  "metadata": {
    "colab": {
      "name": "3210_理想気体の状態方程式_物理2.ipynb",
      "provenance": [],
      "authorship_tag": "ABX9TyNSSvOqQOucpyJ+Gwlv3wpe",
      "include_colab_link": true
    },
    "kernelspec": {
      "name": "python3",
      "display_name": "Python 3"
    }
  },
  "cells": [
    {
      "cell_type": "markdown",
      "metadata": {
        "id": "view-in-github",
        "colab_type": "text"
      },
      "source": [
        "<a href=\"https://colab.research.google.com/github/kzhkAKT/Physics2/blob/master/3210_%E7%90%86%E6%83%B3%E6%B0%97%E4%BD%93%E3%81%AE%E7%8A%B6%E6%85%8B%E6%96%B9%E7%A8%8B%E5%BC%8F_%E7%89%A9%E7%90%862.ipynb\" target=\"_parent\"><img src=\"https://colab.research.google.com/assets/colab-badge.svg\" alt=\"Open In Colab\"/></a>"
      ]
    },
    {
      "cell_type": "markdown",
      "metadata": {
        "id": "eh5PdTAmhzYt",
        "colab_type": "text"
      },
      "source": [
        "# 気体分子の運動\n",
        "\n",
        "理想気体を考えるときには, 絶対零度で体積ゼロを仮定した **絶対温度** を利用します. \n",
        "\n",
        "---\n",
        "\n",
        "絶対零度:絶対温度についてはの着想は17世紀からありました.  \n",
        "[参考サイト: R.Boyle, New experiments and observations touching cold](https://quod.lib.umich.edu/e/eebo/A29001.0001.001/1:10.17?rgn=div2;submit=Go;subview=detail;type=simple;view=fulltext;q1=its+own+nature+supremely+cold)"
      ]
    },
    {
      "cell_type": "code",
      "metadata": {
        "id": "MIUS4hMOjBcJ",
        "colab_type": "code",
        "cellView": "form",
        "outputId": "87a2b859-5abe-4199-d826-b22bcaa43118",
        "colab": {
          "base_uri": "https://localhost:8080/",
          "height": 336
        }
      },
      "source": [
        "#@title 気体の簡単な実験\n",
        "%%html\n",
        "<iframe width=\"560\" height=\"315\" src=\"https://www.youtube-nocookie.com/embed/ZPErStqSSMk\" frameborder=\"0\" allow=\"accelerometer; autoplay; encrypted-media; gyroscope; picture-in-picture\" allowfullscreen></iframe>"
      ],
      "execution_count": 0,
      "outputs": [
        {
          "output_type": "display_data",
          "data": {
            "text/html": [
              "<iframe width=\"560\" height=\"315\" src=\"https://www.youtube-nocookie.com/embed/ZPErStqSSMk\" frameborder=\"0\" allow=\"accelerometer; autoplay; encrypted-media; gyroscope; picture-in-picture\" allowfullscreen></iframe>"
            ],
            "text/plain": [
              "<IPython.core.display.HTML object>"
            ]
          },
          "metadata": {
            "tags": []
          }
        }
      ]
    },
    {
      "cell_type": "markdown",
      "metadata": {
        "id": "8zvUoELvLbqr",
        "colab_type": "text"
      },
      "source": [
        "この実験のように気体は大変扱いやすかったため,   \n",
        "*複雑な要素を取り除いた* **理想気体** として扱い,   \n",
        "中世から様々な関係式が取りまとめられました.\n",
        "\n",
        "現在の視点では, 複雑な要素として\n",
        "1. 気体分子の大きさ\n",
        "2. 気体分子同士の影響力(**分子間力**/相互作用) \n",
        "\n",
        "を無視していると考えることができます. つまり\n",
        ">> 気体分子を質点として扱い, 相互作用を無視したものが理想気体\n",
        "\n",
        "です.\n"
      ]
    },
    {
      "cell_type": "markdown",
      "metadata": {
        "id": "UXjLjBlXh6RC",
        "colab_type": "text"
      },
      "source": [
        "## 理想気体の状態方程式"
      ]
    },
    {
      "cell_type": "markdown",
      "metadata": {
        "id": "YsjkCwdVF3Tk",
        "colab_type": "text"
      },
      "source": [
        "### \b一定温度での 圧力(P) と 体積 (V) の関係: Boyle 1679yr\n",
        "\n",
        "一定温度(T)のことを **等温**  といい, \n",
        "$T_{\\rm 後}-T_{\\rm 初}=0$ から\n",
        "$\\Delta T0$ と表します."
      ]
    },
    {
      "cell_type": "code",
      "metadata": {
        "id": "L8ArvFjDj49M",
        "colab_type": "code",
        "cellView": "form",
        "outputId": "7607a3b4-24f3-45e0-b1d1-84c04ac2bed7",
        "colab": {
          "base_uri": "https://localhost:8080/",
          "height": 336
        }
      },
      "source": [
        "#@title Boyle's law: p V= constant / p is proportional to  1/V\n",
        "%%html\n",
        "<iframe width=\"560\" height=\"315\" src=\"https://www.youtube-nocookie.com/embed/N5xft2fIqQU\" frameborder=\"0\" allow=\"accelerometer; autoplay; encrypted-media; gyroscope; picture-in-picture\" allowfullscreen></iframe>"
      ],
      "execution_count": 1,
      "outputs": [
        {
          "output_type": "display_data",
          "data": {
            "text/html": [
              "<iframe width=\"560\" height=\"315\" src=\"https://www.youtube-nocookie.com/embed/N5xft2fIqQU\" frameborder=\"0\" allow=\"accelerometer; autoplay; encrypted-media; gyroscope; picture-in-picture\" allowfullscreen></iframe>"
            ],
            "text/plain": [
              "<IPython.core.display.HTML object>"
            ]
          },
          "metadata": {
            "tags": []
          }
        }
      ]
    },
    {
      "cell_type": "code",
      "metadata": {
        "id": "zYZtb2GDGf2W",
        "colab_type": "code",
        "cellView": "form",
        "outputId": "b55f1588-f109-4660-a16d-9cfacff2825f",
        "colab": {
          "base_uri": "https://localhost:8080/",
          "height": 398
        }
      },
      "source": [
        "#@title A graph of Boyle's original data\n",
        "%%svg\n",
        "https://upload.wikimedia.org/wikipedia/commons/e/ea/Boyles_Law.svg"
      ],
      "execution_count": 0,
      "outputs": [
        {
          "output_type": "display_data",
          "data": {
            "text/plain": [
              "<IPython.core.display.SVG object>"
            ],
            "image/svg+xml": "<svg height=\"283pt\" id=\"svg1\" version=\"1.1\" viewBox=\"0 0 290 283\" width=\"290pt\" xmlns=\"http://www.w3.org/2000/svg\" xmlns:xlink=\"http://www.w3.org/1999/xlink\">\n<filter id=\"colorAdd\"><feComposite in=\"SourceGraphic\" in2=\"BackgroundImage\" k2=\"1\" k3=\"1\" operator=\"arithmetic\"/></filter>\n<g id=\"figure1\">\n<g id=\"patch1\">\n<path d=\"M0.000000 283.914062L290.315625 283.914062L290.315625 0.000000 L0.000000 0.000000z\" style=\"fill: #ffffff; stroke: #ffffff; stroke-width: 1.000000; stroke-linejoin: round; stroke-linecap: square;  opacity: 1.000000\"/>\n</g>\n<g id=\"axes1\">\n<g id=\"patch2\">\n<path d=\"M49.534375 245.739062L272.734375 245.739062L272.734375 15.339063 L49.534375 15.339063z\" style=\"fill: #ffffff; opacity: 1.000000\"/>\n</g>\n<g id=\"line2d1\">\n<defs>\n  <clipPath id=\"p31357e1f28b93beffcc591b280283ca9\">\n<rect height=\"230.400000\" width=\"223.200000\" x=\"49.534375\" y=\"15.339063\"/>\n  </clipPath>\n</defs><path clip-path=\"url(#p31357e1f28b93beffcc591b280283ca9)\" d=\"M60.694375 20.955062L66.274375 43.419062L71.854375 60.411062 L77.434375 77.403062L83.014375 89.355062L88.594375 101.163062 L94.174375 112.395062L99.754375 121.035062L105.334375 128.955062 L110.914375 137.307062L116.494375 144.219062L122.074375 150.555062 L127.654375 156.315062L138.814375 166.683062L149.974375 175.899062 L161.134375 183.387062L172.294375 190.011062L183.454375 195.915062 L194.614375 201.243062L205.774375 206.571062L216.934375 210.459062 L228.094375 214.635062L239.254375 218.235062L250.414375 221.403062 L261.574375 224.715062\" style=\"fill: none; stroke: #0000ff; stroke-width: 1.000000; stroke-linejoin: round; stroke-linecap: square;  opacity: 1.000000\"/>\n</g>\n<g id=\"line2d2\">\n<defs><path d=\"M0.000000 3.000000C0.795609 3.000000 1.558740 2.683901 2.121320 2.121320 C2.683901 1.558740 3.000000 0.795609 3.000000 0.000000 C3.000000 -0.795609 2.683901 -1.558740 2.121320 -2.121320 C1.558740 -2.683901 0.795609 -3.000000 0.000000 -3.000000 C-0.795609 -3.000000 -1.558740 -2.683901 -2.121320 -2.121320 C-2.683901 -1.558740 -3.000000 -0.795609 -3.000000 0.000000 C-3.000000 0.795609 -2.683901 1.558740 -2.121320 2.121320 C-1.558740 2.683901 -0.795609 3.000000 0.000000 3.000000z\" id=\"m87f81da4bcf58d853202912065521dc1\"/></defs>\n<g clip-path=\"url(#p31357e1f28b93beffcc591b280283ca9)\"><use style=\"fill: #ff0000; stroke: #000000; stroke-width: 0.500000; stroke-linejoin: round; stroke-linecap: butt;  opacity: 1.000000\" x=\"60.694375\" xlink:href=\"#m87f81da4bcf58d853202912065521dc1\" y=\"20.955062\"/>\n<use style=\"fill: #ff0000; stroke: #000000; stroke-width: 0.500000; stroke-linejoin: round; stroke-linecap: butt;  opacity: 1.000000\" x=\"66.274375\" xlink:href=\"#m87f81da4bcf58d853202912065521dc1\" y=\"43.419062\"/>\n<use style=\"fill: #ff0000; stroke: #000000; stroke-width: 0.500000; stroke-linejoin: round; stroke-linecap: butt;  opacity: 1.000000\" x=\"71.854375\" xlink:href=\"#m87f81da4bcf58d853202912065521dc1\" y=\"60.411062\"/>\n<use style=\"fill: #ff0000; stroke: #000000; stroke-width: 0.500000; stroke-linejoin: round; stroke-linecap: butt;  opacity: 1.000000\" x=\"77.434375\" xlink:href=\"#m87f81da4bcf58d853202912065521dc1\" y=\"77.403062\"/>\n<use style=\"fill: #ff0000; stroke: #000000; stroke-width: 0.500000; stroke-linejoin: round; stroke-linecap: butt;  opacity: 1.000000\" x=\"83.014375\" xlink:href=\"#m87f81da4bcf58d853202912065521dc1\" y=\"89.355062\"/>\n<use style=\"fill: #ff0000; stroke: #000000; stroke-width: 0.500000; stroke-linejoin: round; stroke-linecap: butt;  opacity: 1.000000\" x=\"88.594375\" xlink:href=\"#m87f81da4bcf58d853202912065521dc1\" y=\"101.163062\"/>\n<use style=\"fill: #ff0000; stroke: #000000; stroke-width: 0.500000; stroke-linejoin: round; stroke-linecap: butt;  opacity: 1.000000\" x=\"94.174375\" xlink:href=\"#m87f81da4bcf58d853202912065521dc1\" y=\"112.395062\"/>\n<use style=\"fill: #ff0000; stroke: #000000; stroke-width: 0.500000; stroke-linejoin: round; stroke-linecap: butt;  opacity: 1.000000\" x=\"99.754375\" xlink:href=\"#m87f81da4bcf58d853202912065521dc1\" y=\"121.035062\"/>\n<use style=\"fill: #ff0000; stroke: #000000; stroke-width: 0.500000; stroke-linejoin: round; stroke-linecap: butt;  opacity: 1.000000\" x=\"105.334375\" xlink:href=\"#m87f81da4bcf58d853202912065521dc1\" y=\"128.955062\"/>\n<use style=\"fill: #ff0000; stroke: #000000; stroke-width: 0.500000; stroke-linejoin: round; stroke-linecap: butt;  opacity: 1.000000\" x=\"110.914375\" xlink:href=\"#m87f81da4bcf58d853202912065521dc1\" y=\"137.307062\"/>\n<use style=\"fill: #ff0000; stroke: #000000; stroke-width: 0.500000; stroke-linejoin: round; stroke-linecap: butt;  opacity: 1.000000\" x=\"116.494375\" xlink:href=\"#m87f81da4bcf58d853202912065521dc1\" y=\"144.219062\"/>\n<use style=\"fill: #ff0000; stroke: #000000; stroke-width: 0.500000; stroke-linejoin: round; stroke-linecap: butt;  opacity: 1.000000\" x=\"122.074375\" xlink:href=\"#m87f81da4bcf58d853202912065521dc1\" y=\"150.555062\"/>\n<use style=\"fill: #ff0000; stroke: #000000; stroke-width: 0.500000; stroke-linejoin: round; stroke-linecap: butt;  opacity: 1.000000\" x=\"127.654375\" xlink:href=\"#m87f81da4bcf58d853202912065521dc1\" y=\"156.315062\"/>\n<use style=\"fill: #ff0000; stroke: #000000; stroke-width: 0.500000; stroke-linejoin: round; stroke-linecap: butt;  opacity: 1.000000\" x=\"138.814375\" xlink:href=\"#m87f81da4bcf58d853202912065521dc1\" y=\"166.683062\"/>\n<use style=\"fill: #ff0000; stroke: #000000; stroke-width: 0.500000; stroke-linejoin: round; stroke-linecap: butt;  opacity: 1.000000\" x=\"149.974375\" xlink:href=\"#m87f81da4bcf58d853202912065521dc1\" y=\"175.899062\"/>\n<use style=\"fill: #ff0000; stroke: #000000; stroke-width: 0.500000; stroke-linejoin: round; stroke-linecap: butt;  opacity: 1.000000\" x=\"161.134375\" xlink:href=\"#m87f81da4bcf58d853202912065521dc1\" y=\"183.387062\"/>\n<use style=\"fill: #ff0000; stroke: #000000; stroke-width: 0.500000; stroke-linejoin: round; stroke-linecap: butt;  opacity: 1.000000\" x=\"172.294375\" xlink:href=\"#m87f81da4bcf58d853202912065521dc1\" y=\"190.011062\"/>\n<use style=\"fill: #ff0000; stroke: #000000; stroke-width: 0.500000; stroke-linejoin: round; stroke-linecap: butt;  opacity: 1.000000\" x=\"183.454375\" xlink:href=\"#m87f81da4bcf58d853202912065521dc1\" y=\"195.915062\"/>\n<use style=\"fill: #ff0000; stroke: #000000; stroke-width: 0.500000; stroke-linejoin: round; stroke-linecap: butt;  opacity: 1.000000\" x=\"194.614375\" xlink:href=\"#m87f81da4bcf58d853202912065521dc1\" y=\"201.243062\"/>\n<use style=\"fill: #ff0000; stroke: #000000; stroke-width: 0.500000; stroke-linejoin: round; stroke-linecap: butt;  opacity: 1.000000\" x=\"205.774375\" xlink:href=\"#m87f81da4bcf58d853202912065521dc1\" y=\"206.571062\"/>\n<use style=\"fill: #ff0000; stroke: #000000; stroke-width: 0.500000; stroke-linejoin: round; stroke-linecap: butt;  opacity: 1.000000\" x=\"216.934375\" xlink:href=\"#m87f81da4bcf58d853202912065521dc1\" y=\"210.459062\"/>\n<use style=\"fill: #ff0000; stroke: #000000; stroke-width: 0.500000; stroke-linejoin: round; stroke-linecap: butt;  opacity: 1.000000\" x=\"228.094375\" xlink:href=\"#m87f81da4bcf58d853202912065521dc1\" y=\"214.635062\"/>\n<use style=\"fill: #ff0000; stroke: #000000; stroke-width: 0.500000; stroke-linejoin: round; stroke-linecap: butt;  opacity: 1.000000\" x=\"239.254375\" xlink:href=\"#m87f81da4bcf58d853202912065521dc1\" y=\"218.235062\"/>\n<use style=\"fill: #ff0000; stroke: #000000; stroke-width: 0.500000; stroke-linejoin: round; stroke-linecap: butt;  opacity: 1.000000\" x=\"250.414375\" xlink:href=\"#m87f81da4bcf58d853202912065521dc1\" y=\"221.403062\"/>\n<use style=\"fill: #ff0000; stroke: #000000; stroke-width: 0.500000; stroke-linejoin: round; stroke-linecap: butt;  opacity: 1.000000\" x=\"261.574375\" xlink:href=\"#m87f81da4bcf58d853202912065521dc1\" y=\"224.715062\"/>\n</g></g>\n<g id=\"matplotlib.axis1\">\n<g id=\"xtick1\">\n<g id=\"line2d3\">\n<path clip-path=\"url(#p31357e1f28b93beffcc591b280283ca9)\" d=\"M49.534375 245.739062L49.534375 15.339063\" style=\"fill: none; stroke: #000000; stroke-width: 0.500000; stroke-linejoin: round; stroke-linecap: butt; stroke-dasharray: 1.000000,3.000000; stroke-dashoffset: 0.000000; opacity: 1.000000\"/>\n</g>\n<g id=\"line2d4\">\n<defs><path d=\"M0.000000 0.000000L0.000000 -4.000000\" id=\"m30e32995789d870ad79a2e54c91cf9c6\"/></defs>\n<g><use style=\"fill: none; stroke: #000000; stroke-width: 0.500000; stroke-linejoin: round; stroke-linecap: butt;  opacity: 1.000000\" x=\"49.534375\" xlink:href=\"#m30e32995789d870ad79a2e54c91cf9c6\" y=\"245.739062\"/>\n</g></g>\n<g id=\"line2d5\">\n<defs><path d=\"M0.000000 0.000000L0.000000 4.000000\" id=\"m9281cae24120827b11d5ea8a7ad3e96b\"/></defs>\n<g><use style=\"fill: none; stroke: #000000; stroke-width: 0.500000; stroke-linejoin: round; stroke-linecap: butt;  opacity: 1.000000\" x=\"49.534375\" xlink:href=\"#m9281cae24120827b11d5ea8a7ad3e96b\" y=\"15.339063\"/>\n</g></g>\n<g id=\"text1\">\n<defs>\n<path d=\"M12.406250 -8.296875l16.109375 0.000000l0.000000 -55.625000l-17.531250 3.515625l0.000000 -8.984375l17.437500 -3.515625l9.859375 0.000000l0.000000 64.609375l16.109375 0.000000l0.000000 8.296875l-41.984375 0.000000z\" id=\"c_42baa63129a918535c52adb20d687ea7\"/>\n<path d=\"M31.781250 -66.406250q-7.609375 0.000000 -11.453125 7.500000q-3.828125 7.484375 -3.828125 22.531250q0.000000 14.984375 3.828125 22.484375q3.843750 7.500000 11.453125 7.500000q7.671875 0.000000 11.500000 -7.500000q3.843750 -7.500000 3.843750 -22.484375q0.000000 -15.046875 -3.843750 -22.531250q-3.828125 -7.500000 -11.500000 -7.500000M31.781250 -74.218750q12.265625 0.000000 18.734375 9.703125q6.468750 9.687500 6.468750 28.140625q0.000000 18.406250 -6.468750 28.109375q-6.468750 9.687500 -18.734375 9.687500q-12.250000 0.000000 -18.718750 -9.687500q-6.468750 -9.703125 -6.468750 -28.109375q0.000000 -18.453125 6.468750 -28.140625q6.468750 -9.703125 18.718750 -9.703125\" id=\"c_7a2040fe3b94fcd41d0a72c84e93b115\"/>\n</defs>\n<g style=\"fill: #000000; opacity: 1.000000\" transform=\"translate(42.948438,258.645312)scale(0.120000)\">\n<use xlink:href=\"#c_42baa63129a918535c52adb20d687ea7\"/>\n<use x=\"63.623047\" xlink:href=\"#c_7a2040fe3b94fcd41d0a72c84e93b115\"/>\n</g>\n</g>\n</g>\n<g id=\"xtick2\">\n<g id=\"line2d6\">\n<path clip-path=\"url(#p31357e1f28b93beffcc591b280283ca9)\" d=\"M77.434375 245.739062L77.434375 15.339063\" style=\"fill: none; stroke: #000000; stroke-width: 0.500000; stroke-linejoin: round; stroke-linecap: butt; stroke-dasharray: 1.000000,3.000000; stroke-dashoffset: 0.000000; opacity: 1.000000\"/>\n</g>\n<g id=\"line2d7\">\n<g><use style=\"fill: none; stroke: #000000; stroke-width: 0.500000; stroke-linejoin: round; stroke-linecap: butt;  opacity: 1.000000\" x=\"77.434375\" xlink:href=\"#m30e32995789d870ad79a2e54c91cf9c6\" y=\"245.739062\"/>\n</g></g>\n<g id=\"line2d8\">\n<g><use style=\"fill: none; stroke: #000000; stroke-width: 0.500000; stroke-linejoin: round; stroke-linecap: butt;  opacity: 1.000000\" x=\"77.434375\" xlink:href=\"#m9281cae24120827b11d5ea8a7ad3e96b\" y=\"15.339063\"/>\n</g></g>\n<g id=\"text2\">\n<defs>\n<path d=\"M10.796875 -72.906250l38.718750 0.000000l0.000000 8.312500l-29.687500 0.000000l0.000000 17.859375q2.140625 -0.734375 4.281250 -1.093750q2.156250 -0.359375 4.312500 -0.359375q12.203125 0.000000 19.328125 6.687500q7.140625 6.687500 7.140625 18.109375q0.000000 11.765625 -7.328125 18.296875q-7.328125 6.515625 -20.656250 6.515625q-4.593750 0.000000 -9.359375 -0.781250q-4.750000 -0.781250 -9.828125 -2.343750l0.000000 -9.921875q4.390625 2.390625 9.078125 3.562500q4.687500 1.171875 9.906250 1.171875q8.453125 0.000000 13.375000 -4.437500q4.937500 -4.437500 4.937500 -12.062500q0.000000 -7.609375 -4.937500 -12.046875q-4.921875 -4.453125 -13.375000 -4.453125q-3.953125 0.000000 -7.890625 0.875000q-3.921875 0.875000 -8.015625 2.734375z\" id=\"c_1260a2df50f305f3db244e29828f968e\"/>\n</defs>\n<g style=\"fill: #000000; opacity: 1.000000\" transform=\"translate(70.973438,258.489062)scale(0.120000)\">\n<use xlink:href=\"#c_42baa63129a918535c52adb20d687ea7\"/>\n<use x=\"63.623047\" xlink:href=\"#c_1260a2df50f305f3db244e29828f968e\"/>\n</g>\n</g>\n</g>\n<g id=\"xtick3\">\n<g id=\"line2d9\">\n<path clip-path=\"url(#p31357e1f28b93beffcc591b280283ca9)\" d=\"M105.334375 245.739062L105.334375 15.339063\" style=\"fill: none; stroke: #000000; stroke-width: 0.500000; stroke-linejoin: round; stroke-linecap: butt; stroke-dasharray: 1.000000,3.000000; stroke-dashoffset: 0.000000; opacity: 1.000000\"/>\n</g>\n<g id=\"line2d10\">\n<g><use style=\"fill: none; stroke: #000000; stroke-width: 0.500000; stroke-linejoin: round; stroke-linecap: butt;  opacity: 1.000000\" x=\"105.334375\" xlink:href=\"#m30e32995789d870ad79a2e54c91cf9c6\" y=\"245.739062\"/>\n</g></g>\n<g id=\"line2d11\">\n<g><use style=\"fill: none; stroke: #000000; stroke-width: 0.500000; stroke-linejoin: round; stroke-linecap: butt;  opacity: 1.000000\" x=\"105.334375\" xlink:href=\"#m9281cae24120827b11d5ea8a7ad3e96b\" y=\"15.339063\"/>\n</g></g>\n<g id=\"text3\">\n<defs>\n<path d=\"M19.187500 -8.296875l34.421875 0.000000l0.000000 8.296875l-46.281250 0.000000l0.000000 -8.296875q5.609375 -5.812500 15.296875 -15.593750q9.703125 -9.796875 12.187500 -12.640625q4.734375 -5.312500 6.609375 -9.000000q1.890625 -3.687500 1.890625 -7.250000q0.000000 -5.812500 -4.078125 -9.468750q-4.078125 -3.671875 -10.625000 -3.671875q-4.640625 0.000000 -9.796875 1.609375q-5.140625 1.609375 -11.000000 4.890625l0.000000 -9.968750q5.953125 -2.390625 11.125000 -3.609375q5.187500 -1.218750 9.484375 -1.218750q11.328125 0.000000 18.062500 5.671875q6.734375 5.656250 6.734375 15.125000q0.000000 4.500000 -1.687500 8.531250q-1.671875 4.015625 -6.125000 9.484375q-1.218750 1.421875 -7.765625 8.187500q-6.531250 6.765625 -18.453125 18.921875\" id=\"c_ed3f3ed3ebfbd18bcb9c012009a68ad1\"/>\n</defs>\n<g style=\"fill: #000000; opacity: 1.000000\" transform=\"translate(98.529687,258.645312)scale(0.120000)\">\n<use xlink:href=\"#c_ed3f3ed3ebfbd18bcb9c012009a68ad1\"/>\n<use x=\"63.623047\" xlink:href=\"#c_7a2040fe3b94fcd41d0a72c84e93b115\"/>\n</g>\n</g>\n</g>\n<g id=\"xtick4\">\n<g id=\"line2d12\">\n<path clip-path=\"url(#p31357e1f28b93beffcc591b280283ca9)\" d=\"M133.234375 245.739062L133.234375 15.339063\" style=\"fill: none; stroke: #000000; stroke-width: 0.500000; stroke-linejoin: round; stroke-linecap: butt; stroke-dasharray: 1.000000,3.000000; stroke-dashoffset: 0.000000; opacity: 1.000000\"/>\n</g>\n<g id=\"line2d13\">\n<g><use style=\"fill: none; stroke: #000000; stroke-width: 0.500000; stroke-linejoin: round; stroke-linecap: butt;  opacity: 1.000000\" x=\"133.234375\" xlink:href=\"#m30e32995789d870ad79a2e54c91cf9c6\" y=\"245.739062\"/>\n</g></g>\n<g id=\"line2d14\">\n<g><use style=\"fill: none; stroke: #000000; stroke-width: 0.500000; stroke-linejoin: round; stroke-linecap: butt;  opacity: 1.000000\" x=\"133.234375\" xlink:href=\"#m9281cae24120827b11d5ea8a7ad3e96b\" y=\"15.339063\"/>\n</g></g>\n<g id=\"text4\">\n<g style=\"fill: #000000; opacity: 1.000000\" transform=\"translate(126.554688,258.645312)scale(0.120000)\">\n<use xlink:href=\"#c_ed3f3ed3ebfbd18bcb9c012009a68ad1\"/>\n<use x=\"63.623047\" xlink:href=\"#c_1260a2df50f305f3db244e29828f968e\"/>\n</g>\n</g>\n</g>\n<g id=\"xtick5\">\n<g id=\"line2d15\">\n<path clip-path=\"url(#p31357e1f28b93beffcc591b280283ca9)\" d=\"M161.134375 245.739062L161.134375 15.339063\" style=\"fill: none; stroke: #000000; stroke-width: 0.500000; stroke-linejoin: round; stroke-linecap: butt; stroke-dasharray: 1.000000,3.000000; stroke-dashoffset: 0.000000; opacity: 1.000000\"/>\n</g>\n<g id=\"line2d16\">\n<g><use style=\"fill: none; stroke: #000000; stroke-width: 0.500000; stroke-linejoin: round; stroke-linecap: butt;  opacity: 1.000000\" x=\"161.134375\" xlink:href=\"#m30e32995789d870ad79a2e54c91cf9c6\" y=\"245.739062\"/>\n</g></g>\n<g id=\"line2d17\">\n<g><use style=\"fill: none; stroke: #000000; stroke-width: 0.500000; stroke-linejoin: round; stroke-linecap: butt;  opacity: 1.000000\" x=\"161.134375\" xlink:href=\"#m9281cae24120827b11d5ea8a7ad3e96b\" y=\"15.339063\"/>\n</g></g>\n<g id=\"text5\">\n<defs>\n<path d=\"M40.578125 -39.312500q7.078125 1.515625 11.046875 6.312500q3.984375 4.781250 3.984375 11.812500q0.000000 10.781250 -7.421875 16.703125q-7.421875 5.906250 -21.093750 5.906250q-4.578125 0.000000 -9.437500 -0.906250q-4.859375 -0.906250 -10.031250 -2.718750l0.000000 -9.515625q4.093750 2.390625 8.968750 3.609375q4.890625 1.218750 10.218750 1.218750q9.265625 0.000000 14.125000 -3.656250q4.859375 -3.656250 4.859375 -10.640625q0.000000 -6.453125 -4.515625 -10.078125q-4.515625 -3.640625 -12.562500 -3.640625l-8.500000 0.000000l0.000000 -8.109375l8.890625 0.000000q7.265625 0.000000 11.125000 -2.906250q3.859375 -2.906250 3.859375 -8.375000q0.000000 -5.609375 -3.984375 -8.609375q-3.968750 -3.015625 -11.390625 -3.015625q-4.062500 0.000000 -8.703125 0.890625q-4.640625 0.875000 -10.203125 2.718750l0.000000 -8.781250q5.625000 -1.562500 10.531250 -2.343750q4.906250 -0.781250 9.250000 -0.781250q11.234375 0.000000 17.765625 5.109375q6.546875 5.093750 6.546875 13.781250q0.000000 6.062500 -3.468750 10.234375q-3.468750 4.171875 -9.859375 5.781250\" id=\"c_3dcfa38a02242cb63ec6726c6e70be7a\"/>\n</defs>\n<g style=\"fill: #000000; opacity: 1.000000\" transform=\"translate(154.353125,258.645312)scale(0.120000)\">\n<use xlink:href=\"#c_3dcfa38a02242cb63ec6726c6e70be7a\"/>\n<use x=\"63.623047\" xlink:href=\"#c_7a2040fe3b94fcd41d0a72c84e93b115\"/>\n</g>\n</g>\n</g>\n<g id=\"xtick6\">\n<g id=\"line2d18\">\n<path clip-path=\"url(#p31357e1f28b93beffcc591b280283ca9)\" d=\"M189.034375 245.739062L189.034375 15.339063\" style=\"fill: none; stroke: #000000; stroke-width: 0.500000; stroke-linejoin: round; stroke-linecap: butt; stroke-dasharray: 1.000000,3.000000; stroke-dashoffset: 0.000000; opacity: 1.000000\"/>\n</g>\n<g id=\"line2d19\">\n<g><use style=\"fill: none; stroke: #000000; stroke-width: 0.500000; stroke-linejoin: round; stroke-linecap: butt;  opacity: 1.000000\" x=\"189.034375\" xlink:href=\"#m30e32995789d870ad79a2e54c91cf9c6\" y=\"245.739062\"/>\n</g></g>\n<g id=\"line2d20\">\n<g><use style=\"fill: none; stroke: #000000; stroke-width: 0.500000; stroke-linejoin: round; stroke-linecap: butt;  opacity: 1.000000\" x=\"189.034375\" xlink:href=\"#m9281cae24120827b11d5ea8a7ad3e96b\" y=\"15.339063\"/>\n</g></g>\n<g id=\"text6\">\n<g style=\"fill: #000000; opacity: 1.000000\" transform=\"translate(182.378125,258.645312)scale(0.120000)\">\n<use xlink:href=\"#c_3dcfa38a02242cb63ec6726c6e70be7a\"/>\n<use x=\"63.623047\" xlink:href=\"#c_1260a2df50f305f3db244e29828f968e\"/>\n</g>\n</g>\n</g>\n<g id=\"xtick7\">\n<g id=\"line2d21\">\n<path clip-path=\"url(#p31357e1f28b93beffcc591b280283ca9)\" d=\"M216.934375 245.739062L216.934375 15.339063\" style=\"fill: none; stroke: #000000; stroke-width: 0.500000; stroke-linejoin: round; stroke-linecap: butt; stroke-dasharray: 1.000000,3.000000; stroke-dashoffset: 0.000000; opacity: 1.000000\"/>\n</g>\n<g id=\"line2d22\">\n<g><use style=\"fill: none; stroke: #000000; stroke-width: 0.500000; stroke-linejoin: round; stroke-linecap: butt;  opacity: 1.000000\" x=\"216.934375\" xlink:href=\"#m30e32995789d870ad79a2e54c91cf9c6\" y=\"245.739062\"/>\n</g></g>\n<g id=\"line2d23\">\n<g><use style=\"fill: none; stroke: #000000; stroke-width: 0.500000; stroke-linejoin: round; stroke-linecap: butt;  opacity: 1.000000\" x=\"216.934375\" xlink:href=\"#m9281cae24120827b11d5ea8a7ad3e96b\" y=\"15.339063\"/>\n</g></g>\n<g id=\"text7\">\n<defs>\n<path d=\"M37.796875 -64.312500l-24.906250 38.921875l24.906250 0.000000zM35.203125 -72.906250l12.406250 0.000000l0.000000 47.515625l10.406250 0.000000l0.000000 8.203125l-10.406250 0.000000l0.000000 17.187500l-9.812500 0.000000l0.000000 -17.187500l-32.906250 0.000000l0.000000 -9.515625z\" id=\"c_a0416418d96557a09b8c1332d34883ba\"/>\n</defs>\n<g style=\"fill: #000000; opacity: 1.000000\" transform=\"translate(209.989062,258.645312)scale(0.120000)\">\n<use xlink:href=\"#c_a0416418d96557a09b8c1332d34883ba\"/>\n<use x=\"63.623047\" xlink:href=\"#c_7a2040fe3b94fcd41d0a72c84e93b115\"/>\n</g>\n</g>\n</g>\n<g id=\"xtick8\">\n<g id=\"line2d24\">\n<path clip-path=\"url(#p31357e1f28b93beffcc591b280283ca9)\" d=\"M244.834375 245.739062L244.834375 15.339063\" style=\"fill: none; stroke: #000000; stroke-width: 0.500000; stroke-linejoin: round; stroke-linecap: butt; stroke-dasharray: 1.000000,3.000000; stroke-dashoffset: 0.000000; opacity: 1.000000\"/>\n</g>\n<g id=\"line2d25\">\n<g><use style=\"fill: none; stroke: #000000; stroke-width: 0.500000; stroke-linejoin: round; stroke-linecap: butt;  opacity: 1.000000\" x=\"244.834375\" xlink:href=\"#m30e32995789d870ad79a2e54c91cf9c6\" y=\"245.739062\"/>\n</g></g>\n<g id=\"line2d26\">\n<g><use style=\"fill: none; stroke: #000000; stroke-width: 0.500000; stroke-linejoin: round; stroke-linecap: butt;  opacity: 1.000000\" x=\"244.834375\" xlink:href=\"#m9281cae24120827b11d5ea8a7ad3e96b\" y=\"15.339063\"/>\n</g></g>\n<g id=\"text8\">\n<g style=\"fill: #000000; opacity: 1.000000\" transform=\"translate(238.014062,258.489062)scale(0.120000)\">\n<use xlink:href=\"#c_a0416418d96557a09b8c1332d34883ba\"/>\n<use x=\"63.623047\" xlink:href=\"#c_1260a2df50f305f3db244e29828f968e\"/>\n</g>\n</g>\n</g>\n<g id=\"xtick9\">\n<g id=\"line2d27\">\n<path clip-path=\"url(#p31357e1f28b93beffcc591b280283ca9)\" d=\"M272.734375 245.739062L272.734375 15.339063\" style=\"fill: none; stroke: #000000; stroke-width: 0.500000; stroke-linejoin: round; stroke-linecap: butt; stroke-dasharray: 1.000000,3.000000; stroke-dashoffset: 0.000000; opacity: 1.000000\"/>\n</g>\n<g id=\"line2d28\">\n<g><use style=\"fill: none; stroke: #000000; stroke-width: 0.500000; stroke-linejoin: round; stroke-linecap: butt;  opacity: 1.000000\" x=\"272.734375\" xlink:href=\"#m30e32995789d870ad79a2e54c91cf9c6\" y=\"245.739062\"/>\n</g></g>\n<g id=\"line2d29\">\n<g><use style=\"fill: none; stroke: #000000; stroke-width: 0.500000; stroke-linejoin: round; stroke-linecap: butt;  opacity: 1.000000\" x=\"272.734375\" xlink:href=\"#m9281cae24120827b11d5ea8a7ad3e96b\" y=\"15.339063\"/>\n</g></g>\n<g id=\"text9\">\n<g style=\"fill: #000000; opacity: 1.000000\" transform=\"translate(265.953125,258.645312)scale(0.120000)\">\n<use xlink:href=\"#c_1260a2df50f305f3db244e29828f968e\"/>\n<use x=\"63.623047\" xlink:href=\"#c_7a2040fe3b94fcd41d0a72c84e93b115\"/>\n</g>\n</g>\n</g>\n<g id=\"text10\">\n<defs>\n<path d=\"M28.609375 -0.000000l-27.828125 -72.906250l10.296875 0.000000l23.109375 61.375000l23.140625 -61.375000l10.250000 0.000000l-27.781250 72.906250z\" id=\"c_ae70b0af174184799fa4976b9c5da571\"/>\n<path d=\"M30.609375 -48.390625q-7.218750 0.000000 -11.421875 5.640625q-4.203125 5.640625 -4.203125 15.453125q0.000000 9.812500 4.171875 15.453125q4.187500 5.640625 11.453125 5.640625q7.187500 0.000000 11.375000 -5.656250q4.203125 -5.671875 4.203125 -15.437500q0.000000 -9.718750 -4.203125 -15.406250q-4.187500 -5.687500 -11.375000 -5.687500M30.609375 -56.000000q11.718750 0.000000 18.406250 7.625000q6.703125 7.609375 6.703125 21.078125q0.000000 13.421875 -6.703125 21.078125q-6.687500 7.640625 -18.406250 7.640625q-11.765625 0.000000 -18.437500 -7.640625q-6.656250 -7.656250 -6.656250 -21.078125q0.000000 -13.468750 6.656250 -21.078125q6.671875 -7.625000 18.437500 -7.625000\" id=\"c_f05dd90d41f04bb96ef1ca503cc2044b\"/>\n<path d=\"M9.421875 -75.984375l8.984375 0.000000l0.000000 75.984375l-8.984375 0.000000z\" id=\"c_5099edb83619131346ae654950954dea\"/>\n<path d=\"M8.500000 -21.578125l0.000000 -33.109375l8.984375 0.000000l0.000000 32.765625q0.000000 7.765625 3.015625 11.656250q3.031250 3.875000 9.093750 3.875000q7.265625 0.000000 11.484375 -4.640625q4.234375 -4.640625 4.234375 -12.656250l0.000000 -31.000000l8.984375 0.000000l0.000000 54.687500l-8.984375 0.000000l0.000000 -8.406250q-3.265625 4.984375 -7.593750 7.406250q-4.312500 2.421875 -10.031250 2.421875q-9.421875 0.000000 -14.312500 -5.859375q-4.875000 -5.859375 -4.875000 -17.140625\" id=\"c_c438d87e693443c2861ebd6359e6491e\"/>\n<path d=\"M52.000000 -44.187500q3.375000 -6.062500 8.062500 -8.937500q4.687500 -2.875000 11.031250 -2.875000q8.546875 0.000000 13.187500 5.984375q4.640625 5.968750 4.640625 17.000000l0.000000 33.015625l-9.031250 0.000000l0.000000 -32.718750q0.000000 -7.859375 -2.796875 -11.656250q-2.781250 -3.812500 -8.484375 -3.812500q-6.984375 0.000000 -11.046875 4.640625q-4.046875 4.625000 -4.046875 12.640625l0.000000 30.906250l-9.031250 0.000000l0.000000 -32.718750q0.000000 -7.906250 -2.781250 -11.687500q-2.781250 -3.781250 -8.593750 -3.781250q-6.890625 0.000000 -10.953125 4.656250q-4.046875 4.656250 -4.046875 12.625000l0.000000 30.906250l-9.031250 0.000000l0.000000 -54.687500l9.031250 0.000000l0.000000 8.500000q3.078125 -5.031250 7.375000 -7.421875q4.296875 -2.390625 10.203125 -2.390625q5.968750 0.000000 10.140625 3.031250q4.171875 3.015625 6.171875 8.781250\" id=\"c_4653c6dfde66c7610eae0911760d3490\"/>\n<path d=\"M56.203125 -29.593750l0.000000 4.390625l-41.312500 0.000000q0.593750 9.281250 5.593750 14.140625q5.000000 4.859375 13.937500 4.859375q5.171875 0.000000 10.031250 -1.265625q4.859375 -1.265625 9.656250 -3.812500l0.000000 8.500000q-4.843750 2.046875 -9.921875 3.125000q-5.078125 1.078125 -10.296875 1.078125q-13.093750 0.000000 -20.734375 -7.609375q-7.640625 -7.625000 -7.640625 -20.625000q0.000000 -13.421875 7.250000 -21.296875q7.250000 -7.890625 19.562500 -7.890625q11.031250 0.000000 17.453125 7.109375q6.421875 7.093750 6.421875 19.296875M47.218750 -32.234375q-0.093750 -7.359375 -4.125000 -11.750000q-4.031250 -4.406250 -10.671875 -4.406250q-7.515625 0.000000 -12.031250 4.250000q-4.515625 4.250000 -5.203125 11.968750z\" id=\"c_0bce5afba2dc6b9024b26277c38ad8e8\"/>\n</defs>\n<g style=\"fill: #000000; opacity: 1.000000\" transform=\"translate(139.157813,272.942187)scale(0.120000)\">\n<use xlink:href=\"#c_ae70b0af174184799fa4976b9c5da571\"/>\n<use x=\"60.658203\" xlink:href=\"#c_f05dd90d41f04bb96ef1ca503cc2044b\"/>\n<use x=\"121.839844\" xlink:href=\"#c_5099edb83619131346ae654950954dea\"/>\n<use x=\"149.623047\" xlink:href=\"#c_c438d87e693443c2861ebd6359e6491e\"/>\n<use x=\"213.001953\" xlink:href=\"#c_4653c6dfde66c7610eae0911760d3490\"/>\n<use x=\"310.414062\" xlink:href=\"#c_0bce5afba2dc6b9024b26277c38ad8e8\"/>\n</g>\n</g>\n</g>\n<g id=\"matplotlib.axis2\">\n<g id=\"ytick1\">\n<g id=\"line2d30\">\n<path clip-path=\"url(#p31357e1f28b93beffcc591b280283ca9)\" d=\"M49.534375 245.739062L272.734375 245.739062\" style=\"fill: none; stroke: #000000; stroke-width: 0.500000; stroke-linejoin: round; stroke-linecap: butt; stroke-dasharray: 1.000000,3.000000; stroke-dashoffset: 0.000000; opacity: 1.000000\"/>\n</g>\n<g id=\"line2d31\">\n<defs><path d=\"M0.000000 0.000000L4.000000 0.000000\" id=\"m3400efa6b1638b3fea9e19e898273957\"/></defs>\n<g><use style=\"fill: none; stroke: #000000; stroke-width: 0.500000; stroke-linejoin: round; stroke-linecap: butt;  opacity: 1.000000\" x=\"49.534375\" xlink:href=\"#m3400efa6b1638b3fea9e19e898273957\" y=\"245.739062\"/>\n</g></g>\n<g id=\"line2d32\">\n<defs><path d=\"M0.000000 0.000000L-4.000000 0.000000\" id=\"m20b58b2501143cb5e0a5e8f1ef6f1643\"/></defs>\n<g><use style=\"fill: none; stroke: #000000; stroke-width: 0.500000; stroke-linejoin: round; stroke-linecap: butt;  opacity: 1.000000\" x=\"272.734375\" xlink:href=\"#m20b58b2501143cb5e0a5e8f1ef6f1643\" y=\"245.739062\"/>\n</g></g>\n<g id=\"text11\">\n<g style=\"fill: #000000; opacity: 1.000000\" transform=\"translate(31.925000,250.106250)scale(0.120000)\">\n<use xlink:href=\"#c_ed3f3ed3ebfbd18bcb9c012009a68ad1\"/>\n<use x=\"63.623047\" xlink:href=\"#c_7a2040fe3b94fcd41d0a72c84e93b115\"/>\n</g>\n</g>\n</g>\n<g id=\"ytick2\">\n<g id=\"line2d33\">\n<path clip-path=\"url(#p31357e1f28b93beffcc591b280283ca9)\" d=\"M49.534375 199.659063L272.734375 199.659063\" style=\"fill: none; stroke: #000000; stroke-width: 0.500000; stroke-linejoin: round; stroke-linecap: butt; stroke-dasharray: 1.000000,3.000000; stroke-dashoffset: 0.000000; opacity: 1.000000\"/>\n</g>\n<g id=\"line2d34\">\n<g><use style=\"fill: none; stroke: #000000; stroke-width: 0.500000; stroke-linejoin: round; stroke-linecap: butt;  opacity: 1.000000\" x=\"49.534375\" xlink:href=\"#m3400efa6b1638b3fea9e19e898273957\" y=\"199.659063\"/>\n</g></g>\n<g id=\"line2d35\">\n<g><use style=\"fill: none; stroke: #000000; stroke-width: 0.500000; stroke-linejoin: round; stroke-linecap: butt;  opacity: 1.000000\" x=\"272.734375\" xlink:href=\"#m20b58b2501143cb5e0a5e8f1ef6f1643\" y=\"199.659063\"/>\n</g></g>\n<g id=\"text12\">\n<g style=\"fill: #000000; opacity: 1.000000\" transform=\"translate(31.643750,204.026250)scale(0.120000)\">\n<use xlink:href=\"#c_a0416418d96557a09b8c1332d34883ba\"/>\n<use x=\"63.623047\" xlink:href=\"#c_7a2040fe3b94fcd41d0a72c84e93b115\"/>\n</g>\n</g>\n</g>\n<g id=\"ytick3\">\n<g id=\"line2d36\">\n<path clip-path=\"url(#p31357e1f28b93beffcc591b280283ca9)\" d=\"M49.534375 153.579063L272.734375 153.579063\" style=\"fill: none; stroke: #000000; stroke-width: 0.500000; stroke-linejoin: round; stroke-linecap: butt; stroke-dasharray: 1.000000,3.000000; stroke-dashoffset: 0.000000; opacity: 1.000000\"/>\n</g>\n<g id=\"line2d37\">\n<g><use style=\"fill: none; stroke: #000000; stroke-width: 0.500000; stroke-linejoin: round; stroke-linecap: butt;  opacity: 1.000000\" x=\"49.534375\" xlink:href=\"#m3400efa6b1638b3fea9e19e898273957\" y=\"153.579063\"/>\n</g></g>\n<g id=\"line2d38\">\n<g><use style=\"fill: none; stroke: #000000; stroke-width: 0.500000; stroke-linejoin: round; stroke-linecap: butt;  opacity: 1.000000\" x=\"272.734375\" xlink:href=\"#m20b58b2501143cb5e0a5e8f1ef6f1643\" y=\"153.579063\"/>\n</g></g>\n<g id=\"text13\">\n<defs>\n<path d=\"M33.015625 -40.375000q-6.640625 0.000000 -10.531250 4.546875q-3.875000 4.531250 -3.875000 12.437500q0.000000 7.859375 3.875000 12.437500q3.890625 4.562500 10.531250 4.562500q6.640625 0.000000 10.515625 -4.562500q3.875000 -4.578125 3.875000 -12.437500q0.000000 -7.906250 -3.875000 -12.437500q-3.875000 -4.546875 -10.515625 -4.546875M52.593750 -71.296875l0.000000 8.984375q-3.718750 -1.750000 -7.500000 -2.671875q-3.781250 -0.937500 -7.500000 -0.937500q-9.765625 0.000000 -14.921875 6.593750q-5.140625 6.593750 -5.875000 19.921875q2.875000 -4.250000 7.218750 -6.515625q4.359375 -2.265625 9.578125 -2.265625q10.984375 0.000000 17.359375 6.671875q6.375000 6.656250 6.375000 18.125000q0.000000 11.234375 -6.640625 18.031250q-6.640625 6.781250 -17.671875 6.781250q-12.656250 0.000000 -19.343750 -9.687500q-6.687500 -9.703125 -6.687500 -28.109375q0.000000 -17.281250 8.203125 -27.562500q8.203125 -10.281250 22.015625 -10.281250q3.718750 0.000000 7.500000 0.734375q3.781250 0.734375 7.890625 2.187500\" id=\"c_cc8d6d580d1b10c8632f7a42cd53db8a\"/>\n</defs>\n<g style=\"fill: #000000; opacity: 1.000000\" transform=\"translate(31.893750,157.946250)scale(0.120000)\">\n<use xlink:href=\"#c_cc8d6d580d1b10c8632f7a42cd53db8a\"/>\n<use x=\"63.623047\" xlink:href=\"#c_7a2040fe3b94fcd41d0a72c84e93b115\"/>\n</g>\n</g>\n</g>\n<g id=\"ytick4\">\n<g id=\"line2d39\">\n<path clip-path=\"url(#p31357e1f28b93beffcc591b280283ca9)\" d=\"M49.534375 107.499063L272.734375 107.499063\" style=\"fill: none; stroke: #000000; stroke-width: 0.500000; stroke-linejoin: round; stroke-linecap: butt; stroke-dasharray: 1.000000,3.000000; stroke-dashoffset: 0.000000; opacity: 1.000000\"/>\n</g>\n<g id=\"line2d40\">\n<g><use style=\"fill: none; stroke: #000000; stroke-width: 0.500000; stroke-linejoin: round; stroke-linecap: butt;  opacity: 1.000000\" x=\"49.534375\" xlink:href=\"#m3400efa6b1638b3fea9e19e898273957\" y=\"107.499063\"/>\n</g></g>\n<g id=\"line2d41\">\n<g><use style=\"fill: none; stroke: #000000; stroke-width: 0.500000; stroke-linejoin: round; stroke-linecap: butt;  opacity: 1.000000\" x=\"272.734375\" xlink:href=\"#m20b58b2501143cb5e0a5e8f1ef6f1643\" y=\"107.499063\"/>\n</g></g>\n<g id=\"text14\">\n<defs>\n<path d=\"M31.781250 -34.625000q-7.031250 0.000000 -11.062500 3.765625q-4.015625 3.765625 -4.015625 10.343750q0.000000 6.593750 4.015625 10.359375q4.031250 3.765625 11.062500 3.765625q7.031250 0.000000 11.078125 -3.781250q4.062500 -3.796875 4.062500 -10.343750q0.000000 -6.578125 -4.031250 -10.343750q-4.015625 -3.765625 -11.109375 -3.765625M21.921875 -38.812500q-6.343750 -1.562500 -9.890625 -5.906250q-3.531250 -4.359375 -3.531250 -10.609375q0.000000 -8.734375 6.218750 -13.812500q6.234375 -5.078125 17.062500 -5.078125q10.890625 0.000000 17.093750 5.078125q6.203125 5.078125 6.203125 13.812500q0.000000 6.250000 -3.546875 10.609375q-3.531250 4.343750 -9.828125 5.906250q7.125000 1.656250 11.093750 6.500000q3.984375 4.828125 3.984375 11.796875q0.000000 10.609375 -6.468750 16.281250q-6.468750 5.656250 -18.531250 5.656250q-12.046875 0.000000 -18.531250 -5.656250q-6.468750 -5.671875 -6.468750 -16.281250q0.000000 -6.968750 4.000000 -11.796875q4.015625 -4.843750 11.140625 -6.500000M18.312500 -54.390625q0.000000 5.656250 3.531250 8.828125q3.546875 3.171875 9.937500 3.171875q6.359375 0.000000 9.937500 -3.171875q3.593750 -3.171875 3.593750 -8.828125q0.000000 -5.671875 -3.593750 -8.843750q-3.578125 -3.171875 -9.937500 -3.171875q-6.390625 0.000000 -9.937500 3.171875q-3.531250 3.171875 -3.531250 8.843750\" id=\"c_bef35738d52871942e50b9de9b122bab\"/>\n</defs>\n<g style=\"fill: #000000; opacity: 1.000000\" transform=\"translate(31.862500,111.866250)scale(0.120000)\">\n<use xlink:href=\"#c_bef35738d52871942e50b9de9b122bab\"/>\n<use x=\"63.623047\" xlink:href=\"#c_7a2040fe3b94fcd41d0a72c84e93b115\"/>\n</g>\n</g>\n</g>\n<g id=\"ytick5\">\n<g id=\"line2d42\">\n<path clip-path=\"url(#p31357e1f28b93beffcc591b280283ca9)\" d=\"M49.534375 61.419063L272.734375 61.419063\" style=\"fill: none; stroke: #000000; stroke-width: 0.500000; stroke-linejoin: round; stroke-linecap: butt; stroke-dasharray: 1.000000,3.000000; stroke-dashoffset: 0.000000; opacity: 1.000000\"/>\n</g>\n<g id=\"line2d43\">\n<g><use style=\"fill: none; stroke: #000000; stroke-width: 0.500000; stroke-linejoin: round; stroke-linecap: butt;  opacity: 1.000000\" x=\"49.534375\" xlink:href=\"#m3400efa6b1638b3fea9e19e898273957\" y=\"61.419063\"/>\n</g></g>\n<g id=\"line2d44\">\n<g><use style=\"fill: none; stroke: #000000; stroke-width: 0.500000; stroke-linejoin: round; stroke-linecap: butt;  opacity: 1.000000\" x=\"272.734375\" xlink:href=\"#m20b58b2501143cb5e0a5e8f1ef6f1643\" y=\"61.419063\"/>\n</g></g>\n<g id=\"text15\">\n<g style=\"fill: #000000; opacity: 1.000000\" transform=\"translate(24.721875,65.786250)scale(0.120000)\">\n<use xlink:href=\"#c_42baa63129a918535c52adb20d687ea7\"/>\n<use x=\"63.623047\" xlink:href=\"#c_7a2040fe3b94fcd41d0a72c84e93b115\"/>\n<use x=\"127.246094\" xlink:href=\"#c_7a2040fe3b94fcd41d0a72c84e93b115\"/>\n</g>\n</g>\n</g>\n<g id=\"ytick6\">\n<g id=\"line2d45\">\n<path clip-path=\"url(#p31357e1f28b93beffcc591b280283ca9)\" d=\"M49.534375 15.339063L272.734375 15.339063\" style=\"fill: none; stroke: #000000; stroke-width: 0.500000; stroke-linejoin: round; stroke-linecap: butt; stroke-dasharray: 1.000000,3.000000; stroke-dashoffset: 0.000000; opacity: 1.000000\"/>\n</g>\n<g id=\"line2d46\">\n<g><use style=\"fill: none; stroke: #000000; stroke-width: 0.500000; stroke-linejoin: round; stroke-linecap: butt;  opacity: 1.000000\" x=\"49.534375\" xlink:href=\"#m3400efa6b1638b3fea9e19e898273957\" y=\"15.339063\"/>\n</g></g>\n<g id=\"line2d47\">\n<g><use style=\"fill: none; stroke: #000000; stroke-width: 0.500000; stroke-linejoin: round; stroke-linecap: butt;  opacity: 1.000000\" x=\"272.734375\" xlink:href=\"#m20b58b2501143cb5e0a5e8f1ef6f1643\" y=\"15.339063\"/>\n</g></g>\n<g id=\"text16\">\n<g style=\"fill: #000000; opacity: 1.000000\" transform=\"translate(24.721875,19.706250)scale(0.120000)\">\n<use xlink:href=\"#c_42baa63129a918535c52adb20d687ea7\"/>\n<use x=\"63.623047\" xlink:href=\"#c_ed3f3ed3ebfbd18bcb9c012009a68ad1\"/>\n<use x=\"127.246094\" xlink:href=\"#c_7a2040fe3b94fcd41d0a72c84e93b115\"/>\n</g>\n</g>\n</g>\n<g id=\"text17\">\n<defs>\n<path d=\"M19.671875 -64.796875l0.000000 27.390625l12.406250 0.000000q6.890625 0.000000 10.640625 -3.562500q3.765625 -3.562500 3.765625 -10.156250q0.000000 -6.546875 -3.765625 -10.109375q-3.750000 -3.562500 -10.640625 -3.562500zM9.812500 -72.906250l22.265625 0.000000q12.265625 0.000000 18.531250 5.546875q6.281250 5.546875 6.281250 16.234375q0.000000 10.796875 -6.281250 16.312500q-6.265625 5.515625 -18.531250 5.515625l-12.406250 0.000000l0.000000 29.296875l-9.859375 0.000000z\" id=\"c_518d586bee075aa0153eaebfcb5ab11f\"/>\n<path d=\"M41.109375 -46.296875q-1.515625 -0.875000 -3.296875 -1.281250q-1.781250 -0.421875 -3.921875 -0.421875q-7.625000 0.000000 -11.703125 4.953125q-4.078125 4.953125 -4.078125 14.234375l0.000000 28.812500l-9.031250 0.000000l0.000000 -54.687500l9.031250 0.000000l0.000000 8.500000q2.843750 -4.984375 7.375000 -7.390625q4.546875 -2.421875 11.046875 -2.421875q0.921875 0.000000 2.046875 0.125000q1.125000 0.109375 2.484375 0.359375z\" id=\"c_6ec8d5749226675394676a5d2a3b468b\"/>\n<path d=\"M44.281250 -53.078125l0.000000 8.500000q-3.796875 -1.953125 -7.906250 -2.921875q-4.093750 -0.984375 -8.500000 -0.984375q-6.687500 0.000000 -10.031250 2.046875q-3.343750 2.046875 -3.343750 6.156250q0.000000 3.125000 2.390625 4.906250q2.390625 1.781250 9.625000 3.390625l3.078125 0.687500q9.562500 2.046875 13.593750 5.781250q4.031250 3.734375 4.031250 10.421875q0.000000 7.625000 -6.031250 12.078125q-6.031250 4.437500 -16.578125 4.437500q-4.390625 0.000000 -9.156250 -0.859375q-4.765625 -0.859375 -10.031250 -2.562500l0.000000 -9.281250q4.984375 2.593750 9.812500 3.890625q4.828125 1.281250 9.578125 1.281250q6.343750 0.000000 9.750000 -2.171875q3.421875 -2.171875 3.421875 -6.125000q0.000000 -3.656250 -2.468750 -5.609375q-2.453125 -1.953125 -10.812500 -3.765625l-3.125000 -0.734375q-8.343750 -1.750000 -12.062500 -5.390625q-3.703125 -3.640625 -3.703125 -9.984375q0.000000 -7.718750 5.468750 -11.906250q5.468750 -4.203125 15.531250 -4.203125q4.968750 0.000000 9.359375 0.734375q4.406250 0.718750 8.109375 2.187500\" id=\"c_8e0810ad13fe20a2a87a2619799b154d\"/>\n</defs>\n<g style=\"fill: #000000; opacity: 1.000000\" transform=\"translate(19.721875,155.085938)rotate(-90.0)scale(0.120000)\">\n<use xlink:href=\"#c_518d586bee075aa0153eaebfcb5ab11f\"/>\n<use x=\"58.552734\" xlink:href=\"#c_6ec8d5749226675394676a5d2a3b468b\"/>\n<use x=\"97.416016\" xlink:href=\"#c_0bce5afba2dc6b9024b26277c38ad8e8\"/>\n<use x=\"158.939453\" xlink:href=\"#c_8e0810ad13fe20a2a87a2619799b154d\"/>\n<use x=\"211.039062\" xlink:href=\"#c_8e0810ad13fe20a2a87a2619799b154d\"/>\n<use x=\"263.138672\" xlink:href=\"#c_c438d87e693443c2861ebd6359e6491e\"/>\n<use x=\"326.517578\" xlink:href=\"#c_6ec8d5749226675394676a5d2a3b468b\"/>\n<use x=\"365.380859\" xlink:href=\"#c_0bce5afba2dc6b9024b26277c38ad8e8\"/>\n</g>\n</g>\n</g>\n<g id=\"patch3\">\n<path d=\"M49.534375 15.339063L272.734375 15.339063\" style=\"fill: none; stroke: #000000; stroke-width: 1.000000; stroke-linejoin: round; stroke-linecap: square;  opacity: 1.000000\"/>\n</g>\n<g id=\"patch4\">\n<path d=\"M272.734375 245.739062L272.734375 15.339063\" style=\"fill: none; stroke: #000000; stroke-width: 1.000000; stroke-linejoin: round; stroke-linecap: square;  opacity: 1.000000\"/>\n</g>\n<g id=\"patch5\">\n<path d=\"M49.534375 245.739062L272.734375 245.739062\" style=\"fill: none; stroke: #000000; stroke-width: 1.000000; stroke-linejoin: round; stroke-linecap: square;  opacity: 1.000000\"/>\n</g>\n<g id=\"patch6\">\n<path d=\"M49.534375 245.739062L49.534375 15.339063\" style=\"fill: none; stroke: #000000; stroke-width: 1.000000; stroke-linejoin: round; stroke-linecap: square;  opacity: 1.000000\"/>\n</g>\n</g>\n</g>\n</svg>"
          },
          "metadata": {
            "tags": []
          }
        }
      ]
    },
    {
      "cell_type": "markdown",
      "metadata": {
        "id": "X4auxIGWG08i",
        "colab_type": "text"
      },
      "source": [
        "### 一定圧力下での 体積(V) と 温度(T) の関係: Charles 1780yr\n",
        "\n",
        "一定圧力(P)のことを **定圧** といい,\n",
        "$P_{\\rm 後}-P_{\\rm 初}=0$ から\n",
        "$\\Delta P=0$ と表します."
      ]
    },
    {
      "cell_type": "code",
      "metadata": {
        "id": "WlKr5eF3kavD",
        "colab_type": "code",
        "cellView": "form",
        "outputId": "62a7e097-0950-4db5-935f-ddbdc7bc48d1",
        "colab": {
          "base_uri": "https://localhost:8080/",
          "height": 336
        }
      },
      "source": [
        "#@title Charles's law: V/T = constant / V is proportional to T\n",
        "%%html\n",
        "<iframe width=\"560\" height=\"315\" src=\"https://www.youtube-nocookie.com/embed/5M8GR6_zIps\" frameborder=\"0\" allow=\"accelerometer; autoplay; encrypted-media; gyroscope; picture-in-picture\" allowfullscreen></iframe>"
      ],
      "execution_count": 0,
      "outputs": [
        {
          "output_type": "display_data",
          "data": {
            "text/html": [
              "<iframe width=\"560\" height=\"315\" src=\"https://www.youtube-nocookie.com/embed/5M8GR6_zIps\" frameborder=\"0\" allow=\"accelerometer; autoplay; encrypted-media; gyroscope; picture-in-picture\" allowfullscreen></iframe>"
            ],
            "text/plain": [
              "<IPython.core.display.HTML object>"
            ]
          },
          "metadata": {
            "tags": []
          }
        }
      ]
    },
    {
      "cell_type": "markdown",
      "metadata": {
        "id": "2qMCmiuXHj2O",
        "colab_type": "text"
      },
      "source": [
        "![wikipedia: Charles's law](https://upload.wikimedia.org/wikipedia/commons/e/e4/Charles_and_Gay-Lussac%27s_Law_animated.gif)"
      ]
    },
    {
      "cell_type": "markdown",
      "metadata": {
        "id": "iXtv94F6L5_g",
        "colab_type": "text"
      },
      "source": [
        "### 一定体積の下での 圧力(P) と 温度(T) の関係: Gay-Lussac 1808yr/Amontons 1699yr\n",
        "\n",
        "一定体積(V)のことを **定積** といい,\n",
        "$V_{\\rm 後}-V_{\\rm 初}=0$ から\n",
        "$\\Delta V=0$ と表します.\n"
      ]
    },
    {
      "cell_type": "code",
      "metadata": {
        "id": "rPBOrxm5HpRb",
        "colab_type": "code",
        "cellView": "form",
        "outputId": "0c11ae5e-a732-470f-f83c-76b21523cf70",
        "colab": {
          "base_uri": "https://localhost:8080/",
          "height": 336
        }
      },
      "source": [
        "#@title Gay Lussac's Law: P/T = constant. P is proportional to T\n",
        "%%html\n",
        "<iframe width=\"560\" height=\"315\" src=\"https://www.youtube-nocookie.com/embed/1pVVZGOBIVg\" frameborder=\"0\" allow=\"accelerometer; autoplay; encrypted-media; gyroscope; picture-in-picture\" allowfullscreen></iframe>"
      ],
      "execution_count": 0,
      "outputs": [
        {
          "output_type": "display_data",
          "data": {
            "text/html": [
              "<iframe width=\"560\" height=\"315\" src=\"https://www.youtube-nocookie.com/embed/1pVVZGOBIVg\" frameborder=\"0\" allow=\"accelerometer; autoplay; encrypted-media; gyroscope; picture-in-picture\" allowfullscreen></iframe>"
            ],
            "text/plain": [
              "<IPython.core.display.HTML object>"
            ]
          },
          "metadata": {
            "tags": []
          }
        }
      ]
    },
    {
      "cell_type": "code",
      "metadata": {
        "id": "g35sq0sXT-Gb",
        "colab_type": "code",
        "cellView": "form",
        "outputId": "e9e54313-dcce-4c79-d720-9f07020817e3",
        "colab": {
          "base_uri": "https://localhost:8080/",
          "height": 336
        }
      },
      "source": [
        "#@title Gay-Lussac's Law\n",
        "%%html\n",
        "<iframe width=\"560\" height=\"315\" src=\"https://www.youtube-nocookie.com/embed/Q0FdZQlUEGA\" frameborder=\"0\" allow=\"accelerometer; autoplay; encrypted-media; gyroscope; picture-in-picture\" allowfullscreen></iframe>"
      ],
      "execution_count": 0,
      "outputs": [
        {
          "output_type": "display_data",
          "data": {
            "text/html": [
              "<iframe width=\"560\" height=\"315\" src=\"https://www.youtube-nocookie.com/embed/Q0FdZQlUEGA\" frameborder=\"0\" allow=\"accelerometer; autoplay; encrypted-media; gyroscope; picture-in-picture\" allowfullscreen></iframe>"
            ],
            "text/plain": [
              "<IPython.core.display.HTML object>"
            ]
          },
          "metadata": {
            "tags": []
          }
        }
      ]
    },
    {
      "cell_type": "markdown",
      "metadata": {
        "id": "Qu8TRFGrOp-L",
        "colab_type": "text"
      },
      "source": [
        "### ボイル-シャルルの法則: 三つの実験の統合\n",
        "\n",
        "風船に閉じ込められた一定量の理想気体を考えながら,\n",
        "これまでの関係式を整理すると\n",
        "\\begin{align*}\n",
        "P\\cdot V &= constant & (\\Delta T=0)&\\\\\n",
        "V/T &= constant& (\\Delta P=0)&\\\\\n",
        "P/T &= constant& (\\Delta V=0)&\n",
        "\\end{align*}\n",
        "となります.\n",
        "\n",
        "これらを統合すると, 一定量の理想気体では\n",
        "\\begin{align*}\n",
        "\\dfrac{P\\cdot V}{T} &= constant&\n",
        "\\end{align*}\n",
        "が成立します. この関係が **ボイル-シャルルの法則** です."
      ]
    },
    {
      "cell_type": "code",
      "metadata": {
        "id": "E8T7MpzqQiUG",
        "colab_type": "code",
        "cellView": "form",
        "outputId": "8caae8e5-d2a2-45ac-8bdf-22502c9037ad",
        "colab": {
          "base_uri": "https://localhost:8080/",
          "height": 162
        }
      },
      "source": [
        "#@title ボイル-シャルル法則の適応例\n",
        "%%svg\n",
        "<svg xmlns=\"http://www.w3.org/2000/svg\" xmlns:xlink=\"http://www.w3.org/1999/xlink\" version=\"1.1\" width=\"381px\" viewBox=\"-0.5 -0.5 381 141\" content=\"&lt;mxfile host=&quot;app.diagrams.net&quot; modified=&quot;2020-06-04T12:57:43.525Z&quot; agent=&quot;5.0 (Macintosh; Intel Mac OS X 10_15_5) AppleWebKit/537.36 (KHTML, like Gecko) Chrome/83.0.4103.61 Safari/537.36&quot; etag=&quot;5DmYU-qQYoEvYif0_UwD&quot; version=&quot;13.1.14&quot; type=&quot;google&quot;&gt;&lt;diagram id=&quot;AvyVPRUh3zMHWMHEv4ot&quot; name=&quot;Page-1&quot;&gt;3ZfLjtowFIafxsuRSEIuLLnNdNFKaKiml52JTxKrTpw6DoQ+fR3iXAEBHVCrbmbi38fH8e/v2AFZ87h4ETiNPnECDJkjUiBrgUxz7JrqbynsK8EeaSEUlFSS0Qpr+gu0ONJqTglkvUDJOZM07Ys+TxLwZU/DQvBdPyzgrD9rikM4EtY+ZsfqF0pkVKme6bb6B6BhVM9sOJOqJ8Z1sF5JFmHCdx3JWiJrLjiX1VNczIGV3tW+VOOez/Q2LyYgkdcM+G6vkuf127fXbDOhfv7R/fpqPuksW8xyvWBkOkzlmwVcpVVvLffaCudnzuuOp+ywUVMVYHhp0XaWFmO/P+AFuAgp7gY5of5/mIrWwlutqFXQYVSWb2pp2onryMico9KEQdbVQ7J+fm/WRq2crmWzZ7qp9lChrhqzXUQlrNPK3Z0qNqVFMmaqZZTbQhmbc8bFYZxFMHiBX76KFPwHdHoc34NN0My1BSGhOMuU0ZCqKhx4DFLsVYge4Gq2dXEbnm7v2lIxav6jTpnUcVhXZ9hkbgFWD5rhG3g2L/F8DZ23Q/9OnmcP4fm2rNfyfDbrnXnGWVqd5wEtgBwDHng++CcB33j22B7dB3DLGhDuXEl4I94dcesE4gOT1VWTlo8Bg2JaXoLKDEiIflz4DGcZ9ft+V0mAHF2HF63qWGGfcKLWBDAs6baf/pQ7eoYVp4eK1TvRfBHonTCHBmc8Fz7oUd17cJDIupRIYhGCPEp02Kxm2X++f+5fvXKXLvKmaOagpYM8G3nl8Om1xavqSPap6RdfwhMYVKqWMKNhUqKnYAKlz8qqpOoza6o7YkoIO3csCJ4npDwEFncq64l9sardEyg/rKa9f46Jqw/0/4YJyx5AMX4YFKrZfvdX50r748la/gY=&lt;/diagram&gt;&lt;/mxfile&gt;\" onclick=\"(function(svg){var src=window.event.target||window.event.srcElement;while (src!=null&amp;&amp;src.nodeName.toLowerCase()!='a'){src=src.parentNode;}if(src==null){if(svg.wnd!=null&amp;&amp;!svg.wnd.closed){svg.wnd.focus();}else{var r=function(evt){if(evt.data=='ready'&amp;&amp;evt.source==svg.wnd){svg.wnd.postMessage(decodeURIComponent(svg.getAttribute('content')),'*');window.removeEventListener('message',r);}};window.addEventListener('message',r);svg.wnd=window.open('https://app.diagrams.net/?client=1&amp;lightbox=1&amp;edit=_blank');}}})(this);\" style=\"cursor:pointer;max-width:100%;max-height:141px;\"><defs/><g><ellipse cx=\"60\" cy=\"80\" rx=\"60\" ry=\"40\" fill=\"#dae8fc\" stroke=\"#6c8ebf\" pointer-events=\"all\"/><g transform=\"translate(-0.5 -0.5)\"><switch><foreignObject style=\"overflow: visible; text-align: left;\" pointer-events=\"none\" width=\"100%\" height=\"100%\" requiredFeatures=\"http://www.w3.org/TR/SVG11/feature#Extensibility\"><div xmlns=\"http://www.w3.org/1999/xhtml\" style=\"display: flex; align-items: unsafe center; justify-content: unsafe center; width: 118px; height: 1px; padding-top: 80px; margin-left: 1px;\"><div style=\"box-sizing: border-box; font-size: 0; text-align: center; \"><div style=\"display: inline-block; font-size: 12px; font-family: Helvetica; color: #000000; line-height: 1.2; pointer-events: all; white-space: normal; word-wrap: normal; \"><font style=\"font-size: 18px\" face=\"Georgia\"><i>V</i><sub>A</sub>, <i>P</i><sub>A</sub>, <i>T</i><sub>A</sub></font></div></div></div></foreignObject><text x=\"60\" y=\"84\" fill=\"#000000\" font-family=\"Helvetica\" font-size=\"12px\" text-anchor=\"middle\">VA, PA, TA</text></switch></g><ellipse cx=\"320\" cy=\"80\" rx=\"60\" ry=\"60\" fill=\"#f8cecc\" stroke=\"#b85450\" pointer-events=\"all\"/><g transform=\"translate(-0.5 -0.5)\"><switch><foreignObject style=\"overflow: visible; text-align: left;\" pointer-events=\"none\" width=\"100%\" height=\"100%\" requiredFeatures=\"http://www.w3.org/TR/SVG11/feature#Extensibility\"><div xmlns=\"http://www.w3.org/1999/xhtml\" style=\"display: flex; align-items: unsafe center; justify-content: unsafe center; width: 118px; height: 1px; padding-top: 80px; margin-left: 261px;\"><div style=\"box-sizing: border-box; font-size: 0; text-align: center; \"><div style=\"display: inline-block; font-size: 12px; font-family: Helvetica; color: #000000; line-height: 1.2; pointer-events: all; white-space: normal; word-wrap: normal; \"><font face=\"Georgia\" style=\"font-size: 18px\"><i>V</i><sub>B</sub>, <i>P</i><sub>B</sub>, <i>T</i><sub>B</sub></font></div></div></div></foreignObject><text x=\"320\" y=\"84\" fill=\"#000000\" font-family=\"Helvetica\" font-size=\"12px\" text-anchor=\"middle\">VB, PB, TB</text></switch></g><path d=\"M 140.5 85 L 140.5 75 L 220.5 75 L 220.5 64.5 L 239.5 80 L 220.5 95.5 L 220.5 85 Z\" fill=\"none\" stroke=\"#000000\" stroke-linejoin=\"round\" stroke-miterlimit=\"10\" pointer-events=\"all\"/><rect x=\"25\" y=\"20\" width=\"70\" height=\"20\" fill=\"none\" stroke=\"none\" pointer-events=\"all\"/><g transform=\"translate(-0.5 -0.5)\"><switch><foreignObject style=\"overflow: visible; text-align: left;\" pointer-events=\"none\" width=\"100%\" height=\"100%\" requiredFeatures=\"http://www.w3.org/TR/SVG11/feature#Extensibility\"><div xmlns=\"http://www.w3.org/1999/xhtml\" style=\"display: flex; align-items: unsafe center; justify-content: unsafe center; width: 68px; height: 1px; padding-top: 30px; margin-left: 26px;\"><div style=\"box-sizing: border-box; font-size: 0; text-align: center; \"><div style=\"display: inline-block; font-size: 12px; font-family: Helvetica; color: #000000; line-height: 1.2; pointer-events: all; white-space: normal; word-wrap: normal; \"><font style=\"font-size: 18px\" face=\"Georgia\">状態 A</font></div></div></div></foreignObject><text x=\"60\" y=\"34\" fill=\"#000000\" font-family=\"Helvetica\" font-size=\"12px\" text-anchor=\"middle\">状態 A</text></switch></g><rect x=\"285\" y=\"0\" width=\"70\" height=\"20\" fill=\"none\" stroke=\"none\" pointer-events=\"all\"/><g transform=\"translate(-0.5 -0.5)\"><switch><foreignObject style=\"overflow: visible; text-align: left;\" pointer-events=\"none\" width=\"100%\" height=\"100%\" requiredFeatures=\"http://www.w3.org/TR/SVG11/feature#Extensibility\"><div xmlns=\"http://www.w3.org/1999/xhtml\" style=\"display: flex; align-items: unsafe center; justify-content: unsafe center; width: 68px; height: 1px; padding-top: 10px; margin-left: 286px;\"><div style=\"box-sizing: border-box; font-size: 0; text-align: center; \"><div style=\"display: inline-block; font-size: 12px; font-family: Helvetica; color: #000000; line-height: 1.2; pointer-events: all; white-space: normal; word-wrap: normal; \"><font style=\"font-size: 18px\" face=\"Georgia\">状態 B</font></div></div></div></foreignObject><text x=\"320\" y=\"14\" fill=\"#000000\" font-family=\"Helvetica\" font-size=\"12px\" text-anchor=\"middle\">状態 B</text></switch></g></g><switch><g requiredFeatures=\"http://www.w3.org/TR/SVG11/feature#Extensibility\"/><a transform=\"translate(0,-5)\" xlink:href=\"https://desk.draw.io/support/solutions/articles/16000042487\" target=\"_blank\"><text text-anchor=\"middle\" font-size=\"10px\" x=\"50%\" y=\"100%\">Viewer does not support full SVG 1.1</text></a></switch></svg>"
      ],
      "execution_count": 0,
      "outputs": [
        {
          "output_type": "display_data",
          "data": {
            "text/plain": [
              "<IPython.core.display.SVG object>"
            ],
            "image/svg+xml": "<svg content=\"&lt;mxfile host=&quot;app.diagrams.net&quot; modified=&quot;2020-06-04T12:57:43.525Z&quot; agent=&quot;5.0 (Macintosh; Intel Mac OS X 10_15_5) AppleWebKit/537.36 (KHTML, like Gecko) Chrome/83.0.4103.61 Safari/537.36&quot; etag=&quot;5DmYU-qQYoEvYif0_UwD&quot; version=&quot;13.1.14&quot; type=&quot;google&quot;&gt;&lt;diagram id=&quot;AvyVPRUh3zMHWMHEv4ot&quot; name=&quot;Page-1&quot;&gt;3ZfLjtowFIafxsuRSEIuLLnNdNFKaKiml52JTxKrTpw6DoQ+fR3iXAEBHVCrbmbi38fH8e/v2AFZ87h4ETiNPnECDJkjUiBrgUxz7JrqbynsK8EeaSEUlFSS0Qpr+gu0ONJqTglkvUDJOZM07Ys+TxLwZU/DQvBdPyzgrD9rikM4EtY+ZsfqF0pkVKme6bb6B6BhVM9sOJOqJ8Z1sF5JFmHCdx3JWiJrLjiX1VNczIGV3tW+VOOez/Q2LyYgkdcM+G6vkuf127fXbDOhfv7R/fpqPuksW8xyvWBkOkzlmwVcpVVvLffaCudnzuuOp+ywUVMVYHhp0XaWFmO/P+AFuAgp7gY5of5/mIrWwlutqFXQYVSWb2pp2onryMico9KEQdbVQ7J+fm/WRq2crmWzZ7qp9lChrhqzXUQlrNPK3Z0qNqVFMmaqZZTbQhmbc8bFYZxFMHiBX76KFPwHdHoc34NN0My1BSGhOMuU0ZCqKhx4DFLsVYge4Gq2dXEbnm7v2lIxav6jTpnUcVhXZ9hkbgFWD5rhG3g2L/F8DZ23Q/9OnmcP4fm2rNfyfDbrnXnGWVqd5wEtgBwDHng++CcB33j22B7dB3DLGhDuXEl4I94dcesE4gOT1VWTlo8Bg2JaXoLKDEiIflz4DGcZ9ft+V0mAHF2HF63qWGGfcKLWBDAs6baf/pQ7eoYVp4eK1TvRfBHonTCHBmc8Fz7oUd17cJDIupRIYhGCPEp02Kxm2X++f+5fvXKXLvKmaOagpYM8G3nl8Om1xavqSPap6RdfwhMYVKqWMKNhUqKnYAKlz8qqpOoza6o7YkoIO3csCJ4npDwEFncq64l9sardEyg/rKa9f46Jqw/0/4YJyx5AMX4YFKrZfvdX50r748la/gY=&lt;/diagram&gt;&lt;/mxfile&gt;\" onclick=\"(function(svg){var src=window.event.target||window.event.srcElement;while (src!=null&amp;&amp;src.nodeName.toLowerCase()!='a'){src=src.parentNode;}if(src==null){if(svg.wnd!=null&amp;&amp;!svg.wnd.closed){svg.wnd.focus();}else{var r=function(evt){if(evt.data=='ready'&amp;&amp;evt.source==svg.wnd){svg.wnd.postMessage(decodeURIComponent(svg.getAttribute('content')),'*');window.removeEventListener('message',r);}};window.addEventListener('message',r);svg.wnd=window.open('https://app.diagrams.net/?client=1&amp;lightbox=1&amp;edit=_blank');}}})(this);\" style=\"cursor:pointer;max-width:100%;max-height:141px;\" version=\"1.1\" viewBox=\"-0.5 -0.5 381 141\" width=\"381px\" xmlns=\"http://www.w3.org/2000/svg\" xmlns:xlink=\"http://www.w3.org/1999/xlink\"><defs/><g><ellipse cx=\"60\" cy=\"80\" fill=\"#dae8fc\" pointer-events=\"all\" rx=\"60\" ry=\"40\" stroke=\"#6c8ebf\"/><g transform=\"translate(-0.5 -0.5)\"><switch><foreignObject height=\"100%\" pointer-events=\"none\" requiredFeatures=\"http://www.w3.org/TR/SVG11/feature#Extensibility\" style=\"overflow: visible; text-align: left;\" width=\"100%\"><div style=\"display: flex; align-items: unsafe center; justify-content: unsafe center; width: 118px; height: 1px; padding-top: 80px; margin-left: 1px;\" xmlns=\"http://www.w3.org/1999/xhtml\"><div style=\"box-sizing: border-box; font-size: 0; text-align: center; \"><div style=\"display: inline-block; font-size: 12px; font-family: Helvetica; color: #000000; line-height: 1.2; pointer-events: all; white-space: normal; word-wrap: normal; \"><font face=\"Georgia\" style=\"font-size: 18px\"><i>V</i><sub>A</sub>, <i>P</i><sub>A</sub>, <i>T</i><sub>A</sub></font></div></div></div></foreignObject><text fill=\"#000000\" font-family=\"Helvetica\" font-size=\"12px\" text-anchor=\"middle\" x=\"60\" y=\"84\">VA, PA, TA</text></switch></g><ellipse cx=\"320\" cy=\"80\" fill=\"#f8cecc\" pointer-events=\"all\" rx=\"60\" ry=\"60\" stroke=\"#b85450\"/><g transform=\"translate(-0.5 -0.5)\"><switch><foreignObject height=\"100%\" pointer-events=\"none\" requiredFeatures=\"http://www.w3.org/TR/SVG11/feature#Extensibility\" style=\"overflow: visible; text-align: left;\" width=\"100%\"><div style=\"display: flex; align-items: unsafe center; justify-content: unsafe center; width: 118px; height: 1px; padding-top: 80px; margin-left: 261px;\" xmlns=\"http://www.w3.org/1999/xhtml\"><div style=\"box-sizing: border-box; font-size: 0; text-align: center; \"><div style=\"display: inline-block; font-size: 12px; font-family: Helvetica; color: #000000; line-height: 1.2; pointer-events: all; white-space: normal; word-wrap: normal; \"><font face=\"Georgia\" style=\"font-size: 18px\"><i>V</i><sub>B</sub>, <i>P</i><sub>B</sub>, <i>T</i><sub>B</sub></font></div></div></div></foreignObject><text fill=\"#000000\" font-family=\"Helvetica\" font-size=\"12px\" text-anchor=\"middle\" x=\"320\" y=\"84\">VB, PB, TB</text></switch></g><path d=\"M 140.5 85 L 140.5 75 L 220.5 75 L 220.5 64.5 L 239.5 80 L 220.5 95.5 L 220.5 85 Z\" fill=\"none\" pointer-events=\"all\" stroke=\"#000000\" stroke-linejoin=\"round\" stroke-miterlimit=\"10\"/><rect fill=\"none\" height=\"20\" pointer-events=\"all\" stroke=\"none\" width=\"70\" x=\"25\" y=\"20\"/><g transform=\"translate(-0.5 -0.5)\"><switch><foreignObject height=\"100%\" pointer-events=\"none\" requiredFeatures=\"http://www.w3.org/TR/SVG11/feature#Extensibility\" style=\"overflow: visible; text-align: left;\" width=\"100%\"><div style=\"display: flex; align-items: unsafe center; justify-content: unsafe center; width: 68px; height: 1px; padding-top: 30px; margin-left: 26px;\" xmlns=\"http://www.w3.org/1999/xhtml\"><div style=\"box-sizing: border-box; font-size: 0; text-align: center; \"><div style=\"display: inline-block; font-size: 12px; font-family: Helvetica; color: #000000; line-height: 1.2; pointer-events: all; white-space: normal; word-wrap: normal; \"><font face=\"Georgia\" style=\"font-size: 18px\">状態 A</font></div></div></div></foreignObject><text fill=\"#000000\" font-family=\"Helvetica\" font-size=\"12px\" text-anchor=\"middle\" x=\"60\" y=\"34\">状態 A</text></switch></g><rect fill=\"none\" height=\"20\" pointer-events=\"all\" stroke=\"none\" width=\"70\" x=\"285\" y=\"0\"/><g transform=\"translate(-0.5 -0.5)\"><switch><foreignObject height=\"100%\" pointer-events=\"none\" requiredFeatures=\"http://www.w3.org/TR/SVG11/feature#Extensibility\" style=\"overflow: visible; text-align: left;\" width=\"100%\"><div style=\"display: flex; align-items: unsafe center; justify-content: unsafe center; width: 68px; height: 1px; padding-top: 10px; margin-left: 286px;\" xmlns=\"http://www.w3.org/1999/xhtml\"><div style=\"box-sizing: border-box; font-size: 0; text-align: center; \"><div style=\"display: inline-block; font-size: 12px; font-family: Helvetica; color: #000000; line-height: 1.2; pointer-events: all; white-space: normal; word-wrap: normal; \"><font face=\"Georgia\" style=\"font-size: 18px\">状態 B</font></div></div></div></foreignObject><text fill=\"#000000\" font-family=\"Helvetica\" font-size=\"12px\" text-anchor=\"middle\" x=\"320\" y=\"14\">状態 B</text></switch></g></g><switch><g requiredFeatures=\"http://www.w3.org/TR/SVG11/feature#Extensibility\"/><a target=\"_blank\" transform=\"translate(0,-5)\" xlink:href=\"https://desk.draw.io/support/solutions/articles/16000042487\"><text font-size=\"10px\" text-anchor=\"middle\" x=\"50%\" y=\"100%\">Viewer does not support full SVG 1.1</text></a></switch></svg>"
          },
          "metadata": {
            "tags": []
          }
        }
      ]
    },
    {
      "cell_type": "markdown",
      "metadata": {
        "id": "PzYgVvKNaglX",
        "colab_type": "text"
      },
      "source": [
        "閉じ込められた一定量の理想気体について, 二つの状態で関係式を立てると\n",
        "\\begin{align*}\n",
        "\\frac{P_{\\rm A} V_{\\rm A}}{T_{\\rm A}}\n",
        "&=constant=\n",
        "\\frac{P_{\\rm B} V_{\\rm B}}{T_{\\rm B}}&\n",
        "\\end{align*}\n",
        "定数(constant)部分を省略して\n",
        "\\begin{align*}\n",
        "\\frac{P_{\\rm A} V_{\\rm A}}{T_{\\rm A}}\n",
        "=\n",
        "\\frac{P_{\\rm B} V_{\\rm B}}{T_{\\rm B}}\n",
        "\\end{align*}\n",
        "これを利用すると, 理想気体について状態Aをもとに 状態B の 体積, 圧力, 温度 を求めることができます."
      ]
    },
    {
      "cell_type": "markdown",
      "metadata": {
        "id": "mKBhZHmadQVo",
        "colab_type": "text"
      },
      "source": [
        "### 理想気体の状態方程式: ボイル-シャルルの法則の拡張\n",
        "\n"
      ]
    },
    {
      "cell_type": "code",
      "metadata": {
        "id": "dnoVIiYdgaIK",
        "colab_type": "code",
        "cellView": "form",
        "outputId": "2cdb0a2e-d85c-446f-862d-06b80b7ad910",
        "colab": {
          "base_uri": "https://localhost:8080/",
          "height": 367
        }
      },
      "source": [
        "#@title 標準状態におけるボイル-シャルルの法則から理想気体の状態方程式へ\n",
        "%%svg\n",
        "<svg xmlns=\"http://www.w3.org/2000/svg\" xmlns:xlink=\"http://www.w3.org/1999/xlink\" version=\"1.1\" width=\"776px\" viewBox=\"-0.5 -0.5 776 346\" content=\"&lt;mxfile host=&quot;app.diagrams.net&quot; modified=&quot;2020-06-05T00:00:09.723Z&quot; agent=&quot;5.0 (Macintosh; Intel Mac OS X 10_10_5) AppleWebKit/537.36 (KHTML, like Gecko) Chrome/83.0.4103.61 Safari/537.36&quot; etag=&quot;o3pxEv5wa4A0PYvmqVfc&quot; version=&quot;13.1.3&quot; type=&quot;google&quot;&gt;&lt;diagram id=&quot;a8Y1USlVCGHWpXz7_NcF&quot; name=&quot;Page-1&quot;&gt;7Vvdc6M2EP9r/HgZkPgwj7Fzufamd71p2rumLx3ZyDYtBgo4se/h/vZKIPEhiRh7CFYysR9AK7GsftpdraRlAufb/YcUJZtPsY/DCTD8/QTeTAAwAbTIhVIOjGIYXklZp4HPaDXhLviOeUNG3QU+zloN8zgO8yBpE5dxFOFl3qKhNI0f281Wcdh+a4LWWCLcLVEoU78Ffr4pqVPg1vSfcLDe8DebDuvfFvHGrCfZBvnxY4ME30/gPI3jvLzb7uc4pOhxXMrnbjtqK8FSHOV9HvjjI/y2mEXXKHxwfv1nEfy1+uy/Y1weULhjHZ4AJyT8ZquYsCVS5wcGhfPfLuYV77JioK5JA3Oa7OtKCjFath/4gON0HaBmI2fNrsWrAk74wimkF4HYKtstOMlotGuQJX4TMCcCfS0vvw/DnFBLaDgZtFACBHSim6Qwe9wEOb5LSjgeiX0Q2ibfhqRkkluUJaXCroI99imwQRjO4zBOC0ZwZdM/lS1P439xo8YpfmwoGvTyVwnVVA0+zjjN8b5BYqpChmiL8/RAmrBai2ktt1uHlR9rIzC5Zm+aBsCJiBneumJd6ya5Yep5gqoChaoK2J+K+AA4AdtuA+WCK1uCyrNlpDhtcKDg8ED5KNvQm6J2ANSg0UaN/BSoWQrUrOdCzdJSvaypYIeeOyJQX+Hf3z/dbPaz+9XD/NZ173/5+WMf9Vru0odKXXDkX9OJmBSXIcqyYNmGjYCTHv4kBYMX7mnhyubFm32z8ubASuVbsS/N3xLcWbxL2Zz0pMXkKF3j/JiOyGPVGAlb4RI5LcUhyoOHtriq4WFv+BIHxRTMbUZQBeBUqsCZlB1lzzVDAYGVBQVWpsSqxEJiRUYSHRrNEtog6xZaelMldJdsUjdN4QlyU0pRq3A1Fudrtcr8TwuEgHV+IFS06hVeEL+RC24nDNYRNS6i9phEAjPqXQISwV6zim3g+/TxWYqJtGhRsKIWxAaP8LVnE/uG8trlcdmjhqeXvJXCyDodmOmJwykHElBhNEOEEcqBdo67r/NDuAEAE/AyXZXDN6vpsh17iVY8GGqu5qjVKHE9s1UB68ioTTVHzRSifHUYNjpsnu6wmQJsOugal0lb1IAUyuqAmmoDRCfUIDCvgODa4PTK1cBMzR4rct2wU6+fxoeuxyLqssbqSBMq1AO5Huv0iyJneY5ksCbUw2BtBXbVlmnXCmeFtkF4KNc4pAptkwIoCC1yXVdLmjadti0XQU/vFvfZ901QdFHpztojLqWW9qUv2o3em+GvAPEXvmwGtuh/TUv2IJ5i4Qyfa+FsqsJyHRT7zXuM6T3eoB4H6jcPrbeHtmxhOeso42NjTBcNVKtZPVSaPR4tsuKit3JTJdHbQ7Th1BrNbRxyWRZpTwd8caGLuk6Q9dOIz6OrQI8ZgZN6pxJBVdeuG11rH429vJmdvtQYfahOEdG5MugMMpnDiefSVkY9sAlvBGAL/OQo+C99rq/PRfiWjqU8KXEUs739bLN993YOszjpBHotn0CffrDdkWz3Q3aYhkgaOsHv6fXIOQmDtwOlCdaPFshKHE1uYULz3zocBMoVwhpRJ/dXmk5gi/kkhirqBu6oUbfqcFyL6eaUqFsvUbWeIxsR7Wub6Zz2NGdxQ2oYl8q2ni1bB/RIocg2KKG3qxDvWabh0aTDksnx5MFLJft5dnVixD2dJx0M9U33k5lBS2LWkfA3VH4deJG7x5d2isdPbM49+hQ/Npgu8ZLaiPSxwWJq062uQbyLcC4KVR8VqIyq2kUbPplZ96wZYZcR6pA0A3XPXvDEw7MqqfiisOmeulAdMfLZX5GrOz5qqlWuTqiJIRPUATTds5zFFErL0gE13bOcTSjuQ+nh2PrkOdcBeRRHuI1VGXTw72uBKgy5vfXI7wVE7rYr7FBY5rlxuwtEVqDN6OyYnRTrD4/L5vX32/D9/w==&lt;/diagram&gt;&lt;/mxfile&gt;\" onclick=\"(function(svg){var src=window.event.target||window.event.srcElement;while (src!=null&amp;&amp;src.nodeName.toLowerCase()!='a'){src=src.parentNode;}if(src==null){if(svg.wnd!=null&amp;&amp;!svg.wnd.closed){svg.wnd.focus();}else{var r=function(evt){if(evt.data=='ready'&amp;&amp;evt.source==svg.wnd){svg.wnd.postMessage(decodeURIComponent(svg.getAttribute('content')),'*');window.removeEventListener('message',r);}};window.addEventListener('message',r);svg.wnd=window.open('https://app.diagrams.net/?client=1&amp;lightbox=1&amp;edit=_blank');}}})(this);\" style=\"cursor:pointer;max-width:100%;max-height:346px;\"><defs/><g><ellipse cx=\"75\" cy=\"75\" rx=\"60\" ry=\"60\" fill=\"#f5f5f5\" stroke=\"#666666\" pointer-events=\"all\"/><g transform=\"translate(-0.5 -0.5)\"><switch><foreignObject style=\"overflow: visible; text-align: left;\" pointer-events=\"none\" width=\"100%\" height=\"100%\" requiredFeatures=\"http://www.w3.org/TR/SVG11/feature#Extensibility\"><div xmlns=\"http://www.w3.org/1999/xhtml\" style=\"display: flex; align-items: unsafe center; justify-content: unsafe center; width: 118px; height: 1px; padding-top: 75px; margin-left: 16px;\"><div style=\"box-sizing: border-box; font-size: 0; text-align: center; \"><div style=\"display: inline-block; font-size: 12px; font-family: Helvetica; color: #333333; line-height: 1.2; pointer-events: all; white-space: normal; word-wrap: normal; \"><font style=\"font-size: 18px\" face=\"Georgia\"><i>P</i><sub>0</sub><i>, V, T</i><sub>0</sub></font></div></div></div></foreignObject><text x=\"75\" y=\"79\" fill=\"#333333\" font-family=\"Helvetica\" font-size=\"12px\" text-anchor=\"middle\">P0, V, T0</text></switch></g><rect x=\"230\" y=\"27.5\" width=\"95\" height=\"95\" fill=\"#ffffff\" stroke=\"#000000\" pointer-events=\"all\"/><rect x=\"280\" y=\"77.5\" width=\"45\" height=\"45\" fill=\"#ffffff\" stroke=\"#000000\" stroke-dasharray=\"3 3\" pointer-events=\"all\"/><rect x=\"455\" y=\"52.5\" width=\"45\" height=\"45\" fill=\"#ffffff\" stroke=\"#000000\" pointer-events=\"all\"/><path d=\"M 325 104.94 Q 405 122.5 380 97.5 Q 355 72.5 448.63 74.84\" fill=\"none\" stroke=\"#000000\" stroke-miterlimit=\"10\" pointer-events=\"stroke\"/><path d=\"M 453.88 74.97 L 446.8 78.3 L 448.63 74.84 L 446.97 71.3 Z\" fill=\"#000000\" stroke=\"#000000\" stroke-miterlimit=\"10\" pointer-events=\"all\"/><rect x=\"165\" y=\"65\" width=\"30\" height=\"20\" fill=\"none\" stroke=\"none\" pointer-events=\"all\"/><g transform=\"translate(-0.5 -0.5)\"><switch><foreignObject style=\"overflow: visible; text-align: left;\" pointer-events=\"none\" width=\"100%\" height=\"100%\" requiredFeatures=\"http://www.w3.org/TR/SVG11/feature#Extensibility\"><div xmlns=\"http://www.w3.org/1999/xhtml\" style=\"display: flex; align-items: unsafe center; justify-content: unsafe center; width: 1px; height: 1px; padding-top: 75px; margin-left: 180px;\"><div style=\"box-sizing: border-box; font-size: 0; text-align: center; \"><div style=\"display: inline-block; font-size: 12px; font-family: Helvetica; color: #000000; line-height: 1.2; pointer-events: all; white-space: nowrap; \"><font style=\"font-size: 24px\" face=\"Georgia\">=</font></div></div></div></foreignObject><text x=\"180\" y=\"79\" fill=\"#000000\" font-family=\"Helvetica\" font-size=\"12px\" text-anchor=\"middle\">=</text></switch></g><ellipse cx=\"71.25\" cy=\"38.75\" rx=\"6.25\" ry=\"6.25\" fill=\"#ffffff\" stroke=\"#000000\" pointer-events=\"all\"/><ellipse cx=\"58.75\" cy=\"111.25\" rx=\"6.25\" ry=\"6.25\" fill=\"#ffffff\" stroke=\"#000000\" pointer-events=\"all\"/><ellipse cx=\"121.25\" cy=\"83.75\" rx=\"6.25\" ry=\"6.25\" fill=\"#ffffff\" stroke=\"#000000\" pointer-events=\"all\"/><ellipse cx=\"91.25\" cy=\"111.25\" rx=\"6.25\" ry=\"6.25\" fill=\"#ffffff\" stroke=\"#000000\" pointer-events=\"all\"/><ellipse cx=\"261.25\" cy=\"51.25\" rx=\"6.25\" ry=\"6.25\" fill=\"#ffffff\" stroke=\"#000000\" pointer-events=\"all\"/><ellipse cx=\"302.5\" cy=\"100\" rx=\"6.25\" ry=\"6.25\" fill=\"#ffffff\" stroke=\"#000000\" pointer-events=\"all\"/><ellipse cx=\"302.5\" cy=\"58.75\" rx=\"6.25\" ry=\"6.25\" fill=\"#ffffff\" stroke=\"#000000\" pointer-events=\"all\"/><ellipse cx=\"248.75\" cy=\"98.75\" rx=\"6.25\" ry=\"6.25\" fill=\"#ffffff\" stroke=\"#000000\" pointer-events=\"all\"/><ellipse cx=\"477.5\" cy=\"75\" rx=\"6.25\" ry=\"6.25\" fill=\"#ffffff\" stroke=\"#000000\" pointer-events=\"all\"/><rect x=\"232.5\" y=\"0\" width=\"90\" height=\"30\" fill=\"none\" stroke=\"none\" pointer-events=\"all\"/><g transform=\"translate(-0.5 -0.5)\"><switch><foreignObject style=\"overflow: visible; text-align: left;\" pointer-events=\"none\" width=\"100%\" height=\"100%\" requiredFeatures=\"http://www.w3.org/TR/SVG11/feature#Extensibility\"><div xmlns=\"http://www.w3.org/1999/xhtml\" style=\"display: flex; align-items: unsafe center; justify-content: unsafe center; width: 1px; height: 1px; padding-top: 15px; margin-left: 278px;\"><div style=\"box-sizing: border-box; font-size: 0; text-align: center; \"><div style=\"display: inline-block; font-size: 12px; font-family: Helvetica; color: #000000; line-height: 1.2; pointer-events: all; white-space: nowrap; \"><i style=\"font-family: &quot;georgia&quot; ; font-size: 18px\">P</i><span style=\"font-family: &quot;georgia&quot; ; font-size: 18px\"><sub>0</sub></span><i style=\"font-family: &quot;georgia&quot; ; font-size: 18px\">, V, T</i><span style=\"font-family: &quot;georgia&quot; ; font-size: 18px\"><sub>0</sub></span></div></div></div></foreignObject><text x=\"278\" y=\"19\" fill=\"#000000\" font-family=\"Helvetica\" font-size=\"12px\" text-anchor=\"middle\">P0, V, T0</text></switch></g><rect x=\"425\" y=\"22.5\" width=\"100\" height=\"30\" fill=\"none\" stroke=\"none\" pointer-events=\"all\"/><g transform=\"translate(-0.5 -0.5)\"><switch><foreignObject style=\"overflow: visible; text-align: left;\" pointer-events=\"none\" width=\"100%\" height=\"100%\" requiredFeatures=\"http://www.w3.org/TR/SVG11/feature#Extensibility\"><div xmlns=\"http://www.w3.org/1999/xhtml\" style=\"display: flex; align-items: unsafe center; justify-content: unsafe center; width: 1px; height: 1px; padding-top: 38px; margin-left: 475px;\"><div style=\"box-sizing: border-box; font-size: 0; text-align: center; \"><div style=\"display: inline-block; font-size: 12px; font-family: Helvetica; color: #000000; line-height: 1.2; pointer-events: all; white-space: nowrap; \"><i style=\"font-family: &quot;georgia&quot; ; font-size: 18px\">P</i><span style=\"font-family: &quot;georgia&quot; ; font-size: 18px\"><sub>0</sub></span><i style=\"font-family: &quot;georgia&quot; ; font-size: 18px\">, V</i><span style=\"font-family: &quot;georgia&quot; ; font-size: 18px\"><sub>0</sub></span><i style=\"font-family: &quot;georgia&quot; ; font-size: 18px\">, T</i><span style=\"font-family: &quot;georgia&quot; ; font-size: 18px\"><sub>0</sub></span></div></div></div></foreignObject><text x=\"475\" y=\"41\" fill=\"#000000\" font-family=\"Helvetica\" font-size=\"12px\" text-anchor=\"middle\">P0, V0, T0</text></switch></g><rect x=\"397.5\" y=\"97.5\" width=\"160\" height=\"50\" fill=\"none\" stroke=\"none\" pointer-events=\"all\"/><g transform=\"translate(-0.5 -0.5)\"><switch><foreignObject style=\"overflow: visible; text-align: left;\" pointer-events=\"none\" width=\"100%\" height=\"100%\" requiredFeatures=\"http://www.w3.org/TR/SVG11/feature#Extensibility\"><div xmlns=\"http://www.w3.org/1999/xhtml\" style=\"display: flex; align-items: unsafe center; justify-content: unsafe center; width: 1px; height: 1px; padding-top: 123px; margin-left: 478px;\"><div style=\"box-sizing: border-box; font-size: 0; text-align: center; \"><div style=\"display: inline-block; font-size: 12px; font-family: Helvetica; color: #000000; line-height: 1.2; pointer-events: all; white-space: nowrap; \"><i style=\"font-family: &quot;georgia&quot; ; font-size: 18px\"> n</i><span style=\"font-family: &quot;georgia&quot; ; font-size: 18px\">=1</span><i style=\"font-family: &quot;georgia&quot; ; font-size: 18px\"> </i><span style=\"font-family: &quot;georgia&quot; ; font-size: 18px\">mol<br /></span><span style=\"font-family: &quot;georgia&quot; ; font-size: 18px\">: </span><i style=\"font-family: &quot;georgia&quot; ; font-size: 18px\">N</i><span style=\"font-family: &quot;georgia&quot;\"><sub><font style=\"font-size: 13px\">A</font></sub></span><i style=\"font-family: &quot;georgia&quot; ; font-size: 18px\">= </i><span style=\"font-family: &quot;georgia&quot; ; font-size: 18px\">6.02 × 10<sup>23</sup></span></div></div></div></foreignObject><text x=\"478\" y=\"126\" fill=\"#000000\" font-family=\"Helvetica\" font-size=\"12px\" text-anchor=\"middle\">n=1 mol...</text></switch></g><rect x=\"505\" y=\"62.5\" width=\"270\" height=\"30\" fill=\"none\" stroke=\"none\" pointer-events=\"all\"/><g transform=\"translate(-0.5 -0.5)\"><switch><foreignObject style=\"overflow: visible; text-align: left;\" pointer-events=\"none\" width=\"100%\" height=\"100%\" requiredFeatures=\"http://www.w3.org/TR/SVG11/feature#Extensibility\"><div xmlns=\"http://www.w3.org/1999/xhtml\" style=\"display: flex; align-items: unsafe center; justify-content: unsafe center; width: 1px; height: 1px; padding-top: 78px; margin-left: 640px;\"><div style=\"box-sizing: border-box; font-size: 0; text-align: center; \"><div style=\"display: inline-block; font-size: 12px; font-family: Helvetica; color: #000000; line-height: 1.2; pointer-events: all; white-space: nowrap; \"><font face=\"georgia\" style=\"font-size: 24px\"><i>~   P</i><sub>0</sub><i>V</i><sub>0</sub><i>/T</i><sub>0</sub><i>=</i>1×<i>R </i>at<i> n=</i>1</font></div></div></div></foreignObject><text x=\"640\" y=\"81\" fill=\"#000000\" font-family=\"Helvetica\" font-size=\"12px\" text-anchor=\"middle\">~   P0V0/T0=1×R at n=1</text></switch></g><rect x=\"40\" y=\"325\" width=\"70\" height=\"20\" fill=\"none\" stroke=\"none\" pointer-events=\"all\"/><g transform=\"translate(-0.5 -0.5)\"><switch><foreignObject style=\"overflow: visible; text-align: left;\" pointer-events=\"none\" width=\"100%\" height=\"100%\" requiredFeatures=\"http://www.w3.org/TR/SVG11/feature#Extensibility\"><div xmlns=\"http://www.w3.org/1999/xhtml\" style=\"display: flex; align-items: unsafe center; justify-content: unsafe center; width: 1px; height: 1px; padding-top: 335px; margin-left: 75px;\"><div style=\"box-sizing: border-box; font-size: 0; text-align: center; \"><div style=\"display: inline-block; font-size: 12px; font-family: Helvetica; color: #000000; line-height: 1.2; pointer-events: all; white-space: nowrap; \"><i style=\"font-family: &quot;georgia&quot; ; font-size: 18px\"> n</i><i style=\"font-family: &quot;georgia&quot; ; font-size: 18px\"> </i><span style=\"font-family: &quot;georgia&quot; ; font-size: 18px\">mol</span></div></div></div></foreignObject><text x=\"75\" y=\"339\" fill=\"#000000\" font-family=\"Helvetica\" font-size=\"12px\" text-anchor=\"middle\"> n mol</text></switch></g><path d=\"M 65.75 148 L 75.75 148 L 75.75 178 L 86.25 178 L 70.75 197 L 55.25 178 L 65.75 178 Z\" fill=\"none\" stroke=\"#000000\" stroke-linejoin=\"round\" stroke-miterlimit=\"10\" pointer-events=\"all\"/><ellipse cx=\"75\" cy=\"265\" rx=\"75\" ry=\"50\" fill=\"#f8cecc\" stroke=\"#b85450\" pointer-events=\"all\"/><g transform=\"translate(-0.5 -0.5)\"><switch><foreignObject style=\"overflow: visible; text-align: left;\" pointer-events=\"none\" width=\"100%\" height=\"100%\" requiredFeatures=\"http://www.w3.org/TR/SVG11/feature#Extensibility\"><div xmlns=\"http://www.w3.org/1999/xhtml\" style=\"display: flex; align-items: unsafe center; justify-content: unsafe center; width: 148px; height: 1px; padding-top: 265px; margin-left: 1px;\"><div style=\"box-sizing: border-box; font-size: 0; text-align: center; \"><div style=\"display: inline-block; font-size: 12px; font-family: Helvetica; color: #000000; line-height: 1.2; pointer-events: all; white-space: normal; word-wrap: normal; \"><i style=\"font-family: &quot;georgia&quot; ; font-size: 18px\">P</i><i style=\"font-family: &quot;georgia&quot; ; font-size: 18px\">, V, T</i></div></div></div></foreignObject><text x=\"75\" y=\"269\" fill=\"#000000\" font-family=\"Helvetica\" font-size=\"12px\" text-anchor=\"middle\">P, V, T</text></switch></g><ellipse cx=\"31.25\" cy=\"251.25\" rx=\"6.25\" ry=\"6.25\" fill=\"#ffffff\" stroke=\"#000000\" pointer-events=\"all\"/><ellipse cx=\"78.75\" cy=\"241.25\" rx=\"6.25\" ry=\"6.25\" fill=\"#ffffff\" stroke=\"#000000\" pointer-events=\"all\"/><ellipse cx=\"126.25\" cy=\"271.25\" rx=\"6.25\" ry=\"6.25\" fill=\"#ffffff\" stroke=\"#000000\" pointer-events=\"all\"/><ellipse cx=\"46.25\" cy=\"291.25\" rx=\"6.25\" ry=\"6.25\" fill=\"#ffffff\" stroke=\"#000000\" pointer-events=\"all\"/><ellipse cx=\"91.25\" cy=\"301.25\" rx=\"6.25\" ry=\"6.25\" fill=\"#ffffff\" stroke=\"#000000\" pointer-events=\"all\"/><ellipse cx=\"113.75\" cy=\"241.25\" rx=\"6.25\" ry=\"6.25\" fill=\"#ffffff\" stroke=\"#000000\" pointer-events=\"all\"/><path d=\"M 545 96.5 L 695 97\" fill=\"none\" stroke=\"#ff9999\" stroke-width=\"2\" stroke-miterlimit=\"10\" pointer-events=\"stroke\"/></g><switch><g requiredFeatures=\"http://www.w3.org/TR/SVG11/feature#Extensibility\"/><a transform=\"translate(0,-5)\" xlink:href=\"https://desk.draw.io/support/solutions/articles/16000042487\" target=\"_blank\"><text text-anchor=\"middle\" font-size=\"10px\" x=\"50%\" y=\"100%\">Viewer does not support full SVG 1.1</text></a></switch></svg>"
      ],
      "execution_count": 0,
      "outputs": [
        {
          "output_type": "display_data",
          "data": {
            "text/plain": [
              "<IPython.core.display.SVG object>"
            ],
            "image/svg+xml": "<svg content=\"&lt;mxfile host=&quot;app.diagrams.net&quot; modified=&quot;2020-06-05T00:00:09.723Z&quot; agent=&quot;5.0 (Macintosh; Intel Mac OS X 10_10_5) AppleWebKit/537.36 (KHTML, like Gecko) Chrome/83.0.4103.61 Safari/537.36&quot; etag=&quot;o3pxEv5wa4A0PYvmqVfc&quot; version=&quot;13.1.3&quot; type=&quot;google&quot;&gt;&lt;diagram id=&quot;a8Y1USlVCGHWpXz7_NcF&quot; name=&quot;Page-1&quot;&gt;7Vvdc6M2EP9r/HgZkPgwj7Fzufamd71p2rumLx3ZyDYtBgo4se/h/vZKIPEhiRh7CFYysR9AK7GsftpdraRlAufb/YcUJZtPsY/DCTD8/QTeTAAwAbTIhVIOjGIYXklZp4HPaDXhLviOeUNG3QU+zloN8zgO8yBpE5dxFOFl3qKhNI0f281Wcdh+a4LWWCLcLVEoU78Ffr4pqVPg1vSfcLDe8DebDuvfFvHGrCfZBvnxY4ME30/gPI3jvLzb7uc4pOhxXMrnbjtqK8FSHOV9HvjjI/y2mEXXKHxwfv1nEfy1+uy/Y1weULhjHZ4AJyT8ZquYsCVS5wcGhfPfLuYV77JioK5JA3Oa7OtKCjFath/4gON0HaBmI2fNrsWrAk74wimkF4HYKtstOMlotGuQJX4TMCcCfS0vvw/DnFBLaDgZtFACBHSim6Qwe9wEOb5LSjgeiX0Q2ibfhqRkkluUJaXCroI99imwQRjO4zBOC0ZwZdM/lS1P439xo8YpfmwoGvTyVwnVVA0+zjjN8b5BYqpChmiL8/RAmrBai2ktt1uHlR9rIzC5Zm+aBsCJiBneumJd6ya5Yep5gqoChaoK2J+K+AA4AdtuA+WCK1uCyrNlpDhtcKDg8ED5KNvQm6J2ANSg0UaN/BSoWQrUrOdCzdJSvaypYIeeOyJQX+Hf3z/dbPaz+9XD/NZ173/5+WMf9Vru0odKXXDkX9OJmBSXIcqyYNmGjYCTHv4kBYMX7mnhyubFm32z8ubASuVbsS/N3xLcWbxL2Zz0pMXkKF3j/JiOyGPVGAlb4RI5LcUhyoOHtriq4WFv+BIHxRTMbUZQBeBUqsCZlB1lzzVDAYGVBQVWpsSqxEJiRUYSHRrNEtog6xZaelMldJdsUjdN4QlyU0pRq3A1Fudrtcr8TwuEgHV+IFS06hVeEL+RC24nDNYRNS6i9phEAjPqXQISwV6zim3g+/TxWYqJtGhRsKIWxAaP8LVnE/uG8trlcdmjhqeXvJXCyDodmOmJwykHElBhNEOEEcqBdo67r/NDuAEAE/AyXZXDN6vpsh17iVY8GGqu5qjVKHE9s1UB68ioTTVHzRSifHUYNjpsnu6wmQJsOugal0lb1IAUyuqAmmoDRCfUIDCvgODa4PTK1cBMzR4rct2wU6+fxoeuxyLqssbqSBMq1AO5Huv0iyJneY5ksCbUw2BtBXbVlmnXCmeFtkF4KNc4pAptkwIoCC1yXVdLmjadti0XQU/vFvfZ901QdFHpztojLqWW9qUv2o3em+GvAPEXvmwGtuh/TUv2IJ5i4Qyfa+FsqsJyHRT7zXuM6T3eoB4H6jcPrbeHtmxhOeso42NjTBcNVKtZPVSaPR4tsuKit3JTJdHbQ7Th1BrNbRxyWRZpTwd8caGLuk6Q9dOIz6OrQI8ZgZN6pxJBVdeuG11rH429vJmdvtQYfahOEdG5MugMMpnDiefSVkY9sAlvBGAL/OQo+C99rq/PRfiWjqU8KXEUs739bLN993YOszjpBHotn0CffrDdkWz3Q3aYhkgaOsHv6fXIOQmDtwOlCdaPFshKHE1uYULz3zocBMoVwhpRJ/dXmk5gi/kkhirqBu6oUbfqcFyL6eaUqFsvUbWeIxsR7Wub6Zz2NGdxQ2oYl8q2ni1bB/RIocg2KKG3qxDvWabh0aTDksnx5MFLJft5dnVixD2dJx0M9U33k5lBS2LWkfA3VH4deJG7x5d2isdPbM49+hQ/Npgu8ZLaiPSxwWJq062uQbyLcC4KVR8VqIyq2kUbPplZ96wZYZcR6pA0A3XPXvDEw7MqqfiisOmeulAdMfLZX5GrOz5qqlWuTqiJIRPUATTds5zFFErL0gE13bOcTSjuQ+nh2PrkOdcBeRRHuI1VGXTw72uBKgy5vfXI7wVE7rYr7FBY5rlxuwtEVqDN6OyYnRTrD4/L5vX32/D9/w==&lt;/diagram&gt;&lt;/mxfile&gt;\" onclick=\"(function(svg){var src=window.event.target||window.event.srcElement;while (src!=null&amp;&amp;src.nodeName.toLowerCase()!='a'){src=src.parentNode;}if(src==null){if(svg.wnd!=null&amp;&amp;!svg.wnd.closed){svg.wnd.focus();}else{var r=function(evt){if(evt.data=='ready'&amp;&amp;evt.source==svg.wnd){svg.wnd.postMessage(decodeURIComponent(svg.getAttribute('content')),'*');window.removeEventListener('message',r);}};window.addEventListener('message',r);svg.wnd=window.open('https://app.diagrams.net/?client=1&amp;lightbox=1&amp;edit=_blank');}}})(this);\" style=\"cursor:pointer;max-width:100%;max-height:346px;\" version=\"1.1\" viewBox=\"-0.5 -0.5 776 346\" width=\"776px\" xmlns=\"http://www.w3.org/2000/svg\" xmlns:xlink=\"http://www.w3.org/1999/xlink\"><defs/><g><ellipse cx=\"75\" cy=\"75\" fill=\"#f5f5f5\" pointer-events=\"all\" rx=\"60\" ry=\"60\" stroke=\"#666666\"/><g transform=\"translate(-0.5 -0.5)\"><switch><foreignObject height=\"100%\" pointer-events=\"none\" requiredFeatures=\"http://www.w3.org/TR/SVG11/feature#Extensibility\" style=\"overflow: visible; text-align: left;\" width=\"100%\"><div style=\"display: flex; align-items: unsafe center; justify-content: unsafe center; width: 118px; height: 1px; padding-top: 75px; margin-left: 16px;\" xmlns=\"http://www.w3.org/1999/xhtml\"><div style=\"box-sizing: border-box; font-size: 0; text-align: center; \"><div style=\"display: inline-block; font-size: 12px; font-family: Helvetica; color: #333333; line-height: 1.2; pointer-events: all; white-space: normal; word-wrap: normal; \"><font face=\"Georgia\" style=\"font-size: 18px\"><i>P</i><sub>0</sub><i>, V, T</i><sub>0</sub></font></div></div></div></foreignObject><text fill=\"#333333\" font-family=\"Helvetica\" font-size=\"12px\" text-anchor=\"middle\" x=\"75\" y=\"79\">P0, V, T0</text></switch></g><rect fill=\"#ffffff\" height=\"95\" pointer-events=\"all\" stroke=\"#000000\" width=\"95\" x=\"230\" y=\"27.5\"/><rect fill=\"#ffffff\" height=\"45\" pointer-events=\"all\" stroke=\"#000000\" stroke-dasharray=\"3 3\" width=\"45\" x=\"280\" y=\"77.5\"/><rect fill=\"#ffffff\" height=\"45\" pointer-events=\"all\" stroke=\"#000000\" width=\"45\" x=\"455\" y=\"52.5\"/><path d=\"M 325 104.94 Q 405 122.5 380 97.5 Q 355 72.5 448.63 74.84\" fill=\"none\" pointer-events=\"stroke\" stroke=\"#000000\" stroke-miterlimit=\"10\"/><path d=\"M 453.88 74.97 L 446.8 78.3 L 448.63 74.84 L 446.97 71.3 Z\" fill=\"#000000\" pointer-events=\"all\" stroke=\"#000000\" stroke-miterlimit=\"10\"/><rect fill=\"none\" height=\"20\" pointer-events=\"all\" stroke=\"none\" width=\"30\" x=\"165\" y=\"65\"/><g transform=\"translate(-0.5 -0.5)\"><switch><foreignObject height=\"100%\" pointer-events=\"none\" requiredFeatures=\"http://www.w3.org/TR/SVG11/feature#Extensibility\" style=\"overflow: visible; text-align: left;\" width=\"100%\"><div style=\"display: flex; align-items: unsafe center; justify-content: unsafe center; width: 1px; height: 1px; padding-top: 75px; margin-left: 180px;\" xmlns=\"http://www.w3.org/1999/xhtml\"><div style=\"box-sizing: border-box; font-size: 0; text-align: center; \"><div style=\"display: inline-block; font-size: 12px; font-family: Helvetica; color: #000000; line-height: 1.2; pointer-events: all; white-space: nowrap; \"><font face=\"Georgia\" style=\"font-size: 24px\">=</font></div></div></div></foreignObject><text fill=\"#000000\" font-family=\"Helvetica\" font-size=\"12px\" text-anchor=\"middle\" x=\"180\" y=\"79\">=</text></switch></g><ellipse cx=\"71.25\" cy=\"38.75\" fill=\"#ffffff\" pointer-events=\"all\" rx=\"6.25\" ry=\"6.25\" stroke=\"#000000\"/><ellipse cx=\"58.75\" cy=\"111.25\" fill=\"#ffffff\" pointer-events=\"all\" rx=\"6.25\" ry=\"6.25\" stroke=\"#000000\"/><ellipse cx=\"121.25\" cy=\"83.75\" fill=\"#ffffff\" pointer-events=\"all\" rx=\"6.25\" ry=\"6.25\" stroke=\"#000000\"/><ellipse cx=\"91.25\" cy=\"111.25\" fill=\"#ffffff\" pointer-events=\"all\" rx=\"6.25\" ry=\"6.25\" stroke=\"#000000\"/><ellipse cx=\"261.25\" cy=\"51.25\" fill=\"#ffffff\" pointer-events=\"all\" rx=\"6.25\" ry=\"6.25\" stroke=\"#000000\"/><ellipse cx=\"302.5\" cy=\"100\" fill=\"#ffffff\" pointer-events=\"all\" rx=\"6.25\" ry=\"6.25\" stroke=\"#000000\"/><ellipse cx=\"302.5\" cy=\"58.75\" fill=\"#ffffff\" pointer-events=\"all\" rx=\"6.25\" ry=\"6.25\" stroke=\"#000000\"/><ellipse cx=\"248.75\" cy=\"98.75\" fill=\"#ffffff\" pointer-events=\"all\" rx=\"6.25\" ry=\"6.25\" stroke=\"#000000\"/><ellipse cx=\"477.5\" cy=\"75\" fill=\"#ffffff\" pointer-events=\"all\" rx=\"6.25\" ry=\"6.25\" stroke=\"#000000\"/><rect fill=\"none\" height=\"30\" pointer-events=\"all\" stroke=\"none\" width=\"90\" x=\"232.5\" y=\"0\"/><g transform=\"translate(-0.5 -0.5)\"><switch><foreignObject height=\"100%\" pointer-events=\"none\" requiredFeatures=\"http://www.w3.org/TR/SVG11/feature#Extensibility\" style=\"overflow: visible; text-align: left;\" width=\"100%\"><div style=\"display: flex; align-items: unsafe center; justify-content: unsafe center; width: 1px; height: 1px; padding-top: 15px; margin-left: 278px;\" xmlns=\"http://www.w3.org/1999/xhtml\"><div style=\"box-sizing: border-box; font-size: 0; text-align: center; \"><div style=\"display: inline-block; font-size: 12px; font-family: Helvetica; color: #000000; line-height: 1.2; pointer-events: all; white-space: nowrap; \"><i style=\"font-family: &quot;georgia&quot; ; font-size: 18px\">P</i><span style=\"font-family: &quot;georgia&quot; ; font-size: 18px\"><sub>0</sub></span><i style=\"font-family: &quot;georgia&quot; ; font-size: 18px\">, V, T</i><span style=\"font-family: &quot;georgia&quot; ; font-size: 18px\"><sub>0</sub></span></div></div></div></foreignObject><text fill=\"#000000\" font-family=\"Helvetica\" font-size=\"12px\" text-anchor=\"middle\" x=\"278\" y=\"19\">P0, V, T0</text></switch></g><rect fill=\"none\" height=\"30\" pointer-events=\"all\" stroke=\"none\" width=\"100\" x=\"425\" y=\"22.5\"/><g transform=\"translate(-0.5 -0.5)\"><switch><foreignObject height=\"100%\" pointer-events=\"none\" requiredFeatures=\"http://www.w3.org/TR/SVG11/feature#Extensibility\" style=\"overflow: visible; text-align: left;\" width=\"100%\"><div style=\"display: flex; align-items: unsafe center; justify-content: unsafe center; width: 1px; height: 1px; padding-top: 38px; margin-left: 475px;\" xmlns=\"http://www.w3.org/1999/xhtml\"><div style=\"box-sizing: border-box; font-size: 0; text-align: center; \"><div style=\"display: inline-block; font-size: 12px; font-family: Helvetica; color: #000000; line-height: 1.2; pointer-events: all; white-space: nowrap; \"><i style=\"font-family: &quot;georgia&quot; ; font-size: 18px\">P</i><span style=\"font-family: &quot;georgia&quot; ; font-size: 18px\"><sub>0</sub></span><i style=\"font-family: &quot;georgia&quot; ; font-size: 18px\">, V</i><span style=\"font-family: &quot;georgia&quot; ; font-size: 18px\"><sub>0</sub></span><i style=\"font-family: &quot;georgia&quot; ; font-size: 18px\">, T</i><span style=\"font-family: &quot;georgia&quot; ; font-size: 18px\"><sub>0</sub></span></div></div></div></foreignObject><text fill=\"#000000\" font-family=\"Helvetica\" font-size=\"12px\" text-anchor=\"middle\" x=\"475\" y=\"41\">P0, V0, T0</text></switch></g><rect fill=\"none\" height=\"50\" pointer-events=\"all\" stroke=\"none\" width=\"160\" x=\"397.5\" y=\"97.5\"/><g transform=\"translate(-0.5 -0.5)\"><switch><foreignObject height=\"100%\" pointer-events=\"none\" requiredFeatures=\"http://www.w3.org/TR/SVG11/feature#Extensibility\" style=\"overflow: visible; text-align: left;\" width=\"100%\"><div style=\"display: flex; align-items: unsafe center; justify-content: unsafe center; width: 1px; height: 1px; padding-top: 123px; margin-left: 478px;\" xmlns=\"http://www.w3.org/1999/xhtml\"><div style=\"box-sizing: border-box; font-size: 0; text-align: center; \"><div style=\"display: inline-block; font-size: 12px; font-family: Helvetica; color: #000000; line-height: 1.2; pointer-events: all; white-space: nowrap; \"><i style=\"font-family: &quot;georgia&quot; ; font-size: 18px\"> n</i><span style=\"font-family: &quot;georgia&quot; ; font-size: 18px\">=1</span><i style=\"font-family: &quot;georgia&quot; ; font-size: 18px\"> </i><span style=\"font-family: &quot;georgia&quot; ; font-size: 18px\">mol<br/></span><span style=\"font-family: &quot;georgia&quot; ; font-size: 18px\">: </span><i style=\"font-family: &quot;georgia&quot; ; font-size: 18px\">N</i><span style=\"font-family: &quot;georgia&quot;\"><sub><font style=\"font-size: 13px\">A</font></sub></span><i style=\"font-family: &quot;georgia&quot; ; font-size: 18px\">= </i><span style=\"font-family: &quot;georgia&quot; ; font-size: 18px\">6.02 × 10<sup>23</sup></span></div></div></div></foreignObject><text fill=\"#000000\" font-family=\"Helvetica\" font-size=\"12px\" text-anchor=\"middle\" x=\"478\" y=\"126\">n=1 mol...</text></switch></g><rect fill=\"none\" height=\"30\" pointer-events=\"all\" stroke=\"none\" width=\"270\" x=\"505\" y=\"62.5\"/><g transform=\"translate(-0.5 -0.5)\"><switch><foreignObject height=\"100%\" pointer-events=\"none\" requiredFeatures=\"http://www.w3.org/TR/SVG11/feature#Extensibility\" style=\"overflow: visible; text-align: left;\" width=\"100%\"><div style=\"display: flex; align-items: unsafe center; justify-content: unsafe center; width: 1px; height: 1px; padding-top: 78px; margin-left: 640px;\" xmlns=\"http://www.w3.org/1999/xhtml\"><div style=\"box-sizing: border-box; font-size: 0; text-align: center; \"><div style=\"display: inline-block; font-size: 12px; font-family: Helvetica; color: #000000; line-height: 1.2; pointer-events: all; white-space: nowrap; \"><font face=\"georgia\" style=\"font-size: 24px\"><i>~   P</i><sub>0</sub><i>V</i><sub>0</sub><i>/T</i><sub>0</sub><i>=</i>1×<i>R </i>at<i> n=</i>1</font></div></div></div></foreignObject><text fill=\"#000000\" font-family=\"Helvetica\" font-size=\"12px\" text-anchor=\"middle\" x=\"640\" y=\"81\">~   P0V0/T0=1×R at n=1</text></switch></g><rect fill=\"none\" height=\"20\" pointer-events=\"all\" stroke=\"none\" width=\"70\" x=\"40\" y=\"325\"/><g transform=\"translate(-0.5 -0.5)\"><switch><foreignObject height=\"100%\" pointer-events=\"none\" requiredFeatures=\"http://www.w3.org/TR/SVG11/feature#Extensibility\" style=\"overflow: visible; text-align: left;\" width=\"100%\"><div style=\"display: flex; align-items: unsafe center; justify-content: unsafe center; width: 1px; height: 1px; padding-top: 335px; margin-left: 75px;\" xmlns=\"http://www.w3.org/1999/xhtml\"><div style=\"box-sizing: border-box; font-size: 0; text-align: center; \"><div style=\"display: inline-block; font-size: 12px; font-family: Helvetica; color: #000000; line-height: 1.2; pointer-events: all; white-space: nowrap; \"><i style=\"font-family: &quot;georgia&quot; ; font-size: 18px\"> n</i><i style=\"font-family: &quot;georgia&quot; ; font-size: 18px\"> </i><span style=\"font-family: &quot;georgia&quot; ; font-size: 18px\">mol</span></div></div></div></foreignObject><text fill=\"#000000\" font-family=\"Helvetica\" font-size=\"12px\" text-anchor=\"middle\" x=\"75\" y=\"339\"> n mol</text></switch></g><path d=\"M 65.75 148 L 75.75 148 L 75.75 178 L 86.25 178 L 70.75 197 L 55.25 178 L 65.75 178 Z\" fill=\"none\" pointer-events=\"all\" stroke=\"#000000\" stroke-linejoin=\"round\" stroke-miterlimit=\"10\"/><ellipse cx=\"75\" cy=\"265\" fill=\"#f8cecc\" pointer-events=\"all\" rx=\"75\" ry=\"50\" stroke=\"#b85450\"/><g transform=\"translate(-0.5 -0.5)\"><switch><foreignObject height=\"100%\" pointer-events=\"none\" requiredFeatures=\"http://www.w3.org/TR/SVG11/feature#Extensibility\" style=\"overflow: visible; text-align: left;\" width=\"100%\"><div style=\"display: flex; align-items: unsafe center; justify-content: unsafe center; width: 148px; height: 1px; padding-top: 265px; margin-left: 1px;\" xmlns=\"http://www.w3.org/1999/xhtml\"><div style=\"box-sizing: border-box; font-size: 0; text-align: center; \"><div style=\"display: inline-block; font-size: 12px; font-family: Helvetica; color: #000000; line-height: 1.2; pointer-events: all; white-space: normal; word-wrap: normal; \"><i style=\"font-family: &quot;georgia&quot; ; font-size: 18px\">P</i><i style=\"font-family: &quot;georgia&quot; ; font-size: 18px\">, V, T</i></div></div></div></foreignObject><text fill=\"#000000\" font-family=\"Helvetica\" font-size=\"12px\" text-anchor=\"middle\" x=\"75\" y=\"269\">P, V, T</text></switch></g><ellipse cx=\"31.25\" cy=\"251.25\" fill=\"#ffffff\" pointer-events=\"all\" rx=\"6.25\" ry=\"6.25\" stroke=\"#000000\"/><ellipse cx=\"78.75\" cy=\"241.25\" fill=\"#ffffff\" pointer-events=\"all\" rx=\"6.25\" ry=\"6.25\" stroke=\"#000000\"/><ellipse cx=\"126.25\" cy=\"271.25\" fill=\"#ffffff\" pointer-events=\"all\" rx=\"6.25\" ry=\"6.25\" stroke=\"#000000\"/><ellipse cx=\"46.25\" cy=\"291.25\" fill=\"#ffffff\" pointer-events=\"all\" rx=\"6.25\" ry=\"6.25\" stroke=\"#000000\"/><ellipse cx=\"91.25\" cy=\"301.25\" fill=\"#ffffff\" pointer-events=\"all\" rx=\"6.25\" ry=\"6.25\" stroke=\"#000000\"/><ellipse cx=\"113.75\" cy=\"241.25\" fill=\"#ffffff\" pointer-events=\"all\" rx=\"6.25\" ry=\"6.25\" stroke=\"#000000\"/><path d=\"M 545 96.5 L 695 97\" fill=\"none\" pointer-events=\"stroke\" stroke=\"#ff9999\" stroke-miterlimit=\"10\" stroke-width=\"2\"/></g><switch><g requiredFeatures=\"http://www.w3.org/TR/SVG11/feature#Extensibility\"/><a target=\"_blank\" transform=\"translate(0,-5)\" xlink:href=\"https://desk.draw.io/support/solutions/articles/16000042487\"><text font-size=\"10px\" text-anchor=\"middle\" x=\"50%\" y=\"100%\">Viewer does not support full SVG 1.1</text></a></switch></svg>"
          },
          "metadata": {
            "tags": []
          }
        }
      ]
    },
    {
      "cell_type": "markdown",
      "metadata": {
        "id": "CsRsgC64zSgU",
        "colab_type": "text"
      },
      "source": [
        "ボイル-シャルルの法則の右辺の定数を決めるため, 直上図のような実験を  \n",
        "標準状態\n",
        "> 温度=\b0℃=273.15K, 圧力 1気圧= $1.013\\times 10 ^5\\ {\\rm Pa}$  \n",
        "> (Standard Temperature and Pressure)\n",
        "\n",
        "で行いました. 体積(V)によって閉じ込めら気体分子の数が変わってしまうので\n",
        "> アボガド数 $N_{\\rm A}=6.02\\times 10^23$ 個\n",
        "\n",
        "あつめた集団を一つの単位として **物質量** として\n",
        "> 1 mol\n",
        "\n",
        "として調べたところ, 気体の種類によらず(ほぼ)一定の値, **気体定数 $R$**, に落ち着くことがわかりました. \n",
        "\n",
        "これを拡張して\n",
        "\\begin{align*}\n",
        "\\dfrac{P\\cdot V}{T} = n \\cdot R\n",
        "\\end{align*}\n",
        "が得られました. これを変形したものが\n",
        ">> \\begin{align*}\n",
        "P V= n R T\n",
        "\\end{align*}\n",
        "\n",
        "で **理想気体の状態方程式** と呼ばれます.   \n",
        "この方程式には, 閉じ込められた 物質量 $n$ mol の理想気体の **状態量**:\n",
        "1. 圧力: P\n",
        "2. 体積: V\n",
        "3. 温度: T\n",
        "が含まれています."
      ]
    },
    {
      "cell_type": "markdown",
      "metadata": {
        "id": "ZDXfq3ea2dQY",
        "colab_type": "text"
      },
      "source": [
        "> Q. 教科書下巻 p17 の 1 mol の(理想)気体の標準状態での状態量の値を利用し 気体定数 $R$ の値を求めてください.\n",
        "\n",
        "> Q. 教科書下巻 p17 の例題3.4に取り組んでください."
      ]
    }
  ]
}