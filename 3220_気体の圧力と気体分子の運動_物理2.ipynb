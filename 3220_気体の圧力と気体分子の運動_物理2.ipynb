{
  "nbformat": 4,
  "nbformat_minor": 0,
  "metadata": {
    "colab": {
      "name": "3220_気体の圧力と気体分子の運動_物理2.ipynb",
      "provenance": [],
      "toc_visible": true,
      "authorship_tag": "ABX9TyNL+aJN4+74EJndECGHdawB",
      "include_colab_link": true
    },
    "kernelspec": {
      "name": "python3",
      "display_name": "Python 3"
    }
  },
  "cells": [
    {
      "cell_type": "markdown",
      "metadata": {
        "id": "view-in-github",
        "colab_type": "text"
      },
      "source": [
        "<a href=\"https://colab.research.google.com/github/kzhkAKT/Physics2/blob/draft/3220_%E6%B0%97%E4%BD%93%E3%81%AE%E5%9C%A7%E5%8A%9B%E3%81%A8%E6%B0%97%E4%BD%93%E5%88%86%E5%AD%90%E3%81%AE%E9%81%8B%E5%8B%95_%E7%89%A9%E7%90%862.ipynb\" target=\"_parent\"><img src=\"https://colab.research.google.com/assets/colab-badge.svg\" alt=\"Open In Colab\"/></a>"
      ]
    },
    {
      "cell_type": "code",
      "metadata": {
        "id": "3lbjr7AwxNWN",
        "colab_type": "code",
        "colab": {}
      },
      "source": [
        ""
      ],
      "execution_count": 0,
      "outputs": []
    },
    {
      "cell_type": "markdown",
      "metadata": {
        "id": "m7-HYg4Vxd74",
        "colab_type": "text"
      },
      "source": [
        "## 気体分子の運動\n",
        "\n",
        "金属などの固体では, 原子/分子の熱運動によって線膨張や体膨張が起こりました.\n",
        "\n",
        "理想気体(大きさを無視した質点の原子/分子 + 相互作用を無視)では,   \n",
        "  気体の状態を与える 体積$V$, 圧力$P$, 温度$T$ がどのように  \n",
        "  熱運動と関わっていくか調べていきます\n",
        "\n",
        "\n",
        "### 気体の圧力と気体分子の運動"
      ]
    },
    {
      "cell_type": "code",
      "metadata": {
        "id": "3zVErX9hyfT1",
        "colab_type": "code",
        "colab": {
          "base_uri": "https://localhost:8080/",
          "height": 475
        },
        "cellView": "form",
        "outputId": "9c2a6eef-ed9a-48a9-eada-460d49027965"
      },
      "source": [
        "#@title 気体分子の熱運動のシミュレーション: choose a small red one.\n",
        "%%html\n",
        "<iframe src=\"https://phet.colorado.edu/sims/html/gases-intro/latest/gases-intro_en.html\" width=\"600\" height=\"450\" scrolling=\"no\" allowfullscreen></iframe>"
      ],
      "execution_count": 1,
      "outputs": [
        {
          "output_type": "display_data",
          "data": {
            "text/html": [
              "<iframe src=\"https://phet.colorado.edu/sims/html/gases-intro/latest/gases-intro_en.html\" width=\"600\" height=\"450\" scrolling=\"no\" allowfullscreen></iframe>"
            ],
            "text/plain": [
              "<IPython.core.display.HTML object>"
            ]
          },
          "metadata": {
            "tags": []
          }
        }
      ]
    },
    {
      "cell_type": "markdown",
      "metadata": {
        "id": "qpxZy0xf0f7h",
        "colab_type": "text"
      },
      "source": [
        "上のシミュレーションを現実に適応すると\n",
        "- 分子が壁に当たることで圧力(Pa=${\\rm N/m^2}$)が現れた\n",
        "- 温度を上げると, 気体分子の運動は激しくなり, 圧力も上がった\n",
        "- 温度を下げると, 気体分子の運動は緩やかになり, 圧力も下がった\n",
        "\n",
        "このことから\n",
        "> 運動エネルギーを持つ分子(質量 $m$)が壁に当たることで, 圧力が変化している\n",
        "\n",
        "ことがわかります.\n",
        "\n",
        "一般の気体分子の運動は3次元かつ, 複雑な形状(風船など)で考える必要がありますが, 話を簡単にするために\n",
        "> 一辺の長さが $L$ の立方体(体積 $V=L^3$)に閉じ込められた $n$ mol の気体\n",
        "\n",
        "について考えていきます.\n",
        "\n",
        "ここで, この立方体の中では $n$ mol の気体が 圧力 $P$ を持っているものとします.   \n",
        "圧力は容器の内部では, パスカルの原理を真似て, 立方体のどの面で圧力を測っても同じものとします.\n",
        "\n",
        "どの面を見ても同じなら, 3次元($xyz$)のうち一次元の($x$)の議論を   \n",
        "しっかりやってから, 3次元に拡張することが可能です.\n"
      ]
    },
    {
      "cell_type": "markdown",
      "metadata": {
        "id": "RUjPal6O4OvU",
        "colab_type": "text"
      },
      "source": [
        "#### 一次元 $x軸$ で分子が壁にぶつかった時に受ける力"
      ]
    },
    {
      "cell_type": "markdown",
      "metadata": {
        "id": "qC0el01T4lqn",
        "colab_type": "text"
      },
      "source": [
        "理想気体を考えているので\n",
        "1. 分子の質量は $m$ で, その大きさは無視\n",
        "2. 分子同士は相互作用がないので互いに衝突しない\n",
        "4. 分子一つの質量は大変小さいので, 重力の影響は無視\n",
        "3. 分子も壁もお互い十分硬く, 完全弾性衝突 $e=1$\n",
        "\n",
        "とします.\n",
        "\n",
        "最後の条件から\n",
        "> 壁に当たる前後の分子の速さの\b比は等しい\n",
        ">>  衝突前後の速さは等しいが, 方向が真逆\n",
        "\n",
        "ということがいえます.\n",
        "これらを利用すると, 理想気体では\n",
        "> 質量 $m$ の物体が壁に与える衝撃が圧力の源\n",
        "\n",
        "になることが見えてきました.\n"
      ]
    },
    {
      "cell_type": "markdown",
      "metadata": {
        "id": "aJDjAzOg7Fhj",
        "colab_type": "text"
      },
      "source": [
        "##### 壁が受ける衝撃 ~ 作用反作用 ~ 力積\n",
        "\n",
        "壁に分子が衝突したとき\n",
        "- 壁から分子は力を受けます: 作用\n",
        "- 壁の方は分子から力を受けます: 反作用\n",
        "- 壁と分子には接触時間 $\b\\Delta t$ が必要です\n",
        "\n",
        "以上3点から衝撃を求める準備として, 力と接触時間で表現される **力積** の取り扱いが必要になってきます.\n",
        "\n"
      ]
    },
    {
      "cell_type": "markdown",
      "metadata": {
        "id": "6tabbhdN-xrs",
        "colab_type": "text"
      },
      "source": [
        "##### 運動量変化と力積の関係\n",
        "\n",
        "1. 加速度の定義:\n",
        "$\\qquad \\bar{a}\n",
        "=\\dfrac{\\Delta v}{\\Delta t}\n",
        "=\\dfrac{v - v_0}{\\Delta t}$\n",
        "1. 運動方程式: $\\qquad m a = F$\n",
        "\n",
        "分子一個の短い衝突を考えていれば $\\bar{a} = a$, かつ短い時間で変化する力を平均化して $F=\\bar{F}$ として代入整理すると\n",
        "\n",
        "\\begin{align*}\n",
        "m a &= \\bar{F}&\\\\\n",
        "m \\left( \\dfrac{v - v_0}{\\Delta t}\\right) &= \\bar{F}&\n",
        "\\end{align*}\n",
        "\n",
        ">> $\\qquad m v - mv_0 = \\bar{F}\\Delta t$\n",
        "\n",
        "\n",
        "この関係を利用して壁が受ける衝撃を計算していきます.\n"
      ]
    },
    {
      "cell_type": "markdown",
      "metadata": {
        "id": "tW_ESDDoA3yO",
        "colab_type": "text"
      },
      "source": [
        "##### 一回の衝突で, 分子が受ける力積 $I_0$, 壁が受ける力積$I$\n",
        "\n",
        "質量 $m$ の分子が$x$軸上を, 原点から$x$が正の方向へ速度 $+v_x$ で $L$ 進み, そこで壁にぶつかり, 速度が$-v_x$ となりました.\n",
        "\n",
        "このとき分子が受けた力積 $I_0$ は\n",
        "\\begin{align*}\n",
        "I_0 &= m\\left( -v_x \\right) - m\\left( +v_x \\right) \n",
        "= - 2 m v_x\n",
        "\\end{align*}\n",
        "となります. これを利用すると壁が受ける力積 $I$ は, 作用反作用の法則を利用し,\n",
        "\\begin{align*}\n",
        "I &= - I_0 = + 2 m v_x&\n",
        "\\end{align*}\n",
        "\n"
      ]
    },
    {
      "cell_type": "markdown",
      "metadata": {
        "id": "wHMvOlAnCdiy",
        "colab_type": "text"
      },
      "source": [
        "##### 一次元の衝突の繰り返し\n",
        "\n",
        "速度 $v_x$ で $x=L$ の壁に衝突した一分子は, \n",
        "1. 再び $x=0$ で壁にぶつかり, $x=0$ から出発した状態に戻ります \n",
        "\n",
        "2. このことから, この分子は $2L$ 進むごとに, 必ず $x＝L$ にある壁に一度衝突します\n",
        "\n",
        "この関係を整理すると\n",
        "> $\\qquad \\Delta t = \\dfrac{2L}{v_x}$\n",
        "\n",
        "の間に $x=L$の壁に 一回の衝突をしていることになります.\n",
        "\n",
        "速度 $v_x$ で分子が $2L$ 進む間に, 衝突の間に壁に働く力 $f$ は\n",
        "複雑に変化しますが, その力を往復時間 $\\Delta t$ で平均化した力を $\\bar{f}$ として, 運動量変化と力積の関係に適応すると\n",
        "\\begin{align*}\n",
        " I &= \\bar{f} \\Delta t&\n",
        "\\end{align*}\n",
        "これを利用すると, 一つの分子が一回の衝突で壁に与える平均の力$\\bar{f}$ は\n",
        "\\begin{align*}\n",
        "\\bar{f}\n",
        "&= \\dfrac{I}{\\Delta t}&\\\\\n",
        "&= \\dfrac{2mv_x}{2L/v_x}\n",
        "= \\dfrac{mv_x^2}{L}\n",
        "\\end{align*}\n",
        "今は一回の衝突だけを考慮しましたが, \n",
        "実際には多数の分子が衝突していますので, $v_x^2$ を平均化し\n",
        "$\\bar{f}$ は\n",
        "\\begin{align*}\n",
        "\\bar{f}\n",
        "= \\dfrac{m\\bar{v_x^2}}{L}\n",
        "\\end{align*}\n",
        "としておきます."
      ]
    },
    {
      "cell_type": "markdown",
      "metadata": {
        "id": "xGj-W0JmNIkC",
        "colab_type": "text"
      },
      "source": [
        "### 3次元への拡張\n",
        "\n",
        "$\\bar{f}\\propto v_x^2$ となっていることから, 3次元への拡張が容易になります. 3次元の物体の速度ベクトルは\n",
        "\\begin{align*}\n",
        "\\vec{v} &= \\left( v_x, v_y, v_z\\right)&\n",
        "\\end{align*}\n",
        "この速度ベクトルの内積 $\\vec{v}\\cdot\\vec{v}$をとると\n",
        "\\begin{align*}\n",
        "v^2 &= v_x^2 + v_y^2 + v_z^2 &.\n",
        "\\end{align*}\n",
        "立方体内部での圧力はどの方向であっても等しいことを踏まえると\n",
        "\\begin{align*}\n",
        "\\bar{v_x^2} = \\bar{v_y^2} = \\bar{v_z^2}, &\n",
        "\\end{align*}\n",
        "これを3次元の速度情報を含む ${v^2}$ も平均化して当てはめると\n",
        "($<>$は平均化の記号です)\n",
        "\\begin{align*}\n",
        "\\bar{v^2}\n",
        "&= <v_x^2 + v_y^2 + v_z^2>\n",
        "=<v_x^2> + <v_y^2> + <v_z^2>&\\\\\n",
        "&=\\bar{v_x^2} + \\bar{v_y^2} + \\bar{v_z^2}\n",
        "=3 \\bar{v_x^2}&\\\\\n",
        "\\end{align*}\n",
        "よって\n",
        "\\begin{align*}\n",
        "\\bar{v_x^2} &= \\dfrac{1}{3}\\bar{v^2}&\n",
        "\\end{align*}\n"
      ]
    },
    {
      "cell_type": "markdown",
      "metadata": {
        "id": "UZnPgO5xQ84H",
        "colab_type": "text"
      },
      "source": [
        "### 平均の力から圧力へ\n",
        "\n",
        "これまでの議論を利用すると, $x=L$ にある壁が受ける分子一個あたりの平均の力 $\\bar{f}$ は\n",
        "\\begin{align*}\n",
        "\\bar{f}\n",
        "= \\dfrac{m\\bar{v_x^2}}{L}\n",
        "= \\dfrac{m\\dfrac{1}{3}\\bar{v^2}}{L}\n",
        "= \\dfrac{m\\bar{v^2}}{3L}&\n",
        "\\end{align*}\n",
        "考えている立方体には $n$ mol の分子が閉じ込められたいたので, 分子の実際の個数 $N$ は アボガドロ定数 $N_{\\rm A}$ から\n",
        "\\begin{align*}\n",
        "N &= n \\cdot N_{\\rm A}&\\\\\n",
        "\\end{align*}\n",
        "これから, $x=L$ にある壁が受ける力 $F$ は\n",
        "\\begin{align*}\n",
        "F &= N \\cdot \\bar{f} = n \\cdot N_{\\rm A} \\bar{f}&\\\\\n",
        "&=  n \\cdot N_{\\rm A} \\dfrac{m\\bar{v^2}}{3L} \n",
        "= \\dfrac{n N_A m\\bar{v^2}}{3L} &\n",
        "\\end{align*}\n",
        "$x=L$ にある壁の全体の面積 $L^2$ で $F$ を受けるので,\n",
        "箱に閉じ込められた気体全体による圧力は\n",
        "\\begin{align*}\n",
        "P = \\dfrac{F}{S} \n",
        "= \\dfrac{\\dfrac{n N_A m\\bar{v^2}}{3L}}{L^2} \n",
        "= \\dfrac{n N_A m\\bar{v^2}}{3L^3}\n",
        "= \\dfrac{n N_A m\\bar{v^2}}{3V}&\n",
        "\\end{align*}\n",
        "が得られます. この式は\n",
        "\\begin{align*}\n",
        "P = \\dfrac{n N_A m\\bar{v^2}}{3V}\n",
        "\b=\n",
        "\\begin{cases}\n",
        "n N_{\\rm A}& \\text{: 単位時間あたりに壁に衝突する分子が増}&\\\\\n",
        "m &\\text{: 衝突の際に力積が増}&\\\\\n",
        "\\bar{v^2}&\\text{: 衝突の際に力積が増/衝突回数が増}&　\\\\\n",
        "\\dfrac{1}{V}&\\text{: 往復距離が広がり, 衝突回数が減}&\n",
        "\\end{cases}\n",
        "&\n",
        "\\end{align*}\n",
        "\n",
        "\n"
      ]
    }
  ]
}