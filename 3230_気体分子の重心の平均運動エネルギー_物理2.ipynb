{
  "nbformat": 4,
  "nbformat_minor": 0,
  "metadata": {
    "colab": {
      "name": "3230_気体分子の重心の平均運動エネルギー_物理2.ipynb",
      "provenance": [],
      "authorship_tag": "ABX9TyN0Rs9HVaxknrTGJhVX1urD",
      "include_colab_link": true
    },
    "kernelspec": {
      "name": "python3",
      "display_name": "Python 3"
    }
  },
  "cells": [
    {
      "cell_type": "markdown",
      "metadata": {
        "id": "view-in-github",
        "colab_type": "text"
      },
      "source": [
        "<a href=\"https://colab.research.google.com/github/kzhkAKT/Physics2/blob/draft/3230_%E6%B0%97%E4%BD%93%E5%88%86%E5%AD%90%E3%81%AE%E9%87%8D%E5%BF%83%E3%81%AE%E5%B9%B3%E5%9D%87%E9%81%8B%E5%8B%95%E3%82%A8%E3%83%8D%E3%83%AB%E3%82%AE%E3%83%BC_%E7%89%A9%E7%90%862.ipynb\" target=\"_parent\"><img src=\"https://colab.research.google.com/assets/colab-badge.svg\" alt=\"Open In Colab\"/></a>"
      ]
    },
    {
      "cell_type": "markdown",
      "metadata": {
        "id": "LvQECB4G839I",
        "colab_type": "text"
      },
      "source": [
        "# 熱と分子運動"
      ]
    },
    {
      "cell_type": "markdown",
      "metadata": {
        "id": "jrlTYc5N868g",
        "colab_type": "text"
      },
      "source": [
        "## 気体の分子運動"
      ]
    },
    {
      "cell_type": "markdown",
      "metadata": {
        "id": "I6JhUJM-97Cl",
        "colab_type": "text"
      },
      "source": [
        "### 気体分子の重心の平均運動エネルギー"
      ]
    },
    {
      "cell_type": "markdown",
      "metadata": {
        "id": "_yJEJvEF8-IS",
        "colab_type": "text"
      },
      "source": [
        "\n",
        "\n",
        "#### 運動エネルギーの復習\n",
        "質量 $m$, 速度 $v$ で運動している運動エネルギー, kinetic energy,  $K$は\n",
        "\\begin{align*}\n",
        "  K = \\dfrac{1}{2} m v^2\n",
        "\\end{align*}\n",
        "でした. この運動エネルギーの特徴は\n",
        "- $v^2$ が含まれるので, 方向に依存しない\n",
        "- 単位が J なので, 仕事への変換が容易\n",
        "\n",
        "といった特徴があります."
      ]
    },
    {
      "cell_type": "markdown",
      "metadata": {
        "id": "I8Nnf5499_m_",
        "colab_type": "text"
      },
      "source": [
        "$\\require{cancel}$\n",
        "#### 理想気体の圧力 $P$ と2乗平均速度 $\\sqrt{\\bar{v^2}}$\n",
        "\n",
        "前節で $V,T$ で立方体に閉じ込められた $n$ mol の気体の圧力 $P$ は\n",
        "\\begin{align*}\n",
        "P &= \\dfrac{nN_{\\rm A} m \\bar{v^2}}{3V}\n",
        "\\end{align*}\n",
        "でした, この中には **2乗平均速度 $\\sqrt{\\bar{v^2}}$** を自乗したもの が含まれています.\n",
        "これを利用し, 質量 $m$ の一つの原子/分子が持つ 平均化された運動エネルギー $\\bar{\\epsilon}$\n",
        "\\begin{align*}\n",
        "\\bar{\\epsilon} &= \\dfrac{1}{2} m \\bar{v^2}&\\\\\n",
        "\\end{align*}\n",
        "を変形してみましょう.\n",
        "\\begin{align*}\n",
        "\\bar{\\epsilon} &= \\dfrac{1}{2} m \\bar{v^2} = \\dfrac{3PV}{2nN_{\\rm A}}\n",
        "\\end{align*}\n",
        "となります. ここで($P,V,T,n$を一つにつなげる)理想気体の状態方程式\n",
        "\\begin{align*}\n",
        "P V & = n R T&\\\\\n",
        "\\end{align*}\n",
        "を利用すると\n",
        "\\begin{align*}\n",
        "\\bar{\\epsilon} &= \\dfrac{1}{2} m \\bar{v^2} = \\dfrac{3PV}{2nN_{\\rm A}}&\\\\\n",
        "&=\\dfrac{3 \\cancel{n} R T}{2\\cancel{n}N_{\\rm A}}\n",
        "= \\dfrac{3}{2} \\dfrac{R}{N_{\\rm A}} T&\\\\\n",
        "&= \\dfrac{3}{2} k_{\\rm B} T&\n",
        "\\end{align*}\n",
        "ここで $k_{\\rm B}$ は **ボルツマン定数** と呼ばれ\n",
        "\\begin{align*}\n",
        "k_{\\rm B} \n",
        "&= \\dfrac{R}{N_{\\rm A}} \n",
        "= \\dfrac{\\rm 8.31 J/(mol\\cdot K)}{\\rm 6.02 \\times 10^23/mol} &\\\\\n",
        "&\\approx 1.38 \\times 10^{-23}\\ {\\rm J/K}&\n",
        "\\end{align*}"
      ]
    },
    {
      "cell_type": "markdown",
      "metadata": {
        "id": "u5SC4hE2Bcqp",
        "colab_type": "text"
      },
      "source": [
        "##### 一つの原子/分子の平均運動エネルギー $\\bar{\\epsilon}$ の解釈\n",
        "\n",
        "$T$ は絶対温度(単位 K).\n",
        "\n",
        "\\begin{align*}\n",
        "\\bar{\\epsilon}&= \\dfrac{3}{2} k_{\\rm B} T&\n",
        "\\end{align*}\n",
        "\n",
        "この式から\n",
        "> 一原子/分子の平均運動エネルギーは絶対温度に比例している\n",
        "\n",
        "ということができます. つまりこれまでの議論から\n",
        "\n",
        ">> 絶対温度を運動エネルギーに換算する関係式\n",
        "\n",
        "を導出したことになります. さらには(上の式を右から左に読んで)\n",
        "\n",
        "> **(絶対)温度とは原子や分子の熱運動の激しさを表す物理量**\n",
        "\n",
        "であるということができます.\n",
        "$T=0$ では, (古典的には)運動エネルギーなくなり, 絶対零度の状態とも一致します\n",
        "\n",
        "また, ボルツマン定数 $k_{\\rm B}$ はその定義を確認すると\n",
        "\\begin{align*}\n",
        "k_{\\rm B} &= \\dfrac{R}{N_{\\rm A}} &\n",
        "\\end{align*}\n",
        "> 原子/分子 一つ当たりの気体定数\n",
        "\n",
        "ということができます.\n",
        "\n",
        "ところで\n",
        "\\begin{align*}\n",
        "\\bar{\\epsilon}&= \\dfrac{3}{2} k_{\\rm B} T&\n",
        "%&=  \\dfrac{1}{2} k_{\\rm B}T +  \\dfrac{1}{2} k_{\\rm B}T + \\dfrac{1}{2} k_{\\rm B}T&\n",
        "\\end{align*}\n",
        "係数 $3/2$ の $3$ は $xyz$ の三方向を平均化して出てきたものでした. \n",
        "\n",
        "そこで\n",
        "\\begin{align*}\n",
        "\\bar{\\epsilon}&= \\dfrac{3}{2} k_{\\rm B} T\n",
        "=\n",
        "\\left(\\dfrac{1}{2} k_{\\rm B}T\\right)_{x}\n",
        "+\n",
        "\\left(\\dfrac{1}{2} k_{\\rm B}T\\right)_{y}\n",
        "+\n",
        "\\left(\\dfrac{1}{2} k_{\\rm B}T\\right)_{z}&\n",
        "\\end{align*}\n",
        "分けて考えるて理解しておくと覚えやすくなります.\n"
      ]
    },
    {
      "cell_type": "markdown",
      "metadata": {
        "id": "LmR0RdcAFvx2",
        "colab_type": "text"
      },
      "source": [
        "### 絶対温度 $T$ における 2乗平均速度 $\\sqrt{\\bar{v^2}}$\n",
        "\n",
        "\\begin{align*}\n",
        "\\bar{\\epsilon}&= \\dfrac{3}{2} k_{\\rm B} T&\n",
        "\\end{align*}\n",
        "を利用すると, 絶対温度 $T$ における (2乗)平均速度 $\\sqrt{\\bar{v^2}}$ を逆算することができます.\n",
        "\\begin{align*}\n",
        "\\bar{\\epsilon}\n",
        "= \\dfrac{1}{2} m \\bar{v^2} \n",
        "&=\\dfrac{3}{2} k_{\\rm B} T&\\\\\n",
        "\\dfrac{1}{\\bcancel{2}} m \\bar{v^2} \n",
        "&=\\dfrac{3}{\\bcancel{2}} k_{\\rm B} T&\\\\\n",
        "\\bar{v^2} &= \\dfrac{3 k_{\\rm B} T}{m}&\\\\\n",
        "\\sqrt{\\bar{v^2}} &= \\sqrt{\\dfrac{3 k_{\\rm B} T}{m}}\n",
        "= \\sqrt{\\dfrac{3 R/N_{\\rm A} T}{m}}\n",
        "= \\sqrt{\\dfrac{3 RT}{N_{\\rm A}m}}&\\\\\n",
        "&= \\sqrt{\\dfrac{3 RT}{M}}&\n",
        "\\end{align*}\n",
        "ここで $M=m N_{\\rm A}$ で, 気体原子/分子 1 mol あたりの質量です."
      ]
    },
    {
      "cell_type": "markdown",
      "metadata": {
        "id": "1rsKIOAMH6Yq",
        "colab_type": "text"
      },
      "source": [
        "> 教科書 下 p22 の 式(3.35)の直上の例を参考に, 窒素分子の二乗平均速度(20℃)を求めてください."
      ]
    }
  ]
}