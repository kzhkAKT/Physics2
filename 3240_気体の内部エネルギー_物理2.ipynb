{
  "nbformat": 4,
  "nbformat_minor": 0,
  "metadata": {
    "colab": {
      "name": "3240_気体の内部エネルギー_物理2.ipynb",
      "provenance": [],
      "toc_visible": true,
      "authorship_tag": "ABX9TyNv7+GfcquEA8BYcbNUwi1k",
      "include_colab_link": true
    },
    "kernelspec": {
      "name": "python3",
      "display_name": "Python 3"
    }
  },
  "cells": [
    {
      "cell_type": "markdown",
      "metadata": {
        "id": "view-in-github",
        "colab_type": "text"
      },
      "source": [
        "<a href=\"https://colab.research.google.com/github/kzhkAKT/Physics2/blob/draft/3240_%E6%B0%97%E4%BD%93%E3%81%AE%E5%86%85%E9%83%A8%E3%82%A8%E3%83%8D%E3%83%AB%E3%82%AE%E3%83%BC_%E7%89%A9%E7%90%862.ipynb\" target=\"_parent\"><img src=\"https://colab.research.google.com/assets/colab-badge.svg\" alt=\"Open In Colab\"/></a>"
      ]
    },
    {
      "cell_type": "markdown",
      "metadata": {
        "id": "06icOApzRHyD",
        "colab_type": "text"
      },
      "source": [
        "# 熱と分子運動\n",
        "\n"
      ]
    },
    {
      "cell_type": "markdown",
      "metadata": {
        "id": "n9yS-3PvRJQV",
        "colab_type": "text"
      },
      "source": [
        "## 気体の分子運動"
      ]
    },
    {
      "cell_type": "markdown",
      "metadata": {
        "id": "vtIQkwxrRMDt",
        "colab_type": "text"
      },
      "source": [
        "### 気体の内部エネルギー"
      ]
    },
    {
      "cell_type": "code",
      "metadata": {
        "id": "yPPAGNA5SzTP",
        "colab_type": "code",
        "cellView": "form",
        "colab": {
          "base_uri": "https://localhost:8080/",
          "height": 475
        },
        "outputId": "50b49838-2d4c-421b-837c-f4d5de1e479b"
      },
      "source": [
        "#@title 一つから アボガドロ数個 ~ n mol : choose particle Light 1 by 1\n",
        "%%html\n",
        "<iframe src=\"https://phet.colorado.edu/sims/html/gas-properties/latest/gas-properties_en.html\" width=\"600\" height=\"450\" scrolling=\"no\" allowfullscreen></iframe>"
      ],
      "execution_count": null,
      "outputs": [
        {
          "output_type": "display_data",
          "data": {
            "text/html": [
              "<iframe src=\"https://phet.colorado.edu/sims/html/gas-properties/latest/gas-properties_en.html\" width=\"600\" height=\"450\" scrolling=\"no\" allowfullscreen></iframe>"
            ],
            "text/plain": [
              "<IPython.core.display.HTML object>"
            ]
          },
          "metadata": {
            "tags": []
          }
        }
      ]
    },
    {
      "cell_type": "markdown",
      "metadata": {
        "id": "4J1PMBIBBTrJ",
        "colab_type": "text"
      },
      "source": [
        "#### (理想気体) 1つ の原子/分子の運動エネルギー $\\epsilon$\n",
        "\\begin{align*}\n",
        "\\epsilon &=  \\dfrac{1}{2} m \\bar{v^2} =  \\dfrac{3}{2} k_{\\rm B} T&\\\\\n",
        "&k_{\\rm B} = \\dfrac{R}{N_{\\rm A}}&\n",
        "\\end{align*}\n",
        "$k_{\\rm B}$:: ボルツマン定数\n",
        "\n",
        "この関係を拡張していきます.\n",
        "\n",
        "1. アボガドロ定数 $N_{\\rm A} = 6.02 \\times 10^{23} {\\rm\\ 個/1\\ mol}$\n",
        "1. ${\\rm1\\ mol}$ の物質量(集団)の中には,\n",
        "$6.02 \\times 10^{23} {\\rm\\ 個}$ の分子が存在\n",
        "  - *一つの点で表せる* **理想気体**なので, 大きさも無視します\n",
        "  - 相互作用も無視して構いません"
      ]
    },
    {
      "cell_type": "markdown",
      "metadata": {
        "id": "2yKhezozW36O",
        "colab_type": "text"
      },
      "source": [
        "\n",
        "\n",
        "> Q. 絶対温度 $T$ の環境下で, 物質量 $n\\ {\\rm mol}$ の理想気体が容器の中に閉じ込められています.   \n",
        "容器の中の運動エネルギーの総和 $K$ を計算してください.\n"
      ]
    },
    {
      "cell_type": "markdown",
      "metadata": {
        "id": "xRmx8fXDtgTP",
        "colab_type": "text"
      },
      "source": [
        "####  $n {\\rm\\ mol}$ の(理想気体) が持つ運動エネルギーの総和 $K$\n",
        "\n",
        "$\\require{cancel}$\n",
        "容器の中には, \n",
        "1. 物質量として $n\\ {\\rm mol}$ の理想気体分子が存在\n",
        "1. 全体の分子の個数 $N$ は, アボガドロ数 $N_{\\rm A}$ を掛けて: $\\qquad N= n \\cdot N_{\\rm A}$\n",
        "1. 絶対温度 $T$ で, **1つの原子/分子が持つ** 運動エネルギー: $\\epsilon = \\dfrac{1}{2} m \\bar{v^2} = \\dfrac{3}{2} k_{\\rm B}T$  \n",
        "絶対温度のみに依存\n",
        "\n",
        "よって\n",
        "> 絶対温度 $T$ の環境下で, 物質量 $n\\ {\\rm mol}$ の理想気体の  \n",
        "容器の中の運動エネルギーの総和:\n",
        "\\begin{align*}\n",
        "K&= N \\cdot \\epsilon = n  N_{\\rm A} \\cdot \\epsilon&\\\\\n",
        "&= n  N_{\\rm A} \\left(\\dfrac{3}{2} k_{\\rm B}T\\right)&\\\\\n",
        "&= n  \\bcancel{N_{\\rm A}} \\left(\\dfrac{3}{2} \\dfrac{R}{\\bcancel{N_{\\rm A}}}T\\right)\n",
        "= n \\dfrac{3}{2} R T&\n",
        "\\end{align*}\n",
        "\n",
        "\n",
        "この考察から,\n",
        "\n",
        ">> 絶対温度 $T$ の環境下で, 物質量 $n\\ {\\rm mol}$ の理想気体が持つ  \n",
        "運動エネルギーの総和 $K$ は, **絶対温度 $T$ のみによって決まり** \n",
        "\\begin{align*}\n",
        "K &=  n \\dfrac{3}{2} R T&\n",
        "\\end{align*}\n",
        "\n",
        "となることがわかりました."
      ]
    },
    {
      "cell_type": "markdown",
      "metadata": {
        "id": "flOhirevx5ef",
        "colab_type": "text"
      },
      "source": [
        "### 理想気体の内部エネルギー $U$"
      ]
    },
    {
      "cell_type": "markdown",
      "metadata": {
        "id": "OB6ptncXKoaW",
        "colab_type": "text"
      },
      "source": [
        "#### 復讐: 力学的エネルギー $E$\n",
        "\n",
        "> 力学的エネルギー = 運動エネルギー +  位置エネルギー\n",
        "\\begin{align*}\n",
        "E \\quad \n",
        "&= \\quad K \\quad  + \\quad U&\\\\\n",
        "&= \\quad E_K \\quad  + \\quad U&\\\\\n",
        "&= \\quad \\dfrac{1}{2} m v^2 \\quad  + \\quad mgh&\\\\\n",
        "&= \\quad \\dfrac{1}{2} m v^2 \\quad  + \\quad \\dfrac{1}{2} k x^2&\\\\\n",
        "&= \\quad \\dfrac{1}{2} m v^2 \\quad  + \\quad \\left( mgh+ \\dfrac{1}{2} k x^2\\right)&\\\\\n",
        "\\end{align*}\n",
        "\n",
        "などがありました. 覚えていますか?\n"
      ]
    },
    {
      "cell_type": "markdown",
      "metadata": {
        "id": "m9-FmPv6MsQv",
        "colab_type": "text"
      },
      "source": [
        "#### 理想気体の力学的エネルギー $\\cancelto{U}{E}$"
      ]
    },
    {
      "cell_type": "code",
      "metadata": {
        "colab_type": "code",
        "cellView": "form",
        "id": "hRDF4xFxMym6",
        "colab": {
          "base_uri": "https://localhost:8080/",
          "height": 475
        },
        "outputId": "2d9a243e-ff60-430a-a623-351ebbf42c1a"
      },
      "source": [
        "#@title 理想気体の相互作用\n",
        "%%html\n",
        "<iframe src=\"https://phet.colorado.edu/sims/html/gas-properties/latest/gas-properties_en.html\" width=\"600\" height=\"450\" scrolling=\"no\" allowfullscreen></iframe>"
      ],
      "execution_count": null,
      "outputs": [
        {
          "output_type": "display_data",
          "data": {
            "text/html": [
              "<iframe src=\"https://phet.colorado.edu/sims/html/gas-properties/latest/gas-properties_en.html\" width=\"600\" height=\"450\" scrolling=\"no\" allowfullscreen></iframe>"
            ],
            "text/plain": [
              "<IPython.core.display.HTML object>"
            ]
          },
          "metadata": {
            "tags": []
          }
        }
      ]
    },
    {
      "cell_type": "markdown",
      "metadata": {
        "id": "3FJJMivEKqnF",
        "colab_type": "text"
      },
      "source": [
        "\n",
        "理想気体では, 相互作用(お互いが引きあったりすること)がないので,\n",
        "位置エネルギーの効果がなくなります.\n",
        "\\begin{align*}\n",
        "E \\quad \n",
        "&= \\quad K \\quad  + \\quad \\cancelto{0}{U}&\n",
        "\\end{align*}\n",
        "\n",
        "つまり理想気体では,\n",
        "> 運動エネルギーを考えれば, 力学的エネルギーが表現できる\n",
        "\n",
        "ことになります.\n",
        "\n",
        "理想気体では, 容器の中で多数の気体原子や分子が飛び交っており,    \n",
        "石がガラスにぶつかるように運動エネルギーから他の物体に  \n",
        "直接仕事を加えることはできません.   \n",
        "\n",
        "そこで容器ないの運動エネルギーを  \n",
        "容器にある気体分子の状態 **内部エネルギー $U$** を表現する量に置き換えることにします.\n",
        "\n",
        "\\begin{align*}\n",
        "\\cancelto{U}{E} \\quad \n",
        "&= \\quad K \\quad  + \\quad \\cancelto{0}{U}&\n",
        "\\end{align*}\n",
        "\n",
        "これらの考察から, 絶対温度 $T$ で $n {\\rm\\  mol}$ の  \n",
        "理想気体が持つ内部エネルギー $U$ は  \n",
        "> \\begin{align*}\n",
        "U &= n \\dfrac{3}{2}R T\n",
        "\\end{align*}\n",
        "\n",
        "となり,\n",
        "\n",
        "> (絶対)温度 $T$ はその気体の持つ内部エネルギー $U$ に比例している\n",
        "\n",
        "ことがわかります. また *理想気体であれば*\n",
        "\n",
        ">> (絶対)温度 $T$ によって内部エネルギーを指定することができる\n",
        "\n",
        "といえます."
      ]
    },
    {
      "cell_type": "markdown",
      "metadata": {
        "id": "337CDLVnOAzJ",
        "colab_type": "text"
      },
      "source": [
        "### (理想気体の)内部エネルギーの変化 $\\Delta U$"
      ]
    },
    {
      "cell_type": "code",
      "metadata": {
        "id": "pcZ4amj8ODVU",
        "colab_type": "code",
        "cellView": "form",
        "colab": {
          "base_uri": "https://localhost:8080/",
          "height": 162
        },
        "outputId": "0909d6f6-933d-4341-8343-5b111aaa5d5e"
      },
      "source": [
        "#@title 内部エネルギーの変化は絶対温度だけで決まります\n",
        "%%svg\n",
        "<svg xmlns=\"http://www.w3.org/2000/svg\" xmlns:xlink=\"http://www.w3.org/1999/xlink\" version=\"1.1\" width=\"381px\" viewBox=\"-0.5 -0.5 381 141\" content=\"&lt;mxfile host=&quot;app.diagrams.net&quot; modified=&quot;2020-06-18T11:49:07.717Z&quot; agent=&quot;5.0 (Macintosh; Intel Mac OS X 10_15_5) AppleWebKit/537.36 (KHTML, like Gecko) Chrome/83.0.4103.97 Safari/537.36&quot; etag=&quot;lGCrGhO4hZUz8hstJ_u-&quot; version=&quot;13.2.6&quot; type=&quot;google&quot;&gt;&lt;diagram id=&quot;AvyVPRUh3zMHWMHEv4ot&quot; name=&quot;Page-1&quot;&gt;7VdNc9sgEP01HNOxkfXho+046aGdycSdtM0NA5KYYqEiFCv99UURSEKyGzt1J5d6PDa8XRbYfQ8k4K121a1EefpZEMoBnJAKeNcAwhBCUH8n5LkB/Nm8ARLJSANNO2DDflEDTgxaMkILx1EJwRXLXRCLLKNYORiSUuxdt1hwd9YcJXQEbDDiY/QrIypt0AiGHf6RsiS1M08Ds78dss5mJ0WKiNj3IG8NvJUUQjWtXbWivM6dzUsz7uaItV2YpJk6ZcCjf5fdbB6+3xfbOcPlp/DbPbwyUZ4QL82GAQy4jreMhQ6rV62eTSqCn6WwhqvipVAL7TCN8qoz1ilG2B1wS4VMGOo7BYn570+FBRfSGQmgN59jHMfHxzILPFhEZ4ANvYpya6FJz68HA7gCcDKKendiVPGHqK2h2ae1jCf78rdbODITdOoINS20enRnuU+Zopu8Kdhe61djqdpx3ZvWdWGcr9qieATRKMb1UpQUP2jPEuCIbuN2rj4nLcGoVLTqQYajmhs7quSzdrEnhpGLOS+mkenvO/VNraTSnvKsHzKCT9rInSZ0w8jiDInA1yRyCuHP19HpEonjuf68XSLnEL/vO+LZOXS+GElRkTfnfswqSsasjSNM8UHWbiN/5k8uw1rPG9A2OJG2LXhx3noHeDtIsr6S8roZc1ot6stSJ4NmxDSvMUdFwbCb76PJosS5Scep6qXCP5AJi0nKkWJP7v17KDtmhjvBXrRhKtE+OZhKwGGCC1FKTM2o/n05COS9FkghmVA1CvRSrHbbb69f+K5X89oHixBEuqF/F2AZgHUAIr9GTlSwVo5yqeMqMBMZHcjVQIizJKv5pylGNb6sdcj0M9nCGHaMEH7sbJCizEh9ElxfSNsR/OC/Ku65P2b0P5N29L7UCMFSEwH+pwb0/AEzZmNmhAfOujcwQ3e7d4XmjOleuLz1bw==&lt;/diagram&gt;&lt;/mxfile&gt;\" onclick=\"(function(svg){var src=window.event.target||window.event.srcElement;while (src!=null&amp;&amp;src.nodeName.toLowerCase()!='a'){src=src.parentNode;}if(src==null){if(svg.wnd!=null&amp;&amp;!svg.wnd.closed){svg.wnd.focus();}else{var r=function(evt){if(evt.data=='ready'&amp;&amp;evt.source==svg.wnd){svg.wnd.postMessage(decodeURIComponent(svg.getAttribute('content')),'*');window.removeEventListener('message',r);}};window.addEventListener('message',r);svg.wnd=window.open('https://app.diagrams.net/?client=1&amp;lightbox=1&amp;edit=_blank');}}})(this);\" style=\"cursor:pointer;max-width:100%;max-height:141px;\"><defs/><g><ellipse cx=\"60\" cy=\"80\" rx=\"60\" ry=\"40\" fill=\"#dae8fc\" stroke=\"#6c8ebf\" pointer-events=\"all\"/><g transform=\"translate(-0.5 -0.5)\"><switch><foreignObject style=\"overflow: visible; text-align: left;\" pointer-events=\"none\" width=\"100%\" height=\"100%\" requiredFeatures=\"http://www.w3.org/TR/SVG11/feature#Extensibility\"><div xmlns=\"http://www.w3.org/1999/xhtml\" style=\"display: flex; align-items: unsafe center; justify-content: unsafe center; width: 118px; height: 1px; padding-top: 80px; margin-left: 1px;\"><div style=\"box-sizing: border-box; font-size: 0; text-align: center; \"><div style=\"display: inline-block; font-size: 12px; font-family: Helvetica; color: #000000; line-height: 1.2; pointer-events: all; white-space: normal; word-wrap: normal; \"><font style=\"font-size: 18px\" face=\"Georgia\"><font color=\"#99ccff\"><i>V</i><sub>0</sub>, <i>P</i><sub>o</sub>,</font> <i>T</i><sub>0</sub></font></div></div></div></foreignObject><text x=\"60\" y=\"84\" fill=\"#000000\" font-family=\"Helvetica\" font-size=\"12px\" text-anchor=\"middle\">V0, Po, T0</text></switch></g><ellipse cx=\"320\" cy=\"80\" rx=\"60\" ry=\"60\" fill=\"#f8cecc\" stroke=\"#b85450\" pointer-events=\"all\"/><g transform=\"translate(-0.5 -0.5)\"><switch><foreignObject style=\"overflow: visible; text-align: left;\" pointer-events=\"none\" width=\"100%\" height=\"100%\" requiredFeatures=\"http://www.w3.org/TR/SVG11/feature#Extensibility\"><div xmlns=\"http://www.w3.org/1999/xhtml\" style=\"display: flex; align-items: unsafe center; justify-content: unsafe center; width: 118px; height: 1px; padding-top: 80px; margin-left: 261px;\"><div style=\"box-sizing: border-box; font-size: 0; text-align: center; \"><div style=\"display: inline-block; font-size: 12px; font-family: Helvetica; color: #000000; line-height: 1.2; pointer-events: all; white-space: normal; word-wrap: normal; \"><font face=\"Georgia\" style=\"font-size: 18px\"><font color=\"#ff9999\"><i>V</i>, <i>P</i>, </font><i>T</i></font></div></div></div></foreignObject><text x=\"320\" y=\"84\" fill=\"#000000\" font-family=\"Helvetica\" font-size=\"12px\" text-anchor=\"middle\">V, P, T</text></switch></g><path d=\"M 140.5 85 L 140.5 75 L 220.5 75 L 220.5 64.5 L 239.5 80 L 220.5 95.5 L 220.5 85 Z\" fill=\"none\" stroke=\"#000000\" stroke-linejoin=\"round\" stroke-miterlimit=\"10\" pointer-events=\"all\"/><rect x=\"12.5\" y=\"20\" width=\"95\" height=\"20\" fill=\"none\" stroke=\"none\" pointer-events=\"all\"/><g transform=\"translate(-0.5 -0.5)\"><switch><foreignObject style=\"overflow: visible; text-align: left;\" pointer-events=\"none\" width=\"100%\" height=\"100%\" requiredFeatures=\"http://www.w3.org/TR/SVG11/feature#Extensibility\"><div xmlns=\"http://www.w3.org/1999/xhtml\" style=\"display: flex; align-items: unsafe center; justify-content: unsafe center; width: 93px; height: 1px; padding-top: 30px; margin-left: 14px;\"><div style=\"box-sizing: border-box; font-size: 0; text-align: center; \"><div style=\"display: inline-block; font-size: 12px; font-family: Helvetica; color: #000000; line-height: 1.2; pointer-events: all; white-space: normal; word-wrap: normal; \"><font style=\"font-size: 18px\" face=\"Georgia\">始状態</font></div></div></div></foreignObject><text x=\"60\" y=\"34\" fill=\"#000000\" font-family=\"Helvetica\" font-size=\"12px\" text-anchor=\"middle\">始状態</text></switch></g><rect x=\"285\" y=\"0\" width=\"70\" height=\"20\" fill=\"none\" stroke=\"none\" pointer-events=\"all\"/><g transform=\"translate(-0.5 -0.5)\"><switch><foreignObject style=\"overflow: visible; text-align: left;\" pointer-events=\"none\" width=\"100%\" height=\"100%\" requiredFeatures=\"http://www.w3.org/TR/SVG11/feature#Extensibility\"><div xmlns=\"http://www.w3.org/1999/xhtml\" style=\"display: flex; align-items: unsafe center; justify-content: unsafe center; width: 68px; height: 1px; padding-top: 10px; margin-left: 286px;\"><div style=\"box-sizing: border-box; font-size: 0; text-align: center; \"><div style=\"display: inline-block; font-size: 12px; font-family: Helvetica; color: #000000; line-height: 1.2; pointer-events: all; white-space: normal; word-wrap: normal; \"><font style=\"font-size: 18px\" face=\"Georgia\">終状態</font></div></div></div></foreignObject><text x=\"320\" y=\"14\" fill=\"#000000\" font-family=\"Helvetica\" font-size=\"12px\" text-anchor=\"middle\">終状態</text></switch></g></g><switch><g requiredFeatures=\"http://www.w3.org/TR/SVG11/feature#Extensibility\"/><a transform=\"translate(0,-5)\" xlink:href=\"https://desk.draw.io/support/solutions/articles/16000042487\" target=\"_blank\"><text text-anchor=\"middle\" font-size=\"10px\" x=\"50%\" y=\"100%\">Viewer does not support full SVG 1.1</text></a></switch></svg>"
      ],
      "execution_count": null,
      "outputs": [
        {
          "output_type": "display_data",
          "data": {
            "text/plain": [
              "<IPython.core.display.SVG object>"
            ],
            "image/svg+xml": "<svg content=\"&lt;mxfile host=&quot;app.diagrams.net&quot; modified=&quot;2020-06-18T11:49:07.717Z&quot; agent=&quot;5.0 (Macintosh; Intel Mac OS X 10_15_5) AppleWebKit/537.36 (KHTML, like Gecko) Chrome/83.0.4103.97 Safari/537.36&quot; etag=&quot;lGCrGhO4hZUz8hstJ_u-&quot; version=&quot;13.2.6&quot; type=&quot;google&quot;&gt;&lt;diagram id=&quot;AvyVPRUh3zMHWMHEv4ot&quot; name=&quot;Page-1&quot;&gt;7VdNc9sgEP01HNOxkfXho+046aGdycSdtM0NA5KYYqEiFCv99UURSEKyGzt1J5d6PDa8XRbYfQ8k4K121a1EefpZEMoBnJAKeNcAwhBCUH8n5LkB/Nm8ARLJSANNO2DDflEDTgxaMkILx1EJwRXLXRCLLKNYORiSUuxdt1hwd9YcJXQEbDDiY/QrIypt0AiGHf6RsiS1M08Ds78dss5mJ0WKiNj3IG8NvJUUQjWtXbWivM6dzUsz7uaItV2YpJk6ZcCjf5fdbB6+3xfbOcPlp/DbPbwyUZ4QL82GAQy4jreMhQ6rV62eTSqCn6WwhqvipVAL7TCN8qoz1ilG2B1wS4VMGOo7BYn570+FBRfSGQmgN59jHMfHxzILPFhEZ4ANvYpya6FJz68HA7gCcDKKendiVPGHqK2h2ae1jCf78rdbODITdOoINS20enRnuU+Zopu8Kdhe61djqdpx3ZvWdWGcr9qieATRKMb1UpQUP2jPEuCIbuN2rj4nLcGoVLTqQYajmhs7quSzdrEnhpGLOS+mkenvO/VNraTSnvKsHzKCT9rInSZ0w8jiDInA1yRyCuHP19HpEonjuf68XSLnEL/vO+LZOXS+GElRkTfnfswqSsasjSNM8UHWbiN/5k8uw1rPG9A2OJG2LXhx3noHeDtIsr6S8roZc1ot6stSJ4NmxDSvMUdFwbCb76PJosS5Scep6qXCP5AJi0nKkWJP7v17KDtmhjvBXrRhKtE+OZhKwGGCC1FKTM2o/n05COS9FkghmVA1CvRSrHbbb69f+K5X89oHixBEuqF/F2AZgHUAIr9GTlSwVo5yqeMqMBMZHcjVQIizJKv5pylGNb6sdcj0M9nCGHaMEH7sbJCizEh9ElxfSNsR/OC/Ku65P2b0P5N29L7UCMFSEwH+pwb0/AEzZmNmhAfOujcwQ3e7d4XmjOleuLz1bw==&lt;/diagram&gt;&lt;/mxfile&gt;\" onclick=\"(function(svg){var src=window.event.target||window.event.srcElement;while (src!=null&amp;&amp;src.nodeName.toLowerCase()!='a'){src=src.parentNode;}if(src==null){if(svg.wnd!=null&amp;&amp;!svg.wnd.closed){svg.wnd.focus();}else{var r=function(evt){if(evt.data=='ready'&amp;&amp;evt.source==svg.wnd){svg.wnd.postMessage(decodeURIComponent(svg.getAttribute('content')),'*');window.removeEventListener('message',r);}};window.addEventListener('message',r);svg.wnd=window.open('https://app.diagrams.net/?client=1&amp;lightbox=1&amp;edit=_blank');}}})(this);\" style=\"cursor:pointer;max-width:100%;max-height:141px;\" version=\"1.1\" viewBox=\"-0.5 -0.5 381 141\" width=\"381px\" xmlns=\"http://www.w3.org/2000/svg\" xmlns:xlink=\"http://www.w3.org/1999/xlink\"><defs/><g><ellipse cx=\"60\" cy=\"80\" fill=\"#dae8fc\" pointer-events=\"all\" rx=\"60\" ry=\"40\" stroke=\"#6c8ebf\"/><g transform=\"translate(-0.5 -0.5)\"><switch><foreignObject height=\"100%\" pointer-events=\"none\" requiredFeatures=\"http://www.w3.org/TR/SVG11/feature#Extensibility\" style=\"overflow: visible; text-align: left;\" width=\"100%\"><div style=\"display: flex; align-items: unsafe center; justify-content: unsafe center; width: 118px; height: 1px; padding-top: 80px; margin-left: 1px;\" xmlns=\"http://www.w3.org/1999/xhtml\"><div style=\"box-sizing: border-box; font-size: 0; text-align: center; \"><div style=\"display: inline-block; font-size: 12px; font-family: Helvetica; color: #000000; line-height: 1.2; pointer-events: all; white-space: normal; word-wrap: normal; \"><font face=\"Georgia\" style=\"font-size: 18px\"><font color=\"#99ccff\"><i>V</i><sub>0</sub>, <i>P</i><sub>o</sub>,</font> <i>T</i><sub>0</sub></font></div></div></div></foreignObject><text fill=\"#000000\" font-family=\"Helvetica\" font-size=\"12px\" text-anchor=\"middle\" x=\"60\" y=\"84\">V0, Po, T0</text></switch></g><ellipse cx=\"320\" cy=\"80\" fill=\"#f8cecc\" pointer-events=\"all\" rx=\"60\" ry=\"60\" stroke=\"#b85450\"/><g transform=\"translate(-0.5 -0.5)\"><switch><foreignObject height=\"100%\" pointer-events=\"none\" requiredFeatures=\"http://www.w3.org/TR/SVG11/feature#Extensibility\" style=\"overflow: visible; text-align: left;\" width=\"100%\"><div style=\"display: flex; align-items: unsafe center; justify-content: unsafe center; width: 118px; height: 1px; padding-top: 80px; margin-left: 261px;\" xmlns=\"http://www.w3.org/1999/xhtml\"><div style=\"box-sizing: border-box; font-size: 0; text-align: center; \"><div style=\"display: inline-block; font-size: 12px; font-family: Helvetica; color: #000000; line-height: 1.2; pointer-events: all; white-space: normal; word-wrap: normal; \"><font face=\"Georgia\" style=\"font-size: 18px\"><font color=\"#ff9999\"><i>V</i>, <i>P</i>, </font><i>T</i></font></div></div></div></foreignObject><text fill=\"#000000\" font-family=\"Helvetica\" font-size=\"12px\" text-anchor=\"middle\" x=\"320\" y=\"84\">V, P, T</text></switch></g><path d=\"M 140.5 85 L 140.5 75 L 220.5 75 L 220.5 64.5 L 239.5 80 L 220.5 95.5 L 220.5 85 Z\" fill=\"none\" pointer-events=\"all\" stroke=\"#000000\" stroke-linejoin=\"round\" stroke-miterlimit=\"10\"/><rect fill=\"none\" height=\"20\" pointer-events=\"all\" stroke=\"none\" width=\"95\" x=\"12.5\" y=\"20\"/><g transform=\"translate(-0.5 -0.5)\"><switch><foreignObject height=\"100%\" pointer-events=\"none\" requiredFeatures=\"http://www.w3.org/TR/SVG11/feature#Extensibility\" style=\"overflow: visible; text-align: left;\" width=\"100%\"><div style=\"display: flex; align-items: unsafe center; justify-content: unsafe center; width: 93px; height: 1px; padding-top: 30px; margin-left: 14px;\" xmlns=\"http://www.w3.org/1999/xhtml\"><div style=\"box-sizing: border-box; font-size: 0; text-align: center; \"><div style=\"display: inline-block; font-size: 12px; font-family: Helvetica; color: #000000; line-height: 1.2; pointer-events: all; white-space: normal; word-wrap: normal; \"><font face=\"Georgia\" style=\"font-size: 18px\">始状態</font></div></div></div></foreignObject><text fill=\"#000000\" font-family=\"Helvetica\" font-size=\"12px\" text-anchor=\"middle\" x=\"60\" y=\"34\">始状態</text></switch></g><rect fill=\"none\" height=\"20\" pointer-events=\"all\" stroke=\"none\" width=\"70\" x=\"285\" y=\"0\"/><g transform=\"translate(-0.5 -0.5)\"><switch><foreignObject height=\"100%\" pointer-events=\"none\" requiredFeatures=\"http://www.w3.org/TR/SVG11/feature#Extensibility\" style=\"overflow: visible; text-align: left;\" width=\"100%\"><div style=\"display: flex; align-items: unsafe center; justify-content: unsafe center; width: 68px; height: 1px; padding-top: 10px; margin-left: 286px;\" xmlns=\"http://www.w3.org/1999/xhtml\"><div style=\"box-sizing: border-box; font-size: 0; text-align: center; \"><div style=\"display: inline-block; font-size: 12px; font-family: Helvetica; color: #000000; line-height: 1.2; pointer-events: all; white-space: normal; word-wrap: normal; \"><font face=\"Georgia\" style=\"font-size: 18px\">終状態</font></div></div></div></foreignObject><text fill=\"#000000\" font-family=\"Helvetica\" font-size=\"12px\" text-anchor=\"middle\" x=\"320\" y=\"14\">終状態</text></switch></g></g><switch><g requiredFeatures=\"http://www.w3.org/TR/SVG11/feature#Extensibility\"/><a target=\"_blank\" transform=\"translate(0,-5)\" xlink:href=\"https://desk.draw.io/support/solutions/articles/16000042487\"><text font-size=\"10px\" text-anchor=\"middle\" x=\"50%\" y=\"100%\">Viewer does not support full SVG 1.1</text></a></switch></svg>"
          },
          "metadata": {
            "tags": []
          }
        }
      ]
    },
    {
      "cell_type": "markdown",
      "metadata": {
        "id": "9i958OeDQT3a",
        "colab_type": "text"
      },
      "source": [
        "#### 状態変化の基本\n",
        "> 状態変化 = 後状態 - 初期状態"
      ]
    },
    {
      "cell_type": "markdown",
      "metadata": {
        "colab_type": "text",
        "id": "311ZgLIZQ364"
      },
      "source": [
        "#### $\\Delta U$: 内部エネルギー変化\n",
        "(理想気体の)内部エネルギー変化 $\\Delta U$\n",
        "\n",
        "> \\begin{align*}\n",
        "\\Delta U &= U_{\\text{終状態}} - U_{\\text{始状態}}&\\\\\n",
        "&=n \\dfrac{3}{2} R T - n \\dfrac{3}{2} R T_0&\\\\\n",
        "&=n \\dfrac{3}{2} R \\left( T-T_0\\right)&\n",
        "\\end{align*}\n",
        "\n",
        ">> \\begin{align*}\n",
        "\\Delta U &=n \\dfrac{3}{2} R \\Delta T&\n",
        "\\end{align*}"
      ]
    },
    {
      "cell_type": "markdown",
      "metadata": {
        "id": "bD97_PdwR6tg",
        "colab_type": "text"
      },
      "source": [
        "### 実在気体への準備\n",
        "\n",
        "単原子分子と二原子分子 ~ 多原子分子への移行"
      ]
    },
    {
      "cell_type": "markdown",
      "metadata": {
        "id": "xLrlI6g2Sp5r",
        "colab_type": "text"
      },
      "source": [
        "#### 単原子分子\n",
        "\n",
        "これまでこれまで考えてきたのは, 質点一点だけで表される原子や分子で\n",
        "> **単原子分子**\n",
        "\n",
        "と呼ばれます. 考察を簡単にするために, 単原子分子とみなして理想気体を考えるとき\n",
        "\n",
        "> **単原子分子の理想気体** \n",
        "\n",
        "とも言います.\n"
      ]
    },
    {
      "cell_type": "markdown",
      "metadata": {
        "id": "7mmMyx9xS_5y",
        "colab_type": "text"
      },
      "source": [
        "$\\require{mhchem}$\n",
        "#### 二原子分子\n",
        "\n",
        "身近な $\\ce{O2}, \\ce{N2}, \\ce{H2}$ は二つの元素が  \n",
        "結びついた下の図のような形をしています.\n",
        "\n",
        "![https://en.wikipedia.org/wiki/Diatomic_molecule](https://upload.wikimedia.org/wikipedia/commons/thumb/2/20/Dinitrogen-3D-vdW.png/317px-Dinitrogen-3D-vdW.png)\n"
      ]
    },
    {
      "cell_type": "markdown",
      "metadata": {
        "colab_type": "text",
        "id": "T7vg_9QGUwz9"
      },
      "source": [
        "$\\require{mhchem}$\n",
        "#### 三原子分子\n",
        "\n",
        "身近な $\\ce{O3}, \\ce{H2O}$ は三つの元素が  \n",
        "結びついた下の図のような形をしています.\n",
        "\n",
        "![https://upload.wikimedia.org/wikipedia/commons/thumb/1/1e/Ozone-CRC-MW-3D-vdW.png/320px-Ozone-CRC-MW-3D-vdW.png](https://upload.wikimedia.org/wikipedia/commons/thumb/1/1e/Ozone-CRC-MW-3D-vdW.png/320px-Ozone-CRC-MW-3D-vdW.png)\n"
      ]
    },
    {
      "cell_type": "markdown",
      "metadata": {
        "id": "Tg-_PWv2VY0O",
        "colab_type": "text"
      },
      "source": [
        "#### 多原子分子\n",
        "\n",
        "##### 単原子分子と多原子分子の大きな違い\n",
        "\n",
        "> 単原子分子では, 一つの質点として考えてきたので,   \n",
        "*分子の回転* を**無視できました**\n",
        "\n",
        ">> 多原子分子では, 複数の分子が距離を持って配置しているため,  \n",
        "*分子の回転* を**無視することができません**\n",
        "\n",
        "単原子分子と多原子分子では, 回転の要素を考える必要が生じます."
      ]
    },
    {
      "cell_type": "markdown",
      "metadata": {
        "id": "gcaBqEhP-cYk",
        "colab_type": "text"
      },
      "source": [
        "### 理想気体から実在気体へ\n",
        "\n",
        "原子分子を質点として取り扱っていたため、重心と質点が一致しているので  \n",
        "単原子分子の理想気体では, 絶対温度 $T$ では   \n",
        "気体分子の**重心**の運動エネルギーを全て数え上げれば,    \n",
        "その気体の内部エネルギーを計算することができました.\n",
        "\n",
        "実際の他原子分子では, 元素間に結合があるため  \n",
        "質量を持つ複数の分子が間隔を開けて存在します.\n",
        "\n",
        "同一の二原子分子であれば, \n",
        "1. 二つの分子の中央を重心として運動\n",
        "2. 分子が離れているので, 重心を中心とした回転\n",
        "\n",
        "することができます.\n",
        "\n",
        "現在使用している教科書では, 重心を中心とした回転まで考慮します.\n",
        "\n",
        "発展的な内容としては, 二原子分子に例を限れば\n",
        "* 分子間の結合が弱まったり強まったりすることで, 分子内部での振動がおこる\n",
        "* 分子内で電子の持つ電荷が微妙に分布が変わり, 隣の分子との相互作用が無視できなくなる(分子間力)\n",
        "\n",
        "などを考える必要がありますが, それはこの教科書の範囲を逸脱しますので触れません.\n",
        "\n",
        "\n"
      ]
    },
    {
      "cell_type": "markdown",
      "metadata": {
        "id": "TgMYSYM29bd4",
        "colab_type": "text"
      },
      "source": [
        "> Q. 教科書 下巻 p23 例題2.3 に取り組んでください.\n",
        "\n",
        "> "
      ]
    }
  ]
}