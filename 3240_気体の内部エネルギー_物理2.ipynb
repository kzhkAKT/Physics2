{
  "nbformat": 4,
  "nbformat_minor": 0,
  "metadata": {
    "colab": {
      "name": "3240_気体の内部エネルギー_物理2.ipynb",
      "provenance": [],
      "authorship_tag": "ABX9TyNEfvVOPuc4Dc1gZ57KQAFd",
      "include_colab_link": true
    },
    "kernelspec": {
      "name": "python3",
      "display_name": "Python 3"
    }
  },
  "cells": [
    {
      "cell_type": "markdown",
      "metadata": {
        "id": "view-in-github",
        "colab_type": "text"
      },
      "source": [
        "<a href=\"https://colab.research.google.com/github/kzhkAKT/Physics2/blob/draft/3240_%E6%B0%97%E4%BD%93%E3%81%AE%E5%86%85%E9%83%A8%E3%82%A8%E3%83%8D%E3%83%AB%E3%82%AE%E3%83%BC_%E7%89%A9%E7%90%862.ipynb\" target=\"_parent\"><img src=\"https://colab.research.google.com/assets/colab-badge.svg\" alt=\"Open In Colab\"/></a>"
      ]
    },
    {
      "cell_type": "markdown",
      "metadata": {
        "id": "06icOApzRHyD",
        "colab_type": "text"
      },
      "source": [
        "# 熱と分子運動\n",
        "\n"
      ]
    },
    {
      "cell_type": "markdown",
      "metadata": {
        "id": "n9yS-3PvRJQV",
        "colab_type": "text"
      },
      "source": [
        "## 気体の分子運動"
      ]
    },
    {
      "cell_type": "markdown",
      "metadata": {
        "id": "vtIQkwxrRMDt",
        "colab_type": "text"
      },
      "source": [
        "### 気体の内部エネルギー"
      ]
    },
    {
      "cell_type": "code",
      "metadata": {
        "id": "yPPAGNA5SzTP",
        "colab_type": "code",
        "colab": {
          "base_uri": "https://localhost:8080/",
          "height": 475
        },
        "outputId": "50b49838-2d4c-421b-837c-f4d5de1e479b"
      },
      "source": [
        "%%html\n",
        "<iframe src=\"https://phet.colorado.edu/sims/html/gas-properties/latest/gas-properties_en.html\" width=\"600\" height=\"450\" scrolling=\"no\" allowfullscreen></iframe>"
      ],
      "execution_count": 6,
      "outputs": [
        {
          "output_type": "display_data",
          "data": {
            "text/html": [
              "<iframe src=\"https://phet.colorado.edu/sims/html/gas-properties/latest/gas-properties_en.html\" width=\"600\" height=\"450\" scrolling=\"no\" allowfullscreen></iframe>"
            ],
            "text/plain": [
              "<IPython.core.display.HTML object>"
            ]
          },
          "metadata": {
            "tags": []
          }
        }
      ]
    }
  ]
}