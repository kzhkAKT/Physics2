{
  "nbformat": 4,
  "nbformat_minor": 0,
  "metadata": {
    "colab": {
      "name": "3240_気体の内部エネルギー_物理2.ipynb",
      "provenance": [],
      "toc_visible": true,
      "authorship_tag": "ABX9TyOs8gwuOOgsuoo3Y4fJgkXz",
      "include_colab_link": true
    },
    "kernelspec": {
      "name": "python3",
      "display_name": "Python 3"
    }
  },
  "cells": [
    {
      "cell_type": "markdown",
      "metadata": {
        "id": "view-in-github",
        "colab_type": "text"
      },
      "source": [
        "<a href=\"https://colab.research.google.com/github/kzhkAKT/Physics2/blob/draft/3240_%E6%B0%97%E4%BD%93%E3%81%AE%E5%86%85%E9%83%A8%E3%82%A8%E3%83%8D%E3%83%AB%E3%82%AE%E3%83%BC_%E7%89%A9%E7%90%862.ipynb\" target=\"_parent\"><img src=\"https://colab.research.google.com/assets/colab-badge.svg\" alt=\"Open In Colab\"/></a>"
      ]
    },
    {
      "cell_type": "markdown",
      "metadata": {
        "id": "06icOApzRHyD",
        "colab_type": "text"
      },
      "source": [
        "# 熱と分子運動\n",
        "\n"
      ]
    },
    {
      "cell_type": "markdown",
      "metadata": {
        "id": "n9yS-3PvRJQV",
        "colab_type": "text"
      },
      "source": [
        "## 気体の分子運動"
      ]
    },
    {
      "cell_type": "markdown",
      "metadata": {
        "id": "vtIQkwxrRMDt",
        "colab_type": "text"
      },
      "source": [
        "### 気体の内部エネルギー"
      ]
    },
    {
      "cell_type": "code",
      "metadata": {
        "id": "yPPAGNA5SzTP",
        "colab_type": "code",
        "cellView": "form",
        "colab": {
          "base_uri": "https://localhost:8080/",
          "height": 475
        },
        "outputId": "50b49838-2d4c-421b-837c-f4d5de1e479b"
      },
      "source": [
        "#@title 一つから アボガドロ数個 ~ n mol : choose particle Light 1 by 1\n",
        "%%html\n",
        "<iframe src=\"https://phet.colorado.edu/sims/html/gas-properties/latest/gas-properties_en.html\" width=\"600\" height=\"450\" scrolling=\"no\" allowfullscreen></iframe>"
      ],
      "execution_count": null,
      "outputs": [
        {
          "output_type": "display_data",
          "data": {
            "text/html": [
              "<iframe src=\"https://phet.colorado.edu/sims/html/gas-properties/latest/gas-properties_en.html\" width=\"600\" height=\"450\" scrolling=\"no\" allowfullscreen></iframe>"
            ],
            "text/plain": [
              "<IPython.core.display.HTML object>"
            ]
          },
          "metadata": {
            "tags": []
          }
        }
      ]
    },
    {
      "cell_type": "markdown",
      "metadata": {
        "id": "2yKhezozW36O",
        "colab_type": "text"
      },
      "source": [
        "#### (理想気体) 1つ の原子/分子の運動エネルギー $\\epsilon$\n",
        "\\begin{align*}\n",
        "\\epsilon &=  \\dfrac{1}{2} m \\bar{v^2} =  \\dfrac{3}{2} k_{\\rm B} T&\\\\\n",
        "&k_{\\rm B} = \\dfrac{R}{N_{\\rm A}}&\n",
        "\\end{align*}\n",
        "$k_{\\rm B}$:: ボルツマン定数\n",
        "\n",
        "この関係を拡張していきます.\n",
        "\n",
        "1. アボガドロ定数 $N_{\\rm A} = 6.02 \\times 10^{23} {\\rm\\ 個/1\\ mol}$\n",
        "1. ${\\rm1\\ mol}$ の物質量(集団)の中には,\n",
        "$6.02 \\times 10^{23} {\\rm\\ 個}$ の分子が存在\n",
        "  - *一つの点で表せる* **理想気体**なので, 大きさも無視します\n",
        "  - 相互作用も無視して構いません\n",
        "\n",
        "> Q. 絶対温度 $T$ の環境下で, 物質量 $n\\ {\\rm mol}$ の理想気体が容器の中に閉じ込められています.   \n",
        "容器の中の運動エネルギーの総和 $K$ を計算してください.\n"
      ]
    },
    {
      "cell_type": "markdown",
      "metadata": {
        "id": "xRmx8fXDtgTP",
        "colab_type": "text"
      },
      "source": [
        "####  $n {\\rm\\ mol}$ の(理想気体) が持つ運動エネルギーの総和 $K$\n",
        "\n",
        "$\\require{cancel}$\n",
        "容器の中には, \n",
        "1. 物質量として $n\\ {\\rm mol}$ の理想気体分子が存在\n",
        "1. 全体の分子の個数 $N$ は, アボガドロ数 $N_{\\rm A}$ を掛けて: $\\qquad N= n \\cdot N_{\\rm A}$\n",
        "1. 絶対温度 $T$ で, **1つの原子/分子が持つ** 運動エネルギー: $\\epsilon = \\dfrac{1}{2} m \\bar{v^2} = \\dfrac{3}{2} k_{\\rm B}T$  \n",
        "絶対温度のみに依存\n",
        "\n",
        "よって\n",
        "> 絶対温度 $T$ の環境下で, 物質量 $n\\ {\\rm mol}$ の理想気体の  \n",
        "容器の中の運動エネルギーの総和:\n",
        "\\begin{align*}\n",
        "K&= N \\cdot \\epsilon = n  N_{\\rm A} \\cdot \\epsilon&\\\\\n",
        "&= n  N_{\\rm A} \\left(\\dfrac{3}{2} k_{\\rm B}T\\right)&\\\\\n",
        "&= n  \\bcancel{N_{\\rm A}} \\left(\\dfrac{3}{2} \\dfrac{R}{\\bcancel{N_{\\rm A}}}T\\right)\n",
        "= n \\dfrac{3}{2} R T&\n",
        "\\end{align*}\n",
        "\n",
        "\n",
        "この考察から, 絶対温度 $T$ の環境下で, 物質量 $n\\ {\\rm mol}$ の理想気体が持つ  \n",
        "運動エネルギーの総和 $K$ は, **絶対温度 $T$ のみによって決まる** ことがわかりました."
      ]
    },
    {
      "cell_type": "markdown",
      "metadata": {
        "id": "flOhirevx5ef",
        "colab_type": "text"
      },
      "source": [
        "### 理想気体の内部エネルギー $U$"
      ]
    },
    {
      "cell_type": "code",
      "metadata": {
        "id": "LYoDE1MWqw_v",
        "colab_type": "code",
        "colab": {}
      },
      "source": [
        ""
      ],
      "execution_count": null,
      "outputs": []
    }
  ]
}