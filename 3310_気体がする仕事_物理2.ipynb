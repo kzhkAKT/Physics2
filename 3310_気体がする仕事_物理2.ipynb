{
  "nbformat": 4,
  "nbformat_minor": 0,
  "metadata": {
    "colab": {
      "name": "3310_気体がする仕事_物理2.ipynb",
      "provenance": [],
      "collapsed_sections": [],
      "authorship_tag": "ABX9TyNOxO8LbjsLrkREvKgfzkHa",
      "include_colab_link": true
    },
    "kernelspec": {
      "name": "python3",
      "display_name": "Python 3"
    }
  },
  "cells": [
    {
      "cell_type": "markdown",
      "metadata": {
        "id": "view-in-github",
        "colab_type": "text"
      },
      "source": [
        "<a href=\"https://colab.research.google.com/github/kzhkAKT/Physics2/blob/master/3310_%E6%B0%97%E4%BD%93%E3%81%8C%E3%81%99%E3%82%8B%E4%BB%95%E4%BA%8B_%E7%89%A9%E7%90%862.ipynb\" target=\"_parent\"><img src=\"https://colab.research.google.com/assets/colab-badge.svg\" alt=\"Open In Colab\"/></a>"
      ]
    },
    {
      "cell_type": "markdown",
      "metadata": {
        "id": "vFGBSrGDpO1Z",
        "colab_type": "text"
      },
      "source": [
        "# 熱力学の第一法則"
      ]
    },
    {
      "cell_type": "markdown",
      "metadata": {
        "id": "Z7QMGPwRpSLZ",
        "colab_type": "text"
      },
      "source": [
        "## 気体がする仕事"
      ]
    },
    {
      "cell_type": "code",
      "metadata": {
        "id": "W-CukTcAm2fI",
        "colab_type": "code",
        "cellView": "form",
        "colab": {
          "base_uri": "https://localhost:8080/",
          "height": 336
        },
        "outputId": "edc5af16-914a-42b3-fa8e-268e54064c60"
      },
      "source": [
        "#@title DYI 蒸気機関\n",
        "%%html\n",
        "<iframe width=\"560\" height=\"315\" src=\"https://www.youtube-nocookie.com/embed/Ey9PqrBXTtQ\" frameborder=\"0\" allow=\"accelerometer; autoplay; encrypted-media; gyroscope; picture-in-picture\" allowfullscreen></iframe>"
      ],
      "execution_count": null,
      "outputs": [
        {
          "output_type": "display_data",
          "data": {
            "text/html": [
              "<iframe width=\"560\" height=\"315\" src=\"https://www.youtube-nocookie.com/embed/Ey9PqrBXTtQ\" frameborder=\"0\" allow=\"accelerometer; autoplay; encrypted-media; gyroscope; picture-in-picture\" allowfullscreen></iframe>"
            ],
            "text/plain": [
              "<IPython.core.display.HTML object>"
            ]
          },
          "metadata": {
            "tags": []
          }
        }
      ]
    },
    {
      "cell_type": "code",
      "metadata": {
        "id": "Pb48rzQ5mVZ8",
        "colab_type": "code",
        "cellView": "form",
        "colab": {
          "base_uri": "https://localhost:8080/",
          "height": 336
        },
        "outputId": "813918f6-bede-47fd-f2ec-2101e0e6b5b4"
      },
      "source": [
        "#@title 簡単な蒸気機関\n",
        "%%html\n",
        "<iframe width=\"560\" height=\"315\" src=\"https://www.youtube-nocookie.com/embed/K40XrR67fas\" frameborder=\"0\" allow=\"accelerometer; autoplay; encrypted-media; gyroscope; picture-in-picture\" allowfullscreen></iframe>"
      ],
      "execution_count": null,
      "outputs": [
        {
          "output_type": "display_data",
          "data": {
            "text/html": [
              "<iframe width=\"560\" height=\"315\" src=\"https://www.youtube-nocookie.com/embed/K40XrR67fas\" frameborder=\"0\" allow=\"accelerometer; autoplay; encrypted-media; gyroscope; picture-in-picture\" allowfullscreen></iframe>"
            ],
            "text/plain": [
              "<IPython.core.display.HTML object>"
            ]
          },
          "metadata": {
            "tags": []
          }
        }
      ]
    },
    {
      "cell_type": "code",
      "metadata": {
        "id": "nKmtuMZmsLqA",
        "colab_type": "code",
        "cellView": "form",
        "colab": {
          "base_uri": "https://localhost:8080/",
          "height": 336
        },
        "outputId": "2c4adc99-f610-468c-c87b-4028d9f12c1e"
      },
      "source": [
        "#@title 産業革命を支えた蒸気機関\n",
        "%%html\n",
        "<iframe width=\"560\" height=\"315\" src=\"https://www.youtube-nocookie.com/embed/FcDP_QykK3s\" frameborder=\"0\" allow=\"accelerometer; autoplay; encrypted-media; gyroscope; picture-in-picture\" allowfullscreen></iframe>"
      ],
      "execution_count": null,
      "outputs": [
        {
          "output_type": "display_data",
          "data": {
            "text/html": [
              "<iframe width=\"560\" height=\"315\" src=\"https://www.youtube-nocookie.com/embed/FcDP_QykK3s\" frameborder=\"0\" allow=\"accelerometer; autoplay; encrypted-media; gyroscope; picture-in-picture\" allowfullscreen></iframe>"
            ],
            "text/plain": [
              "<IPython.core.display.HTML object>"
            ]
          },
          "metadata": {
            "tags": []
          }
        }
      ]
    },
    {
      "cell_type": "code",
      "metadata": {
        "id": "qoRRR48CqC2G",
        "colab_type": "code",
        "cellView": "form",
        "colab": {
          "base_uri": "https://localhost:8080/",
          "height": 336
        },
        "outputId": "e6f05ae8-7c35-4004-f880-bd18931690b0"
      },
      "source": [
        "#@title SL: steam locomotion\n",
        "%%html\n",
        "<iframe width=\"560\" height=\"315\" src=\"https://www.youtube-nocookie.com/embed/IVVf_3xpZb0\" frameborder=\"0\" allow=\"accelerometer; autoplay; encrypted-media; gyroscope; picture-in-picture\" allowfullscreen></iframe>"
      ],
      "execution_count": null,
      "outputs": [
        {
          "output_type": "display_data",
          "data": {
            "text/html": [
              "<iframe width=\"560\" height=\"315\" src=\"https://www.youtube-nocookie.com/embed/IVVf_3xpZb0\" frameborder=\"0\" allow=\"accelerometer; autoplay; encrypted-media; gyroscope; picture-in-picture\" allowfullscreen></iframe>"
            ],
            "text/plain": [
              "<IPython.core.display.HTML object>"
            ]
          },
          "metadata": {
            "tags": []
          }
        }
      ]
    },
    {
      "cell_type": "markdown",
      "metadata": {
        "id": "EHXudzqGsoig",
        "colab_type": "text"
      },
      "source": [
        "### 復習: (物理における)仕事の定義\n",
        "\n",
        "- $W$: work, 仕事\n",
        "- $F$: force, 力\n",
        "- $s$: displacement, 変位\n",
        "\n",
        "\\begin{align*}\n",
        "W = F \\cdot s\n",
        "\\end{align*}\n",
        "\n",
        "> 変位と同じ方向の **力に変位を掛けたものを力と定義する** と読むことができます.\n",
        "\n",
        "単位は\n",
        "> $\\qquad {\\rm 1\\ J} = {\\rm 1\\ N \\cdot 1\\ m} \\left[= {\\rm 1\\ (kg\\cdot m/s^2) \\cdot 1\\ m}\\right]$\n",
        "\n",
        "今後は, 物理IIIでの内容を踏まえ\n",
        "\n",
        ">> - $\\Delta W$: work, 仕事 $\\qquad \\Delta W =W_{\\rm 終状態} - W_{\\rm 始状態}$\n",
        "- $F$: force, 力\n",
        "- $\\Delta x$: displacement, 変位 $\\qquad \\Delta x =x_{\\rm 終状態} - x_{\\rm 始状態}$\n",
        "\\begin{align*}\n",
        "\\Delta W = F \\cdot \\Delta x\n",
        "\\end{align*}\n",
        "\n",
        "と表現します.\n",
        "\n",
        "$\\qquad \\Delta$ は ギリシャ文字 の第四番目の(大)文字で 「**デルタ**」と読みます.  \n",
        "英語のアルファベットの四番目の文字は **d** なので, **differenct** を表します.  \n",
        "物理では difference を考えるときは, (時間的に)\n",
        "\n",
        "> **後の状態 - 始めの状態**\n",
        "\n",
        "を必ず意識してください.\n",
        "\n",
        "> Q. 仕事の定義から, どのようなグラフの面積が仕事として定義できるか考えてください.\n"
      ]
    },
    {
      "cell_type": "code",
      "metadata": {
        "id": "WqtoUI3UssPG",
        "colab_type": "code",
        "cellView": "form",
        "colab": {
          "base_uri": "https://localhost:8080/",
          "height": 326
        },
        "outputId": "f1cd8f24-ef56-4a2f-a02d-5a28ebc7d851"
      },
      "source": [
        "#@title 気体が(外部に)した仕事\n",
        "%%svg\n",
        "<svg xmlns=\"http://www.w3.org/2000/svg\" xmlns:xlink=\"http://www.w3.org/1999/xlink\" version=\"1.1\" width=\"541px\" viewBox=\"-0.5 -0.5 541 305\" content=\"&lt;mxfile host=&quot;www.draw.io&quot; modified=&quot;2020-07-02T11:12:08.598Z&quot; agent=&quot;5.0 (Macintosh; Intel Mac OS X 10_15_5) AppleWebKit/537.36 (KHTML, like Gecko) Chrome/83.0.4103.116 Safari/537.36&quot; etag=&quot;wUeVuYqrCzAOIN7D7q34&quot; version=&quot;13.3.0&quot; type=&quot;google&quot;&gt;&lt;diagram id=&quot;9bHa5pdwqvTCAj580ojm&quot; name=&quot;Page-1&quot;&gt;7Vvfk6I4EP5rqHtySxJQfBTXubmqmbqtmoe71wxESS0SDnB05q+/RBL5ERyQBRxXq3wITeiQ/rq/dDqowcVm/2eEQu+ZutjXwNjda/C7BsAUAI3/xu57KjCNWSpYR8RNRXomeCEfWAjHQrolLo4LHRNK/YSERaFDgwA7SUGGoojuit1W1C+OGqI1VgQvDvJV6T/ETbxUaoFpJn/EZO3JkfWJmN8Gyc5iJrGHXLrLieBSg4uI0iRtbfYL7HPbSbukzz2cuHt8sQgHSZMHPt4+Hp1Hb/XX8vn9+Sm0DHfz70ia+Q35WzFj8bbJuzRBRLeBi7mWsQbtnUcS/BIih9/dMcyZzEs2PrvSWTNOIvoTL6hPIyYJaMC62Svi+1KkAbiyHOw4TC7GxlGC9ydnpR9txXwM0w1OonfWRTwAJ2IGwr90ae5dhpYu+3g5pCwhQ8JB1kfVmQ1ZQ5jxDJPCeoviwJ1z38wslLNg2hu7il/WmiQ3ZbNixlIWYR8l5K2ovsoMYoQflLCB6y0uVcR0GzlYPJV3yJIis05RgqI1ThRFB1SO024PlHFjQIFxR0ApivoGClQgNfGZtexX1ljzhracarapWYA3rLlmT7TlRLOYxJZ92dhZdwVpBuMTemWLVwFj5JN1wNoOgxQz+rI5WRG2PMzFjQ1xXa7DjnBMPtDrQR/nyZBb42Af09bM75wFaZCIBU63xPUD2hCfm5WZKVoTxMQ+fwsbOT/XB+ItUelJyhQLoHiDbNnJu+PpMDjJr6Pxt1kR/E58ExQ9aqSXNNDVKsa9OJN+a/zcOuxrib7nsNcbEPRZucnJ2GmebpigQboxZLahmx0b6dIJ3NFUOYtag1p0cmsEUTZl67ygrKhvgpjeGFLH619FSlHUM1JmRUwtTW0+5elZRcJ2T84KLv5ZdmZNigtSJ46nF5WOdFDU0GN6Zt1jul16Njj7zuqRGjo9M4z6ZGLQ9ExO4Tx3dlHsHaymX5dvl7Njo3XFoaRo6IoDqMos0ioCkSWEpz9yhQVyBYWF7lenmmhki5MFYZHtOvGz0XSo5UiG623ErwGLtZ7W8VtWNHS+CdRd8dMXjsxDN/Fi0uG6DFNQG6bWrJvALMI+GyxMq7LGEl//qKbrVBZvj6Xhca5fTqy4D4Mn6c9z0DahsfCcDij+jAoXLFW4DFNJoYwKCoK9pVBVeeYd21bYltIqOL4wtvC8MzjHR3FMnCIyn3Fqzqpffu01esqdFUU9r72wqiKdRh3HpADu5L8tlTdGaUjMWQdghPvs5jFKF0ttZiixv/8s9pksHfTLZ+dDV5Zg7bmfXnCjUTeVJeMyCQJsUNSPPRTy5srHe8E4dkfkIylEh6lOcc+8Bl4qnwK2rkGXj87M2TdzWGZqsKvvhqoeTvLPVVUMBuekyXmcBDrx8FG52K34ZY+81KDcfeelyvL3tFRiUGFrXa1QVfXNTA32OHdmuiQzWbfGTEaDD0uu+iBOrztjaHwQd+HDCuN3/2BFQartBysKUgMfmRq/+wcrnSFVG5x9I9UgLxv6cBuUD7elTS51uC2d5l6Z/XVsrXpsB63MmlWfSZewfWmWNPo+CWNcHyIoDtN/cK3InodV000MZRpJwvsY427QgPVgDPpJqtmgTH7fJVauI+W4gq13iQr9qqr6/orydGX9vkv8CrtE88ya+vXvEs374ezB0/g7/d35OqRkwWZvWQG7zP6KnHpH9n9uuPwf&lt;/diagram&gt;&lt;/mxfile&gt;\" onclick=\"(function(svg){var src=window.event.target||window.event.srcElement;while (src!=null&amp;&amp;src.nodeName.toLowerCase()!='a'){src=src.parentNode;}if(src==null){if(svg.wnd!=null&amp;&amp;!svg.wnd.closed){svg.wnd.focus();}else{var r=function(evt){if(evt.data=='ready'&amp;&amp;evt.source==svg.wnd){svg.wnd.postMessage(decodeURIComponent(svg.getAttribute('content')),'*');window.removeEventListener('message',r);}};window.addEventListener('message',r);svg.wnd=window.open('https://www.draw.io/?client=1&amp;lightbox=1&amp;edit=_blank');}}})(this);\" style=\"cursor:pointer;max-width:100%;max-height:305px;\"><defs/><g><rect x=\"330\" y=\"0\" width=\"160\" height=\"80\" fill=\"#f8cecc\" stroke=\"none\" pointer-events=\"all\"/><path d=\"M 330 0 L 530 0\" fill=\"none\" stroke=\"#000000\" stroke-miterlimit=\"10\" pointer-events=\"stroke\"/><path d=\"M 330 80 L 530 80\" fill=\"none\" stroke=\"#000000\" stroke-miterlimit=\"10\" pointer-events=\"stroke\"/><g transform=\"translate(-0.5 -0.5)\"><switch><foreignObject style=\"overflow: visible; text-align: left;\" pointer-events=\"none\" width=\"100%\" height=\"100%\" requiredFeatures=\"http://www.w3.org/TR/SVG11/feature#Extensibility\"><div xmlns=\"http://www.w3.org/1999/xhtml\" style=\"display: flex; align-items: unsafe center; justify-content: unsafe center; width: 1px; height: 1px; padding-top: 68px; margin-left: 361px;\"><div style=\"box-sizing: border-box; font-size: 0; text-align: center; \"><div style=\"display: inline-block; font-size: 18px; font-family: Georgia; color: #000000; line-height: 1.2; pointer-events: all; white-space: nowrap; \"><b>終状態</b></div></div></div></foreignObject><text x=\"361\" y=\"73\" fill=\"#000000\" font-family=\"Georgia\" font-size=\"18px\" text-anchor=\"middle\">終状態</text></switch></g><path d=\"M 330 80 L 330 0\" fill=\"none\" stroke=\"#000000\" stroke-miterlimit=\"10\" pointer-events=\"stroke\"/><rect x=\"490\" y=\"0\" width=\"10\" height=\"80\" fill=\"#ffffff\" stroke=\"#000000\" pointer-events=\"all\"/><rect x=\"330\" y=\"160\" width=\"80\" height=\"80\" fill=\"#f8cecc\" stroke=\"none\" pointer-events=\"all\"/><path d=\"M 330 160 L 530 160\" fill=\"none\" stroke=\"#000000\" stroke-miterlimit=\"10\" pointer-events=\"stroke\"/><path d=\"M 330 240 L 530 240\" fill=\"none\" stroke=\"#000000\" stroke-miterlimit=\"10\" pointer-events=\"stroke\"/><g transform=\"translate(-0.5 -0.5)\"><switch><foreignObject style=\"overflow: visible; text-align: left;\" pointer-events=\"none\" width=\"100%\" height=\"100%\" requiredFeatures=\"http://www.w3.org/TR/SVG11/feature#Extensibility\"><div xmlns=\"http://www.w3.org/1999/xhtml\" style=\"display: flex; align-items: unsafe center; justify-content: unsafe center; width: 1px; height: 1px; padding-top: 228px; margin-left: 361px;\"><div style=\"box-sizing: border-box; font-size: 0; text-align: center; \"><div style=\"display: inline-block; font-size: 18px; font-family: Georgia; color: #000000; line-height: 1.2; pointer-events: all; white-space: nowrap; \">始状態</div></div></div></foreignObject><text x=\"361\" y=\"233\" fill=\"#000000\" font-family=\"Georgia\" font-size=\"18px\" text-anchor=\"middle\">始状態</text></switch></g><path d=\"M 330 240 L 330 160\" fill=\"none\" stroke=\"#000000\" stroke-miterlimit=\"10\" pointer-events=\"stroke\"/><rect x=\"410\" y=\"160\" width=\"10\" height=\"80\" fill=\"#ffffff\" stroke=\"#000000\" pointer-events=\"all\"/><path d=\"M 490 280 L 490 80\" fill=\"none\" stroke=\"#000000\" stroke-miterlimit=\"10\" stroke-dasharray=\"3 3\" pointer-events=\"stroke\"/><g transform=\"translate(-0.5 -0.5)\"><switch><foreignObject style=\"overflow: visible; text-align: left;\" pointer-events=\"none\" width=\"100%\" height=\"100%\" requiredFeatures=\"http://www.w3.org/TR/SVG11/feature#Extensibility\"><div xmlns=\"http://www.w3.org/1999/xhtml\" style=\"display: flex; align-items: unsafe center; justify-content: unsafe center; width: 1px; height: 1px; padding-top: 93px; margin-left: 481px;\"><div style=\"box-sizing: border-box; font-size: 0; text-align: center; \"><div style=\"display: inline-block; font-size: 18px; font-family: Georgia; color: #000000; line-height: 1.2; pointer-events: all; background-color: #ffffff; white-space: nowrap; \"><i>L'</i></div></div></div></foreignObject><text x=\"481\" y=\"98\" fill=\"#000000\" font-family=\"Georgia\" font-size=\"18px\" text-anchor=\"middle\">L'</text></switch></g><path d=\"M 409 280 L 409 240\" fill=\"none\" stroke=\"#000000\" stroke-miterlimit=\"10\" stroke-dasharray=\"3 3\" pointer-events=\"stroke\"/><g transform=\"translate(-0.5 -0.5)\"><switch><foreignObject style=\"overflow: visible; text-align: left;\" pointer-events=\"none\" width=\"100%\" height=\"100%\" requiredFeatures=\"http://www.w3.org/TR/SVG11/feature#Extensibility\"><div xmlns=\"http://www.w3.org/1999/xhtml\" style=\"display: flex; align-items: unsafe center; justify-content: unsafe center; width: 1px; height: 1px; padding-top: 252px; margin-left: 401px;\"><div style=\"box-sizing: border-box; font-size: 0; text-align: center; \"><div style=\"display: inline-block; font-size: 18px; font-family: Georgia; color: #000000; line-height: 1.2; pointer-events: all; font-style: italic; background-color: #ffffff; white-space: nowrap; \">L</div></div></div></foreignObject><text x=\"401\" y=\"257\" fill=\"#000000\" font-family=\"Georgia\" font-size=\"18px\" text-anchor=\"middle\" font-style=\"italic\">L</text></switch></g><rect x=\"500\" y=\"25\" width=\"40\" height=\"30\" fill=\"none\" stroke=\"none\" pointer-events=\"all\"/><g transform=\"translate(-0.5 -0.5)\"><switch><foreignObject style=\"overflow: visible; text-align: left;\" pointer-events=\"none\" width=\"100%\" height=\"100%\" requiredFeatures=\"http://www.w3.org/TR/SVG11/feature#Extensibility\"><div xmlns=\"http://www.w3.org/1999/xhtml\" style=\"display: flex; align-items: unsafe center; justify-content: unsafe center; width: 1px; height: 1px; padding-top: 40px; margin-left: 520px;\"><div style=\"box-sizing: border-box; font-size: 0; text-align: center; \"><div style=\"display: inline-block; font-size: 18px; font-family: Georgia; color: #000000; line-height: 1.2; pointer-events: all; white-space: nowrap; \"><i>P</i><sub>0</sub></div></div></div></foreignObject><text x=\"520\" y=\"45\" fill=\"#000000\" font-family=\"Georgia\" font-size=\"18px\" text-anchor=\"middle\">P0</text></switch></g><rect x=\"490\" y=\"185\" width=\"40\" height=\"30\" fill=\"none\" stroke=\"none\" pointer-events=\"all\"/><g transform=\"translate(-0.5 -0.5)\"><switch><foreignObject style=\"overflow: visible; text-align: left;\" pointer-events=\"none\" width=\"100%\" height=\"100%\" requiredFeatures=\"http://www.w3.org/TR/SVG11/feature#Extensibility\"><div xmlns=\"http://www.w3.org/1999/xhtml\" style=\"display: flex; align-items: unsafe center; justify-content: unsafe center; width: 1px; height: 1px; padding-top: 200px; margin-left: 510px;\"><div style=\"box-sizing: border-box; font-size: 0; text-align: center; \"><div style=\"display: inline-block; font-size: 18px; font-family: Georgia; color: #000000; line-height: 1.2; pointer-events: all; white-space: nowrap; \"><i>P</i><sub>0</sub></div></div></div></foreignObject><text x=\"510\" y=\"205\" fill=\"#000000\" font-family=\"Georgia\" font-size=\"18px\" text-anchor=\"middle\">P0</text></switch></g><path d=\"M 410 280 L 483.63 280\" fill=\"none\" stroke=\"#000000\" stroke-miterlimit=\"10\" pointer-events=\"stroke\"/><path d=\"M 488.88 280 L 481.88 283.5 L 483.63 280 L 481.88 276.5 Z\" fill=\"#000000\" stroke=\"#000000\" stroke-miterlimit=\"10\" pointer-events=\"all\"/><g transform=\"translate(-0.5 -0.5)\"><switch><foreignObject style=\"overflow: visible; text-align: left;\" pointer-events=\"none\" width=\"100%\" height=\"100%\" requiredFeatures=\"http://www.w3.org/TR/SVG11/feature#Extensibility\"><div xmlns=\"http://www.w3.org/1999/xhtml\" style=\"display: flex; align-items: unsafe center; justify-content: unsafe center; width: 1px; height: 1px; padding-top: 291px; margin-left: 451px;\"><div style=\"box-sizing: border-box; font-size: 0; text-align: center; \"><div style=\"display: inline-block; font-size: 18px; font-family: Georgia; color: #000000; line-height: 1.2; pointer-events: all; white-space: nowrap; \"><font style=\"font-size: 24px\">Δ<i>x</i></font></div></div></div></foreignObject><text x=\"451\" y=\"296\" fill=\"#000000\" font-family=\"Georgia\" font-size=\"18px\" text-anchor=\"middle\">Δx</text></switch></g><path d=\"M 430.55 46.5 L 430.45 33.5 L 473.45 33.14 L 473.36 22.64 L 489.5 39.5 L 473.64 56.64 L 473.55 46.14 Z\" fill=\"none\" stroke=\"#000000\" stroke-linejoin=\"round\" stroke-miterlimit=\"10\" pointer-events=\"all\"/><g transform=\"translate(-0.5 -0.5)\"><switch><foreignObject style=\"overflow: visible; text-align: left;\" pointer-events=\"none\" width=\"100%\" height=\"100%\" requiredFeatures=\"http://www.w3.org/TR/SVG11/feature#Extensibility\"><div xmlns=\"http://www.w3.org/1999/xhtml\" style=\"display: flex; align-items: unsafe center; justify-content: unsafe center; width: 1px; height: 1px; padding-top: 19px; margin-left: 451px;\"><div style=\"box-sizing: border-box; font-size: 0; text-align: center; \"><div style=\"display: inline-block; font-size: 18px; font-family: Georgia; color: #000000; line-height: 1.2; pointer-events: all; white-space: nowrap; \"><i><font style=\"font-size: 24px\">F</font></i></div></div></div></foreignObject><text x=\"451\" y=\"24\" fill=\"#000000\" font-family=\"Georgia\" font-size=\"18px\" text-anchor=\"middle\">F</text></switch></g><path d=\"M 349.5 206 L 349.5 193 L 392.5 193 L 392.5 182.5 L 408.5 199.5 L 392.5 216.5 L 392.5 206 Z\" fill=\"none\" stroke=\"#000000\" stroke-linejoin=\"round\" stroke-miterlimit=\"10\" pointer-events=\"all\"/><g transform=\"translate(-0.5 -0.5)\"><switch><foreignObject style=\"overflow: visible; text-align: left;\" pointer-events=\"none\" width=\"100%\" height=\"100%\" requiredFeatures=\"http://www.w3.org/TR/SVG11/feature#Extensibility\"><div xmlns=\"http://www.w3.org/1999/xhtml\" style=\"display: flex; align-items: unsafe center; justify-content: unsafe center; width: 1px; height: 1px; padding-top: 179px; margin-left: 371px;\"><div style=\"box-sizing: border-box; font-size: 0; text-align: center; \"><div style=\"display: inline-block; font-size: 18px; font-family: Georgia; color: #000000; line-height: 1.2; pointer-events: all; white-space: nowrap; \"><i><font style=\"font-size: 24px\">F</font></i></div></div></div></foreignObject><text x=\"371\" y=\"184\" fill=\"#000000\" font-family=\"Georgia\" font-size=\"18px\" text-anchor=\"middle\">F</text></switch></g><path d=\"M 90 80 L 290 80\" fill=\"none\" stroke=\"#000000\" stroke-miterlimit=\"10\" pointer-events=\"stroke\"/><path d=\"M 90 160 L 290 160\" fill=\"none\" stroke=\"#000000\" stroke-miterlimit=\"10\" pointer-events=\"stroke\"/><path d=\"M 90 160 L 90 80\" fill=\"none\" stroke=\"#000000\" stroke-miterlimit=\"10\" pointer-events=\"stroke\"/><rect x=\"210\" y=\"80\" width=\"10\" height=\"80\" fill=\"#ffffff\" stroke=\"#000000\" pointer-events=\"all\"/><rect x=\"250\" y=\"80\" width=\"40\" height=\"30\" fill=\"none\" stroke=\"none\" pointer-events=\"all\"/><g transform=\"translate(-0.5 -0.5)\"><switch><foreignObject style=\"overflow: visible; text-align: left;\" pointer-events=\"none\" width=\"100%\" height=\"100%\" requiredFeatures=\"http://www.w3.org/TR/SVG11/feature#Extensibility\"><div xmlns=\"http://www.w3.org/1999/xhtml\" style=\"display: flex; align-items: unsafe center; justify-content: unsafe center; width: 1px; height: 1px; padding-top: 95px; margin-left: 270px;\"><div style=\"box-sizing: border-box; font-size: 0; text-align: center; \"><div style=\"display: inline-block; font-size: 18px; font-family: Georgia; color: #000000; line-height: 1.2; pointer-events: all; white-space: nowrap; \"><i>P</i><sub>0</sub></div></div></div></foreignObject><text x=\"270\" y=\"100\" fill=\"#000000\" font-family=\"Georgia\" font-size=\"18px\" text-anchor=\"middle\">P0</text></switch></g><ellipse cx=\"40\" cy=\"120\" rx=\"40\" ry=\"40\" fill-opacity=\"0.4\" fill=\"#ffffff\" stroke=\"#000000\" stroke-opacity=\"0.4\" pointer-events=\"all\"/><g transform=\"translate(-0.5 -0.5)\"><switch><foreignObject style=\"overflow: visible; text-align: left;\" pointer-events=\"none\" width=\"100%\" height=\"100%\" requiredFeatures=\"http://www.w3.org/TR/SVG11/feature#Extensibility\"><div xmlns=\"http://www.w3.org/1999/xhtml\" style=\"display: flex; align-items: unsafe center; justify-content: unsafe center; width: 78px; height: 1px; padding-top: 120px; margin-left: 1px;\"><div style=\"box-sizing: border-box; font-size: 0; text-align: center; \"><div style=\"display: inline-block; font-size: 18px; font-family: Georgia; color: #000000; line-height: 1.2; pointer-events: all; white-space: normal; word-wrap: normal; \"><i>S</i></div></div></div></foreignObject><text x=\"40\" y=\"125\" fill=\"#000000\" font-family=\"Georgia\" font-size=\"18px\" text-anchor=\"middle\">S</text></switch></g><path d=\"M 150.5 126 L 150.5 113 L 193.5 113 L 193.5 102.5 L 209.5 119.5 L 193.5 136.5 L 193.5 126 Z\" fill=\"none\" stroke=\"#000000\" stroke-linejoin=\"round\" stroke-miterlimit=\"10\" pointer-events=\"all\"/><g transform=\"translate(-0.5 -0.5)\"><switch><foreignObject style=\"overflow: visible; text-align: left;\" pointer-events=\"none\" width=\"100%\" height=\"100%\" requiredFeatures=\"http://www.w3.org/TR/SVG11/feature#Extensibility\"><div xmlns=\"http://www.w3.org/1999/xhtml\" style=\"display: flex; align-items: unsafe center; justify-content: unsafe center; width: 1px; height: 1px; padding-top: 99px; margin-left: 172px;\"><div style=\"box-sizing: border-box; font-size: 0; text-align: center; \"><div style=\"display: inline-block; font-size: 18px; font-family: Georgia; color: #000000; line-height: 1.2; pointer-events: all; white-space: nowrap; \"><i><font style=\"font-size: 24px\">F</font></i></div></div></div></foreignObject><text x=\"172\" y=\"104\" fill=\"#000000\" font-family=\"Georgia\" font-size=\"18px\" text-anchor=\"middle\">F</text></switch></g><rect x=\"90\" y=\"130\" width=\"40\" height=\"30\" fill=\"none\" stroke=\"none\" pointer-events=\"all\"/><g transform=\"translate(-0.5 -0.5)\" opacity=\"0.4\"><switch><foreignObject style=\"overflow: visible; text-align: left;\" pointer-events=\"none\" width=\"100%\" height=\"100%\" requiredFeatures=\"http://www.w3.org/TR/SVG11/feature#Extensibility\"><div xmlns=\"http://www.w3.org/1999/xhtml\" style=\"display: flex; align-items: unsafe center; justify-content: unsafe center; width: 1px; height: 1px; padding-top: 145px; margin-left: 110px;\"><div style=\"box-sizing: border-box; font-size: 0; text-align: center; \"><div style=\"display: inline-block; font-size: 18px; font-family: Georgia; color: #000000; line-height: 1.2; pointer-events: all; white-space: nowrap; \"><i>P</i><sub>0</sub></div></div></div></foreignObject><text x=\"110\" y=\"150\" fill=\"#000000\" font-family=\"Georgia\" font-size=\"18px\" text-anchor=\"middle\">P0</text></switch></g></g><switch><g requiredFeatures=\"http://www.w3.org/TR/SVG11/feature#Extensibility\"/><a transform=\"translate(0,-5)\" xlink:href=\"https://desk.draw.io/support/solutions/articles/16000042487\" target=\"_blank\"><text text-anchor=\"middle\" font-size=\"10px\" x=\"50%\" y=\"100%\">Viewer does not support full SVG 1.1</text></a></switch></svg>"
      ],
      "execution_count": null,
      "outputs": [
        {
          "output_type": "display_data",
          "data": {
            "text/plain": [
              "<IPython.core.display.SVG object>"
            ],
            "image/svg+xml": "<svg content=\"&lt;mxfile host=&quot;www.draw.io&quot; modified=&quot;2020-07-02T11:12:08.598Z&quot; agent=&quot;5.0 (Macintosh; Intel Mac OS X 10_15_5) AppleWebKit/537.36 (KHTML, like Gecko) Chrome/83.0.4103.116 Safari/537.36&quot; etag=&quot;wUeVuYqrCzAOIN7D7q34&quot; version=&quot;13.3.0&quot; type=&quot;google&quot;&gt;&lt;diagram id=&quot;9bHa5pdwqvTCAj580ojm&quot; name=&quot;Page-1&quot;&gt;7Vvfk6I4EP5rqHtySxJQfBTXubmqmbqtmoe71wxESS0SDnB05q+/RBL5ERyQBRxXq3wITeiQ/rq/dDqowcVm/2eEQu+ZutjXwNjda/C7BsAUAI3/xu57KjCNWSpYR8RNRXomeCEfWAjHQrolLo4LHRNK/YSERaFDgwA7SUGGoojuit1W1C+OGqI1VgQvDvJV6T/ETbxUaoFpJn/EZO3JkfWJmN8Gyc5iJrGHXLrLieBSg4uI0iRtbfYL7HPbSbukzz2cuHt8sQgHSZMHPt4+Hp1Hb/XX8vn9+Sm0DHfz70ia+Q35WzFj8bbJuzRBRLeBi7mWsQbtnUcS/BIih9/dMcyZzEs2PrvSWTNOIvoTL6hPIyYJaMC62Svi+1KkAbiyHOw4TC7GxlGC9ydnpR9txXwM0w1OonfWRTwAJ2IGwr90ae5dhpYu+3g5pCwhQ8JB1kfVmQ1ZQ5jxDJPCeoviwJ1z38wslLNg2hu7il/WmiQ3ZbNixlIWYR8l5K2ovsoMYoQflLCB6y0uVcR0GzlYPJV3yJIis05RgqI1ThRFB1SO024PlHFjQIFxR0ApivoGClQgNfGZtexX1ljzhracarapWYA3rLlmT7TlRLOYxJZ92dhZdwVpBuMTemWLVwFj5JN1wNoOgxQz+rI5WRG2PMzFjQ1xXa7DjnBMPtDrQR/nyZBb42Af09bM75wFaZCIBU63xPUD2hCfm5WZKVoTxMQ+fwsbOT/XB+ItUelJyhQLoHiDbNnJu+PpMDjJr6Pxt1kR/E58ExQ9aqSXNNDVKsa9OJN+a/zcOuxrib7nsNcbEPRZucnJ2GmebpigQboxZLahmx0b6dIJ3NFUOYtag1p0cmsEUTZl67ygrKhvgpjeGFLH619FSlHUM1JmRUwtTW0+5elZRcJ2T84KLv5ZdmZNigtSJ46nF5WOdFDU0GN6Zt1jul16Njj7zuqRGjo9M4z6ZGLQ9ExO4Tx3dlHsHaymX5dvl7Njo3XFoaRo6IoDqMos0ioCkSWEpz9yhQVyBYWF7lenmmhki5MFYZHtOvGz0XSo5UiG623ErwGLtZ7W8VtWNHS+CdRd8dMXjsxDN/Fi0uG6DFNQG6bWrJvALMI+GyxMq7LGEl//qKbrVBZvj6Xhca5fTqy4D4Mn6c9z0DahsfCcDij+jAoXLFW4DFNJoYwKCoK9pVBVeeYd21bYltIqOL4wtvC8MzjHR3FMnCIyn3Fqzqpffu01esqdFUU9r72wqiKdRh3HpADu5L8tlTdGaUjMWQdghPvs5jFKF0ttZiixv/8s9pksHfTLZ+dDV5Zg7bmfXnCjUTeVJeMyCQJsUNSPPRTy5srHe8E4dkfkIylEh6lOcc+8Bl4qnwK2rkGXj87M2TdzWGZqsKvvhqoeTvLPVVUMBuekyXmcBDrx8FG52K34ZY+81KDcfeelyvL3tFRiUGFrXa1QVfXNTA32OHdmuiQzWbfGTEaDD0uu+iBOrztjaHwQd+HDCuN3/2BFQartBysKUgMfmRq/+wcrnSFVG5x9I9UgLxv6cBuUD7elTS51uC2d5l6Z/XVsrXpsB63MmlWfSZewfWmWNPo+CWNcHyIoDtN/cK3InodV000MZRpJwvsY427QgPVgDPpJqtmgTH7fJVauI+W4gq13iQr9qqr6/orydGX9vkv8CrtE88ya+vXvEs374ezB0/g7/d35OqRkwWZvWQG7zP6KnHpH9n9uuPwf&lt;/diagram&gt;&lt;/mxfile&gt;\" onclick=\"(function(svg){var src=window.event.target||window.event.srcElement;while (src!=null&amp;&amp;src.nodeName.toLowerCase()!='a'){src=src.parentNode;}if(src==null){if(svg.wnd!=null&amp;&amp;!svg.wnd.closed){svg.wnd.focus();}else{var r=function(evt){if(evt.data=='ready'&amp;&amp;evt.source==svg.wnd){svg.wnd.postMessage(decodeURIComponent(svg.getAttribute('content')),'*');window.removeEventListener('message',r);}};window.addEventListener('message',r);svg.wnd=window.open('https://www.draw.io/?client=1&amp;lightbox=1&amp;edit=_blank');}}})(this);\" style=\"cursor:pointer;max-width:100%;max-height:305px;\" version=\"1.1\" viewBox=\"-0.5 -0.5 541 305\" width=\"541px\" xmlns=\"http://www.w3.org/2000/svg\" xmlns:xlink=\"http://www.w3.org/1999/xlink\"><defs/><g><rect fill=\"#f8cecc\" height=\"80\" pointer-events=\"all\" stroke=\"none\" width=\"160\" x=\"330\" y=\"0\"/><path d=\"M 330 0 L 530 0\" fill=\"none\" pointer-events=\"stroke\" stroke=\"#000000\" stroke-miterlimit=\"10\"/><path d=\"M 330 80 L 530 80\" fill=\"none\" pointer-events=\"stroke\" stroke=\"#000000\" stroke-miterlimit=\"10\"/><g transform=\"translate(-0.5 -0.5)\"><switch><foreignObject height=\"100%\" pointer-events=\"none\" requiredFeatures=\"http://www.w3.org/TR/SVG11/feature#Extensibility\" style=\"overflow: visible; text-align: left;\" width=\"100%\"><div style=\"display: flex; align-items: unsafe center; justify-content: unsafe center; width: 1px; height: 1px; padding-top: 68px; margin-left: 361px;\" xmlns=\"http://www.w3.org/1999/xhtml\"><div style=\"box-sizing: border-box; font-size: 0; text-align: center; \"><div style=\"display: inline-block; font-size: 18px; font-family: Georgia; color: #000000; line-height: 1.2; pointer-events: all; white-space: nowrap; \"><b>終状態</b></div></div></div></foreignObject><text fill=\"#000000\" font-family=\"Georgia\" font-size=\"18px\" text-anchor=\"middle\" x=\"361\" y=\"73\">終状態</text></switch></g><path d=\"M 330 80 L 330 0\" fill=\"none\" pointer-events=\"stroke\" stroke=\"#000000\" stroke-miterlimit=\"10\"/><rect fill=\"#ffffff\" height=\"80\" pointer-events=\"all\" stroke=\"#000000\" width=\"10\" x=\"490\" y=\"0\"/><rect fill=\"#f8cecc\" height=\"80\" pointer-events=\"all\" stroke=\"none\" width=\"80\" x=\"330\" y=\"160\"/><path d=\"M 330 160 L 530 160\" fill=\"none\" pointer-events=\"stroke\" stroke=\"#000000\" stroke-miterlimit=\"10\"/><path d=\"M 330 240 L 530 240\" fill=\"none\" pointer-events=\"stroke\" stroke=\"#000000\" stroke-miterlimit=\"10\"/><g transform=\"translate(-0.5 -0.5)\"><switch><foreignObject height=\"100%\" pointer-events=\"none\" requiredFeatures=\"http://www.w3.org/TR/SVG11/feature#Extensibility\" style=\"overflow: visible; text-align: left;\" width=\"100%\"><div style=\"display: flex; align-items: unsafe center; justify-content: unsafe center; width: 1px; height: 1px; padding-top: 228px; margin-left: 361px;\" xmlns=\"http://www.w3.org/1999/xhtml\"><div style=\"box-sizing: border-box; font-size: 0; text-align: center; \"><div style=\"display: inline-block; font-size: 18px; font-family: Georgia; color: #000000; line-height: 1.2; pointer-events: all; white-space: nowrap; \">始状態</div></div></div></foreignObject><text fill=\"#000000\" font-family=\"Georgia\" font-size=\"18px\" text-anchor=\"middle\" x=\"361\" y=\"233\">始状態</text></switch></g><path d=\"M 330 240 L 330 160\" fill=\"none\" pointer-events=\"stroke\" stroke=\"#000000\" stroke-miterlimit=\"10\"/><rect fill=\"#ffffff\" height=\"80\" pointer-events=\"all\" stroke=\"#000000\" width=\"10\" x=\"410\" y=\"160\"/><path d=\"M 490 280 L 490 80\" fill=\"none\" pointer-events=\"stroke\" stroke=\"#000000\" stroke-dasharray=\"3 3\" stroke-miterlimit=\"10\"/><g transform=\"translate(-0.5 -0.5)\"><switch><foreignObject height=\"100%\" pointer-events=\"none\" requiredFeatures=\"http://www.w3.org/TR/SVG11/feature#Extensibility\" style=\"overflow: visible; text-align: left;\" width=\"100%\"><div style=\"display: flex; align-items: unsafe center; justify-content: unsafe center; width: 1px; height: 1px; padding-top: 93px; margin-left: 481px;\" xmlns=\"http://www.w3.org/1999/xhtml\"><div style=\"box-sizing: border-box; font-size: 0; text-align: center; \"><div style=\"display: inline-block; font-size: 18px; font-family: Georgia; color: #000000; line-height: 1.2; pointer-events: all; background-color: #ffffff; white-space: nowrap; \"><i>L'</i></div></div></div></foreignObject><text fill=\"#000000\" font-family=\"Georgia\" font-size=\"18px\" text-anchor=\"middle\" x=\"481\" y=\"98\">L'</text></switch></g><path d=\"M 409 280 L 409 240\" fill=\"none\" pointer-events=\"stroke\" stroke=\"#000000\" stroke-dasharray=\"3 3\" stroke-miterlimit=\"10\"/><g transform=\"translate(-0.5 -0.5)\"><switch><foreignObject height=\"100%\" pointer-events=\"none\" requiredFeatures=\"http://www.w3.org/TR/SVG11/feature#Extensibility\" style=\"overflow: visible; text-align: left;\" width=\"100%\"><div style=\"display: flex; align-items: unsafe center; justify-content: unsafe center; width: 1px; height: 1px; padding-top: 252px; margin-left: 401px;\" xmlns=\"http://www.w3.org/1999/xhtml\"><div style=\"box-sizing: border-box; font-size: 0; text-align: center; \"><div style=\"display: inline-block; font-size: 18px; font-family: Georgia; color: #000000; line-height: 1.2; pointer-events: all; font-style: italic; background-color: #ffffff; white-space: nowrap; \">L</div></div></div></foreignObject><text fill=\"#000000\" font-family=\"Georgia\" font-size=\"18px\" font-style=\"italic\" text-anchor=\"middle\" x=\"401\" y=\"257\">L</text></switch></g><rect fill=\"none\" height=\"30\" pointer-events=\"all\" stroke=\"none\" width=\"40\" x=\"500\" y=\"25\"/><g transform=\"translate(-0.5 -0.5)\"><switch><foreignObject height=\"100%\" pointer-events=\"none\" requiredFeatures=\"http://www.w3.org/TR/SVG11/feature#Extensibility\" style=\"overflow: visible; text-align: left;\" width=\"100%\"><div style=\"display: flex; align-items: unsafe center; justify-content: unsafe center; width: 1px; height: 1px; padding-top: 40px; margin-left: 520px;\" xmlns=\"http://www.w3.org/1999/xhtml\"><div style=\"box-sizing: border-box; font-size: 0; text-align: center; \"><div style=\"display: inline-block; font-size: 18px; font-family: Georgia; color: #000000; line-height: 1.2; pointer-events: all; white-space: nowrap; \"><i>P</i><sub>0</sub></div></div></div></foreignObject><text fill=\"#000000\" font-family=\"Georgia\" font-size=\"18px\" text-anchor=\"middle\" x=\"520\" y=\"45\">P0</text></switch></g><rect fill=\"none\" height=\"30\" pointer-events=\"all\" stroke=\"none\" width=\"40\" x=\"490\" y=\"185\"/><g transform=\"translate(-0.5 -0.5)\"><switch><foreignObject height=\"100%\" pointer-events=\"none\" requiredFeatures=\"http://www.w3.org/TR/SVG11/feature#Extensibility\" style=\"overflow: visible; text-align: left;\" width=\"100%\"><div style=\"display: flex; align-items: unsafe center; justify-content: unsafe center; width: 1px; height: 1px; padding-top: 200px; margin-left: 510px;\" xmlns=\"http://www.w3.org/1999/xhtml\"><div style=\"box-sizing: border-box; font-size: 0; text-align: center; \"><div style=\"display: inline-block; font-size: 18px; font-family: Georgia; color: #000000; line-height: 1.2; pointer-events: all; white-space: nowrap; \"><i>P</i><sub>0</sub></div></div></div></foreignObject><text fill=\"#000000\" font-family=\"Georgia\" font-size=\"18px\" text-anchor=\"middle\" x=\"510\" y=\"205\">P0</text></switch></g><path d=\"M 410 280 L 483.63 280\" fill=\"none\" pointer-events=\"stroke\" stroke=\"#000000\" stroke-miterlimit=\"10\"/><path d=\"M 488.88 280 L 481.88 283.5 L 483.63 280 L 481.88 276.5 Z\" fill=\"#000000\" pointer-events=\"all\" stroke=\"#000000\" stroke-miterlimit=\"10\"/><g transform=\"translate(-0.5 -0.5)\"><switch><foreignObject height=\"100%\" pointer-events=\"none\" requiredFeatures=\"http://www.w3.org/TR/SVG11/feature#Extensibility\" style=\"overflow: visible; text-align: left;\" width=\"100%\"><div style=\"display: flex; align-items: unsafe center; justify-content: unsafe center; width: 1px; height: 1px; padding-top: 291px; margin-left: 451px;\" xmlns=\"http://www.w3.org/1999/xhtml\"><div style=\"box-sizing: border-box; font-size: 0; text-align: center; \"><div style=\"display: inline-block; font-size: 18px; font-family: Georgia; color: #000000; line-height: 1.2; pointer-events: all; white-space: nowrap; \"><font style=\"font-size: 24px\">Δ<i>x</i></font></div></div></div></foreignObject><text fill=\"#000000\" font-family=\"Georgia\" font-size=\"18px\" text-anchor=\"middle\" x=\"451\" y=\"296\">Δx</text></switch></g><path d=\"M 430.55 46.5 L 430.45 33.5 L 473.45 33.14 L 473.36 22.64 L 489.5 39.5 L 473.64 56.64 L 473.55 46.14 Z\" fill=\"none\" pointer-events=\"all\" stroke=\"#000000\" stroke-linejoin=\"round\" stroke-miterlimit=\"10\"/><g transform=\"translate(-0.5 -0.5)\"><switch><foreignObject height=\"100%\" pointer-events=\"none\" requiredFeatures=\"http://www.w3.org/TR/SVG11/feature#Extensibility\" style=\"overflow: visible; text-align: left;\" width=\"100%\"><div style=\"display: flex; align-items: unsafe center; justify-content: unsafe center; width: 1px; height: 1px; padding-top: 19px; margin-left: 451px;\" xmlns=\"http://www.w3.org/1999/xhtml\"><div style=\"box-sizing: border-box; font-size: 0; text-align: center; \"><div style=\"display: inline-block; font-size: 18px; font-family: Georgia; color: #000000; line-height: 1.2; pointer-events: all; white-space: nowrap; \"><i><font style=\"font-size: 24px\">F</font></i></div></div></div></foreignObject><text fill=\"#000000\" font-family=\"Georgia\" font-size=\"18px\" text-anchor=\"middle\" x=\"451\" y=\"24\">F</text></switch></g><path d=\"M 349.5 206 L 349.5 193 L 392.5 193 L 392.5 182.5 L 408.5 199.5 L 392.5 216.5 L 392.5 206 Z\" fill=\"none\" pointer-events=\"all\" stroke=\"#000000\" stroke-linejoin=\"round\" stroke-miterlimit=\"10\"/><g transform=\"translate(-0.5 -0.5)\"><switch><foreignObject height=\"100%\" pointer-events=\"none\" requiredFeatures=\"http://www.w3.org/TR/SVG11/feature#Extensibility\" style=\"overflow: visible; text-align: left;\" width=\"100%\"><div style=\"display: flex; align-items: unsafe center; justify-content: unsafe center; width: 1px; height: 1px; padding-top: 179px; margin-left: 371px;\" xmlns=\"http://www.w3.org/1999/xhtml\"><div style=\"box-sizing: border-box; font-size: 0; text-align: center; \"><div style=\"display: inline-block; font-size: 18px; font-family: Georgia; color: #000000; line-height: 1.2; pointer-events: all; white-space: nowrap; \"><i><font style=\"font-size: 24px\">F</font></i></div></div></div></foreignObject><text fill=\"#000000\" font-family=\"Georgia\" font-size=\"18px\" text-anchor=\"middle\" x=\"371\" y=\"184\">F</text></switch></g><path d=\"M 90 80 L 290 80\" fill=\"none\" pointer-events=\"stroke\" stroke=\"#000000\" stroke-miterlimit=\"10\"/><path d=\"M 90 160 L 290 160\" fill=\"none\" pointer-events=\"stroke\" stroke=\"#000000\" stroke-miterlimit=\"10\"/><path d=\"M 90 160 L 90 80\" fill=\"none\" pointer-events=\"stroke\" stroke=\"#000000\" stroke-miterlimit=\"10\"/><rect fill=\"#ffffff\" height=\"80\" pointer-events=\"all\" stroke=\"#000000\" width=\"10\" x=\"210\" y=\"80\"/><rect fill=\"none\" height=\"30\" pointer-events=\"all\" stroke=\"none\" width=\"40\" x=\"250\" y=\"80\"/><g transform=\"translate(-0.5 -0.5)\"><switch><foreignObject height=\"100%\" pointer-events=\"none\" requiredFeatures=\"http://www.w3.org/TR/SVG11/feature#Extensibility\" style=\"overflow: visible; text-align: left;\" width=\"100%\"><div style=\"display: flex; align-items: unsafe center; justify-content: unsafe center; width: 1px; height: 1px; padding-top: 95px; margin-left: 270px;\" xmlns=\"http://www.w3.org/1999/xhtml\"><div style=\"box-sizing: border-box; font-size: 0; text-align: center; \"><div style=\"display: inline-block; font-size: 18px; font-family: Georgia; color: #000000; line-height: 1.2; pointer-events: all; white-space: nowrap; \"><i>P</i><sub>0</sub></div></div></div></foreignObject><text fill=\"#000000\" font-family=\"Georgia\" font-size=\"18px\" text-anchor=\"middle\" x=\"270\" y=\"100\">P0</text></switch></g><ellipse cx=\"40\" cy=\"120\" fill=\"#ffffff\" fill-opacity=\"0.4\" pointer-events=\"all\" rx=\"40\" ry=\"40\" stroke=\"#000000\" stroke-opacity=\"0.4\"/><g transform=\"translate(-0.5 -0.5)\"><switch><foreignObject height=\"100%\" pointer-events=\"none\" requiredFeatures=\"http://www.w3.org/TR/SVG11/feature#Extensibility\" style=\"overflow: visible; text-align: left;\" width=\"100%\"><div style=\"display: flex; align-items: unsafe center; justify-content: unsafe center; width: 78px; height: 1px; padding-top: 120px; margin-left: 1px;\" xmlns=\"http://www.w3.org/1999/xhtml\"><div style=\"box-sizing: border-box; font-size: 0; text-align: center; \"><div style=\"display: inline-block; font-size: 18px; font-family: Georgia; color: #000000; line-height: 1.2; pointer-events: all; white-space: normal; word-wrap: normal; \"><i>S</i></div></div></div></foreignObject><text fill=\"#000000\" font-family=\"Georgia\" font-size=\"18px\" text-anchor=\"middle\" x=\"40\" y=\"125\">S</text></switch></g><path d=\"M 150.5 126 L 150.5 113 L 193.5 113 L 193.5 102.5 L 209.5 119.5 L 193.5 136.5 L 193.5 126 Z\" fill=\"none\" pointer-events=\"all\" stroke=\"#000000\" stroke-linejoin=\"round\" stroke-miterlimit=\"10\"/><g transform=\"translate(-0.5 -0.5)\"><switch><foreignObject height=\"100%\" pointer-events=\"none\" requiredFeatures=\"http://www.w3.org/TR/SVG11/feature#Extensibility\" style=\"overflow: visible; text-align: left;\" width=\"100%\"><div style=\"display: flex; align-items: unsafe center; justify-content: unsafe center; width: 1px; height: 1px; padding-top: 99px; margin-left: 172px;\" xmlns=\"http://www.w3.org/1999/xhtml\"><div style=\"box-sizing: border-box; font-size: 0; text-align: center; \"><div style=\"display: inline-block; font-size: 18px; font-family: Georgia; color: #000000; line-height: 1.2; pointer-events: all; white-space: nowrap; \"><i><font style=\"font-size: 24px\">F</font></i></div></div></div></foreignObject><text fill=\"#000000\" font-family=\"Georgia\" font-size=\"18px\" text-anchor=\"middle\" x=\"172\" y=\"104\">F</text></switch></g><rect fill=\"none\" height=\"30\" pointer-events=\"all\" stroke=\"none\" width=\"40\" x=\"90\" y=\"130\"/><g opacity=\"0.4\" transform=\"translate(-0.5 -0.5)\"><switch><foreignObject height=\"100%\" pointer-events=\"none\" requiredFeatures=\"http://www.w3.org/TR/SVG11/feature#Extensibility\" style=\"overflow: visible; text-align: left;\" width=\"100%\"><div style=\"display: flex; align-items: unsafe center; justify-content: unsafe center; width: 1px; height: 1px; padding-top: 145px; margin-left: 110px;\" xmlns=\"http://www.w3.org/1999/xhtml\"><div style=\"box-sizing: border-box; font-size: 0; text-align: center; \"><div style=\"display: inline-block; font-size: 18px; font-family: Georgia; color: #000000; line-height: 1.2; pointer-events: all; white-space: nowrap; \"><i>P</i><sub>0</sub></div></div></div></foreignObject><text fill=\"#000000\" font-family=\"Georgia\" font-size=\"18px\" text-anchor=\"middle\" x=\"110\" y=\"150\">P0</text></switch></g></g><switch><g requiredFeatures=\"http://www.w3.org/TR/SVG11/feature#Extensibility\"/><a target=\"_blank\" transform=\"translate(0,-5)\" xlink:href=\"https://desk.draw.io/support/solutions/articles/16000042487\"><text font-size=\"10px\" text-anchor=\"middle\" x=\"50%\" y=\"100%\">Viewer does not support full SVG 1.1</text></a></switch></svg>"
          },
          "metadata": {
            "tags": []
          }
        }
      ]
    },
    {
      "cell_type": "markdown",
      "metadata": {
        "id": "St-GTj5t8Yu6",
        "colab_type": "text"
      },
      "source": [
        "> Q. 上の図はピストンに閉じ込められた気体の模式図です.   \n",
        "最も左の図を利用し, 気体がピストンを押す力 $F$ を外部の圧力 $P_0$   \n",
        "と ピストンの断面積 $\bS$ で示してください.\n",
        "\n",
        "> Q. 仕事の定義を用いて, 上図右の 始状態から    \n",
        "終状態に気体が(非常にゆっくり)膨張したとき, 気体が(外部に)した  \n",
        "仕事 $\\Delta W_{\\rm out}$ を $P_0, S, L, L'$ を用いて示してください.\n",
        "\n",
        "> Q. 気体の体積増加 $\\Delta V$ を, $S,L,L'$ を用いて示してください."
      ]
    },
    {
      "cell_type": "markdown",
      "metadata": {
        "colab_type": "text",
        "id": "VQEmyrZxTzZd"
      },
      "source": [
        "$\\require{cancel}$\n",
        "## $P-V$ グラフ\n",
        "\n",
        "\\begin{align*}\n",
        "\\Delta W_{\\rm out} = P \\Delta V\n",
        "\\end{align*}\n",
        "\n",
        "- $V$ を横軸, $P$ を縦軸にとると $\\Delta W_{\\rm out}$ は面積に相当\n",
        "\n",
        "1. $P \\geqq 0$\n",
        "1. $\\Delta W_{\\rm out}$ と　$\\Delta V$ は同じ符号\n",
        "1. $\\Delta V$ が非常に小さいときは, $P=P_0$ 一定として差し支えない"
      ]
    },
    {
      "cell_type": "markdown",
      "metadata": {
        "id": "h8ytbTr8KpHO",
        "colab_type": "text"
      },
      "source": [
        "> $\\Delta V >0$ のとき\n",
        ">> $\\color{#FF0000}{\\Delta W_{\\rm out}} > 0$ となり気体が *(外部に)* **する** 仕事"
      ]
    },
    {
      "cell_type": "code",
      "metadata": {
        "id": "vkt04HRWUSkv",
        "colab_type": "code",
        "cellView": "form",
        "colab": {
          "base_uri": "https://localhost:8080/",
          "height": 343
        },
        "outputId": "60660c15-0cee-4fa0-9589-dff02e65cbcf"
      },
      "source": [
        "#@title 等圧過程での気体による仕事\n",
        "%%svg\n",
        "<svg xmlns=\"http://www.w3.org/2000/svg\" xmlns:xlink=\"http://www.w3.org/1999/xlink\" version=\"1.1\" width=\"386px\" viewBox=\"-0.5 -0.5 386 322\" content=\"&lt;mxfile host=&quot;www.draw.io&quot; modified=&quot;2020-07-08T05:12:53.440Z&quot; agent=&quot;5.0 (Macintosh; Intel Mac OS X 10_10_5) AppleWebKit/537.36 (KHTML, like Gecko) Chrome/83.0.4103.116 Safari/537.36&quot; etag=&quot;RjDJ0-b7COzZRkA7qkp0&quot; version=&quot;13.3.9&quot; type=&quot;google&quot;&gt;&lt;diagram id=&quot;zdGFQRVHOF5PxiKdzEUs&quot; name=&quot;Page-1&quot;&gt;5VjJdpswFP0aLZ3DbHmJp3bRIac5bZOlDAKUYkSFHNv9+gqQAHlobMdxhnpjdKX3JL179XgC2KP56gNDefKZhjgFlhGugD0GlmUasC/+SmStEGNQIzEjocRa4Ib8wWqgRBckxIU2kFOacpLrYECzDAdcwxBjdKkPi2iqz5qjGG8BNwFKt9GfJORJjbrQbvGPmMSJnBlacsNzpMbKjRQJCumyA9kTYI8Ypbx+mq9GOC2Dp8JS20339DbrYjjjhxjE33KO7v07fP/1S3I7/X5/u8A96eUBpQu5X7lYvlYBwFnol3EUrSBFRUECYA8TPk8FYIrH2gCHW2FsF2Y22xU6wXSOOVuLIctOPGWQkk4oFcZwijh50N0jSWvcuGtmuKZETGwZUoNQupECbNrKQ0EXLMDSqBu/DT+O84gjjliM+ZYj8dDZdQtV9BxBlbeDKi8VsRpGtFpny5n3e0FVR6+ojpQvBlhOvmo7y8OAAt1ALJPFBHUHebH8r6YiCvihELEXsjlKYPWaFLwpKSGWT2gmUoWmJJSSOCtlJoSDmQAeMONEHEVfdsxJGJY+hgyLXaFZ5c8Q7bwMekWDOwTuuJmzdIBXmnBknpDG7fHs6nX/UdkWsfRuXA1M09QEog7XE/VreTu9Kgc0igr8LIKz3n9uMC39TNvWiclh05Fz2dzQf1W54fq/yw3WI7kBuv3z5gblZlNnz5cNnCdLzIS6xKQAJn3gjwEcgIkLBiPg98EEAugBH5bIcASG7qHaYXSRhTiUxC8TwvFNXut4KcpTXVERSdMRTSmrbO0IBjgo01fBGf2FOz0z6Dqu8S/dHJDPlIGn54kmb3TyHdyR7xq7XdrQqD6WV3cvr0WOsvPy2jz0wRACf9LhtZ7sGXgNEYbRTl69AOJZdB5ebeu18Qqf/vauI6ZuPfauGE6nhviJHhEntr6VhlXjTtJVNcYrrbWWrUPrA3Hnq16gj+WnF6sj9h3rY+uI5torHfUvW0cMLiKaUjLT6RsoDx3jTLTuTQ8X4lWp6kBiM5qVlVSIiqTKuqZOcYlfIy7qsKxCLMPeIt56A/RuFu0n0+vYL0yvvfclfmpxdkT935T7xWKmMKP7am/hd30JMI3dYpbue8bVYPMyb59Fxz3b0k1OuQWIZvstsh7eftG1J38B&lt;/diagram&gt;&lt;/mxfile&gt;\" onclick=\"(function(svg){var src=window.event.target||window.event.srcElement;while (src!=null&amp;&amp;src.nodeName.toLowerCase()!='a'){src=src.parentNode;}if(src==null){if(svg.wnd!=null&amp;&amp;!svg.wnd.closed){svg.wnd.focus();}else{var r=function(evt){if(evt.data=='ready'&amp;&amp;evt.source==svg.wnd){svg.wnd.postMessage(decodeURIComponent(svg.getAttribute('content')),'*');window.removeEventListener('message',r);}};window.addEventListener('message',r);svg.wnd=window.open('https://www.draw.io/?client=1&amp;lightbox=1&amp;edit=_blank');}}})(this);\" style=\"cursor:pointer;max-width:100%;max-height:322px;\"><defs/><g><path d=\"M 7 273 L 360.63 273\" fill=\"none\" stroke=\"#000000\" stroke-miterlimit=\"10\" pointer-events=\"stroke\"/><path d=\"M 365.88 273 L 358.88 276.5 L 360.63 273 L 358.88 269.5 Z\" fill=\"#000000\" stroke=\"#000000\" stroke-miterlimit=\"10\" pointer-events=\"all\"/><g transform=\"translate(-0.5 -0.5)\"><switch><foreignObject style=\"overflow: visible; text-align: left;\" pointer-events=\"none\" width=\"100%\" height=\"100%\" requiredFeatures=\"http://www.w3.org/TR/SVG11/feature#Extensibility\"><div xmlns=\"http://www.w3.org/1999/xhtml\" style=\"display: flex; align-items: unsafe center; justify-content: unsafe center; width: 1px; height: 1px; padding-top: 274px; margin-left: 378px;\"><div style=\"box-sizing: border-box; font-size: 0; text-align: center; \"><div style=\"display: inline-block; font-size: 11px; font-family: Helvetica; color: #000000; line-height: 1.2; pointer-events: all; background-color: #ffffff; white-space: nowrap; \"><font style=\"font-size: 24px\" face=\"Georgia\"><i>V</i></font></div></div></div></foreignObject><text x=\"378\" y=\"277\" fill=\"#000000\" font-family=\"Helvetica\" font-size=\"11px\" text-anchor=\"middle\">V</text></switch></g><path d=\"M 47 313 L 47 39.37\" fill=\"none\" stroke=\"#000000\" stroke-miterlimit=\"10\" pointer-events=\"stroke\"/><path d=\"M 47 34.12 L 50.5 41.12 L 47 39.37 L 43.5 41.12 Z\" fill=\"#000000\" stroke=\"#000000\" stroke-miterlimit=\"10\" pointer-events=\"all\"/><g transform=\"translate(-0.5 -0.5)\"><switch><foreignObject style=\"overflow: visible; text-align: left;\" pointer-events=\"none\" width=\"100%\" height=\"100%\" requiredFeatures=\"http://www.w3.org/TR/SVG11/feature#Extensibility\"><div xmlns=\"http://www.w3.org/1999/xhtml\" style=\"display: flex; align-items: unsafe center; justify-content: unsafe center; width: 1px; height: 1px; padding-top: 14px; margin-left: 49px;\"><div style=\"box-sizing: border-box; font-size: 0; text-align: center; \"><div style=\"display: inline-block; font-size: 11px; font-family: Helvetica; color: #000000; line-height: 1.2; pointer-events: all; background-color: #ffffff; white-space: nowrap; \"><font style=\"font-size: 24px\" face=\"Georgia\"><i>P</i></font></div></div></div></foreignObject><text x=\"49\" y=\"17\" fill=\"#000000\" font-family=\"Helvetica\" font-size=\"11px\" text-anchor=\"middle\">P</text></switch></g><rect x=\"87\" y=\"113\" width=\"80\" height=\"160\" fill=\"#f8cecc\" stroke=\"#b85450\" pointer-events=\"all\"/><g transform=\"translate(-0.5 -0.5)\"><switch><foreignObject style=\"overflow: visible; text-align: left;\" pointer-events=\"none\" width=\"100%\" height=\"100%\" requiredFeatures=\"http://www.w3.org/TR/SVG11/feature#Extensibility\"><div xmlns=\"http://www.w3.org/1999/xhtml\" style=\"display: flex; align-items: unsafe center; justify-content: unsafe center; width: 78px; height: 1px; padding-top: 193px; margin-left: 88px;\"><div style=\"box-sizing: border-box; font-size: 0; text-align: center; \"><div style=\"display: inline-block; font-size: 12px; font-family: Helvetica; color: #000000; line-height: 1.2; pointer-events: all; white-space: normal; word-wrap: normal; \"><font style=\"font-size: 18px\">等圧膨張</font></div></div></div></foreignObject><text x=\"127\" y=\"197\" fill=\"#000000\" font-family=\"Helvetica\" font-size=\"12px\" text-anchor=\"middle\">等圧膨張</text></switch></g><rect x=\"247\" y=\"113\" width=\"80\" height=\"160\" fill=\"#dae8fc\" stroke=\"#6c8ebf\" pointer-events=\"all\"/><g transform=\"translate(-0.5 -0.5)\"><switch><foreignObject style=\"overflow: visible; text-align: left;\" pointer-events=\"none\" width=\"100%\" height=\"100%\" requiredFeatures=\"http://www.w3.org/TR/SVG11/feature#Extensibility\"><div xmlns=\"http://www.w3.org/1999/xhtml\" style=\"display: flex; align-items: unsafe center; justify-content: unsafe center; width: 78px; height: 1px; padding-top: 193px; margin-left: 248px;\"><div style=\"box-sizing: border-box; font-size: 0; text-align: center; \"><div style=\"display: inline-block; font-size: 12px; font-family: Helvetica; color: #000000; line-height: 1.2; pointer-events: all; white-space: normal; word-wrap: normal; \"><span style=\"font-size: 18px\">等圧圧縮</span></div></div></div></foreignObject><text x=\"287\" y=\"197\" fill=\"#000000\" font-family=\"Helvetica\" font-size=\"12px\" text-anchor=\"middle\">等圧圧縮</text></switch></g><path d=\"M 87 113 L 156.9 113\" fill=\"none\" stroke=\"#ff0000\" stroke-width=\"3\" stroke-miterlimit=\"10\" pointer-events=\"stroke\"/><path d=\"M 163.65 113 L 154.65 117.5 L 156.9 113 L 154.65 108.5 Z\" fill=\"#ff0000\" stroke=\"#ff0000\" stroke-width=\"3\" stroke-miterlimit=\"10\" pointer-events=\"all\"/><path d=\"M 327 113 L 257.1 113\" fill=\"none\" stroke=\"#0000ff\" stroke-width=\"3\" stroke-miterlimit=\"10\" pointer-events=\"stroke\"/><path d=\"M 250.35 113 L 259.35 108.5 L 257.1 113 L 259.35 117.5 Z\" fill=\"#0000ff\" stroke=\"#0000ff\" stroke-width=\"3\" stroke-miterlimit=\"10\" pointer-events=\"all\"/><path d=\"M 47 113 L 357 113\" fill=\"none\" stroke=\"#000000\" stroke-width=\"2\" stroke-miterlimit=\"10\" stroke-dasharray=\"2 6\" pointer-events=\"stroke\"/><g transform=\"translate(-0.5 -0.5)\"><switch><foreignObject style=\"overflow: visible; text-align: left;\" pointer-events=\"none\" width=\"100%\" height=\"100%\" requiredFeatures=\"http://www.w3.org/TR/SVG11/feature#Extensibility\"><div xmlns=\"http://www.w3.org/1999/xhtml\" style=\"display: flex; align-items: unsafe center; justify-content: unsafe center; width: 1px; height: 1px; padding-top: 111px; margin-left: 28px;\"><div style=\"box-sizing: border-box; font-size: 0; text-align: center; \"><div style=\"display: inline-block; font-size: 11px; font-family: Helvetica; color: #000000; line-height: 1.2; pointer-events: all; background-color: #ffffff; white-space: nowrap; \"><font style=\"font-size: 18px\" face=\"Georgia\">P<sub>0</sub></font></div></div></div></foreignObject><text x=\"28\" y=\"114\" fill=\"#000000\" font-family=\"Helvetica\" font-size=\"11px\" text-anchor=\"middle\">P0</text></switch></g></g><switch><g requiredFeatures=\"http://www.w3.org/TR/SVG11/feature#Extensibility\"/><a transform=\"translate(0,-5)\" xlink:href=\"https://desk.draw.io/support/solutions/articles/16000042487\" target=\"_blank\"><text text-anchor=\"middle\" font-size=\"10px\" x=\"50%\" y=\"100%\">Viewer does not support full SVG 1.1</text></a></switch></svg>"
      ],
      "execution_count": null,
      "outputs": [
        {
          "output_type": "display_data",
          "data": {
            "text/plain": [
              "<IPython.core.display.SVG object>"
            ],
            "image/svg+xml": "<svg content=\"&lt;mxfile host=&quot;www.draw.io&quot; modified=&quot;2020-07-08T05:12:53.440Z&quot; agent=&quot;5.0 (Macintosh; Intel Mac OS X 10_10_5) AppleWebKit/537.36 (KHTML, like Gecko) Chrome/83.0.4103.116 Safari/537.36&quot; etag=&quot;RjDJ0-b7COzZRkA7qkp0&quot; version=&quot;13.3.9&quot; type=&quot;google&quot;&gt;&lt;diagram id=&quot;zdGFQRVHOF5PxiKdzEUs&quot; name=&quot;Page-1&quot;&gt;5VjJdpswFP0aLZ3DbHmJp3bRIac5bZOlDAKUYkSFHNv9+gqQAHlobMdxhnpjdKX3JL179XgC2KP56gNDefKZhjgFlhGugD0GlmUasC/+SmStEGNQIzEjocRa4Ib8wWqgRBckxIU2kFOacpLrYECzDAdcwxBjdKkPi2iqz5qjGG8BNwFKt9GfJORJjbrQbvGPmMSJnBlacsNzpMbKjRQJCumyA9kTYI8Ypbx+mq9GOC2Dp8JS20339DbrYjjjhxjE33KO7v07fP/1S3I7/X5/u8A96eUBpQu5X7lYvlYBwFnol3EUrSBFRUECYA8TPk8FYIrH2gCHW2FsF2Y22xU6wXSOOVuLIctOPGWQkk4oFcZwijh50N0jSWvcuGtmuKZETGwZUoNQupECbNrKQ0EXLMDSqBu/DT+O84gjjliM+ZYj8dDZdQtV9BxBlbeDKi8VsRpGtFpny5n3e0FVR6+ojpQvBlhOvmo7y8OAAt1ALJPFBHUHebH8r6YiCvihELEXsjlKYPWaFLwpKSGWT2gmUoWmJJSSOCtlJoSDmQAeMONEHEVfdsxJGJY+hgyLXaFZ5c8Q7bwMekWDOwTuuJmzdIBXmnBknpDG7fHs6nX/UdkWsfRuXA1M09QEog7XE/VreTu9Kgc0igr8LIKz3n9uMC39TNvWiclh05Fz2dzQf1W54fq/yw3WI7kBuv3z5gblZlNnz5cNnCdLzIS6xKQAJn3gjwEcgIkLBiPg98EEAugBH5bIcASG7qHaYXSRhTiUxC8TwvFNXut4KcpTXVERSdMRTSmrbO0IBjgo01fBGf2FOz0z6Dqu8S/dHJDPlIGn54kmb3TyHdyR7xq7XdrQqD6WV3cvr0WOsvPy2jz0wRACf9LhtZ7sGXgNEYbRTl69AOJZdB5ebeu18Qqf/vauI6ZuPfauGE6nhviJHhEntr6VhlXjTtJVNcYrrbWWrUPrA3Hnq16gj+WnF6sj9h3rY+uI5torHfUvW0cMLiKaUjLT6RsoDx3jTLTuTQ8X4lWp6kBiM5qVlVSIiqTKuqZOcYlfIy7qsKxCLMPeIt56A/RuFu0n0+vYL0yvvfclfmpxdkT935T7xWKmMKP7am/hd30JMI3dYpbue8bVYPMyb59Fxz3b0k1OuQWIZvstsh7eftG1J38B&lt;/diagram&gt;&lt;/mxfile&gt;\" onclick=\"(function(svg){var src=window.event.target||window.event.srcElement;while (src!=null&amp;&amp;src.nodeName.toLowerCase()!='a'){src=src.parentNode;}if(src==null){if(svg.wnd!=null&amp;&amp;!svg.wnd.closed){svg.wnd.focus();}else{var r=function(evt){if(evt.data=='ready'&amp;&amp;evt.source==svg.wnd){svg.wnd.postMessage(decodeURIComponent(svg.getAttribute('content')),'*');window.removeEventListener('message',r);}};window.addEventListener('message',r);svg.wnd=window.open('https://www.draw.io/?client=1&amp;lightbox=1&amp;edit=_blank');}}})(this);\" style=\"cursor:pointer;max-width:100%;max-height:322px;\" version=\"1.1\" viewBox=\"-0.5 -0.5 386 322\" width=\"386px\" xmlns=\"http://www.w3.org/2000/svg\" xmlns:xlink=\"http://www.w3.org/1999/xlink\"><defs/><g><path d=\"M 7 273 L 360.63 273\" fill=\"none\" pointer-events=\"stroke\" stroke=\"#000000\" stroke-miterlimit=\"10\"/><path d=\"M 365.88 273 L 358.88 276.5 L 360.63 273 L 358.88 269.5 Z\" fill=\"#000000\" pointer-events=\"all\" stroke=\"#000000\" stroke-miterlimit=\"10\"/><g transform=\"translate(-0.5 -0.5)\"><switch><foreignObject height=\"100%\" pointer-events=\"none\" requiredFeatures=\"http://www.w3.org/TR/SVG11/feature#Extensibility\" style=\"overflow: visible; text-align: left;\" width=\"100%\"><div style=\"display: flex; align-items: unsafe center; justify-content: unsafe center; width: 1px; height: 1px; padding-top: 274px; margin-left: 378px;\" xmlns=\"http://www.w3.org/1999/xhtml\"><div style=\"box-sizing: border-box; font-size: 0; text-align: center; \"><div style=\"display: inline-block; font-size: 11px; font-family: Helvetica; color: #000000; line-height: 1.2; pointer-events: all; background-color: #ffffff; white-space: nowrap; \"><font face=\"Georgia\" style=\"font-size: 24px\"><i>V</i></font></div></div></div></foreignObject><text fill=\"#000000\" font-family=\"Helvetica\" font-size=\"11px\" text-anchor=\"middle\" x=\"378\" y=\"277\">V</text></switch></g><path d=\"M 47 313 L 47 39.37\" fill=\"none\" pointer-events=\"stroke\" stroke=\"#000000\" stroke-miterlimit=\"10\"/><path d=\"M 47 34.12 L 50.5 41.12 L 47 39.37 L 43.5 41.12 Z\" fill=\"#000000\" pointer-events=\"all\" stroke=\"#000000\" stroke-miterlimit=\"10\"/><g transform=\"translate(-0.5 -0.5)\"><switch><foreignObject height=\"100%\" pointer-events=\"none\" requiredFeatures=\"http://www.w3.org/TR/SVG11/feature#Extensibility\" style=\"overflow: visible; text-align: left;\" width=\"100%\"><div style=\"display: flex; align-items: unsafe center; justify-content: unsafe center; width: 1px; height: 1px; padding-top: 14px; margin-left: 49px;\" xmlns=\"http://www.w3.org/1999/xhtml\"><div style=\"box-sizing: border-box; font-size: 0; text-align: center; \"><div style=\"display: inline-block; font-size: 11px; font-family: Helvetica; color: #000000; line-height: 1.2; pointer-events: all; background-color: #ffffff; white-space: nowrap; \"><font face=\"Georgia\" style=\"font-size: 24px\"><i>P</i></font></div></div></div></foreignObject><text fill=\"#000000\" font-family=\"Helvetica\" font-size=\"11px\" text-anchor=\"middle\" x=\"49\" y=\"17\">P</text></switch></g><rect fill=\"#f8cecc\" height=\"160\" pointer-events=\"all\" stroke=\"#b85450\" width=\"80\" x=\"87\" y=\"113\"/><g transform=\"translate(-0.5 -0.5)\"><switch><foreignObject height=\"100%\" pointer-events=\"none\" requiredFeatures=\"http://www.w3.org/TR/SVG11/feature#Extensibility\" style=\"overflow: visible; text-align: left;\" width=\"100%\"><div style=\"display: flex; align-items: unsafe center; justify-content: unsafe center; width: 78px; height: 1px; padding-top: 193px; margin-left: 88px;\" xmlns=\"http://www.w3.org/1999/xhtml\"><div style=\"box-sizing: border-box; font-size: 0; text-align: center; \"><div style=\"display: inline-block; font-size: 12px; font-family: Helvetica; color: #000000; line-height: 1.2; pointer-events: all; white-space: normal; word-wrap: normal; \"><font style=\"font-size: 18px\">等圧膨張</font></div></div></div></foreignObject><text fill=\"#000000\" font-family=\"Helvetica\" font-size=\"12px\" text-anchor=\"middle\" x=\"127\" y=\"197\">等圧膨張</text></switch></g><rect fill=\"#dae8fc\" height=\"160\" pointer-events=\"all\" stroke=\"#6c8ebf\" width=\"80\" x=\"247\" y=\"113\"/><g transform=\"translate(-0.5 -0.5)\"><switch><foreignObject height=\"100%\" pointer-events=\"none\" requiredFeatures=\"http://www.w3.org/TR/SVG11/feature#Extensibility\" style=\"overflow: visible; text-align: left;\" width=\"100%\"><div style=\"display: flex; align-items: unsafe center; justify-content: unsafe center; width: 78px; height: 1px; padding-top: 193px; margin-left: 248px;\" xmlns=\"http://www.w3.org/1999/xhtml\"><div style=\"box-sizing: border-box; font-size: 0; text-align: center; \"><div style=\"display: inline-block; font-size: 12px; font-family: Helvetica; color: #000000; line-height: 1.2; pointer-events: all; white-space: normal; word-wrap: normal; \"><span style=\"font-size: 18px\">等圧圧縮</span></div></div></div></foreignObject><text fill=\"#000000\" font-family=\"Helvetica\" font-size=\"12px\" text-anchor=\"middle\" x=\"287\" y=\"197\">等圧圧縮</text></switch></g><path d=\"M 87 113 L 156.9 113\" fill=\"none\" pointer-events=\"stroke\" stroke=\"#ff0000\" stroke-miterlimit=\"10\" stroke-width=\"3\"/><path d=\"M 163.65 113 L 154.65 117.5 L 156.9 113 L 154.65 108.5 Z\" fill=\"#ff0000\" pointer-events=\"all\" stroke=\"#ff0000\" stroke-miterlimit=\"10\" stroke-width=\"3\"/><path d=\"M 327 113 L 257.1 113\" fill=\"none\" pointer-events=\"stroke\" stroke=\"#0000ff\" stroke-miterlimit=\"10\" stroke-width=\"3\"/><path d=\"M 250.35 113 L 259.35 108.5 L 257.1 113 L 259.35 117.5 Z\" fill=\"#0000ff\" pointer-events=\"all\" stroke=\"#0000ff\" stroke-miterlimit=\"10\" stroke-width=\"3\"/><path d=\"M 47 113 L 357 113\" fill=\"none\" pointer-events=\"stroke\" stroke=\"#000000\" stroke-dasharray=\"2 6\" stroke-miterlimit=\"10\" stroke-width=\"2\"/><g transform=\"translate(-0.5 -0.5)\"><switch><foreignObject height=\"100%\" pointer-events=\"none\" requiredFeatures=\"http://www.w3.org/TR/SVG11/feature#Extensibility\" style=\"overflow: visible; text-align: left;\" width=\"100%\"><div style=\"display: flex; align-items: unsafe center; justify-content: unsafe center; width: 1px; height: 1px; padding-top: 111px; margin-left: 28px;\" xmlns=\"http://www.w3.org/1999/xhtml\"><div style=\"box-sizing: border-box; font-size: 0; text-align: center; \"><div style=\"display: inline-block; font-size: 11px; font-family: Helvetica; color: #000000; line-height: 1.2; pointer-events: all; background-color: #ffffff; white-space: nowrap; \"><font face=\"Georgia\" style=\"font-size: 18px\">P<sub>0</sub></font></div></div></div></foreignObject><text fill=\"#000000\" font-family=\"Helvetica\" font-size=\"11px\" text-anchor=\"middle\" x=\"28\" y=\"114\">P0</text></switch></g></g><switch><g requiredFeatures=\"http://www.w3.org/TR/SVG11/feature#Extensibility\"/><a target=\"_blank\" transform=\"translate(0,-5)\" xlink:href=\"https://desk.draw.io/support/solutions/articles/16000042487\"><text font-size=\"10px\" text-anchor=\"middle\" x=\"50%\" y=\"100%\">Viewer does not support full SVG 1.1</text></a></switch></svg>"
          },
          "metadata": {
            "tags": []
          }
        }
      ]
    },
    {
      "cell_type": "markdown",
      "metadata": {
        "colab_type": "text",
        "id": "pPc7ias2T0kC"
      },
      "source": [
        "\n",
        "> $\\Delta V <0$ のとき\n",
        ">> $\\color{#0000FF}{\\Delta W_{\\rm out}} < 0$ となり気体が *(外部から)* **される** 仕事\n"
      ]
    },
    {
      "cell_type": "markdown",
      "metadata": {
        "id": "ONkGczbLRRpL",
        "colab_type": "text"
      },
      "source": [
        "### $P$ が変化するときの $W_{\\rm out}$\n",
        "\n",
        "$P$ が滑らかに変化するときの $\\Delta W_{\\rm out}$ を 全て足し合わせてみましょう.\n",
        "- 足し合わせる記号は, ギリシャ文字の $\\Sigma$ (シグマ) を利用します.  \n",
        "  $\\Sigma$ は *s* に相当し, sum を表します.\n",
        "\n",
        "それでは横軸 $V$ を $\\Delta V$ と分割して足し合わせていきましょう.  \n",
        "($\\Delta V$ を調べる間は $P$ はほぼ変化しないと考えてください)\n",
        "\\begin{align*}\n",
        "\\Sigma \\Delta W_{\\rm out} \n",
        "&= \\Sigma P \\Delta V.&\n",
        "\\end{align*}\n",
        "ですが, 足し合わせる始めと終わりが必要ですので\n",
        "\\begin{align*}\n",
        "\\Sigma_{\\rm 状態:0}^{\\rm 状態:1} \\Delta W_{\\rm out} \n",
        "&= \\Sigma_{\\rm 状態:0}^{\\rm 状態:1} P \\Delta V.&\n",
        "\\end{align*}\n",
        "と 状態:0 から 状態:1 まで足し合わせることにします.\n",
        "\n",
        "> Q. $\\Delta V \\to 0$ とすると, 数学的にどのような意味があったか思い出してください.\n"
      ]
    },
    {
      "cell_type": "code",
      "metadata": {
        "id": "O0vJQJKZTIAj",
        "colab_type": "code",
        "cellView": "form",
        "colab": {
          "base_uri": "https://localhost:8080/",
          "height": 343
        },
        "outputId": "dc121f21-6bd3-40fd-fd99-351f5823a4ea"
      },
      "source": [
        "#@title 等温変化における P-V 曲線と気体のする仕事\n",
        "%%svg\n",
        "<svg xmlns=\"http://www.w3.org/2000/svg\" xmlns:xlink=\"http://www.w3.org/1999/xlink\" version=\"1.1\" width=\"386px\" viewBox=\"-0.5 -0.5 386 322\" content=\"&lt;mxfile host=&quot;www.draw.io&quot; modified=&quot;2020-07-08T05:24:09.165Z&quot; agent=&quot;5.0 (Macintosh; Intel Mac OS X 10_10_5) AppleWebKit/537.36 (KHTML, like Gecko) Chrome/83.0.4103.116 Safari/537.36&quot; etag=&quot;kr2EfJNGdikzJGnLdvEB&quot; version=&quot;13.3.9&quot; type=&quot;google&quot;&gt;&lt;diagram id=&quot;RsM2KXtBu-M1ImHkZ3zI&quot; name=&quot;Page-1&quot;&gt;5VjLctsgFP0aLZ0Rellaxq900c5k6jSd6Y5IWGKKhYpw7PTrCxJIFpZjx7EzSeqNxeFygcPlcMFyx8vNDYNF9o0miFiOnWwsd2I5DrDDofiTyJNG7KhGUoYThbXAHP9F2lChK5ygsmPIKSUcF10wpnmOYt7BIGN03TVbUNLttYAp2gHmMSS76E+c8KxG/dBt8S8Ip5nqOXTUhJdQ26qJlBlM6HoLcqeWO2aU8vpruRkjIsnTtNTtZntqm3ExlPNjGgzWN9EEBPNfvCh/TGaT6WTtDkBYu3mEZKUmrEbLnzQDjK7yBEkvtuWO1hnmaF7AWNauxaILLONLIkpAfCp3iHG02TtQ0ExfxA2iS8TZkzDRDULFmA4ZT5XXLf+a1GyL+sYOqiVPG9ctLeJDMfMSlqL3x5JjGywNj2QJXIol3du7YskxWIqOYym6WCgNz0zSAhMypoSyqq27CGMUxwIvOaO/0VbNQ+h7vnRIhS/MJSGufaYdG3RZPnLDOhfbsM5hklGeXMvjQZRiAssSx33Bh5Kd0+EgKVuz9ntmrTGGCOT4seu+jwnVwy3FouOGc0Mkm7L2UNIVi5FqtH0sGH4874AjDlmK+I6jal2aWZ++VG7PUgWEy8im1TjbNQv+rKiuGJRVpnAtDByv2LSV8oyv90qLiWGyFMNtoyBV/1VXWAP3GhFzwaaVwOoxadgMKREsX+GDyIA6kQQJTnMZZiJwkNiMI7nXsMgwrlXFEieJ9DFiSMwKPlT+5NYsJOnVMvgjy588t1lV+qMat1nHdrzu3yp7d7Z9FQEAOgEyAGeJXyfo9aod0MWiRBcJOO/zawMwTj3XOVEcTEemYF9YG/x3pQ23/502eAe0IfSH59UG7caMs8upAXhZqpDTHHVXUC7sXNlSxjOa0hySaYuO4hV7rLI50KRl+ibpfAAx8YyLxo4IHC0me7LENxITELxaTUB4RjW5l+H0/c5yxHTsXmkZT63I22l4V3e4Y25/aikCz+cpA/sK+JEhRr53ntMU+B2/wHszceo7AF+Yq3QFx+27Gc5mtvh9ACkyFeT0S4+paW986XGOSEI/3CuAa15Jj3wGOOEVQBTbh9N6UdrnZ3f6Dw==&lt;/diagram&gt;&lt;/mxfile&gt;\" onclick=\"(function(svg){var src=window.event.target||window.event.srcElement;while (src!=null&amp;&amp;src.nodeName.toLowerCase()!='a'){src=src.parentNode;}if(src==null){if(svg.wnd!=null&amp;&amp;!svg.wnd.closed){svg.wnd.focus();}else{var r=function(evt){if(evt.data=='ready'&amp;&amp;evt.source==svg.wnd){svg.wnd.postMessage(decodeURIComponent(svg.getAttribute('content')),'*');window.removeEventListener('message',r);}};window.addEventListener('message',r);svg.wnd=window.open('https://www.draw.io/?client=1&amp;lightbox=1&amp;edit=_blank');}}})(this);\" style=\"cursor:pointer;max-width:100%;max-height:322px;\"><defs/><g><rect x=\"107\" y=\"133\" width=\"20\" height=\"140\" fill=\"#ffffff\" stroke=\"#000000\" pointer-events=\"all\"/><rect x=\"127\" y=\"163\" width=\"20\" height=\"110\" fill=\"#ffffff\" stroke=\"#000000\" pointer-events=\"all\"/><rect x=\"147\" y=\"183\" width=\"20\" height=\"90\" fill=\"#ffffff\" stroke=\"#000000\" pointer-events=\"all\"/><rect x=\"87\" y=\"33\" width=\"20\" height=\"240\" fill-opacity=\"0.3\" fill=\"#f8cecc\" stroke=\"#b85450\" stroke-opacity=\"0.3\" pointer-events=\"all\"/><path d=\"M 7 273 L 360.63 273\" fill=\"none\" stroke=\"#000000\" stroke-miterlimit=\"10\" pointer-events=\"stroke\"/><path d=\"M 365.88 273 L 358.88 276.5 L 360.63 273 L 358.88 269.5 Z\" fill=\"#000000\" stroke=\"#000000\" stroke-miterlimit=\"10\" pointer-events=\"all\"/><g transform=\"translate(-0.5 -0.5)\"><switch><foreignObject style=\"overflow: visible; text-align: left;\" pointer-events=\"none\" width=\"100%\" height=\"100%\" requiredFeatures=\"http://www.w3.org/TR/SVG11/feature#Extensibility\"><div xmlns=\"http://www.w3.org/1999/xhtml\" style=\"display: flex; align-items: unsafe center; justify-content: unsafe center; width: 1px; height: 1px; padding-top: 274px; margin-left: 378px;\"><div style=\"box-sizing: border-box; font-size: 0; text-align: center; \"><div style=\"display: inline-block; font-size: 11px; font-family: Helvetica; color: #000000; line-height: 1.2; pointer-events: all; background-color: #ffffff; white-space: nowrap; \"><font style=\"font-size: 24px\" face=\"Georgia\"><i>V</i></font></div></div></div></foreignObject><text x=\"378\" y=\"277\" fill=\"#000000\" font-family=\"Helvetica\" font-size=\"11px\" text-anchor=\"middle\">V</text></switch></g><path d=\"M 47 313 L 47 39.37\" fill=\"none\" stroke=\"#000000\" stroke-miterlimit=\"10\" pointer-events=\"stroke\"/><path d=\"M 47 34.12 L 50.5 41.12 L 47 39.37 L 43.5 41.12 Z\" fill=\"#000000\" stroke=\"#000000\" stroke-miterlimit=\"10\" pointer-events=\"all\"/><g transform=\"translate(-0.5 -0.5)\"><switch><foreignObject style=\"overflow: visible; text-align: left;\" pointer-events=\"none\" width=\"100%\" height=\"100%\" requiredFeatures=\"http://www.w3.org/TR/SVG11/feature#Extensibility\"><div xmlns=\"http://www.w3.org/1999/xhtml\" style=\"display: flex; align-items: unsafe center; justify-content: unsafe center; width: 1px; height: 1px; padding-top: 14px; margin-left: 49px;\"><div style=\"box-sizing: border-box; font-size: 0; text-align: center; \"><div style=\"display: inline-block; font-size: 11px; font-family: Helvetica; color: #000000; line-height: 1.2; pointer-events: all; background-color: #ffffff; white-space: nowrap; \"><font style=\"font-size: 24px\" face=\"Georgia\"><i>P</i></font></div></div></div></foreignObject><text x=\"49\" y=\"17\" fill=\"#000000\" font-family=\"Helvetica\" font-size=\"11px\" text-anchor=\"middle\">P</text></switch></g><path d=\"M 327 233 Q 87 233 87 33\" fill=\"none\" stroke=\"#000000\" stroke-width=\"2\" stroke-miterlimit=\"10\" pointer-events=\"stroke\"/><g transform=\"translate(-0.5 -0.5)\"><switch><foreignObject style=\"overflow: visible; text-align: left;\" pointer-events=\"none\" width=\"100%\" height=\"100%\" requiredFeatures=\"http://www.w3.org/TR/SVG11/feature#Extensibility\"><div xmlns=\"http://www.w3.org/1999/xhtml\" style=\"display: flex; align-items: unsafe center; justify-content: unsafe center; width: 1px; height: 1px; padding-top: 194px; margin-left: 258px;\"><div style=\"box-sizing: border-box; font-size: 0; text-align: center; \"><div style=\"display: inline-block; font-size: 11px; font-family: Helvetica; color: #000000; line-height: 1.2; pointer-events: all; background-color: #ffffff; white-space: nowrap; \"><font style=\"font-size: 18px\" face=\"Georgia\"><i>PV=nRT, </i>Δ<i>T=</i>0</font></div></div></div></foreignObject><text x=\"258\" y=\"197\" fill=\"#000000\" font-family=\"Helvetica\" font-size=\"11px\" text-anchor=\"middle\">PV=nRT, ΔT=0</text></switch></g><path d=\"M 87 273 L 316.9 273\" fill=\"none\" stroke=\"#ff0000\" stroke-width=\"3\" stroke-miterlimit=\"10\" pointer-events=\"stroke\"/><path d=\"M 323.65 273 L 314.65 277.5 L 316.9 273 L 314.65 268.5 Z\" fill=\"#ff0000\" stroke=\"#ff0000\" stroke-width=\"3\" stroke-miterlimit=\"10\" pointer-events=\"all\"/><rect x=\"307\" y=\"233\" width=\"20\" height=\"40\" fill-opacity=\"0.3\" fill=\"#f8cecc\" stroke=\"#b85450\" stroke-opacity=\"0.3\" pointer-events=\"all\"/></g><switch><g requiredFeatures=\"http://www.w3.org/TR/SVG11/feature#Extensibility\"/><a transform=\"translate(0,-5)\" xlink:href=\"https://desk.draw.io/support/solutions/articles/16000042487\" target=\"_blank\"><text text-anchor=\"middle\" font-size=\"10px\" x=\"50%\" y=\"100%\">Viewer does not support full SVG 1.1</text></a></switch></svg>"
      ],
      "execution_count": null,
      "outputs": [
        {
          "output_type": "display_data",
          "data": {
            "text/plain": [
              "<IPython.core.display.SVG object>"
            ],
            "image/svg+xml": "<svg content=\"&lt;mxfile host=&quot;www.draw.io&quot; modified=&quot;2020-07-08T05:24:09.165Z&quot; agent=&quot;5.0 (Macintosh; Intel Mac OS X 10_10_5) AppleWebKit/537.36 (KHTML, like Gecko) Chrome/83.0.4103.116 Safari/537.36&quot; etag=&quot;kr2EfJNGdikzJGnLdvEB&quot; version=&quot;13.3.9&quot; type=&quot;google&quot;&gt;&lt;diagram id=&quot;RsM2KXtBu-M1ImHkZ3zI&quot; name=&quot;Page-1&quot;&gt;5VjLctsgFP0aLZ0Rellaxq900c5k6jSd6Y5IWGKKhYpw7PTrCxJIFpZjx7EzSeqNxeFygcPlcMFyx8vNDYNF9o0miFiOnWwsd2I5DrDDofiTyJNG7KhGUoYThbXAHP9F2lChK5ygsmPIKSUcF10wpnmOYt7BIGN03TVbUNLttYAp2gHmMSS76E+c8KxG/dBt8S8Ip5nqOXTUhJdQ26qJlBlM6HoLcqeWO2aU8vpruRkjIsnTtNTtZntqm3ExlPNjGgzWN9EEBPNfvCh/TGaT6WTtDkBYu3mEZKUmrEbLnzQDjK7yBEkvtuWO1hnmaF7AWNauxaILLONLIkpAfCp3iHG02TtQ0ExfxA2iS8TZkzDRDULFmA4ZT5XXLf+a1GyL+sYOqiVPG9ctLeJDMfMSlqL3x5JjGywNj2QJXIol3du7YskxWIqOYym6WCgNz0zSAhMypoSyqq27CGMUxwIvOaO/0VbNQ+h7vnRIhS/MJSGufaYdG3RZPnLDOhfbsM5hklGeXMvjQZRiAssSx33Bh5Kd0+EgKVuz9ntmrTGGCOT4seu+jwnVwy3FouOGc0Mkm7L2UNIVi5FqtH0sGH4874AjDlmK+I6jal2aWZ++VG7PUgWEy8im1TjbNQv+rKiuGJRVpnAtDByv2LSV8oyv90qLiWGyFMNtoyBV/1VXWAP3GhFzwaaVwOoxadgMKREsX+GDyIA6kQQJTnMZZiJwkNiMI7nXsMgwrlXFEieJ9DFiSMwKPlT+5NYsJOnVMvgjy588t1lV+qMat1nHdrzu3yp7d7Z9FQEAOgEyAGeJXyfo9aod0MWiRBcJOO/zawMwTj3XOVEcTEemYF9YG/x3pQ23/502eAe0IfSH59UG7caMs8upAXhZqpDTHHVXUC7sXNlSxjOa0hySaYuO4hV7rLI50KRl+ibpfAAx8YyLxo4IHC0me7LENxITELxaTUB4RjW5l+H0/c5yxHTsXmkZT63I22l4V3e4Y25/aikCz+cpA/sK+JEhRr53ntMU+B2/wHszceo7AF+Yq3QFx+27Gc5mtvh9ACkyFeT0S4+paW986XGOSEI/3CuAa15Jj3wGOOEVQBTbh9N6UdrnZ3f6Dw==&lt;/diagram&gt;&lt;/mxfile&gt;\" onclick=\"(function(svg){var src=window.event.target||window.event.srcElement;while (src!=null&amp;&amp;src.nodeName.toLowerCase()!='a'){src=src.parentNode;}if(src==null){if(svg.wnd!=null&amp;&amp;!svg.wnd.closed){svg.wnd.focus();}else{var r=function(evt){if(evt.data=='ready'&amp;&amp;evt.source==svg.wnd){svg.wnd.postMessage(decodeURIComponent(svg.getAttribute('content')),'*');window.removeEventListener('message',r);}};window.addEventListener('message',r);svg.wnd=window.open('https://www.draw.io/?client=1&amp;lightbox=1&amp;edit=_blank');}}})(this);\" style=\"cursor:pointer;max-width:100%;max-height:322px;\" version=\"1.1\" viewBox=\"-0.5 -0.5 386 322\" width=\"386px\" xmlns=\"http://www.w3.org/2000/svg\" xmlns:xlink=\"http://www.w3.org/1999/xlink\"><defs/><g><rect fill=\"#ffffff\" height=\"140\" pointer-events=\"all\" stroke=\"#000000\" width=\"20\" x=\"107\" y=\"133\"/><rect fill=\"#ffffff\" height=\"110\" pointer-events=\"all\" stroke=\"#000000\" width=\"20\" x=\"127\" y=\"163\"/><rect fill=\"#ffffff\" height=\"90\" pointer-events=\"all\" stroke=\"#000000\" width=\"20\" x=\"147\" y=\"183\"/><rect fill=\"#f8cecc\" fill-opacity=\"0.3\" height=\"240\" pointer-events=\"all\" stroke=\"#b85450\" stroke-opacity=\"0.3\" width=\"20\" x=\"87\" y=\"33\"/><path d=\"M 7 273 L 360.63 273\" fill=\"none\" pointer-events=\"stroke\" stroke=\"#000000\" stroke-miterlimit=\"10\"/><path d=\"M 365.88 273 L 358.88 276.5 L 360.63 273 L 358.88 269.5 Z\" fill=\"#000000\" pointer-events=\"all\" stroke=\"#000000\" stroke-miterlimit=\"10\"/><g transform=\"translate(-0.5 -0.5)\"><switch><foreignObject height=\"100%\" pointer-events=\"none\" requiredFeatures=\"http://www.w3.org/TR/SVG11/feature#Extensibility\" style=\"overflow: visible; text-align: left;\" width=\"100%\"><div style=\"display: flex; align-items: unsafe center; justify-content: unsafe center; width: 1px; height: 1px; padding-top: 274px; margin-left: 378px;\" xmlns=\"http://www.w3.org/1999/xhtml\"><div style=\"box-sizing: border-box; font-size: 0; text-align: center; \"><div style=\"display: inline-block; font-size: 11px; font-family: Helvetica; color: #000000; line-height: 1.2; pointer-events: all; background-color: #ffffff; white-space: nowrap; \"><font face=\"Georgia\" style=\"font-size: 24px\"><i>V</i></font></div></div></div></foreignObject><text fill=\"#000000\" font-family=\"Helvetica\" font-size=\"11px\" text-anchor=\"middle\" x=\"378\" y=\"277\">V</text></switch></g><path d=\"M 47 313 L 47 39.37\" fill=\"none\" pointer-events=\"stroke\" stroke=\"#000000\" stroke-miterlimit=\"10\"/><path d=\"M 47 34.12 L 50.5 41.12 L 47 39.37 L 43.5 41.12 Z\" fill=\"#000000\" pointer-events=\"all\" stroke=\"#000000\" stroke-miterlimit=\"10\"/><g transform=\"translate(-0.5 -0.5)\"><switch><foreignObject height=\"100%\" pointer-events=\"none\" requiredFeatures=\"http://www.w3.org/TR/SVG11/feature#Extensibility\" style=\"overflow: visible; text-align: left;\" width=\"100%\"><div style=\"display: flex; align-items: unsafe center; justify-content: unsafe center; width: 1px; height: 1px; padding-top: 14px; margin-left: 49px;\" xmlns=\"http://www.w3.org/1999/xhtml\"><div style=\"box-sizing: border-box; font-size: 0; text-align: center; \"><div style=\"display: inline-block; font-size: 11px; font-family: Helvetica; color: #000000; line-height: 1.2; pointer-events: all; background-color: #ffffff; white-space: nowrap; \"><font face=\"Georgia\" style=\"font-size: 24px\"><i>P</i></font></div></div></div></foreignObject><text fill=\"#000000\" font-family=\"Helvetica\" font-size=\"11px\" text-anchor=\"middle\" x=\"49\" y=\"17\">P</text></switch></g><path d=\"M 327 233 Q 87 233 87 33\" fill=\"none\" pointer-events=\"stroke\" stroke=\"#000000\" stroke-miterlimit=\"10\" stroke-width=\"2\"/><g transform=\"translate(-0.5 -0.5)\"><switch><foreignObject height=\"100%\" pointer-events=\"none\" requiredFeatures=\"http://www.w3.org/TR/SVG11/feature#Extensibility\" style=\"overflow: visible; text-align: left;\" width=\"100%\"><div style=\"display: flex; align-items: unsafe center; justify-content: unsafe center; width: 1px; height: 1px; padding-top: 194px; margin-left: 258px;\" xmlns=\"http://www.w3.org/1999/xhtml\"><div style=\"box-sizing: border-box; font-size: 0; text-align: center; \"><div style=\"display: inline-block; font-size: 11px; font-family: Helvetica; color: #000000; line-height: 1.2; pointer-events: all; background-color: #ffffff; white-space: nowrap; \"><font face=\"Georgia\" style=\"font-size: 18px\"><i>PV=nRT, </i>Δ<i>T=</i>0</font></div></div></div></foreignObject><text fill=\"#000000\" font-family=\"Helvetica\" font-size=\"11px\" text-anchor=\"middle\" x=\"258\" y=\"197\">PV=nRT, ΔT=0</text></switch></g><path d=\"M 87 273 L 316.9 273\" fill=\"none\" pointer-events=\"stroke\" stroke=\"#ff0000\" stroke-miterlimit=\"10\" stroke-width=\"3\"/><path d=\"M 323.65 273 L 314.65 277.5 L 316.9 273 L 314.65 268.5 Z\" fill=\"#ff0000\" pointer-events=\"all\" stroke=\"#ff0000\" stroke-miterlimit=\"10\" stroke-width=\"3\"/><rect fill=\"#f8cecc\" fill-opacity=\"0.3\" height=\"40\" pointer-events=\"all\" stroke=\"#b85450\" stroke-opacity=\"0.3\" width=\"20\" x=\"307\" y=\"233\"/></g><switch><g requiredFeatures=\"http://www.w3.org/TR/SVG11/feature#Extensibility\"/><a target=\"_blank\" transform=\"translate(0,-5)\" xlink:href=\"https://desk.draw.io/support/solutions/articles/16000042487\"><text font-size=\"10px\" text-anchor=\"middle\" x=\"50%\" y=\"100%\">Viewer does not support full SVG 1.1</text></a></switch></svg>"
          },
          "metadata": {
            "tags": []
          }
        }
      ]
    },
    {
      "cell_type": "markdown",
      "metadata": {
        "id": "Hhn2xlIeUY6h",
        "colab_type": "text"
      },
      "source": [
        "\\begin{align*}\n",
        "\\int_{\\rm 状態:0}^{\\rm 状態:1} {\\rm d} W_{\\rm out} \n",
        "&= \\int_{\\rm 状態:0}^{\\rm 状態:1} P {\\rm d} V.&\\\\\n",
        "W_{\\rm out:1} - W_{\\rm out:0} &= \\int_{\\rm 状態:0}^{\\rm 状態:1} P {\\rm d} V.&\n",
        "\\end{align*}\n",
        "\n",
        "この式から\n",
        "> 状態:0 から状態:1 に変化したとき, 気体がなす仕事は $P-V$ グラフの面積で表せる\n",
        "\n",
        "ということができます.\n",
        "\n",
        ">> - $P\\geqq0$\n",
        "- 状態:0 から状態:1 に変化しとき\n",
        "  - $\\color{#FF0000}{V_1 \\geqq V_0}$ なら, $W_{\\rm out:1} - W_{\\rm out:0} \n",
        "   \\color{#FF0000}{\\geqq} 0$\n",
        "  - $\\color{#0000FF}{V_1 \\leqq V_0}$ なら, $W_{\\rm out:1} - W_{\\rm out:0} \n",
        "  \\color{#0000FF}{\\leqq} 0$\n",
        "\n",
        "となります."
      ]
    },
    {
      "cell_type": "markdown",
      "metadata": {
        "id": "pgiiDGs34v5i",
        "colab_type": "text"
      },
      "source": [
        "> Q. 教科書 下巻 p26 例題3.6 に取り組んでください.\n",
        "\n",
        "> Q. 例題3.6 で開始点の $P_0 V_0=n R T$ を保持しながら, 等温変化で($V_1=3.0\\ {\\rm m^3}$まで)膨張した場合の仕事を求めよ. $P_0 \\cdot V_0 = 2.0 \\times 10^5 {\\rm Pa} \\cdot 1.0 {\\rm m^3} = 2.0 \\times 10^5 {\\rm J} = P\\cdot V$ を利用して良い."
      ]
    }
  ]
}