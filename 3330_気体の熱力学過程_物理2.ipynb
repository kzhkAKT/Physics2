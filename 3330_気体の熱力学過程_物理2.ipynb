{
  "nbformat": 4,
  "nbformat_minor": 0,
  "metadata": {
    "colab": {
      "name": "3330_気体の熱力学過程_物理2.ipynb",
      "provenance": [],
      "authorship_tag": "ABX9TyORrejesrlknXvclmDgx/5m",
      "include_colab_link": true
    },
    "kernelspec": {
      "name": "python3",
      "display_name": "Python 3"
    }
  },
  "cells": [
    {
      "cell_type": "markdown",
      "metadata": {
        "id": "view-in-github",
        "colab_type": "text"
      },
      "source": [
        "<a href=\"https://colab.research.google.com/github/kzhkAKT/Physics2/blob/draft/3330_%E6%B0%97%E4%BD%93%E3%81%AE%E7%86%B1%E5%8A%9B%E5%AD%A6%E9%81%8E%E7%A8%8B_%E7%89%A9%E7%90%862.ipynb\" target=\"_parent\"><img src=\"https://colab.research.google.com/assets/colab-badge.svg\" alt=\"Open In Colab\"/></a>"
      ]
    },
    {
      "cell_type": "markdown",
      "metadata": {
        "id": "YNlHLwqeFdSg",
        "colab_type": "text"
      },
      "source": [
        "# 熱力学の第一法則"
      ]
    },
    {
      "cell_type": "markdown",
      "metadata": {
        "id": "CwSt1R86Fh6U",
        "colab_type": "text"
      },
      "source": [
        "## 気体の熱力学過程\n",
        "\n",
        "\n",
        "### 熱力学過程\n",
        "\n",
        "- 体積 $V$, 圧力 $P$, 温度 $T$, 内部エネルギー $U$ を変化させる過程\n",
        "- この過程は熱力学第一法則で関連づけることができます\n",
        "\n",
        " $\\qquad \\Delta U = \\Delta Q_{\\rm in} + \\Delta W_{\\rm in}$\n",
        "- このように状態量を表す変数が複数存在するため,   \n",
        "一般には次のように一つの状態量を固定して考えます.\n",
        "  1. $\\Delta T=0\\quad$ 等温過程\n",
        "  1. $\\Delta V=0\\quad$ 等積過程\n",
        "  1. $\\Delta P=0\\quad$ 定圧過程\n",
        "  1. $\\Delta Q=0\\quad$ 断熱過程\n",
        "\n",
        "### 理想気体における熱力学過程\n",
        "\n",
        "一般の物質や気体を一つの系(システム)として取り扱うには,  \n",
        "分子/原子間の相互作用 を考える必要があり, 複雑になります.\n",
        "\n",
        "そこで, *相互作用を無視した* 理想気体における熱力学過程を取り扱います.\n",
        "\\begin{align*}\n",
        "PV &= n R T.&\n",
        "\\end{align*}\n",
        "これに熱力学第1法則\n",
        "\\begin{align*}\n",
        "\\Delta U &= Q_{\\rm in} + W_{\\rm in}\n",
        "= Q_{\\rm in} - W_{\\rm out}&\\\\\n",
        "\\\\\n",
        "& = \\Delta Q_{\\rm in} + \\Delta W_{\\rm in}\n",
        " = \\Delta Q_{\\rm in} - \\Delta W_{\\rm out}&\n",
        "\\end{align*}\n",
        "を利用します.\n",
        "\n",
        "とくに理想気体の場合は内部エネルギー変化$\\Delta U$ が簡素化され\n",
        "\\begin{align*}\n",
        "U &= n\\left( \\dfrac{3}{2} R T \\right)\n",
        "\\end{align*}\n",
        "内部エネルギーは **温度変化 $\\Delta T$ の関数** となっています.\n",
        "\n",
        "また, $W_{\\rm out}= \\Delta W_{\\rm out}$ については, 気体が(外部に)する仕事として\n",
        "\\begin{align*}\n",
        "W_{\\rm out} = \\Delta W_{\\rm out} = P_0 \\Delta V&\n",
        "\\end{align*}\n",
        "となっています.\n",
        "\n"
      ]
    }
  ]
}