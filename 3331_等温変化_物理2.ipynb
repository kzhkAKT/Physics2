{
  "nbformat": 4,
  "nbformat_minor": 0,
  "metadata": {
    "colab": {
      "name": "3331_等温変化_物理2",
      "provenance": [],
      "authorship_tag": "ABX9TyMsU5NYr3IlPL+wK/4tUtkr",
      "include_colab_link": true
    },
    "kernelspec": {
      "name": "python3",
      "display_name": "Python 3"
    }
  },
  "cells": [
    {
      "cell_type": "markdown",
      "metadata": {
        "id": "view-in-github",
        "colab_type": "text"
      },
      "source": [
        "<a href=\"https://colab.research.google.com/github/kzhkAKT/Physics2/blob/draft/3331_%E7%AD%89%E6%B8%A9%E5%A4%89%E5%8C%96_%E7%89%A9%E7%90%862.ipynb\" target=\"_parent\"><img src=\"https://colab.research.google.com/assets/colab-badge.svg\" alt=\"Open In Colab\"/></a>"
      ]
    },
    {
      "cell_type": "markdown",
      "metadata": {
        "id": "4G8JhTbFznoD",
        "colab_type": "text"
      },
      "source": [
        "# 熱力学過程\n",
        "\n",
        "## 等温変化\n",
        "\n",
        "$\\Delta T = T_{終状態}-T_{始状態}=0$"
      ]
    }
  ]
}