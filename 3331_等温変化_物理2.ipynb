{
  "nbformat": 4,
  "nbformat_minor": 0,
  "metadata": {
    "colab": {
      "name": "3331_等温変化_物理2",
      "provenance": [],
      "toc_visible": true,
      "authorship_tag": "ABX9TyOe/vTsb+gVzHkpoqzxLYJn",
      "include_colab_link": true
    },
    "kernelspec": {
      "name": "python3",
      "display_name": "Python 3"
    }
  },
  "cells": [
    {
      "cell_type": "markdown",
      "metadata": {
        "id": "view-in-github",
        "colab_type": "text"
      },
      "source": [
        "<a href=\"https://colab.research.google.com/github/kzhkAKT/Physics2/blob/draft/3331_%E7%AD%89%E6%B8%A9%E5%A4%89%E5%8C%96_%E7%89%A9%E7%90%862.ipynb\" target=\"_parent\"><img src=\"https://colab.research.google.com/assets/colab-badge.svg\" alt=\"Open In Colab\"/></a>"
      ]
    },
    {
      "cell_type": "markdown",
      "metadata": {
        "id": "4G8JhTbFznoD",
        "colab_type": "text"
      },
      "source": [
        "# (理想気体の)熱力学過程\n"
      ]
    },
    {
      "cell_type": "markdown",
      "metadata": {
        "id": "dwjIqIge3hPY",
        "colab_type": "text"
      },
      "source": [
        "## 等温変化\n",
        "\n",
        "$\\Delta T = T_{終状態}-T_{始状態}=0$\n",
        "\n",
        "理想気体の状態方程式で 等温変化 $\\Delta T=0$ を確認すると,\n",
        "$nRT$ が一定となり\n",
        "\\begin{align*}\n",
        "PV & = n R T&\\\\\n",
        "PV &= 一定&\n",
        "\\end{align*}\n",
        "つまり, 理想気体において $\\Delta T=0$ では $P$ と $V$ は **反比例** の関係にある"
      ]
    },
    {
      "cell_type": "code",
      "metadata": {
        "id": "X_rVbRJFzMVf",
        "colab_type": "code",
        "colab": {
          "base_uri": "https://localhost:8080/",
          "height": 286
        },
        "cellView": "form",
        "outputId": "5e2184c3-20c0-47a8-bb3d-fe2039f84d53"
      },
      "source": [
        "#@title ΔT=0 では PV 一定\n",
        "%matplotlib inline\n",
        "\n",
        "import matplotlib.pyplot as plt\n",
        "import numpy as np\n",
        "\n",
        "x = np.linspace(0.001, 10, 50)\n",
        "\n",
        "fig = plt.figure()\n",
        "ax = fig.add_subplot(111)\n",
        "\n",
        "plt.xlim([0,10])\n",
        "plt.ylim([0,10])\n",
        "\n",
        "ax.set_aspect('equal', adjustable='box')\n",
        "\n",
        "plt.plot(x, 8/x, '-', color=\"k\")\n",
        "plt.plot([0,1,1],[8,8,0],color=\"g\")\n",
        "#plt.plot([0,2,2],[4,4,0],color=\"r\")\n",
        "plt.plot([0,4,4],[2,2,0],color=\"g\")"
      ],
      "execution_count": 43,
      "outputs": [
        {
          "output_type": "execute_result",
          "data": {
            "text/plain": [
              "[<matplotlib.lines.Line2D at 0x7f2277219160>]"
            ]
          },
          "metadata": {
            "tags": []
          },
          "execution_count": 43
        },
        {
          "output_type": "display_data",
          "data": {
            "image/png": "[encoded data removed]",
            "text/plain": [
              "<Figure size 432x288 with 1 Axes>"
            ]
          },
          "metadata": {
            "tags": [],
            "needs_background": "light"
          }
        }
      ]
    },
    {
      "cell_type": "markdown",
      "metadata": {
        "id": "l6fTuDKj3K2Z",
        "colab_type": "text"
      },
      "source": [
        "## $\\Delta T_{\\rm High}=0$ と $\\Delta T_{\\rm Low}=0$  の関係\n",
        "\n",
        "同じ系(風船に閉じ込められた気体)で, 高温での等温変化と低温でおの等温変化を比べると\n",
        "\\begin{align*}\n",
        "P_{\\rm H} V_{\\rm H} &= \\color{#FF0000}{n R T_{\\rm H}}&\\\\\n",
        "P_{\\rm L} V_{\\rm L} &= \\color{#0000FF}{n R T_{\\rm L}}&\n",
        "\\end{align*}\n",
        "これは 絶対温度では $\\color{#FF0000}{n R T_{\\rm H}} > \\color{#0000FF}{n R T_{\\rm L}}$ なので\n",
        "\\begin{align*}\n",
        "\\color{#FF0000}{P_{\\rm H} V_{\\rm H}}\n",
        "> \\color{#0000FF}{P_{\\rm L} V_{\\rm L}}.\n",
        "\\end{align*}"
      ]
    },
    {
      "cell_type": "code",
      "metadata": {
        "id": "8HiPQBw70Gpf",
        "colab_type": "code",
        "colab": {
          "base_uri": "https://localhost:8080/",
          "height": 286
        },
        "cellView": "form",
        "outputId": "88445bfe-ed66-4729-b26a-1044c7a2545b"
      },
      "source": [
        "#@title 高温と低温にそれぞれにおける等温変化\n",
        "%matplotlib inline\n",
        "\n",
        "import matplotlib.pyplot as plt\n",
        "import numpy as np\n",
        "\n",
        "x = np.linspace(0.001, 10, 50)\n",
        "\n",
        "fig = plt.figure()\n",
        "ax = fig.add_subplot(111)\n",
        "\n",
        "plt.xlim([0,10])\n",
        "plt.ylim([0,10])\n",
        "\n",
        "ax.set_aspect('equal', adjustable='box')\n",
        "\n",
        "plt.plot(x, 5/x, '-', color=\"b\")\n",
        "plt.plot(x, 3*5/x, '-', color=\"r\")"
      ],
      "execution_count": 42,
      "outputs": [
        {
          "output_type": "execute_result",
          "data": {
            "text/plain": [
              "[<matplotlib.lines.Line2D at 0x7f227728f828>]"
            ]
          },
          "metadata": {
            "tags": []
          },
          "execution_count": 42
        },
        {
          "output_type": "display_data",
          "data": {
            "image/png": "[encoded data removed]",
            "text/plain": [
              "<Figure size 432x288 with 1 Axes>"
            ]
          },
          "metadata": {
            "tags": [],
            "needs_background": "light"
          }
        }
      ]
    },
    {
      "cell_type": "markdown",
      "metadata": {
        "id": "aJcSa6N76Hm3",
        "colab_type": "text"
      },
      "source": [
        "$\\require{cancel}$\n",
        "## $\\Delta T =0$ における熱力学第一法則\n",
        "\n",
        "熱力学第一法則は\n",
        "\\begin{align*}\n",
        "\\Delta U &= \\Delta Q_{\\rm in} + \\Delta W_{\\rm in}&\n",
        "\\end{align*}\n",
        "理想気体では内部エネルギー $\\Delta U$ が簡潔に表現できて\n",
        "\\begin{align*}\n",
        "\\dfrac{3}{2} n R \\Delta T &= \\Delta Q_{\\rm in} + \\Delta W_{\\rm in}.&\n",
        "\\end{align*}\n",
        "等温変化 $\\Delta T =0$ と外部にする仕事 $\\Delta W_{\\rm out}$ で整理すると\n",
        "\\begin{align*}\n",
        "\\dfrac{3}{2} n R \\cancelto{0}{\\Delta T} &= \\Delta Q_{\\rm in} - \\Delta W_{\\rm out}&\\\\\n",
        "\\Delta Q_{\\rm in } & = \\Delta W_{\\rm out}&\n",
        "\\end{align*}\n",
        "この結果は\n",
        "> $\\Delta Q_{\\rm in}>0$ であれば, $\\Delta W_{\\rm out}>0$ \n",
        "\n",
        "で\n",
        "\n",
        ">> 注目する系の等温変化では, 吸熱過程で系は外部に仕事をする\n",
        "\n",
        "ということができます.\n",
        "\n",
        "\\begin{align*}\n",
        "\\Delta Q_{\\rm in } & = \\Delta W_{\\rm out} = P \\Delta V&\n",
        "\\end{align*}"
      ]
    },
    {
      "cell_type": "code",
      "metadata": {
        "id": "Gn1yBlp15wKr",
        "colab_type": "code",
        "colab": {
          "base_uri": "https://localhost:8080/",
          "height": 286
        },
        "cellView": "form",
        "outputId": "0713fd2f-106f-44a1-fc41-bfe5e5ecd6ed"
      },
      "source": [
        "#@title ΔT=0 では PV 一定\n",
        "%matplotlib inline\n",
        "\n",
        "import matplotlib.pyplot as plt\n",
        "import numpy as np\n",
        "\n",
        "x = np.linspace(0.001, 10, 50)\n",
        "\n",
        "fig = plt.figure()\n",
        "ax = fig.add_subplot(111)\n",
        "\n",
        "plt.xlim([0,10])\n",
        "plt.ylim([0,10])\n",
        "\n",
        "ax.set_aspect('equal', adjustable='box')\n",
        "\n",
        "plt.plot(x, 8/x, '--', color=\"k\")\n",
        "#plt.plot([0,1,1],[8,8,0],color=\"g\")\n",
        "plt.plot([0,2,2],[4,4,0],color=\"c\")\n",
        "#plt.plot([0,4,4],[2,2,0],color=\"g\")\n",
        "plt.plot([0,8,8],[1,1,0],color=\"m\")"
      ],
      "execution_count": 49,
      "outputs": [
        {
          "output_type": "execute_result",
          "data": {
            "text/plain": [
              "[<matplotlib.lines.Line2D at 0x7f2276fc8240>]"
            ]
          },
          "metadata": {
            "tags": []
          },
          "execution_count": 49
        },
        {
          "output_type": "display_data",
          "data": {
            "image/png": "[encoded data removed]",
            "text/plain": [
              "<Figure size 432x288 with 1 Axes>"
            ]
          },
          "metadata": {
            "tags": [],
            "needs_background": "light"
          }
        }
      ]
    },
    {
      "cell_type": "code",
      "metadata": {
        "id": "bnH5QY_r8Ntm",
        "colab_type": "code",
        "colab": {}
      },
      "source": [
        ""
      ],
      "execution_count": null,
      "outputs": []
    }
  ]
}