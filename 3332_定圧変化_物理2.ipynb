{
  "nbformat": 4,
  "nbformat_minor": 0,
  "metadata": {
    "colab": {
      "name": "3332_定圧変化_物理2",
      "provenance": [],
      "collapsed_sections": [],
      "toc_visible": true,
      "authorship_tag": "ABX9TyOPeKO5w2FVWOM9gLg8IVSX",
      "include_colab_link": true
    },
    "kernelspec": {
      "name": "python3",
      "display_name": "Python 3"
    }
  },
  "cells": [
    {
      "cell_type": "markdown",
      "metadata": {
        "id": "view-in-github",
        "colab_type": "text"
      },
      "source": [
        "<a href=\"https://colab.research.google.com/github/kzhkAKT/Physics2/blob/draft/3332_%E5%AE%9A%E5%9C%A7%E5%A4%89%E5%8C%96_%E7%89%A9%E7%90%862.ipynb\" target=\"_parent\"><img src=\"https://colab.research.google.com/assets/colab-badge.svg\" alt=\"Open In Colab\"/></a>"
      ]
    },
    {
      "cell_type": "markdown",
      "metadata": {
        "id": "uNLOyObZW5T2",
        "colab_type": "text"
      },
      "source": [
        "# (単原子理想気体の)熱力学過程"
      ]
    },
    {
      "cell_type": "markdown",
      "metadata": {
        "id": "beDGH43sW82B",
        "colab_type": "text"
      },
      "source": [
        "## 定圧変化\n",
        "\n",
        "$\\Delta P = P_{終状態}-P_{始状態}=0$"
      ]
    },
    {
      "cell_type": "markdown",
      "metadata": {
        "id": "LBOPoST6XICE",
        "colab_type": "text"
      },
      "source": [
        "$\\require{cancel}$\n",
        "### $\\Delta P=0$  における熱力学第一法則\n",
        "\n",
        "\\begin{align*}\n",
        "\\Delta U\n",
        "&= \\Delta Q_{\\rm in} + \\Delta W_{\\rm in}&\\\\\n",
        "&= \\Delta Q_{\\rm in} - \\Delta W_{\\rm out}= \\Delta Q_{\\rm in} -  P \\Delta V&\n",
        "\\end{align*}"
      ]
    },
    {
      "cell_type": "markdown",
      "metadata": {
        "id": "V5QbdjShXtgq",
        "colab_type": "text"
      },
      "source": [
        "####  $\\Delta P=0$ で系が吸収した熱量 $\\Delta Q_{\\rm in}\n",
        "\n",
        "\\begin{align*}\n",
        "\\Delta Q_{{\\rm in:}P} = \\Delta U + P \\Delta V\n",
        "\\end{align*}\n",
        "\n",
        "- $\\Delta U$: 系の内部エネルギー変化に使われる\n",
        "- $P\\Delta V$: $\\Delta P=0$ で系の体積変化に使われるエネルギー変化\n",
        "\n",
        "この関係を簡潔に示すと\n",
        "\n",
        "> $\\Delta P=0$ では, 系が吸収した熱量 $\\Delta Q_{{\\rm in:}P}$ の一部は内部エネルギーの変化 $\\Delta U$ に利用され,   \n",
        "また一部は外部への仕事 $\\Delta W_{{\\rm out}:P} =P \\Delta V$  に利用される\n",
        "\n",
        "ということができます.\n",
        "\n"
      ]
    },
    {
      "cell_type": "code",
      "metadata": {
        "id": "8HiPQBw70Gpf",
        "colab_type": "code",
        "cellView": "form",
        "colab": {
          "base_uri": "https://localhost:8080/",
          "height": 286
        },
        "outputId": "7eedc947-f3d1-4ccc-bd99-19492371c726"
      },
      "source": [
        "#@title 定圧変化における温度変化: ΔP=0\n",
        "%matplotlib inline\n",
        "\n",
        "import matplotlib.pyplot as plt\n",
        "import numpy as np\n",
        "\n",
        "x = np.linspace(0.001, 10, 50)\n",
        "\n",
        "fig = plt.figure()\n",
        "ax = fig.add_subplot(111)\n",
        "\n",
        "plt.xlim([0,10])\n",
        "plt.ylim([0,10])\n",
        "\n",
        "ax.set_aspect('equal', adjustable='box')\n",
        "\n",
        "plt.plot(x, 5/x, '-', color=\"b\")\n",
        "plt.plot(x, 3*5/x, '-', color=\"r\")\n",
        "\n",
        "plt.plot([5/4,3*5/4],[4,4], color='m')"
      ],
      "execution_count": 12,
      "outputs": [
        {
          "output_type": "execute_result",
          "data": {
            "text/plain": [
              "[<matplotlib.lines.Line2D at 0x7f53b53ebd68>]"
            ]
          },
          "metadata": {
            "tags": []
          },
          "execution_count": 12
        },
        {
          "output_type": "display_data",
          "data": {
            "image/png": "[encoded data removed]",
            "text/plain": [
              "<Figure size 432x288 with 1 Axes>"
            ]
          },
          "metadata": {
            "tags": [],
            "needs_background": "light"
          }
        }
      ]
    },
    {
      "cell_type": "markdown",
      "metadata": {
        "id": "MpJOmpHkc-uC",
        "colab_type": "text"
      },
      "source": [
        "上の図を観察するとわかるように, 定圧過程 $\\Delta P=0$ でも温度変化 $\\Delta T$ が生じています.  \n",
        "つまり定圧過程 $\\Delta P=0$ であっても, **顕熱** による温度変化が生じています."
      ]
    },
    {
      "cell_type": "markdown",
      "metadata": {
        "id": "O6gKnSgxfezK",
        "colab_type": "text"
      },
      "source": [
        "### $\\Delta P=0$ おける $\\Delta W_{{\\rm out}:P}$\n",
        "\n",
        "系として，$\\Delta P=0$ でピストンに閉じ込められた $n$ mol の気体の始状態と終状態を比較してみます\n",
        "\\begin{align*}\n",
        "P \\cdot V_{始} &= n R T_{始}&\\\\\n",
        "P \\cdot V_{後} &= n R T_{後}.&\n",
        "\\end{align*}\n",
        "下段の式から上段の式を引くと\n",
        "\\begin{align*}\n",
        "P \\cdot \\left(V_{後} - V_{始}\\right)\n",
        "&= n R \\left(T_{後} - T_{始}\\right)&\\\\\n",
        "P \\cdot \\Delta V&= n R \\Delta T&\n",
        "\\end{align*}\n",
        "が得られます.\n"
      ]
    },
    {
      "cell_type": "markdown",
      "metadata": {
        "id": "OCWIVZyDhQk4",
        "colab_type": "text"
      },
      "source": [
        "### $\\Delta P=0$ おける 顕熱 $\\Delta Q_{{\\rm in}:P}$\n",
        "\n",
        "単原子理想気体の内部エネルギー変化を\n",
        "加味すると $\\Delta Q_{{\\rm in}:P}$ は\n",
        "\\begin{align*}\n",
        "\\Delta Q_{{\\rm in:}P}\n",
        "&= \\Delta U + P \\Delta V&\\\\\n",
        "&= n\\left(\\dfrac{3}{2}R\\right) \\Delta T\n",
        "+ n R \\Delta T&\\\\\n",
        "\\Delta Q_{{\\rm in:}P}&= n C_V \\Delta T + nR \\Delta T&\n",
        "\\end{align*}\n",
        "定積変化 $\\Delta V$ と同様に, 1 mol の理想気体を 1 K 上昇するために必要な熱量 を求めると\n",
        "\\begin{align*}\n",
        "\\dfrac{\\Delta Q_{{\\rm in:}P}}{n\\Delta T}&= C_V + R \\equiv C_P&\n",
        "\\end{align*}\n",
        "となります. この $C_{P}$ を定圧モル比熱と言います."
      ]
    },
    {
      "cell_type": "markdown",
      "metadata": {
        "id": "iF6NpeACjMUp",
        "colab_type": "text"
      },
      "source": [
        "\\begin{align*}\n",
        "C_P &= C_V + R &\n",
        "\\end{align*}"
      ]
    }
  ]
}