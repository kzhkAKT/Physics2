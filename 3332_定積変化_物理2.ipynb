{
  "nbformat": 4,
  "nbformat_minor": 0,
  "metadata": {
    "colab": {
      "name": "3332_定積変化_物理2",
      "provenance": [],
      "authorship_tag": "ABX9TyP8pU2UgwgAihoxrwU92Cw+",
      "include_colab_link": true
    },
    "kernelspec": {
      "name": "python3",
      "display_name": "Python 3"
    }
  },
  "cells": [
    {
      "cell_type": "markdown",
      "metadata": {
        "id": "view-in-github",
        "colab_type": "text"
      },
      "source": [
        "<a href=\"https://colab.research.google.com/github/kzhkAKT/Physics2/blob/draft/3332_%E5%AE%9A%E7%A9%8D%E5%A4%89%E5%8C%96_%E7%89%A9%E7%90%862.ipynb\" target=\"_parent\"><img src=\"https://colab.research.google.com/assets/colab-badge.svg\" alt=\"Open In Colab\"/></a>"
      ]
    },
    {
      "cell_type": "markdown",
      "metadata": {
        "id": "WAAdcNxWEDB_",
        "colab_type": "text"
      },
      "source": [
        "# (単原子理想気体の)熱力学過程"
      ]
    },
    {
      "cell_type": "markdown",
      "metadata": {
        "id": "G_byT-MbEEMg",
        "colab_type": "text"
      },
      "source": [
        "## 定積変化\n",
        "\n",
        "$\\Delta V = V_{終状態}-V_{始状態}=0$"
      ]
    },
    {
      "cell_type": "markdown",
      "metadata": {
        "id": "N5urdvWOEQud",
        "colab_type": "text"
      },
      "source": [
        "$\\require{cancel}$\n",
        "### $\\Delta V=0$  における熱力学第一法則\n",
        "\n",
        "熱力学第一法則は\n",
        "\\begin{align*}\n",
        "\\Delta U \n",
        "&= \\Delta Q_{\\rm in} + \\Delta W_{\\rm in}&\\\\\n",
        "&= \\Delta Q_{\\rm in} - \\Delta W_{\\rm out}&\\\\\n",
        "&= \\Delta Q_{\\rm in} - P\\Delta V,&\n",
        "\\end{align*}\n",
        "これに定積変化 $\\Delta V=0$ を考慮すると\n",
        "\\begin{align*}\n",
        "\\Delta U &= \\Delta Q_{\\rm in} - P\\cancelto{0}{\\Delta V}&\\\\\n",
        "\\Delta U &= \\Delta Q_{\\rm in}&\n",
        "\\end{align*}\n",
        "\n",
        "> 注目する系の定積変化 $\\Delta V=0$ では, 系の内部エネルギー変化 $\\Delta U $ に等しい\n",
        "\n",
        "つまり\n",
        " \n",
        ">> $\\color{#0000FF}{\\Delta Q_{\\rm in} < 0}$ ならば $\\color{#0000FF}{\\Delta U < 0}$,   \n",
        ">> $\\color{#FF0000}{\\Delta Q_{\\rm in} > 0}$ ならば $\\color{#FF0000}{\\Delta U > 0}$, \n",
        "\n",
        "ということができます. この関係を $n$ mol の単原子理想気体の\n",
        "内部エネルギーを用いて表現すると\n",
        "\\begin{align*}\n",
        "\\Delta U &= \\Delta Q_{\\rm in}&\\\\\n",
        "\\dfrac{3}{2} n R \\Delta T &= \\Delta Q_{\\rm in}&\n",
        "\\end{align*}\n",
        "系が吸収する熱量 $\\Delta Q_{\\rm in}$ によって, 系の温度変化 $\\Delta T$ に変換することができます.  \n",
        "\n"
      ]
    },
    {
      "cell_type": "code",
      "metadata": {
        "id": "8HiPQBw70Gpf",
        "colab_type": "code",
        "cellView": "both",
        "colab": {
          "base_uri": "https://localhost:8080/",
          "height": 286
        },
        "outputId": "e3c17d61-e812-4cd4-a3c0-2d851bba58d6"
      },
      "source": [
        "#@title 定積変化における温度変化: ΔV=0\n",
        "%matplotlib inline\n",
        "\n",
        "import matplotlib.pyplot as plt\n",
        "import numpy as np\n",
        "\n",
        "x = np.linspace(0.001, 10, 50)\n",
        "\n",
        "fig = plt.figure()\n",
        "ax = fig.add_subplot(111)\n",
        "\n",
        "plt.xlim([0,10])\n",
        "plt.ylim([0,10])\n",
        "\n",
        "ax.set_aspect('equal', adjustable='box')\n",
        "\n",
        "plt.plot(x, 5/x, '-', color=\"b\")\n",
        "plt.plot(x, 3*5/x, '-', color=\"r\")\n",
        "\n",
        "plt.plot([4,4],[5/4,3*5/4])"
      ],
      "execution_count": 4,
      "outputs": [
        {
          "output_type": "execute_result",
          "data": {
            "text/plain": [
              "[<matplotlib.lines.Line2D at 0x7fe8241785f8>]"
            ]
          },
          "metadata": {
            "tags": []
          },
          "execution_count": 4
        },
        {
          "output_type": "display_data",
          "data": {
            "image/png": "[encoded data removed]",
            "text/plain": [
              "<Figure size 432x288 with 1 Axes>"
            ]
          },
          "metadata": {
            "tags": [],
            "needs_background": "light"
          }
        }
      ]
    },
    {
      "cell_type": "markdown",
      "metadata": {
        "id": "J8XcI8MgJhMK",
        "colab_type": "text"
      },
      "source": [
        "これは熱量の保存則で議論した **顕熱**(けんねつ)の関係に他なりません.\n",
        "\n",
        "そこでこの関係を次のように整理します:\n",
        "\\begin{align*}\n",
        "\\Delta Q_{\\rm in} &= n \\left( \\dfrac{3}{2} R \\right) \\Delta T,&\n",
        "\\end{align*}\n",
        "これより 1 mol の理想気体を 1 K 上昇するために必要な熱量が\n",
        "\\begin{align*}\n",
        "\\dfrac{\\Delta Q_{\\rm in}}{n\\Delta T} &= \\dfrac{3}{2} R \\equiv C_{V},&\n",
        "\\end{align*}\n",
        "ともとまります. この $C_{V}$ を定積モル比熱と言います.\n",
        "\n",
        "この $C_V$ の値は\n",
        "\\begin{align*}\n",
        "C_{V} &= \\dfrac{3}{2} R \\approx 12.5 \\ {\\rm J/(mol\\cdot K)}\n",
        "\\end{align*}\n",
        "と **単原子理想気体であれば $C_V$ は 一定値** をとることが分かります.\n"
      ]
    },
    {
      "cell_type": "markdown",
      "metadata": {
        "id": "gqZhvpacUyws",
        "colab_type": "text"
      },
      "source": [
        "> Q. 教科書 下巻 p31 表3.7 で 各種気体の $C_V$ を確認してください"
      ]
    }
  ]
}