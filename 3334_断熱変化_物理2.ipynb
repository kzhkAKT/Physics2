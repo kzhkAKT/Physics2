{
  "nbformat": 4,
  "nbformat_minor": 0,
  "metadata": {
    "colab": {
      "name": "3334_断熱変化_物理2",
      "provenance": [],
      "collapsed_sections": [],
      "authorship_tag": "ABX9TyNHXVECD4O9FMrGrLzwn+IO",
      "include_colab_link": true
    },
    "kernelspec": {
      "name": "python3",
      "display_name": "Python 3"
    }
  },
  "cells": [
    {
      "cell_type": "markdown",
      "metadata": {
        "id": "view-in-github",
        "colab_type": "text"
      },
      "source": [
        "<a href=\"https://colab.research.google.com/github/kzhkAKT/Physics2/blob/master/3334_%E6%96%AD%E7%86%B1%E5%A4%89%E5%8C%96_%E7%89%A9%E7%90%862.ipynb\" target=\"_parent\"><img src=\"https://colab.research.google.com/assets/colab-badge.svg\" alt=\"Open In Colab\"/></a>"
      ]
    },
    {
      "cell_type": "markdown",
      "metadata": {
        "id": "Z5KcxMKMCQO3",
        "colab_type": "text"
      },
      "source": [
        "# (単原子理想気体の)熱力学過程"
      ]
    },
    {
      "cell_type": "markdown",
      "metadata": {
        "id": "XtShot2WCUxC",
        "colab_type": "text"
      },
      "source": [
        "## 断熱変化\n",
        "\n",
        "$\\Delta Q = Q_{終状態}-Q_{始状態}=0 \\quad \\to \\quad Q_{終状態}=Q_{始状態}$"
      ]
    },
    {
      "cell_type": "markdown",
      "metadata": {
        "id": "Q9FV_Nc4CpdG",
        "colab_type": "text"
      },
      "source": [
        "$\\require{cancel}$\n",
        "### $\\Delta Q_{\\rm in}=0$  における熱力学第一法則\n",
        "\n",
        "\\begin{align*}\n",
        "\\Delta U\n",
        "&= \\cancelto{0}{\\Delta Q_{\\rm in}} + \\Delta W_{\\rm in}&\\\\\n",
        "\\Delta U &= \\Delta W_{{\\rm in}:Q}\n",
        "\\end{align*}\n",
        "\n",
        "- $\\color{#FF0000}{\\Delta W_{{\\rm in}:Q}>0} \\quad \\to \\quad \\color{#FF0000}{\\Delta U>0}$ \n",
        "- $\\color{#0000FF}{\\Delta W_{{\\rm in}:Q}<0} \\quad \\to \\quad \\color{#0000FF}{\\Delta U<0}$ \n",
        "\n",
        "断熱変化 $\\Delta Q_{\\rm in}=0$ では, $-\\Delta W_{\\rm in} = \\Delta W_{\\rm out}=P\\Delta V$ から, 体積変化も生じる.\n",
        "\n",
        "また単原子の理想気体では\n",
        "\\begin{align*}\n",
        "\\Delta U = n C_{V} \\Delta T\n",
        "\\end{align*}\n",
        "より, 温度変化もともなう. "
      ]
    },
    {
      "cell_type": "markdown",
      "metadata": {
        "id": "Ykv5IWaOG_yA",
        "colab_type": "text"
      },
      "source": [
        "$\\require{cancel}$\n",
        "### $\\Delta Q_{\\rm in}=0$ での $P-V$ の変化\n",
        "\n",
        "断熱変化 $\\Delta Q_{\\rm in}=0$ では\n",
        "\\begin{align*}\n",
        "&\\Delta U = \\Delta W_{{\\rm in}:Q}= - \\Delta W_{{\\rm out}:Q}&\\\\\n",
        "&\\Delta U + \\Delta W_{{\\rm out}:Q} =0&\n",
        "\\end{align*}\n",
        "これを $n$ mol の単原子理想気体の内部エネルギー変化と気体が外部に行う仕事で表現すると\n",
        "\\begin{align*}\n",
        "\\Delta U + \\Delta W_{{\\rm out}:Q} =0\\\\\n",
        "n C_V \\Delta T + P \\Delta V =0\n",
        "\\end{align*}\n",
        "この関係の $P$ に理想気体の状態方程式 $PV=nRT$ を代入すると\n",
        "\\begin{align*}\n",
        "n C_V \\Delta T + \\left( \\dfrac{nRT}{V}\\right) \\Delta V =0,\n",
        "\\end{align*}\n",
        "共通項の約分と状態量をそれぞれの項にまとめると\n",
        "\\begin{align*}\n",
        "&\\cancel{n} C_V \\Delta T + \\left( \\dfrac{\\cancel{n} RT}{V}\\right) \\Delta V =0&\\\\\n",
        "&\\dfrac{C_V}{R} \\dfrac{\\Delta{T}}T + \\dfrac{\\Delta{V}}V =0&\n",
        "\\end{align*}\n",
        "この関係式は 温度変化 $\\Delta T$ と 体積変化 $\\Delta V$ の関わりを表したもので,   \n",
        "始状態(initial) から 終状態(final) まで変化した場合にも保たれる.\n",
        "\n",
        "この関係式を始状態(**i**nitial) から 終状態(**f**inal) まで全て足し合わせてみます.\n",
        "\\begin{align*}\n",
        "\\dfrac{C_V}{R} \\sum_{i}^{f}\\dfrac{\\Delta{T}}T \n",
        "+ \\sum_{i}^{f}\\dfrac{\\Delta{V}}V =0&\n",
        "\\end{align*}\n",
        "\n",
        "\n",
        "\n",
        "\n",
        "\n"
      ]
    },
    {
      "cell_type": "markdown",
      "metadata": {
        "id": "Z4JLdIHKL7Oo",
        "colab_type": "text"
      },
      "source": [
        "$\\require{cancel}$\n",
        "ここで変化の間隔を短く($\\Delta{T},\\Delta{T}\\to 0$)すると, 定積分の考え方が利用でき\n",
        "\\begin{align*}\n",
        "\\dfrac{C_V}{R} \\int_{i}^{f}\\dfrac{{\\rm d}{T}}T \n",
        "+ \\int_{i}^{f}\\dfrac{{\\rm d}{V}}V =0&\n",
        "\\end{align*}\n",
        "これを解けば\n",
        "\\begin{align*}\n",
        "\\dfrac{C_V}{R} \\ln \\dfrac{T_f}{T_i}\n",
        "+ \\ln \\dfrac{V_f}{V_i} =0\\\\\n",
        "\\ln \\left( \\dfrac{T_f}{T_i}\\right)^{\\frac{C_V}{R}}\n",
        "+ \\ln \\dfrac{V_f}{V_i} =0\\\\\n",
        "\\ln \\left( \\dfrac{T_f}{T_i}\\right)^{\\frac{C_V}{R}} \\cdot \\dfrac{V_f}{V_i} =0&\\\\\n",
        "\\left( \\dfrac{T_f}{T_i}\\right)^{\\frac{C_V}{R}} \\cdot \\dfrac{V_f}{V_i}  = 1\n",
        "\\end{align*}\n",
        "ここで 始状態(initial) と 終状態(final) の理想気体の状態方程式を利用し, 絶対温度 $T_{i,f}$ を消去すると\n",
        "\\begin{align*}\n",
        "\\left( \\dfrac{P_f V_f/\\bcancel{nR}}{P_i V_i/\\bcancel{nR}}\\right)^{\\frac{C_V}{R}} \\cdot \\dfrac{V_f}{V_i}  = 1\\\\\n",
        "\\left( \\dfrac{P_f V_f}{P_i V_i}\\right)^{\\frac{C_V}{R}} \\cdot \\dfrac{V_f}{V_i}  = 1\\\\\n",
        "\\left( \\dfrac{P_f V_f^{1+\\frac{R}{C_V}}}{P_i V_i^{1+\\frac{R}{C_V}}}\\right)^{\\frac{C_V}{R}} = 1\\\\\n",
        "\\dfrac{P_f V_f^{1+\\frac{R}{C_V}}}{P_i V_i^{1+\\frac{R}{C_V}}} = 1\\\\\n",
        "P_f V_f^{1+\\frac{R}{C_V}}= P_i V_i^{1+\\frac{R}{C_V}}\n",
        "\\end{align*}\n",
        "\n",
        "\n",
        "いま, 比熱比 $\\gamma$ を次のように定義し, \n",
        "\\begin{align*}\n",
        "\\gamma \\equiv 1+ \\dfrac{R}{C_V} \n",
        "\\end{align*}\n",
        "さらに理想気体におけるマーヤーの関係式を利用すると\n",
        "\\begin{align*}\n",
        "\\gamma = 1+ \\dfrac{R}{C_V} = \\dfrac{R+C_V}{C_V} = \\dfrac{C_P}{C_V}\n",
        "\\end{align*}\n",
        "\n",
        "まとめると\n",
        "\\begin{align*}\n",
        "P_f V_f^{\\gamma} = P_i V_i^{\\gamma} = 一定\n",
        "\\end{align*}\n",
        "\n",
        "比熱比 $\\gamma$ を利用すると, $T-V$ の関係も\n",
        "\\begin{align*}\n",
        "T_f V_f^{\\gamma-1}= T_i V_i^{\\gamma-1}\n",
        "\\end{align*}\n",
        "と整理できます."
      ]
    },
    {
      "cell_type": "markdown",
      "metadata": {
        "id": "uJAcdVY7GsGL",
        "colab_type": "text"
      },
      "source": [
        "この変化を $P-V$ グラフ上で表現すると\n",
        "\\begin{align*}\n",
        "P V^{\\gamma} = 一定\n",
        "\\end{align*}\n",
        "となる. 単原子分子の理想気体では **比熱比 $\\gamma$** の値は\n",
        "\\begin{align*}\n",
        "\\gamma = \\dfrac{C_P}{C_V} = \\dfrac{5/2 R}{3/2 R} = \\dfrac{5}{3} \\approx 1.67 > 1\n",
        "\\end{align*}\n",
        "である."
      ]
    },
    {
      "cell_type": "code",
      "metadata": {
        "id": "POch_6mpuu58",
        "colab_type": "code",
        "colab": {}
      },
      "source": [
        ""
      ],
      "execution_count": null,
      "outputs": []
    },
    {
      "cell_type": "markdown",
      "metadata": {
        "id": "fSNN4stPQnay",
        "colab_type": "text"
      },
      "source": [
        "$\\require{cancel}$\n",
        "#### $\\Delta T =0$ と $\\Delta Q =0$ における $P-V$ の傾き\n",
        "\n",
        "等温変化$\\Delta T =0$ で, 単原子分子の理想気体の状態方程式は\n",
        "\\begin{align*}\n",
        "P V = nRT\n",
        "\\end{align*}\n",
        "右辺は一定になる. この式を$P-V$での傾きを調べるために $V$ で微分してみると\n",
        "\\begin{align*}\n",
        "\\dfrac{{\\rm d} (P V)}{{\\rm d} V} &= \\cancelto{0}{\\dfrac{{\\rm d} (nRT)}{{\\rm d} V}}&\\\\\n",
        "\\dfrac{{\\rm d} P}{{\\rm d} V} V \n",
        "+ P \\cancelto{1}{\\dfrac{{\\rm d} V}{{\\rm d} V}} &=0&\\\\\n",
        "\\left(\\dfrac{{\\rm d} P}{{\\rm d} V}\\right)_T &= - \\dfrac{P}{V}&\n",
        "\\end{align*}\n",
        "\n",
        "断熱変化$\\Delta Q =0$ の $P-V$変化は\n",
        "\\begin{align*}\n",
        "P V^{\\gamma} = 一定\n",
        "\\end{align*}\n",
        "で与えられるので, この式を$P-V$での傾きを調べるために $V$ で微分してみると\n",
        "\\begin{align*}\n",
        "\\dfrac{{\\rm d} (P V^\\gamma)}{{\\rm d} V} &= \\cancelto{0}{\\dfrac{{\\rm d} (一定)}{{\\rm d} V}}&\\\\\n",
        "\\dfrac{{\\rm d} P}{{\\rm d} V} V^\\gamma\n",
        "+ P \\dfrac{{\\rm d} V^\\gamma}{{\\rm d} V} &=0&\\\\\n",
        "\\dfrac{{\\rm d} P}{{\\rm d} V} V^\\gamma\n",
        "+ \\gamma P V^{\\gamma -1} &=0&\\\\\n",
        "\\left(\\dfrac{{\\rm d} P}{{\\rm d} V}\\right)_Q &= - \\gamma\\dfrac{P}{V}&\n",
        "\\end{align*}\n",
        "\n",
        "一般に比熱比 $\\gamma>1$ なので,\n",
        "\\begin{align*}\n",
        "\\left(\\dfrac{{\\rm d} P}{{\\rm d} V}\\right)_T \n",
        ">\b\n",
        "\\left(\\dfrac{{\\rm d} P}{{\\rm d} V}\\right)_Q\n",
        "\\end{align*}\n",
        "このことから断熱変化の $P-V$ グラフの傾きがよりきついことがわかる."
      ]
    },
    {
      "cell_type": "markdown",
      "metadata": {
        "id": "HQFZWa6iTfMq",
        "colab_type": "text"
      },
      "source": [
        "> 教科書 p34 図3.31 で断熱圧縮の $P-V$ を確認してください."
      ]
    },
    {
      "cell_type": "code",
      "metadata": {
        "id": "GfXN46wiTqIk",
        "colab_type": "code",
        "cellView": "form",
        "colab": {
          "base_uri": "https://localhost:8080/",
          "height": 336
        },
        "outputId": "5eefd053-ac84-4778-8a78-6a88d625e1af"
      },
      "source": [
        "#@title ポアッソンの状態方程式を利用した発火実験\n",
        "%%html\n",
        "<iframe width=\"560\" height=\"315\" src=\"https://www.youtube-nocookie.com/embed/4qe1Ueifekg\" frameborder=\"0\" allow=\"accelerometer; autoplay; encrypted-media; gyroscope; picture-in-picture\" allowfullscreen></iframe>"
      ],
      "execution_count": null,
      "outputs": [
        {
          "output_type": "display_data",
          "data": {
            "text/html": [
              "<iframe width=\"560\" height=\"315\" src=\"https://www.youtube-nocookie.com/embed/4qe1Ueifekg\" frameborder=\"0\" allow=\"accelerometer; autoplay; encrypted-media; gyroscope; picture-in-picture\" allowfullscreen></iframe>"
            ],
            "text/plain": [
              "<IPython.core.display.HTML object>"
            ]
          },
          "metadata": {
            "tags": []
          }
        }
      ]
    },
    {
      "cell_type": "code",
      "metadata": {
        "id": "upiy9vgVT8yS",
        "colab_type": "code",
        "colab": {}
      },
      "source": [
        ""
      ],
      "execution_count": null,
      "outputs": []
    }
  ]
}