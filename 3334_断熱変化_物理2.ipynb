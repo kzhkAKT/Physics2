{
  "nbformat": 4,
  "nbformat_minor": 0,
  "metadata": {
    "colab": {
      "name": "3334_断熱変化_物理2",
      "provenance": [],
      "collapsed_sections": [],
      "authorship_tag": "ABX9TyPnQdHE4DS2pm/zn8CD4r4J",
      "include_colab_link": true
    },
    "kernelspec": {
      "name": "python3",
      "display_name": "Python 3"
    }
  },
  "cells": [
    {
      "cell_type": "markdown",
      "metadata": {
        "id": "view-in-github",
        "colab_type": "text"
      },
      "source": [
        "<a href=\"https://colab.research.google.com/github/kzhkAKT/Physics2/blob/master/3334_%E6%96%AD%E7%86%B1%E5%A4%89%E5%8C%96_%E7%89%A9%E7%90%862.ipynb\" target=\"_parent\"><img src=\"https://colab.research.google.com/assets/colab-badge.svg\" alt=\"Open In Colab\"/></a>"
      ]
    },
    {
      "cell_type": "markdown",
      "metadata": {
        "id": "Z5KcxMKMCQO3",
        "colab_type": "text"
      },
      "source": [
        "# (単原子理想気体の)熱力学過程"
      ]
    },
    {
      "cell_type": "markdown",
      "metadata": {
        "id": "XtShot2WCUxC",
        "colab_type": "text"
      },
      "source": [
        "## 断熱変化\n",
        "\n",
        "$\\Delta Q = Q_{終状態}-Q_{始状態}=0 \\quad \\to \\quad Q_{終状態}=Q_{始状態}$"
      ]
    },
    {
      "cell_type": "markdown",
      "metadata": {
        "id": "Q9FV_Nc4CpdG",
        "colab_type": "text"
      },
      "source": [
        "$\\require{cancel}$\n",
        "### $\\Delta Q_{\\rm in}=0$  における熱力学第一法則\n",
        "\n",
        "\\begin{align*}\n",
        "\\Delta U\n",
        "&= \\cancelto{0}{\\Delta Q_{\\rm in}} + \\Delta W_{\\rm in}&\\\\\n",
        "\\Delta U &= \\Delta W_{{\\rm in}:Q}\n",
        "\\end{align*}\n",
        "\n",
        "- $\\color{#FF0000}{\\Delta W_{{\\rm in}:Q}>0} \\quad \\to \\quad \\color{#FF0000}{\\Delta U>0}$ \n",
        "- $\\color{#0000FF}{\\Delta W_{{\\rm in}:Q}<0} \\quad \\to \\quad \\color{#0000FF}{\\Delta U<0}$ \n",
        "\n",
        "断熱変化 $\\Delta Q_{\\rm in}=0$ では, $-\\Delta W_{\\rm in} = \\Delta W_{\\rm out}=P\\Delta V$ から, 体積変化も生じます.\n",
        "\n",
        "また単原子の理想気体では\n",
        "\\begin{align*}\n",
        "\\Delta U = n C_{V} \\Delta T\n",
        "\\end{align*}\n",
        "より, 温度変化も伴います. このことから $T,V$ の変化を同時に扱う必要性が生じてきます."
      ]
    },
    {
      "cell_type": "markdown",
      "metadata": {
        "id": "Ykv5IWaOG_yA",
        "colab_type": "text"
      },
      "source": [
        "$\\require{cancel}$\n",
        "### (理想気体における) $\\Delta Q_{\\rm in}=0$ での $P-V$ の変化\n",
        "\n",
        "断熱変化 $\\Delta Q_{\\rm in}=0$ では\n",
        "\\begin{align*}\n",
        "&\\Delta U = \\Delta W_{{\\rm in}:Q}= - \\Delta W_{{\\rm out}:Q}&\\\\\n",
        "&\\Delta U + \\Delta W_{{\\rm out}:Q} =0&\n",
        "\\end{align*}\n",
        "これを $n$ mol の単原子理想気体の内部エネルギー変化と気体が外部に行う仕事で表現すると\n",
        "\\begin{align*}\n",
        "\\Delta U + \\Delta W_{{\\rm out}:Q} =0\\\\\n",
        "n C_V \\Delta T + P \\Delta V =0\n",
        "\\end{align*}\n",
        "この関係の $P$ に理想気体の状態方程式 $PV=nRT$ を代入すると\n",
        "\\begin{align*}\n",
        "n C_V \\Delta T + \\left( \\dfrac{nRT}{V}\\right) \\Delta V =0,\n",
        "\\end{align*}\n",
        "共通項の約分と状態量をそれぞれの項にまとめると\n",
        "\\begin{align*}\n",
        "&\\cancel{n} C_V \\Delta T + \\left( \\dfrac{\\cancel{n} RT}{V}\\right) \\Delta V =0&\\\\\n",
        "&\\dfrac{C_V}{R} \\dfrac{\\Delta{T}}T + \\dfrac{\\Delta{V}}V =0&\n",
        "\\end{align*}\n",
        "この関係式は 温度変化 $\\Delta T$ と 体積変化 $\\Delta V$ の関わりを表したもので,   \n",
        "わずかな間に変化した場合にも保たれます.\n",
        "\n",
        "この関係式を始状態(**i**nitial) から 終状態(**f**inal) までのすべての変化をたしあわせると\n",
        "\\begin{align*}\n",
        "\\dfrac{C_V}{R} \\sum_{i}^{f}\\dfrac{\\Delta{T}}T \n",
        "+ \\sum_{i}^{f}\\dfrac{\\Delta{V}}V =0.&\n",
        "\\end{align*}\n",
        "\n",
        "\n",
        "\n",
        "\n",
        "\n"
      ]
    },
    {
      "cell_type": "markdown",
      "metadata": {
        "id": "Z4JLdIHKL7Oo",
        "colab_type": "text"
      },
      "source": [
        "$\\require{cancel}$\n",
        "ここで変化の間隔を短く($\\Delta{T},\\Delta{V}\\to 0$)すると, 定積分の考え方が利用でき\n",
        "\\begin{align*}\n",
        "\\dfrac{C_V}{R} \\int_{i}^{f}\\dfrac{{\\rm d}{T}}T \n",
        "+ \\int_{i}^{f}\\dfrac{{\\rm d}{V}}V =0&\n",
        "\\end{align*}\n",
        "これを解けば\n",
        "\\begin{align*}\n",
        "\\dfrac{C_V}{R} \\ln \\dfrac{T_f}{T_i}\n",
        "+ \\ln \\dfrac{V_f}{V_i} =0\\\\\n",
        "\\ln \\left( \\dfrac{T_f}{T_i}\\right)^{\\frac{C_V}{R}}\n",
        "+ \\ln \\dfrac{V_f}{V_i} =0\\\\\n",
        "\\ln \\left( \\dfrac{T_f}{T_i}\\right)^{\\frac{C_V}{R}} \\cdot \\dfrac{V_f}{V_i} =0&\\\\\n",
        "\\left( \\dfrac{T_f}{T_i}\\right)^{\\frac{C_V}{R}} \\cdot \\dfrac{V_f}{V_i}  = 1&\\\\\n",
        "\\left(\n",
        "  \\dfrac{T_f}{T_i}\n",
        "  \\left(\\dfrac{V_f}{V_i}\\right)^{\\frac{R}{C_V}} \n",
        "\\right)^{\\frac{C_V}{R}} &=1&\\\\\n",
        "  \\dfrac{T_f}{T_i}\n",
        "  \\left(\\dfrac{V_f}{V_i}\\right)^{\\frac{R}{C_V}} &=1&\n",
        "\\end{align*}\n",
        "\n",
        "\n",
        "\n"
      ]
    },
    {
      "cell_type": "markdown",
      "metadata": {
        "id": "uckEGgV8PqkZ",
        "colab_type": "text"
      },
      "source": [
        "ここで 始状態(initial) と 終状態(final) の理想気体の状態方程式を利用し,\n",
        "- $P_i V_i = n R T_i$\n",
        "- $P_f V_f = n R T_f$\n",
        "\n",
        "絶対温度 $T_{i,f}$ を消去すると\n",
        "\\begin{align*}\n",
        "  \\dfrac{T_f}{T_i}\n",
        "  \\left(\\dfrac{V_f}{V_i}\\right)^{\\frac{R}{C_V}} &=1&\\\\\n",
        "  \\dfrac{P_f V_f/\\bcancel{nR}}{P_i V_i/\\bcancel{nR}}\n",
        "  \\left(\\dfrac{V_f}{V_i}\\right)^{\\frac{R}{C_V}} &=1&\\\\ \n",
        "  \\dfrac{P_f V_f^{1+\\frac{R}{C_V}}}{P_i V_i^{1+\\frac{R}{C_V}}} &= 1&\n",
        "\\end{align*}\n"
      ]
    },
    {
      "cell_type": "markdown",
      "metadata": {
        "id": "oK91RlXHOI0-",
        "colab_type": "text"
      },
      "source": [
        "ここで, 比熱比 $\\gamma$ を次のように定義する\n",
        "\\begin{align*}\n",
        "\\gamma \\equiv 1+ \\dfrac{R}{C_V}.\n",
        "\\end{align*}\n",
        "この 比熱比 $\\gamma$ に理想気体におけるマーヤーの関係式を利用すると\n",
        "\\begin{align*}\n",
        "\\gamma \\equiv 1+ \\dfrac{R}{C_V} = \\dfrac{R+C_V}{C_V} = \\dfrac{C_P}{C_V}　> 1\n",
        "\\end{align*}\n",
        "\n",
        "\n"
      ]
    },
    {
      "cell_type": "markdown",
      "metadata": {
        "id": "S4HBODmYWMAy",
        "colab_type": "text"
      },
      "source": [
        "比熱比 $\\gamma$ を用いると, $P-V$ の関係は\n",
        "\\begin{align*}\n",
        "&\\dfrac{P_f V_f^{\\gamma}}{P_i V_i^{\\gamma}} = 1&\\\\\n",
        "P_f V_f^{\\gamma} &= P_i V_i^{\\gamma} = 一定&\n",
        "\\end{align*}\n",
        "となります."
      ]
    },
    {
      "cell_type": "markdown",
      "metadata": {
        "id": "KASVjRnJOmCJ",
        "colab_type": "text"
      },
      "source": [
        "また $T-V$ の関係も\n",
        "\\begin{align*}\n",
        "  \\dfrac{T_f}{T_i}\n",
        "  &\\left(\\dfrac{V_f}{V_i}\\right)^{\\gamma -1} &=1&\\\\\n",
        "T_f V_f^{\\gamma-1}&= T_i V_i^{\\gamma-1}=一定&\n",
        "\\end{align*}\n",
        "と整理できます. この関係式を **ポアッソンの状態方程式** または *ポアッソンの法則* と呼ばれ, エンジンの圧縮着火に利用されています."
      ]
    },
    {
      "cell_type": "code",
      "metadata": {
        "id": "GfXN46wiTqIk",
        "colab_type": "code",
        "cellView": "form",
        "colab": {
          "base_uri": "https://localhost:8080/",
          "height": 336
        },
        "outputId": "82c28a60-ecf1-4572-ec6a-a112b2cefa48"
      },
      "source": [
        "#@title ポアッソンの状態方程式を利用した圧縮発火実験\n",
        "%%html\n",
        "<iframe width=\"560\" height=\"315\" src=\"https://www.youtube-nocookie.com/embed/4qe1Ueifekg\" frameborder=\"0\" allow=\"accelerometer; autoplay; encrypted-media; gyroscope; picture-in-picture\" allowfullscreen></iframe>"
      ],
      "execution_count": null,
      "outputs": [
        {
          "output_type": "display_data",
          "data": {
            "text/html": [
              "<iframe width=\"560\" height=\"315\" src=\"https://www.youtube-nocookie.com/embed/4qe1Ueifekg\" frameborder=\"0\" allow=\"accelerometer; autoplay; encrypted-media; gyroscope; picture-in-picture\" allowfullscreen></iframe>"
            ],
            "text/plain": [
              "<IPython.core.display.HTML object>"
            ]
          },
          "metadata": {
            "tags": []
          }
        }
      ]
    },
    {
      "cell_type": "markdown",
      "metadata": {
        "id": "uJAcdVY7GsGL",
        "colab_type": "text"
      },
      "source": [
        "$\\require{cancel}$\n",
        "#### $\\Delta T =0$ と $\\Delta Q =0$ における $P-V$ の傾き比較"
      ]
    },
    {
      "cell_type": "markdown",
      "metadata": {
        "id": "QatpgHJzYSjp",
        "colab_type": "text"
      },
      "source": [
        "##### 等温変化 $\\Delta T =0$ の $P-V$ グラフの傾き\n",
        "等温変化 $\\Delta T =0$ で, 単原子分子の理想気体の状態方程式は\n",
        "\\begin{align*}\n",
        "P V = nRT\n",
        "\\end{align*}\n",
        "右辺は一定になる. この式を$P-V$での傾きを調べるために $V$ で微分してみると\n",
        "\\begin{align*}\n",
        "\\dfrac{{\\rm d} (P V)}{{\\rm d} V} &= \\cancelto{0}{\\dfrac{{\\rm d} (nRT)}{{\\rm d} V}}&\\\\\n",
        "\\dfrac{{\\rm d} P}{{\\rm d} V} V \n",
        "+ P \\cancelto{1}{\\dfrac{{\\rm d} V}{{\\rm d} V}} &=0&\\\\\n",
        "\\left(\\dfrac{{\\rm d} P}{{\\rm d} V}\\right)_T &= - \\dfrac{P}{V}&\n",
        "\\end{align*}"
      ]
    },
    {
      "cell_type": "markdown",
      "metadata": {
        "id": "fSNN4stPQnay",
        "colab_type": "text"
      },
      "source": [
        "##### 断熱変化 $\\Delta Q=0$ の $P-V$ グラフの傾き\n",
        "\n",
        "断熱変化の様子を $P-V$ グラフ上で表現すると\n",
        "\\begin{align*}\n",
        "P V^{\\gamma} = 一定\n",
        "\\end{align*}\n",
        "となる. 単原子分子の理想気体では **比熱比 $\\gamma$** の値は\n",
        "\\begin{align*}\n",
        "\\gamma = \\dfrac{C_P}{C_V} = \\dfrac{5/2 R}{3/2 R} = \\dfrac{5}{3} \\approx 1.67 > 1\n",
        "\\end{align*}\n",
        "です.\n",
        "\n",
        "断熱変化$\\Delta Q =0$ の $P-V$変化は\n",
        "\\begin{align*}\n",
        "P V^{\\gamma} = 一定\n",
        "\\end{align*}\n",
        "で与えられるので, この式を$P-V$での傾きを調べるために $V$ で微分してみると\n",
        "\\begin{align*}\n",
        "\\dfrac{{\\rm d} (P V^\\gamma)}{{\\rm d} V} &= \\cancelto{0}{\\dfrac{{\\rm d} (一定)}{{\\rm d} V}}&\\\\\n",
        "\\dfrac{{\\rm d} P}{{\\rm d} V} V^\\gamma\n",
        "+ P \\dfrac{{\\rm d} V^\\gamma}{{\\rm d} V} &=0&\\\\\n",
        "\\dfrac{{\\rm d} P}{{\\rm d} V} V^\\gamma\n",
        "+ \\gamma P V^{\\gamma -1} &=0&\\\\\n",
        "\\left(\\dfrac{{\\rm d} P}{{\\rm d} V}\\right)_Q &= - \\gamma\\dfrac{P}{V}&\n",
        "\\end{align*}"
      ]
    },
    {
      "cell_type": "markdown",
      "metadata": {
        "id": "I4WlbRyoiwfW",
        "colab_type": "text"
      },
      "source": [
        "##### $\\Delta Q =0$ は $\\Delta T = 0$ をつなぐ\n",
        "一般に比熱比 $\\gamma>1$ なので,\n",
        "\\begin{align*}\n",
        "\\left(\\dfrac{{\\rm d} P}{{\\rm d} V}\\right)_T \n",
        ">\b\n",
        "\\left(\\dfrac{{\\rm d} P}{{\\rm d} V}\\right)_Q\n",
        "\\end{align*}\n",
        "このことから断熱変化の $P-V$ グラフの傾きがより厳しくなることがわかります.\n",
        "\n",
        "これを利用して, 温度の異なる等温変化を  \n",
        "断熱変化で連携させることが可能になります."
      ]
    },
    {
      "cell_type": "code",
      "metadata": {
        "id": "8HiPQBw70Gpf",
        "colab_type": "code",
        "cellView": "form",
        "colab": {
          "base_uri": "https://localhost:8080/",
          "height": 302
        },
        "outputId": "28c86b30-2b0c-465b-bc1e-b882a5fc4a36"
      },
      "source": [
        "#@title 断熱変化と等温変化の関係\n",
        "%matplotlib inline\n",
        "\n",
        "import matplotlib.pyplot as plt\n",
        "import numpy as np\n",
        "\n",
        "x = np.linspace(0.001, 15, 50)\n",
        "\n",
        "fig = plt.figure()\n",
        "ax = fig.add_subplot(111)\n",
        "ax.set_ylabel('P [Pa]')\n",
        "ax.set_xlabel('V [m$^3$]')\n",
        "\n",
        "plt.xlim([0,15])\n",
        "plt.ylim([0,15])\n",
        "\n",
        "ax.set_aspect('equal', adjustable='box')\n",
        "\n",
        "plt.plot(x, 10/x, '--', color=\"b\")\n",
        "plt.plot(x, 2*10/x, '--', color=\"r\")\n",
        "\n",
        "plt.plot(x, 3*10/x**(1.67), '-', color=\"g\")"
      ],
      "execution_count": null,
      "outputs": [
        {
          "output_type": "execute_result",
          "data": {
            "text/plain": [
              "[<matplotlib.lines.Line2D at 0x7f5e894e12e8>]"
            ]
          },
          "metadata": {
            "tags": []
          },
          "execution_count": 12
        },
        {
          "output_type": "display_data",
          "data": {
            "image/png": "[encoded data removed]",
            "text/plain": [
              "<Figure size 432x288 with 1 Axes>"
            ]
          },
          "metadata": {
            "tags": [],
            "needs_background": "light"
          }
        }
      ]
    },
    {
      "cell_type": "markdown",
      "metadata": {
        "id": "HQFZWa6iTfMq",
        "colab_type": "text"
      },
      "source": [
        "> 教科書 p34 図3.31 で断熱圧縮の $P-V$ を確認してください."
      ]
    }
  ]
}