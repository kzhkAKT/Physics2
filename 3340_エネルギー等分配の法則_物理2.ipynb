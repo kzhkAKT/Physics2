{
  "nbformat": 4,
  "nbformat_minor": 0,
  "metadata": {
    "colab": {
      "name": "3340_エネルギー等分配の法則_物理2",
      "provenance": [],
      "collapsed_sections": [],
      "toc_visible": true,
      "authorship_tag": "ABX9TyPdN/8dLYxitBeXhoGR72eh",
      "include_colab_link": true
    },
    "kernelspec": {
      "name": "python3",
      "display_name": "Python 3"
    }
  },
  "cells": [
    {
      "cell_type": "markdown",
      "metadata": {
        "id": "view-in-github",
        "colab_type": "text"
      },
      "source": [
        "<a href=\"https://colab.research.google.com/github/kzhkAKT/Physics2/blob/draft/3340_%E3%82%A8%E3%83%8D%E3%83%AB%E3%82%AE%E3%83%BC%E7%AD%89%E5%88%86%E9%85%8D%E3%81%AE%E6%B3%95%E5%89%87_%E7%89%A9%E7%90%862.ipynb\" target=\"_parent\"><img src=\"https://colab.research.google.com/assets/colab-badge.svg\" alt=\"Open In Colab\"/></a>"
      ]
    },
    {
      "cell_type": "markdown",
      "metadata": {
        "id": "UiEXkYdYkjJc",
        "colab_type": "text"
      },
      "source": [
        "# 熱力学の第1法則"
      ]
    },
    {
      "cell_type": "markdown",
      "metadata": {
        "id": "Lt4k0P46koq9",
        "colab_type": "text"
      },
      "source": [
        "## エネルギー等分配の法則\n",
        "\n",
        "絶対温度 $T$ における, 1つの理想気体分子の熱運動による(重心の)運動エネルギーは  \n",
        "ボルツマン定数 $k_{\\rm B}$を用いて\n",
        "\\begin{align*}\n",
        "\\epsilon = \\dfrac{1}{2} m \\overline{v^2} &= \\dfrac{3}{2} k_{\\rm B} T&\n",
        "\\end{align*}\n",
        "となりました.\n",
        "\n",
        "$\\overline{v^2}$ については\n",
        "\\begin{align*}\n",
        "\\overline{v^2}\n",
        "&= \\overline{\\vec{v}\\cdot \\vec{v}}\n",
        "= \\overline{v_x^2 + v_y^2 + v_z^2}\n",
        "\\end{align*}\n",
        "です. 3次元の$xyz$座標をどのようにとっても $\\overline{v^2}$ は一定なので  \n",
        "$x-y, y-z, z-x$ についてお互いの相関はなく\n",
        "\\begin{align*}\n",
        "\\overline{v^2}\n",
        "&= \\overline{v_x^2 + v_y^2 + v_z^2}&\\\\\n",
        "&= \\overline{v_x^2} + \\overline{v_y^2} + \\overline{v_z^2}&\n",
        "\\end{align*}\n",
        "となります.\n",
        "\n",
        "容器に閉じ込められた分子の運動はランダムで, 気体の圧力に方向依存がないので\n",
        "\\begin{align*}\n",
        "&\\overline{v_x^2} = \\overline{v_y^2} = \\overline{v_z^2}&\n",
        "\\end{align*}\n",
        "を満たします."
      ]
    },
    {
      "cell_type": "code",
      "metadata": {
        "id": "BuNgbN8lIh6W",
        "colab_type": "code",
        "colab": {
          "base_uri": "https://localhost:8080/",
          "height": 475
        },
        "cellView": "form",
        "outputId": "1b3b87fb-d160-44aa-d8be-8f4eb8fb5d2a"
      },
      "source": [
        "#@title 単原子分子の運動エネルギー: State > Neon in Gas\n",
        "%%html\n",
        "<iframe src=\"https://phet.colorado.edu/sims/html/states-of-matter-basics/latest/states-of-matter-basics_en.html\" width=\"600\" height=\"450\" scrolling=\"no\" allowfullscreen></iframe>"
      ],
      "execution_count": 6,
      "outputs": [
        {
          "output_type": "display_data",
          "data": {
            "text/html": [
              "<iframe src=\"https://phet.colorado.edu/sims/html/states-of-matter-basics/latest/states-of-matter-basics_en.html\" width=\"600\" height=\"450\" scrolling=\"no\" allowfullscreen></iframe>"
            ],
            "text/plain": [
              "<IPython.core.display.HTML object>"
            ]
          },
          "metadata": {
            "tags": []
          }
        }
      ]
    },
    {
      "cell_type": "markdown",
      "metadata": {
        "id": "02TN-yhRqyZD",
        "colab_type": "text"
      },
      "source": [
        "これまでの議論を 1分子の運動エネルギー $\\epsilon$ に適用すると\n",
        "\\begin{align*}\n",
        "\\epsilon \n",
        "&= \\dfrac{1}{2} m \\overline{v^2} \n",
        "= \\dfrac{1}{2} m \\left( \\overline{v_x^2} + \\overline{v_y^2} + \\overline{v_z^2} \\right)&\\\\\n",
        "&= \\dfrac{1}{2} m \\left( \\overline{v_x^2} + \\overline{v_x^2} + \\overline{v_x^2} \\right)\n",
        "= \\dfrac{3}{2} m \\overline{v_x^2} &\\\\\n",
        " &= \\dfrac{3}{2} k_{\\rm B} T&\n",
        "\\end{align*}\n",
        "となり, 3次元座標 $xyz$ のそれぞれの一つの方向に対し\n",
        "\\begin{align*}\n",
        "\\dfrac{1}{2} m \\overline{v_x^2} \n",
        "= \\dfrac{1}{2} m \\overline{v_y^2}\n",
        "= \\dfrac{1}{2} m \\overline{v_z^2}\n",
        "=  \\dfrac{1}{2} k_{\\rm B} T&\n",
        "\\end{align*}\n",
        "が導かれます.\n",
        "\n",
        "これまでの議論を整理すると\n",
        ">> 気体分子の重心の運動を表す**3**次元座標 $xyz$ の各成分に,  \n",
        " **等**しく $\\ \\dfrac{1}{2}k_B T$ の熱運動エネルギーが**分配**されている\n",
        "\n",
        "ということができます."
      ]
    },
    {
      "cell_type": "markdown",
      "metadata": {
        "id": "-eHpTzQtt-wH",
        "colab_type": "text"
      },
      "source": [
        "気体分子の運動を調べるための基本的な座標は $xyz$ の**3次元**座標です.  \n",
        "[速度($v={\\rm d}x/{\\rm d}t$等)は変位の時間変化で与えられるので,\n",
        "いまは二次的な物理量と考えて下さい.]  \n",
        "このように, 注目する運動の基本的な動きを表す成分を **自由度** とよびます.  \n",
        "単原子気体分子の運動では3次元座標のみで表現されているため\n",
        "> 単原子分子の *自由度は 3*\n",
        "\n",
        "と表現されます.\n",
        "\n",
        "そして,\n",
        ">> 一つの自由度に対して $\\ \\dfrac{1}{2}k_B T$ ずづのエネルギーが分配される\n",
        "\n",
        "という考え方を, **エネルギー等分配の法則** といいます.\n",
        "\n",
        "-----\n",
        "\n",
        "ちなみに, 一自由度に分配されるエネルギーが $\\dfrac{1}{2}k_B T$ となるのは,   \n",
        "エネルギーはスカラー量で方向依存はありませんが, 座標軸などでは *正負の方向* に分配されるため $k_{\\rm B}T$ がさらに半分に分配されたと考えてください.\n",
        "\n"
      ]
    },
    {
      "cell_type": "markdown",
      "metadata": {
        "id": "VjqRsxnxwPIW",
        "colab_type": "text"
      },
      "source": [
        "### 二原子分子の自由度と内部エネルギー\n",
        "\n"
      ]
    },
    {
      "cell_type": "markdown",
      "metadata": {
        "id": "bb47cMqjzCCk",
        "colab_type": "text"
      },
      "source": [
        "![https://en.wikipedia.org/wiki/Diatomic_molecule](https://upload.wikimedia.org/wikipedia/commons/thumb/2/20/Dinitrogen-3D-vdW.png/317px-Dinitrogen-3D-vdW.png)\n",
        "\n",
        "![https://phys.libretexts.org/Courses/University_of_California_Davis/UCD%3A_Physics_9B_%E2%80%93_Waves%2C_Sound%2C_Optics%2C_Thermodynamics%2C_and_Fluids/5%3A_Fundamentals_of_Thermodynamics/5.6%3A_Equipartition_of_Energy](https://phys.libretexts.org/@api/deki/files/16088/diatomic_molecule_axes.png?revision=1)"
      ]
    },
    {
      "cell_type": "markdown",
      "metadata": {
        "id": "Di-6FjxJ0S6z",
        "colab_type": "text"
      },
      "source": [
        "もっとも簡潔な条件として\n",
        "- 両端の原子分子も質点とする\n",
        "- 二原子分子の重心の **回転のみ** 扱う\n",
        "- 二原子分子の分子間の *振動は無視する*\n",
        "\n",
        "こととします."
      ]
    },
    {
      "cell_type": "code",
      "metadata": {
        "colab_type": "code",
        "cellView": "form",
        "id": "LY4hHpzGJa8d",
        "colab": {
          "base_uri": "https://localhost:8080/",
          "height": 475
        },
        "outputId": "6dabe5ee-e1fd-4c27-8945-7647850c816c"
      },
      "source": [
        "#@title 二原子分子の運動エネルギー: State > Oxygen in Gas\n",
        "%%html\n",
        "<iframe src=\"https://phet.colorado.edu/sims/html/states-of-matter-basics/latest/states-of-matter-basics_en.html\" width=\"600\" height=\"450\" scrolling=\"no\" allowfullscreen></iframe>"
      ],
      "execution_count": 5,
      "outputs": [
        {
          "output_type": "display_data",
          "data": {
            "text/html": [
              "<iframe src=\"https://phet.colorado.edu/sims/html/states-of-matter-basics/latest/states-of-matter-basics_en.html\" width=\"600\" height=\"450\" scrolling=\"no\" allowfullscreen></iframe>"
            ],
            "text/plain": [
              "<IPython.core.display.HTML object>"
            ]
          },
          "metadata": {
            "tags": []
          }
        }
      ]
    },
    {
      "cell_type": "markdown",
      "metadata": {
        "id": "xVqrI4UuJk5w",
        "colab_type": "text"
      },
      "source": [
        "上記のシミュレーションでは二原子分子の動きを示しています.  \n",
        "単原子分子と二原子分子の相違を考えてみましょう.\n",
        "1. 分子の重心に注目すると, その動きは単原子分子と同じ\n",
        "  - 重心の運動については, **自由度 3** 流用できます.\n",
        "2. 二原子分子は大きさを保つため回転が生じています.  \n",
        "  - 回転には時計回りと反時計回りがあります.\n",
        "  - *3次元* での回転の運動を決める回転軸は **自由度 2** をもちます"
      ]
    },
    {
      "cell_type": "markdown",
      "metadata": {
        "id": "3KOQLS5tL5hg",
        "colab_type": "text"
      },
      "source": [
        "#### 回転軸の自由度\n",
        "\n",
        "普段利用する直交座標系(デカルト座標) $xyz$ では,   \n",
        "回転軸を見いだすことが難しいため, ここでは3次元極座標系を利用します.\n",
        "\n",
        "直交座標系と3次元極座標系の変換は下の図を参考にすると\n",
        "\\begin{align*}\n",
        "x &= r \\cos \\varphi \\sin \\theta&\\\\\n",
        "y &= r \\sin \\varphi \\sin \\theta&\\\\\n",
        "z &= r \\cos \\theta&\\\\\n",
        "\\end{align*}\n",
        "となります.   \n",
        "この導出は $\\theta$ に注目し, まず $z$ を $r,\\theta$ で表現し,\n",
        "残りの $y,x$ を表現すると導出できます."
      ]
    },
    {
      "cell_type": "code",
      "metadata": {
        "id": "95KVXGR5MBPw",
        "colab_type": "code",
        "colab": {
          "base_uri": "https://localhost:8080/",
          "height": 556
        },
        "cellView": "form",
        "outputId": "671d12e2-5fbd-4c58-fb20-68024d3fbb9a"
      },
      "source": [
        "#@title 3次元極座標変換\n",
        "%%svg\n",
        "https://upload.wikimedia.org/wikipedia/commons/c/c0/Spherical_with_grid.svg"
      ],
      "execution_count": 7,
      "outputs": [
        {
          "output_type": "display_data",
          "data": {
            "text/plain": [
              "<IPython.core.display.SVG object>"
            ],
            "image/svg+xml": "<svg height=\"535\" id=\"svg6267\" inkscape:output_extension=\"org.inkscape.output.svg.inkscape\" inkscape:version=\"0.45.1\" sodipodi:docbase=\"C:\\Documents and Settings\\Francis\\My Documents\\Wikipedia\\dimension\" sodipodi:docname=\"spherical.svg\" sodipodi:version=\"0.32\" version=\"1.0\" width=\"600\" xmlns=\"http://www.w3.org/2000/svg\" xmlns:cc=\"http://web.resource.org/cc/\" xmlns:dc=\"http://purl.org/dc/elements/1.1/\" xmlns:inkscape=\"http://www.inkscape.org/namespaces/inkscape\" xmlns:rdf=\"http://www.w3.org/1999/02/22-rdf-syntax-ns#\" xmlns:sodipodi=\"http://sodipodi.sourceforge.net/DTD/sodipodi-0.dtd\" xmlns:svg=\"http://www.w3.org/2000/svg\">\n  <defs id=\"defs6269\">\n    <pattern height=\"327.78942\" id=\"pattern13283\" patternTransform=\"matrix(1.0074673,-1.7286202e-8,0,1.0180441,229.69217,251.69622)\" patternUnits=\"userSpaceOnUse\" width=\"331.71499\">\n      <g id=\"g12272\" transform=\"translate(-417.07363,-229.87425)\">\n        <path d=\"M 417.32512,272.79291 L 748.53712,272.79291\" id=\"path12274\" style=\"fill:none;fill-rule:evenodd;stroke:#898989;stroke-width:0.50298733;stroke-linecap:butt;stroke-linejoin:miter;stroke-miterlimit:4;stroke-dasharray:none;stroke-opacity:1\"/>\n        <g id=\"g12276\">\n          <path d=\"M 450.3816,557.41367 L 450.3816,230.12425\" id=\"path12278\" style=\"fill:none;fill-rule:evenodd;stroke:#898989;stroke-width:0.5;stroke-linecap:butt;stroke-linejoin:miter;stroke-miterlimit:4;stroke-dasharray:none;stroke-opacity:1\"/>\n          <path d=\"M 486.8816,557.41367 L 486.8816,230.12425\" id=\"path12280\" style=\"fill:none;fill-rule:evenodd;stroke:#898989;stroke-width:0.5;stroke-linecap:butt;stroke-linejoin:miter;stroke-miterlimit:4;stroke-dasharray:none;stroke-opacity:1\"/>\n          <path d=\"M 523.3816,557.41367 L 523.3816,230.12425\" id=\"path12282\" style=\"fill:none;fill-rule:evenodd;stroke:#898989;stroke-width:0.5;stroke-linecap:butt;stroke-linejoin:miter;stroke-miterlimit:4;stroke-dasharray:none;stroke-opacity:1\"/>\n          <path d=\"M 559.8816,557.41367 L 559.8816,230.12425\" id=\"path12284\" style=\"fill:none;fill-rule:evenodd;stroke:#898989;stroke-width:0.5;stroke-linecap:butt;stroke-linejoin:miter;stroke-miterlimit:4;stroke-dasharray:none;stroke-opacity:1\"/>\n          <path d=\"M 596.3816,557.41367 L 596.3816,230.12425\" id=\"path12286\" style=\"fill:none;fill-rule:evenodd;stroke:#898989;stroke-width:0.5;stroke-linecap:butt;stroke-linejoin:miter;stroke-miterlimit:4;stroke-dasharray:none;stroke-opacity:1\"/>\n          <path d=\"M 632.8816,557.41367 L 632.8816,230.12425\" id=\"path12288\" style=\"fill:none;fill-rule:evenodd;stroke:#898989;stroke-width:0.5;stroke-linecap:butt;stroke-linejoin:miter;stroke-miterlimit:4;stroke-dasharray:none;stroke-opacity:1\"/>\n          <path d=\"M 669.3816,557.41367 L 669.3816,230.12425\" id=\"path12290\" style=\"fill:none;fill-rule:evenodd;stroke:#898989;stroke-width:0.5;stroke-linecap:butt;stroke-linejoin:miter;stroke-miterlimit:4;stroke-dasharray:none;stroke-opacity:1\"/>\n          <path d=\"M 705.8816,557.41367 L 705.8816,230.12425\" id=\"path12292\" style=\"fill:none;fill-rule:evenodd;stroke:#898989;stroke-width:0.5;stroke-linecap:butt;stroke-linejoin:miter;stroke-miterlimit:4;stroke-dasharray:none;stroke-opacity:1\"/>\n          <path d=\"M 742.3816,557.41367 L 742.3816,230.12425\" id=\"path12294\" style=\"fill:none;fill-rule:evenodd;stroke:#898989;stroke-width:0.5;stroke-linecap:butt;stroke-linejoin:miter;stroke-miterlimit:4;stroke-dasharray:none;stroke-opacity:1\"/>\n          <path d=\"M 417.32512,524.79293 L 748.53712,524.79293\" id=\"path12296\" style=\"fill:none;fill-rule:evenodd;stroke:#898989;stroke-width:0.50298733;stroke-linecap:butt;stroke-linejoin:miter;stroke-miterlimit:4;stroke-dasharray:none;stroke-opacity:1\"/>\n          <path d=\"M 417.32512,488.79293 L 748.53712,488.79293\" id=\"path12298\" style=\"fill:none;fill-rule:evenodd;stroke:#898989;stroke-width:0.50298733;stroke-linecap:butt;stroke-linejoin:miter;stroke-miterlimit:4;stroke-dasharray:none;stroke-opacity:1\"/>\n          <path d=\"M 417.32512,452.79291 L 748.53712,452.79291\" id=\"path12300\" style=\"fill:none;fill-rule:evenodd;stroke:#898989;stroke-width:0.50298733;stroke-linecap:butt;stroke-linejoin:miter;stroke-miterlimit:4;stroke-dasharray:none;stroke-opacity:1\"/>\n          <path d=\"M 417.32512,416.79291 L 748.53712,416.79291\" id=\"path12302\" style=\"fill:none;fill-rule:evenodd;stroke:#898989;stroke-width:0.50298733;stroke-linecap:butt;stroke-linejoin:miter;stroke-miterlimit:4;stroke-dasharray:none;stroke-opacity:1\"/>\n          <path d=\"M 417.32512,380.79291 L 748.53712,380.79291\" id=\"path12304\" style=\"fill:none;fill-rule:evenodd;stroke:#898989;stroke-width:0.50298733;stroke-linecap:butt;stroke-linejoin:miter;stroke-miterlimit:4;stroke-dasharray:none;stroke-opacity:1\"/>\n          <path d=\"M 417.32512,344.79291 L 748.53712,344.79291\" id=\"path12306\" style=\"fill:none;fill-rule:evenodd;stroke:#898989;stroke-width:0.50298733;stroke-linecap:butt;stroke-linejoin:miter;stroke-miterlimit:4;stroke-dasharray:none;stroke-opacity:1\"/>\n          <path d=\"M 417.32512,308.79291 L 748.53712,308.79291\" id=\"path12308\" style=\"fill:none;fill-rule:evenodd;stroke:#898989;stroke-width:0.50298733;stroke-linecap:butt;stroke-linejoin:miter;stroke-miterlimit:4;stroke-dasharray:none;stroke-opacity:1\"/>\n          <path d=\"M 417.32512,236.79293 L 748.53712,236.79293\" id=\"path12310\" style=\"fill:none;fill-rule:evenodd;stroke:#898989;stroke-width:0.50298733;stroke-linecap:butt;stroke-linejoin:miter;stroke-miterlimit:4;stroke-dasharray:none;stroke-opacity:1\"/>\n          <path d=\"M 417.32512,236.79291 L 748.53712,236.79291\" id=\"path12312\" style=\"fill:none;fill-rule:evenodd;stroke:#898989;stroke-width:0.50298733;stroke-linecap:butt;stroke-linejoin:miter;stroke-miterlimit:4;stroke-dasharray:none;stroke-opacity:1\"/>\n        </g>\n      </g>\n    </pattern>\n    <pattern height=\"327.78942\" id=\"pattern2352\" patternTransform=\"matrix(1.0074673,-1.7286202e-8,0,1.0180441,229.69217,251.69622)\" patternUnits=\"userSpaceOnUse\" width=\"331.71499\">\n      <g id=\"g2354\" transform=\"translate(-417.07363,-229.87425)\">\n        <path d=\"M 417.32512,272.79291 L 748.53712,272.79291\" id=\"path2356\" style=\"fill:none;fill-rule:evenodd;stroke:#898989;stroke-width:0.50298733;stroke-linecap:butt;stroke-linejoin:miter;stroke-miterlimit:4;stroke-dasharray:none;stroke-opacity:1\"/>\n        <g id=\"g2358\">\n          <path d=\"M 450.3816,557.41367 L 450.3816,230.12425\" id=\"path2360\" style=\"fill:none;fill-rule:evenodd;stroke:#898989;stroke-width:0.5;stroke-linecap:butt;stroke-linejoin:miter;stroke-miterlimit:4;stroke-dasharray:none;stroke-opacity:1\"/>\n          <path d=\"M 486.8816,557.41367 L 486.8816,230.12425\" id=\"path2362\" style=\"fill:none;fill-rule:evenodd;stroke:#898989;stroke-width:0.5;stroke-linecap:butt;stroke-linejoin:miter;stroke-miterlimit:4;stroke-dasharray:none;stroke-opacity:1\"/>\n          <path d=\"M 523.3816,557.41367 L 523.3816,230.12425\" id=\"path2364\" style=\"fill:none;fill-rule:evenodd;stroke:#898989;stroke-width:0.5;stroke-linecap:butt;stroke-linejoin:miter;stroke-miterlimit:4;stroke-dasharray:none;stroke-opacity:1\"/>\n          <path d=\"M 559.8816,557.41367 L 559.8816,230.12425\" id=\"path2366\" style=\"fill:none;fill-rule:evenodd;stroke:#898989;stroke-width:0.5;stroke-linecap:butt;stroke-linejoin:miter;stroke-miterlimit:4;stroke-dasharray:none;stroke-opacity:1\"/>\n          <path d=\"M 596.3816,557.41367 L 596.3816,230.12425\" id=\"path2368\" style=\"fill:none;fill-rule:evenodd;stroke:#898989;stroke-width:0.5;stroke-linecap:butt;stroke-linejoin:miter;stroke-miterlimit:4;stroke-dasharray:none;stroke-opacity:1\"/>\n          <path d=\"M 632.8816,557.41367 L 632.8816,230.12425\" id=\"path2370\" style=\"fill:none;fill-rule:evenodd;stroke:#898989;stroke-width:0.5;stroke-linecap:butt;stroke-linejoin:miter;stroke-miterlimit:4;stroke-dasharray:none;stroke-opacity:1\"/>\n          <path d=\"M 669.3816,557.41367 L 669.3816,230.12425\" id=\"path2372\" style=\"fill:none;fill-rule:evenodd;stroke:#898989;stroke-width:0.5;stroke-linecap:butt;stroke-linejoin:miter;stroke-miterlimit:4;stroke-dasharray:none;stroke-opacity:1\"/>\n          <path d=\"M 705.8816,557.41367 L 705.8816,230.12425\" id=\"path2374\" style=\"fill:none;fill-rule:evenodd;stroke:#898989;stroke-width:0.5;stroke-linecap:butt;stroke-linejoin:miter;stroke-miterlimit:4;stroke-dasharray:none;stroke-opacity:1\"/>\n          <path d=\"M 742.3816,557.41367 L 742.3816,230.12425\" id=\"path2376\" style=\"fill:none;fill-rule:evenodd;stroke:#898989;stroke-width:0.5;stroke-linecap:butt;stroke-linejoin:miter;stroke-miterlimit:4;stroke-dasharray:none;stroke-opacity:1\"/>\n          <path d=\"M 417.32512,524.79293 L 748.53712,524.79293\" id=\"path2378\" style=\"fill:none;fill-rule:evenodd;stroke:#898989;stroke-width:0.50298733;stroke-linecap:butt;stroke-linejoin:miter;stroke-miterlimit:4;stroke-dasharray:none;stroke-opacity:1\"/>\n          <path d=\"M 417.32512,488.79293 L 748.53712,488.79293\" id=\"path2380\" style=\"fill:none;fill-rule:evenodd;stroke:#898989;stroke-width:0.50298733;stroke-linecap:butt;stroke-linejoin:miter;stroke-miterlimit:4;stroke-dasharray:none;stroke-opacity:1\"/>\n          <path d=\"M 417.32512,452.79291 L 748.53712,452.79291\" id=\"path2382\" style=\"fill:none;fill-rule:evenodd;stroke:#898989;stroke-width:0.50298733;stroke-linecap:butt;stroke-linejoin:miter;stroke-miterlimit:4;stroke-dasharray:none;stroke-opacity:1\"/>\n          <path d=\"M 417.32512,416.79291 L 748.53712,416.79291\" id=\"path2384\" style=\"fill:none;fill-rule:evenodd;stroke:#898989;stroke-width:0.50298733;stroke-linecap:butt;stroke-linejoin:miter;stroke-miterlimit:4;stroke-dasharray:none;stroke-opacity:1\"/>\n          <path d=\"M 417.32512,380.79291 L 748.53712,380.79291\" id=\"path2386\" style=\"fill:none;fill-rule:evenodd;stroke:#898989;stroke-width:0.50298733;stroke-linecap:butt;stroke-linejoin:miter;stroke-miterlimit:4;stroke-dasharray:none;stroke-opacity:1\"/>\n          <path d=\"M 417.32512,344.79291 L 748.53712,344.79291\" id=\"path2388\" style=\"fill:none;fill-rule:evenodd;stroke:#898989;stroke-width:0.50298733;stroke-linecap:butt;stroke-linejoin:miter;stroke-miterlimit:4;stroke-dasharray:none;stroke-opacity:1\"/>\n          <path d=\"M 417.32512,308.79291 L 748.53712,308.79291\" id=\"path2390\" style=\"fill:none;fill-rule:evenodd;stroke:#898989;stroke-width:0.50298733;stroke-linecap:butt;stroke-linejoin:miter;stroke-miterlimit:4;stroke-dasharray:none;stroke-opacity:1\"/>\n          <path d=\"M 417.32512,236.79293 L 748.53712,236.79293\" id=\"path2392\" style=\"fill:none;fill-rule:evenodd;stroke:#898989;stroke-width:0.50298733;stroke-linecap:butt;stroke-linejoin:miter;stroke-miterlimit:4;stroke-dasharray:none;stroke-opacity:1\"/>\n          <path d=\"M 417.32512,236.79291 L 748.53712,236.79291\" id=\"path2394\" style=\"fill:none;fill-rule:evenodd;stroke:#898989;stroke-width:0.50298733;stroke-linecap:butt;stroke-linejoin:miter;stroke-miterlimit:4;stroke-dasharray:none;stroke-opacity:1\"/>\n        </g>\n      </g>\n    </pattern>\n  </defs>\n  <sodipodi:namedview bordercolor=\"#666666\" borderopacity=\"1.0\" gridtolerance=\"10000\" guidetolerance=\"10\" height=\"535px\" id=\"base\" inkscape:current-layer=\"layer1\" inkscape:cx=\"371.90786\" inkscape:cy=\"453.56296\" inkscape:document-units=\"px\" inkscape:pageopacity=\"0.0\" inkscape:pageshadow=\"2\" inkscape:window-height=\"740\" inkscape:window-width=\"1280\" inkscape:window-x=\"0\" inkscape:window-y=\"26\" inkscape:zoom=\"5.6\" objecttolerance=\"10\" pagecolor=\"#ffffff\" width=\"600px\"/>\n  <metadata id=\"metadata6272\">\n    <rdf:RDF>\n      <cc:Work rdf:about=\"\">\n        <dc:format>image/svg+xml</dc:format>\n        <dc:type rdf:resource=\"http://purl.org/dc/dcmitype/StillImage\"/>\n      </cc:Work>\n    </rdf:RDF>\n  </metadata>\n  <g id=\"layer1\" inkscape:groupmode=\"layer\" inkscape:label=\"Layer 1\">\n    <g id=\"g2702\" transform=\"translate(-48.186268,-234.32683)\">\n      <path d=\"M 384.08894,732.15838 L 547.00787,595.17487\" id=\"path2419\" sodipodi:nodetypes=\"cc\" style=\"fill:none;fill-rule:evenodd;stroke:#898989;stroke-width:0.50298733;stroke-linecap:butt;stroke-linejoin:miter;stroke-miterlimit:4;stroke-dasharray:none;stroke-opacity:1\"/>\n      <path d=\"M 258.35221,309.24772 L 589.56421,309.24772\" id=\"path2421\" style=\"fill:none;fill-rule:evenodd;stroke:#898989;stroke-width:0.50298733;stroke-linecap:butt;stroke-linejoin:miter;stroke-miterlimit:4;stroke-dasharray:none;stroke-opacity:1\"/>\n      <path d=\"M 291.40869,593.86848 L 291.40869,266.57906\" id=\"path2423\" style=\"fill:none;fill-rule:evenodd;stroke:#898989;stroke-width:0.5;stroke-linecap:butt;stroke-linejoin:miter;stroke-miterlimit:4;stroke-dasharray:none;stroke-opacity:1\"/>\n      <path d=\"M 327.90869,593.86848 L 327.90869,266.57906\" id=\"path2425\" style=\"fill:none;fill-rule:evenodd;stroke:#898989;stroke-width:0.5;stroke-linecap:butt;stroke-linejoin:miter;stroke-miterlimit:4;stroke-dasharray:none;stroke-opacity:1\"/>\n      <path d=\"M 364.40869,593.86848 L 364.40869,266.57906\" id=\"path2427\" style=\"fill:none;fill-rule:evenodd;stroke:#898989;stroke-width:0.5;stroke-linecap:butt;stroke-linejoin:miter;stroke-miterlimit:4;stroke-dasharray:none;stroke-opacity:1\"/>\n      <path d=\"M 400.90869,593.86848 L 400.90869,266.57906\" id=\"path2429\" style=\"fill:none;fill-rule:evenodd;stroke:#898989;stroke-width:0.5;stroke-linecap:butt;stroke-linejoin:miter;stroke-miterlimit:4;stroke-dasharray:none;stroke-opacity:1\"/>\n      <path d=\"M 437.40869,593.86848 L 437.40869,266.57906\" id=\"path2431\" style=\"fill:none;fill-rule:evenodd;stroke:#898989;stroke-width:0.5;stroke-linecap:butt;stroke-linejoin:miter;stroke-miterlimit:4;stroke-dasharray:none;stroke-opacity:1\"/>\n      <path d=\"M 473.90869,593.86848 L 473.90869,266.57906\" id=\"path2433\" style=\"fill:none;fill-rule:evenodd;stroke:#898989;stroke-width:0.5;stroke-linecap:butt;stroke-linejoin:miter;stroke-miterlimit:4;stroke-dasharray:none;stroke-opacity:1\"/>\n      <path d=\"M 510.40869,593.86848 L 510.40869,266.57906\" id=\"path2435\" style=\"fill:none;fill-rule:evenodd;stroke:#898989;stroke-width:0.5;stroke-linecap:butt;stroke-linejoin:miter;stroke-miterlimit:4;stroke-dasharray:none;stroke-opacity:1\"/>\n      <path d=\"M 546.90869,593.86848 L 546.90869,266.57906\" id=\"path2437\" style=\"fill:none;fill-rule:evenodd;stroke:#898989;stroke-width:0.5;stroke-linecap:butt;stroke-linejoin:miter;stroke-miterlimit:4;stroke-dasharray:none;stroke-opacity:1\"/>\n      <path d=\"M 583.40869,593.86848 L 583.40869,266.57906\" id=\"path2439\" style=\"fill:none;fill-rule:evenodd;stroke:#898989;stroke-width:0.5;stroke-linecap:butt;stroke-linejoin:miter;stroke-miterlimit:4;stroke-dasharray:none;stroke-opacity:1\"/>\n      <path d=\"M 258.35221,561.24774 L 589.56421,561.24774\" id=\"path2441\" style=\"fill:none;fill-rule:evenodd;stroke:#898989;stroke-width:0.50298733;stroke-linecap:butt;stroke-linejoin:miter;stroke-miterlimit:4;stroke-dasharray:none;stroke-opacity:1\"/>\n      <path d=\"M 258.35221,525.24774 L 589.56421,525.24774\" id=\"path2443\" style=\"fill:none;fill-rule:evenodd;stroke:#898989;stroke-width:0.50298733;stroke-linecap:butt;stroke-linejoin:miter;stroke-miterlimit:4;stroke-dasharray:none;stroke-opacity:1\"/>\n      <path d=\"M 258.35221,489.24772 L 589.56421,489.24772\" id=\"path2445\" style=\"fill:none;fill-rule:evenodd;stroke:#898989;stroke-width:0.50298733;stroke-linecap:butt;stroke-linejoin:miter;stroke-miterlimit:4;stroke-dasharray:none;stroke-opacity:1\"/>\n      <path d=\"M 258.35221,453.24772 L 589.56421,453.24772\" id=\"path2447\" style=\"fill:none;fill-rule:evenodd;stroke:#898989;stroke-width:0.50298733;stroke-linecap:butt;stroke-linejoin:miter;stroke-miterlimit:4;stroke-dasharray:none;stroke-opacity:1\"/>\n      <path d=\"M 258.35221,417.24772 L 589.56421,417.24772\" id=\"path2449\" style=\"fill:none;fill-rule:evenodd;stroke:#898989;stroke-width:0.50298733;stroke-linecap:butt;stroke-linejoin:miter;stroke-miterlimit:4;stroke-dasharray:none;stroke-opacity:1\"/>\n      <path d=\"M 258.35221,381.24772 L 589.56421,381.24772\" id=\"path2451\" style=\"fill:none;fill-rule:evenodd;stroke:#898989;stroke-width:0.50298733;stroke-linecap:butt;stroke-linejoin:miter;stroke-miterlimit:4;stroke-dasharray:none;stroke-opacity:1\"/>\n      <path d=\"M 258.35221,345.24772 L 589.56421,345.24772\" id=\"path2453\" style=\"fill:none;fill-rule:evenodd;stroke:#898989;stroke-width:0.50298733;stroke-linecap:butt;stroke-linejoin:miter;stroke-miterlimit:4;stroke-dasharray:none;stroke-opacity:1\"/>\n      <path d=\"M 258.35221,273.24774 L 589.56421,273.24774\" id=\"path2455\" style=\"fill:none;fill-rule:evenodd;stroke:#898989;stroke-width:0.50298733;stroke-linecap:butt;stroke-linejoin:miter;stroke-miterlimit:4;stroke-dasharray:none;stroke-opacity:1\"/>\n      <path d=\"M 258.35221,273.24772 L 589.56421,273.24772\" id=\"path2457\" style=\"fill:none;fill-rule:evenodd;stroke:#898989;stroke-width:0.50298733;stroke-linecap:butt;stroke-linejoin:miter;stroke-miterlimit:4;stroke-dasharray:none;stroke-opacity:1\"/>\n      <path d=\"M 94.00859,698.40629 L 256.92752,561.42278\" id=\"path2459\" sodipodi:nodetypes=\"cc\" style=\"fill:none;fill-rule:evenodd;stroke:#898989;stroke-width:0.50298733;stroke-linecap:butt;stroke-linejoin:miter;stroke-miterlimit:4;stroke-dasharray:none;stroke-opacity:1\"/>\n      <path d=\"M 94.00859,662.40629 L 256.92752,525.42278\" id=\"path2461\" sodipodi:nodetypes=\"cc\" style=\"fill:none;fill-rule:evenodd;stroke:#898989;stroke-width:0.50298733;stroke-linecap:butt;stroke-linejoin:miter;stroke-miterlimit:4;stroke-dasharray:none;stroke-opacity:1\"/>\n      <path d=\"M 94.00859,626.40629 L 256.92752,489.42278\" id=\"path2463\" sodipodi:nodetypes=\"cc\" style=\"fill:none;fill-rule:evenodd;stroke:#898989;stroke-width:0.50298733;stroke-linecap:butt;stroke-linejoin:miter;stroke-miterlimit:4;stroke-dasharray:none;stroke-opacity:1\"/>\n      <path d=\"M 94.00859,590.40629 L 256.92752,453.42278\" id=\"path2465\" sodipodi:nodetypes=\"cc\" style=\"fill:none;fill-rule:evenodd;stroke:#898989;stroke-width:0.50298733;stroke-linecap:butt;stroke-linejoin:miter;stroke-miterlimit:4;stroke-dasharray:none;stroke-opacity:1\"/>\n      <path d=\"M 94.00859,554.40629 L 256.92752,417.42278\" id=\"path2467\" sodipodi:nodetypes=\"cc\" style=\"fill:none;fill-rule:evenodd;stroke:#898989;stroke-width:0.50298733;stroke-linecap:butt;stroke-linejoin:miter;stroke-miterlimit:4;stroke-dasharray:none;stroke-opacity:1\"/>\n      <path d=\"M 94.00859,518.40629 L 256.92752,381.42278\" id=\"path2469\" sodipodi:nodetypes=\"cc\" style=\"fill:none;fill-rule:evenodd;stroke:#898989;stroke-width:0.50298733;stroke-linecap:butt;stroke-linejoin:miter;stroke-miterlimit:4;stroke-dasharray:none;stroke-opacity:1\"/>\n      <path d=\"M 94.00859,482.40629 L 256.92752,345.42278\" id=\"path2471\" sodipodi:nodetypes=\"cc\" style=\"fill:none;fill-rule:evenodd;stroke:#898989;stroke-width:0.50298733;stroke-linecap:butt;stroke-linejoin:miter;stroke-miterlimit:4;stroke-dasharray:none;stroke-opacity:1\"/>\n      <path d=\"M 94.00859,446.40629 L 256.92752,309.42278\" id=\"path2473\" sodipodi:nodetypes=\"cc\" style=\"fill:none;fill-rule:evenodd;stroke:#898989;stroke-width:0.50298733;stroke-linecap:butt;stroke-linejoin:miter;stroke-miterlimit:4;stroke-dasharray:none;stroke-opacity:1\"/>\n      <path d=\"M 94.00859,410.40629 L 256.92752,273.42278\" id=\"path2475\" sodipodi:nodetypes=\"cc\" style=\"fill:none;fill-rule:evenodd;stroke:#898989;stroke-width:0.50298733;stroke-linecap:butt;stroke-linejoin:miter;stroke-miterlimit:4;stroke-dasharray:none;stroke-opacity:1\"/>\n      <path d=\"M 97.07633,728.32984 L 97.07633,401.04042\" id=\"path2477\" style=\"fill:none;fill-rule:evenodd;stroke:#898989;stroke-width:0.5;stroke-linecap:butt;stroke-linejoin:miter;stroke-miterlimit:4;stroke-dasharray:none;stroke-opacity:1\"/>\n      <path d=\"M 120.44538,708.69684 L 120.44538,381.40742\" id=\"path2479\" style=\"fill:none;fill-rule:evenodd;stroke:#898989;stroke-width:0.5;stroke-linecap:butt;stroke-linejoin:miter;stroke-miterlimit:4;stroke-dasharray:none;stroke-opacity:1\"/>\n      <path d=\"M 143.81443,689.09469 L 143.81443,361.80527\" id=\"path2483\" style=\"fill:none;fill-rule:evenodd;stroke:#898989;stroke-width:0.5;stroke-linecap:butt;stroke-linejoin:miter;stroke-miterlimit:4;stroke-dasharray:none;stroke-opacity:1\"/>\n      <path d=\"M 167.18348,669.41555 L 167.18348,342.12613\" id=\"path2485\" style=\"fill:none;fill-rule:evenodd;stroke:#898989;stroke-width:0.5;stroke-linecap:butt;stroke-linejoin:miter;stroke-miterlimit:4;stroke-dasharray:none;stroke-opacity:1\"/>\n      <path d=\"M 190.55252,649.91132 L 190.55252,322.6219\" id=\"path2487\" style=\"fill:none;fill-rule:evenodd;stroke:#898989;stroke-width:0.5;stroke-linecap:butt;stroke-linejoin:miter;stroke-miterlimit:4;stroke-dasharray:none;stroke-opacity:1\"/>\n      <path d=\"M 213.92157,630.22534 L 213.92157,302.93592\" id=\"path2489\" style=\"fill:none;fill-rule:evenodd;stroke:#898989;stroke-width:0.5;stroke-linecap:butt;stroke-linejoin:miter;stroke-miterlimit:4;stroke-dasharray:none;stroke-opacity:1\"/>\n      <path d=\"M 237.29062,610.60426 L 237.29062,283.31484\" id=\"path2491\" style=\"fill:none;fill-rule:evenodd;stroke:#898989;stroke-width:0.5;stroke-linecap:butt;stroke-linejoin:miter;stroke-miterlimit:4;stroke-dasharray:none;stroke-opacity:1\"/>\n      <path d=\"M 238.54917,611.25 L 569.76117,611.25\" id=\"path2493\" style=\"fill:none;fill-rule:evenodd;stroke:#898989;stroke-width:0.50298733;stroke-linecap:butt;stroke-linejoin:miter;stroke-miterlimit:4;stroke-dasharray:none;stroke-opacity:1\"/>\n      <path d=\"M 215.17316,630.83107 L 546.38516,630.83107\" id=\"path2495\" style=\"fill:none;fill-rule:evenodd;stroke:#898989;stroke-width:0.50298733;stroke-linecap:butt;stroke-linejoin:miter;stroke-miterlimit:4;stroke-dasharray:none;stroke-opacity:1\"/>\n      <path d=\"M 191.38755,650.81886 L 522.59955,650.81886\" id=\"path2497\" style=\"fill:none;fill-rule:evenodd;stroke:#898989;stroke-width:0.50298733;stroke-linecap:butt;stroke-linejoin:miter;stroke-miterlimit:4;stroke-dasharray:none;stroke-opacity:1\"/>\n      <path d=\"M 168.15308,670.31886 L 499.36508,670.31886\" id=\"path2499\" style=\"fill:none;fill-rule:evenodd;stroke:#898989;stroke-width:0.50298733;stroke-linecap:butt;stroke-linejoin:miter;stroke-miterlimit:4;stroke-dasharray:none;stroke-opacity:1\"/>\n      <path d=\"M 145.01301,689.68812 L 476.22501,689.68812\" id=\"path2501\" style=\"fill:none;fill-rule:evenodd;stroke:#898989;stroke-width:0.50298733;stroke-linecap:butt;stroke-linejoin:miter;stroke-miterlimit:4;stroke-dasharray:none;stroke-opacity:1\"/>\n      <path d=\"M 121.69766,709.30545 L 452.90966,709.30545\" id=\"path2503\" style=\"fill:none;fill-rule:evenodd;stroke:#898989;stroke-width:0.50298733;stroke-linecap:butt;stroke-linejoin:miter;stroke-miterlimit:4;stroke-dasharray:none;stroke-opacity:1\"/>\n      <path d=\"M 98.00499,729.17349 L 429.21699,729.17349\" id=\"path2505\" style=\"fill:none;fill-rule:evenodd;stroke:#898989;stroke-width:0.50298733;stroke-linecap:butt;stroke-linejoin:miter;stroke-miterlimit:4;stroke-dasharray:none;stroke-opacity:1\"/>\n      <path d=\"M 128.62991,732.16776 L 291.54884,595.18425\" id=\"path2507\" sodipodi:nodetypes=\"cc\" style=\"fill:none;fill-rule:evenodd;stroke:#898989;stroke-width:0.50298733;stroke-linecap:butt;stroke-linejoin:miter;stroke-miterlimit:4;stroke-dasharray:none;stroke-opacity:1\"/>\n      <path d=\"M 165.08672,732.1807 L 328.00565,595.19719\" id=\"path2509\" sodipodi:nodetypes=\"cc\" style=\"fill:none;fill-rule:evenodd;stroke:#898989;stroke-width:0.50298733;stroke-linecap:butt;stroke-linejoin:miter;stroke-miterlimit:4;stroke-dasharray:none;stroke-opacity:1\"/>\n      <path d=\"M 201.55848,732.17604 L 364.47741,595.19253\" id=\"path2511\" sodipodi:nodetypes=\"cc\" style=\"fill:none;fill-rule:evenodd;stroke:#898989;stroke-width:0.50298733;stroke-linecap:butt;stroke-linejoin:miter;stroke-miterlimit:4;stroke-dasharray:none;stroke-opacity:1\"/>\n      <path d=\"M 238.16563,732.17223 L 401.08456,595.18872\" id=\"path2513\" sodipodi:nodetypes=\"cc\" style=\"fill:none;fill-rule:evenodd;stroke:#898989;stroke-width:0.50298733;stroke-linecap:butt;stroke-linejoin:miter;stroke-miterlimit:4;stroke-dasharray:none;stroke-opacity:1\"/>\n      <path d=\"M 274.59803,732.14878 L 437.51696,595.16527\" id=\"path2515\" sodipodi:nodetypes=\"cc\" style=\"fill:none;fill-rule:evenodd;stroke:#898989;stroke-width:0.50298733;stroke-linecap:butt;stroke-linejoin:miter;stroke-miterlimit:4;stroke-dasharray:none;stroke-opacity:1\"/>\n      <path d=\"M 311.10757,732.17605 L 474.0265,595.19254\" id=\"path2517\" sodipodi:nodetypes=\"cc\" style=\"fill:none;fill-rule:evenodd;stroke:#898989;stroke-width:0.50298733;stroke-linecap:butt;stroke-linejoin:miter;stroke-miterlimit:4;stroke-dasharray:none;stroke-opacity:1\"/>\n      <path d=\"M 347.5812,732.12204 L 510.50013,595.13853\" id=\"path2519\" sodipodi:nodetypes=\"cc\" style=\"fill:none;fill-rule:evenodd;stroke:#898989;stroke-width:0.50298733;stroke-linecap:butt;stroke-linejoin:miter;stroke-miterlimit:4;stroke-dasharray:none;stroke-opacity:1\"/>\n      <path d=\"M 420.68795,732.16329 L 583.60688,595.17978\" id=\"path2521\" sodipodi:nodetypes=\"cc\" style=\"fill:none;fill-rule:evenodd;stroke:#898989;stroke-width:0.50298733;stroke-linecap:butt;stroke-linejoin:miter;stroke-miterlimit:4;stroke-dasharray:none;stroke-opacity:1\"/>\n    </g>\n    <path d=\"M 209.45031,33.678615 L 209.45031,360.89047\" id=\"path6275\" style=\"fill:none;fill-rule:evenodd;stroke:#000000;stroke-width:1.5;stroke-linecap:butt;stroke-linejoin:miter;stroke-miterlimit:4;stroke-dasharray:none;stroke-opacity:1\"/>\n    <path d=\"M 543.45623,360.2722 L 209.20508,360.2722\" id=\"path7246\" style=\"fill:none;fill-rule:evenodd;stroke:#000000;stroke-width:1.5;stroke-linecap:butt;stroke-linejoin:miter;stroke-miterlimit:4;stroke-dasharray:none;stroke-opacity:1\"/>\n    <path d=\"M 44.661485,498.53646 L 209.88806,359.89489\" id=\"path7248\" style=\"fill:none;fill-rule:evenodd;stroke:#000000;stroke-width:1.5;stroke-linecap:butt;stroke-linejoin:miter;stroke-miterlimit:4;stroke-dasharray:none;stroke-opacity:1\"/>\n    <text id=\"text11150\" sodipodi:linespacing=\"100%\" style=\"font-size:8px;font-style:normal;font-variant:normal;font-weight:normal;font-stretch:normal;text-align:start;line-height:100%;writing-mode:lr-tb;text-anchor:start;fill:#000000;fill-opacity:1;stroke:none;stroke-width:1px;stroke-linecap:butt;stroke-linejoin:miter;stroke-opacity:1;font-family:Tahoma\" x=\"27.417686\" xml:space=\"preserve\" y=\"516.76392\"><tspan id=\"tspan11152\" sodipodi:role=\"line\" style=\"font-size:30px;font-style:italic;font-variant:normal;font-weight:normal;font-stretch:normal;text-align:start;line-height:100%;writing-mode:lr-tb;text-anchor:start;font-family:Times New Roman\" x=\"27.417686\" y=\"516.76392\">x</tspan></text>\n    <text id=\"text11154\" sodipodi:linespacing=\"100%\" style=\"font-size:8px;font-style:normal;font-variant:normal;font-weight:normal;font-stretch:normal;text-align:start;line-height:100%;writing-mode:lr-tb;text-anchor:start;fill:#000000;fill-opacity:1;stroke:none;stroke-width:1px;stroke-linecap:butt;stroke-linejoin:miter;stroke-opacity:1;font-family:Tahoma\" x=\"552.2984\" xml:space=\"preserve\" y=\"363.27591\"><tspan id=\"tspan11156\" sodipodi:role=\"line\" style=\"font-size:30px;font-style:italic;font-variant:normal;font-weight:normal;font-stretch:normal;text-align:start;line-height:100%;writing-mode:lr-tb;text-anchor:start;font-family:Times New Roman\" x=\"552.2984\" y=\"363.27591\">y</tspan></text>\n    <text id=\"text11158\" sodipodi:linespacing=\"100%\" style=\"font-size:8px;font-style:normal;font-variant:normal;font-weight:normal;font-stretch:normal;text-align:start;line-height:100%;writing-mode:lr-tb;text-anchor:start;fill:#000000;fill-opacity:1;stroke:none;stroke-width:1px;stroke-linecap:butt;stroke-linejoin:miter;stroke-opacity:1;font-family:Tahoma\" x=\"204.49277\" xml:space=\"preserve\" y=\"25.89176\"><tspan id=\"tspan11160\" sodipodi:role=\"line\" style=\"font-size:30px;font-style:italic;font-variant:normal;font-weight:normal;font-stretch:normal;text-align:start;line-height:100%;writing-mode:lr-tb;text-anchor:start;font-family:Times New Roman\" x=\"204.49277\" y=\"25.89176\">z</tspan></text>\n    <path d=\"M 361.05746,80.502215 L 361.05746,477.54218\" id=\"path12151\" style=\"fill:none;fill-rule:evenodd;stroke:#000000;stroke-width:1.5;stroke-linecap:butt;stroke-linejoin:miter;stroke-miterlimit:4;stroke-dasharray:9,9;stroke-dashoffset:0;stroke-opacity:1\"/>\n    <text id=\"text21851\" sodipodi:linespacing=\"100%\" style=\"font-size:20px;font-style:italic;font-variant:normal;font-weight:normal;font-stretch:normal;text-align:start;line-height:100%;writing-mode:lr-tb;text-anchor:start;fill:#000000;fill-opacity:1;stroke:none;stroke-width:1px;stroke-linecap:butt;stroke-linejoin:miter;stroke-opacity:1;font-family:Times New Roman\" x=\"365.37027\" xml:space=\"preserve\" y=\"89.945992\"><tspan id=\"tspan25764\" sodipodi:role=\"line\" x=\"365.37027\" y=\"89.945992\">(r, θ, φ)</tspan></text>\n    <path d=\"M 209.48038,360.28141 L 360.7896,80.093625\" id=\"path21855\" style=\"fill:none;fill-rule:evenodd;stroke:#000000;stroke-width:1.5;stroke-linecap:butt;stroke-linejoin:miter;stroke-miterlimit:4;stroke-dasharray:9,9;stroke-dashoffset:0;stroke-opacity:1\"/>\n    <path d=\"M 209.49496,360.36148 L 361.03483,477.06452\" id=\"path22826\" style=\"fill:none;fill-rule:evenodd;stroke:#000000;stroke-width:1.5;stroke-linecap:butt;stroke-linejoin:miter;stroke-miterlimit:4;stroke-dasharray:9,9;stroke-dashoffset:0;stroke-opacity:1\"/>\n    <path d=\"M 260.04321,615.49878 A 33.571426,25.535713 0 0 1 213.49741,614.95353\" id=\"path24773\" sodipodi:cx=\"237.14285\" sodipodi:cy=\"596.82648\" sodipodi:end=\"2.3522784\" sodipodi:open=\"true\" sodipodi:rx=\"33.571426\" sodipodi:ry=\"25.535713\" sodipodi:start=\"0.82011325\" sodipodi:type=\"arc\" style=\"fill:none;fill-opacity:0.70196078;stroke:#000000;stroke-width:1.5;stroke-miterlimit:4;stroke-dasharray:none;stroke-dashoffset:0;stroke-opacity:1\" transform=\"translate(-26.263966,-236.3757)\"/>\n    <path d=\"M 284.83266,519.55281 A 29.294424,23.233507 0 0 1 244.53203,518.82689\" id=\"path25744\" sodipodi:cx=\"265.16504\" sodipodi:cy=\"502.33411\" sodipodi:end=\"2.3522784\" sodipodi:open=\"true\" sodipodi:rx=\"29.294424\" sodipodi:ry=\"23.233507\" sodipodi:start=\"0.83473008\" sodipodi:type=\"arc\" style=\"fill:none;fill-opacity:0.70196078;stroke:#000000;stroke-width:1.50000005;stroke-miterlimit:4;stroke-dasharray:none;stroke-dashoffset:0;stroke-opacity:1\" transform=\"matrix(0.9396926,0.3420201,0.3420201,-0.9396926,-197.74594,681.40115)\"/>\n    <text id=\"text25746\" sodipodi:linespacing=\"100%\" style=\"font-size:30px;font-style:italic;font-variant:normal;font-weight:normal;font-stretch:normal;text-align:start;line-height:100%;writing-mode:lr-tb;text-anchor:start;fill:#000000;fill-opacity:1;stroke:none;stroke-width:1px;stroke-linecap:butt;stroke-linejoin:miter;stroke-opacity:1;font-family:Times New Roman\" x=\"200.74287\" xml:space=\"preserve\" y=\"404.93906\"><tspan id=\"tspan25750\" sodipodi:role=\"line\" x=\"200.74287\" y=\"404.93906\">φ</tspan></text>\n    <text id=\"text25752\" sodipodi:linespacing=\"100%\" style=\"font-size:30px;font-style:italic;font-variant:normal;font-weight:normal;font-stretch:normal;text-align:start;line-height:100%;writing-mode:lr-tb;text-anchor:start;fill:#000000;fill-opacity:1;stroke:none;stroke-width:1px;stroke-linecap:butt;stroke-linejoin:miter;stroke-opacity:1;font-family:Times New Roman\" x=\"221.21791\" xml:space=\"preserve\" y=\"268.69263\"><tspan id=\"tspan25756\" sodipodi:role=\"line\" x=\"221.21791\" y=\"268.69263\">θ</tspan></text>\n    <text id=\"text25758\" sodipodi:linespacing=\"100%\" style=\"font-size:30px;font-style:italic;font-variant:normal;font-weight:normal;font-stretch:normal;text-align:start;line-height:100%;writing-mode:lr-tb;text-anchor:start;fill:#000000;fill-opacity:1;stroke:none;stroke-width:1px;stroke-linecap:butt;stroke-linejoin:miter;stroke-opacity:1;font-family:Times New Roman\" x=\"282.60983\" xml:space=\"preserve\" y=\"195.51144\"><tspan id=\"tspan25762\" sodipodi:role=\"line\" x=\"282.60983\" y=\"195.51144\">r</tspan></text>\n    <g id=\"g2608\" transform=\"translate(445.47727,162.31839)\">\n      <path d=\"M -90.13892,-88.19584 L -78.62106,-76.677981\" id=\"path2249\" style=\"fill:none;fill-rule:evenodd;stroke:#000000;stroke-width:1px;stroke-linecap:butt;stroke-linejoin:miter;stroke-opacity:1\"/>\n      <path d=\"M -78.62106,-88.195843 L -90.13892,-76.677979\" id=\"path2251\" style=\"fill:none;fill-rule:evenodd;stroke:#000000;stroke-width:1px;stroke-linecap:butt;stroke-linejoin:miter;stroke-opacity:1\"/>\n    </g>\n  </g>\n</svg>"
          },
          "metadata": {
            "tags": []
          }
        }
      ]
    },
    {
      "cell_type": "markdown",
      "metadata": {
        "id": "JuxGYGt8Oaj0",
        "colab_type": "text"
      },
      "source": [
        "今は回転軸の方向だけを問題にしているので, $r$ 方向の影響を無視するために, この変換の両辺を $r$ で割ると\n",
        "\\begin{align*}\n",
        "x/r &= \\cos \\varphi \\sin \\theta&\\\\\n",
        "y/r &= \\sin \\varphi \\sin \\theta&\\\\\n",
        "z/r &= \\cos \\theta&\n",
        "\\end{align*}\n",
        "右辺を見ると回転軸を決める三つの要素が $\\varphi, \\theta$ の *二つの変数* でのみで表示されています. これが **回転運動の自由度が2** である理由です.\n"
      ]
    },
    {
      "cell_type": "markdown",
      "metadata": {
        "id": "wjooJ8ywP8Up",
        "colab_type": "text"
      },
      "source": [
        "#### 二原子分子の内部エネルギー\n",
        "\n",
        "絶対温度 $T$ の環境では, エネルギー等分配の法則から\n",
        "- 一つの分子の 1自由度に対して, $\\dfrac{1}{2} k_{\\rm B} T$ が配分される\n",
        "\n",
        "ことを学びました. \n",
        "\n",
        "これを利用すると単原子分子では, **重心の自由度 3** から,\n",
        "一つの単原子分子の内部エネルギーが\n",
        "\\begin{align*}\n",
        "u_1 &=\n",
        "\\dfrac{1}{2} k_{\\rm B} T\n",
        "+\\dfrac{1}{2} k_{\\rm B} T\n",
        "+\\dfrac{1}{2} k_{\\rm B} T\n",
        "= \\dfrac{3}{2} k_{\\rm B} T\n",
        "\\end{align*}\n",
        "となりました\n",
        "\n"
      ]
    },
    {
      "cell_type": "markdown",
      "metadata": {
        "id": "ZdlDHHudRDl6",
        "colab_type": "text"
      },
      "source": [
        "これを二原子分子に適用し, 二原子分子の内部エネルギーを表現しましょう.\n",
        "\n",
        "二原子分子の自由度は\n",
        "1. 重心運動の **自由度 3**\n",
        "2. 回転運動の **自由度 2**\n",
        "\n",
        "と合計すると **自由度は 5**(=3+2) となります.\n",
        "\n",
        "これより, 絶対温度 $T$ の環境での一つの二原子分子の内部エネルギー $u_2$ は\n",
        "\\begin{align*}\n",
        "u_2 &=\n",
        "\\left(\n",
        "\\dfrac{1}{2} k_{\\rm B} T\n",
        "+\\dfrac{1}{2} k_{\\rm B} T\n",
        "+\\dfrac{1}{2} k_{\\rm B} T\n",
        "\\right)\n",
        "+\n",
        "\\left(\n",
        "\\dfrac{1}{2} k_{\\rm B} T\n",
        "+\\dfrac{1}{2} k_{\\rm B} T\n",
        "\\right)&\\\\\n",
        "u_2 &= \\dfrac{5}{2} k_{\\rm B} T&\n",
        "\\end{align*}\n",
        "となります."
      ]
    },
    {
      "cell_type": "markdown",
      "metadata": {
        "id": "2hxPKZAXTc5x",
        "colab_type": "text"
      },
      "source": [
        "$\\require{cancel}$\n",
        "この関係を, 物質量 $\bn$ mol の *二原子分子* の理想気体を考えると,  \n",
        "全分子の運動エネルギーの総和が内部エネルギー $U$ となるので($k_{\\rm B} = R/N_{\\rm A}$),\n",
        "\\begin{align*}\n",
        "U \n",
        "&= n N_{\\rm A} u_2 \n",
        "= n N_{\\rm A} \\dfrac{5}{2} k_{\\rm B} T\n",
        "= n \\bcancel{N_{\\rm A}} \\ \\dfrac{5}{2} \\dfrac{\\bcancel{R}}{N_{\\rm A}} T&\\\\\n",
        "&= n \\dfrac{5}{2} R T&\n",
        "\\end{align*}\n",
        "これより, 内部エネルギーの変化 $\\Delta T$ は\n",
        "\\begin{align*}\n",
        "\\Delta U \n",
        "&= n \\dfrac{5}{2} R \\Delta T&\n",
        "\\end{align*}"
      ]
    },
    {
      "cell_type": "markdown",
      "metadata": {
        "id": "wXcvmcA-U2lF",
        "colab_type": "text"
      },
      "source": [
        "##### $\\Delta V=0$ における, 定積モル比熱 $C_V$\n",
        "\n",
        "熱力学第一法則より\n",
        "\\begin{align*}\n",
        "\\Delta U\n",
        "&= \\Delta Q_{\\rm in} + {\\Delta W_{\\rm in}} &\\\\\n",
        "&= \\Delta Q_{\\rm in} - {\\Delta W_{\\rm out}} \n",
        "=\\Delta Q_{\\rm in} - P{\\Delta V}\n",
        "\\end{align*}\n",
        "定積変化では\n",
        "\\begin{align*}\n",
        "\\Delta U\n",
        "&= \\Delta Q_{{\\rm in}:V} - P\\cancelto{0}{\\Delta V}&\\\\\n",
        "\\Delta Q_{{\\rm in}:V} \n",
        "&=\n",
        "\\Delta U\b.&\n",
        "\\end{align*}\n",
        "\n",
        "物質量 $\bn$ mol の *二原子分子* の理想気体の定積変化における顕熱の調べると\n",
        "\\begin{align*}\n",
        "\\Delta Q_{{\\rm in}:V} & = n \\dfrac{5}{2} R \\Delta T = n C_V \\Delta T\n",
        "\\end{align*}\n",
        "よって, 二原子分子の理想気体定積モル比熱 $C_V$ は\n",
        "\\begin{align*}\n",
        "C_V &= \\dfrac{5}{2} R \\approx 20.8\\ {\\rm J/(mol\\cdot K)}&\n",
        "\\end{align*}\n",
        "となります.\n"
      ]
    },
    {
      "cell_type": "markdown",
      "metadata": {
        "id": "2EBrqrC9XQu5",
        "colab_type": "text"
      },
      "source": [
        "##### $\\Delta P=0$ における, \b定圧モル比熱 $C_P$\n",
        "\n",
        "マイヤーの関係式は\n",
        "\\begin{align*}\n",
        "C_P &= C_V + R&\n",
        "\\end{align*}\n",
        "でした. この関係は強い関係式なので, *二原子分子* の理想気体 でも利用でき,\n",
        "\\begin{align*}\n",
        "C_P\n",
        "&= C_V + R&\\\\\n",
        "&= \\dfrac{5}{2}R + R &\\\\\n",
        "C_P &= \\dfrac{7}{2}R \n",
        "\\approx 29.1\\ {\\rm J/mol\\cdot K}&\n",
        "\\end{align*}"
      ]
    },
    {
      "cell_type": "markdown",
      "metadata": {
        "id": "SwqozG4fYVDc",
        "colab_type": "text"
      },
      "source": [
        "##### 比熱比 $\\gamma$\n",
        "\n",
        "*二原子分子* の理想気体における比熱比 $\\gamma$ も\n",
        "\\begin{align*}\n",
        "\\gamma \n",
        "= \\dfrac {C_P}{C_V}\n",
        "= \\dfrac {\\frac{7}{2}R}{\\frac{5}{2}R}\n",
        "= \\dfrac{7}{5} = 1.40 >1\n",
        "\\end{align*}"
      ]
    },
    {
      "cell_type": "markdown",
      "metadata": {
        "id": "w_6TRbJZYShF",
        "colab_type": "text"
      },
      "source": [
        "> Q. 二原子分子気体の $C_V, C_P, \\gamma$ の値を 教科書 p31 表3.7で確認してください."
      ]
    }
  ]
}