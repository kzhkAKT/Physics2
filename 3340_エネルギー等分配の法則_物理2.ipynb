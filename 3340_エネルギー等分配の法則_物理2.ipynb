{
  "nbformat": 4,
  "nbformat_minor": 0,
  "metadata": {
    "colab": {
      "name": "3340_エネルギー等分配の法則_物理2",
      "provenance": [],
      "collapsed_sections": [],
      "authorship_tag": "ABX9TyNZJt4Uz0cAS6PQHug9SG4O",
      "include_colab_link": true
    },
    "kernelspec": {
      "name": "python3",
      "display_name": "Python 3"
    }
  },
  "cells": [
    {
      "cell_type": "markdown",
      "metadata": {
        "id": "view-in-github",
        "colab_type": "text"
      },
      "source": [
        "<a href=\"https://colab.research.google.com/github/kzhkAKT/Physics2/blob/draft/3340_%E3%82%A8%E3%83%8D%E3%83%AB%E3%82%AE%E3%83%BC%E7%AD%89%E5%88%86%E9%85%8D%E3%81%AE%E6%B3%95%E5%89%87_%E7%89%A9%E7%90%862.ipynb\" target=\"_parent\"><img src=\"https://colab.research.google.com/assets/colab-badge.svg\" alt=\"Open In Colab\"/></a>"
      ]
    },
    {
      "cell_type": "markdown",
      "metadata": {
        "id": "UiEXkYdYkjJc",
        "colab_type": "text"
      },
      "source": [
        "# 熱力学の第1法則"
      ]
    },
    {
      "cell_type": "markdown",
      "metadata": {
        "id": "Lt4k0P46koq9",
        "colab_type": "text"
      },
      "source": [
        "## エネルギー等分配の法則\n",
        "\n",
        "絶対温度 $T$ における, 1つの理想気体分子の熱運動による(重心の)運動エネルギーは  \n",
        "ボルツマン定数 $k_{\\rm B}$を用いて\n",
        "\\begin{align*}\n",
        "\\epsilon = \\dfrac{1}{2} m \\overline{v^2} &= \\dfrac{3}{2} k_{\\rm B} T&\n",
        "\\end{align*}\n",
        "となりました.\n",
        "\n",
        "$\\overline{v^2}$ については\n",
        "\\begin{align*}\n",
        "\\overline{v^2}\n",
        "&= \\overline{\\vec{v}\\cdot \\vec{v}}\n",
        "= \\overline{v_x^2 + v_y^2 + v_z^2}\n",
        "\\end{align*}\n",
        "です. 3次元の$xyz$座標をどのようにとっても $\\overline{v^2}$ は一定なので  \n",
        "$x-y, y-z, z-x$ についてお互いの相関はなく\n",
        "\\begin{align*}\n",
        "\\overline{v^2}\n",
        "&= \\overline{v_x^2 + v_y^2 + v_z^2}&\\\\\n",
        "&= \\overline{v_x^2} + \\overline{v_y^2} + \\overline{v_z^2}&\n",
        "\\end{align*}\n",
        "となります.\n",
        "\n",
        "容器に閉じ込められた分子の運動はランダムで, 気体の圧力に方向依存がないので\n",
        "\\begin{align*}\n",
        "&\\overline{v_x^2} = \\overline{v_y^2} = \\overline{v_z^2}&\n",
        "\\end{align*}\n",
        "を満たします."
      ]
    },
    {
      "cell_type": "markdown",
      "metadata": {
        "id": "02TN-yhRqyZD",
        "colab_type": "text"
      },
      "source": [
        "これまでの議論を 1分子の運動エネルギー $\\epsilon$ に適用すると\n",
        "\\begin{align*}\n",
        "\\epsilon \n",
        "&= \\dfrac{1}{2} m \\overline{v^2} \n",
        "= \\dfrac{1}{2} m \\left( \\overline{v_x^2} + \\overline{v_y^2} + \\overline{v_z^2} \\right)&\\\\\n",
        "&= \\dfrac{1}{2} m \\left( \\overline{v_x^2} + \\overline{v_x^2} + \\overline{v_x^2} \\right)\n",
        "= \\dfrac{3}{2} m \\overline{v_x^2} &\\\\\n",
        " &= \\dfrac{3}{2} k_{\\rm B} T&\n",
        "\\end{align*}\n",
        "となり, 3次元座標 $xyz$ のそれぞれの一つの方向に対し\n",
        "\\begin{align*}\n",
        "\\dfrac{1}{2} m \\overline{v_x^2} \n",
        "= \\dfrac{1}{2} m \\overline{v_y^2}\n",
        "= \\dfrac{1}{2} m \\overline{v_z^2}\n",
        "=  \\dfrac{1}{2} k_{\\rm B} T&\n",
        "\\end{align*}\n",
        "が導かれます.\n",
        "\n",
        "これまでの議論を整理すると\n",
        ">> 気体分子の重心の運動を表す**3**次元座標 $xyz$ の各成分に,  \n",
        " **等**しく $\\ \\dfrac{1}{2}k_B T$ の熱運動エネルギーが**分配**されている\n",
        "\n",
        "ということができます."
      ]
    },
    {
      "cell_type": "markdown",
      "metadata": {
        "id": "-eHpTzQtt-wH",
        "colab_type": "text"
      },
      "source": [
        "気体分子の運動を調べるための基本的な座標は $xyz$ の**3次元**座標です.  \n",
        "[速度($v={\\rm d}x/{\\rm d}t$等)は変位の時間変化で与えられるので,\n",
        "いまは二次的な物理量と考えて下さい.]  \n",
        "このように, 注目する運動の基本的な動きを表す成分を **自由度** とよびます.  \n",
        "単原子気体分子の運動では3次元座標のみで表現されているため\n",
        "> 単原子分子の *自由度は 3*\n",
        "\n",
        "と表現されます.\n",
        "\n",
        "そして,\n",
        ">> 一つの自由度に対して $\\ \\dfrac{1}{2}k_B T$ ずづのエネルギーが分配される\n",
        "\n",
        "という考え方を, **エネルギー等分配の法則** といいます.\n",
        "\n",
        "-----\n",
        "\n",
        "ちなみに, 一自由度に分配されるエネルギーが $\\dfrac{1}{2}k_B T$ となるのは, エネルギーはスカラー量で方向依存はありませんが, 座標軸などでは正負の方向に分配されるため $k_{\\rm B}T$ が半分になったと考えることができます.\n",
        "\n"
      ]
    },
    {
      "cell_type": "markdown",
      "metadata": {
        "id": "VjqRsxnxwPIW",
        "colab_type": "text"
      },
      "source": [
        "### 二原子分子の自由度と内部エネルギー\n",
        "\n"
      ]
    },
    {
      "cell_type": "markdown",
      "metadata": {
        "id": "bb47cMqjzCCk",
        "colab_type": "text"
      },
      "source": [
        "![https://en.wikipedia.org/wiki/Diatomic_molecule](https://upload.wikimedia.org/wikipedia/commons/thumb/2/20/Dinitrogen-3D-vdW.png/317px-Dinitrogen-3D-vdW.png)\n",
        "\n",
        "![https://phys.libretexts.org/Courses/University_of_California_Davis/UCD%3A_Physics_9B_%E2%80%93_Waves%2C_Sound%2C_Optics%2C_Thermodynamics%2C_and_Fluids/5%3A_Fundamentals_of_Thermodynamics/5.6%3A_Equipartition_of_Energy](https://phys.libretexts.org/@api/deki/files/16088/diatomic_molecule_axes.png?revision=1)"
      ]
    },
    {
      "cell_type": "markdown",
      "metadata": {
        "id": "Di-6FjxJ0S6z",
        "colab_type": "text"
      },
      "source": [
        "もっとも簡潔な条件として\n",
        "- 両端の原子分子も質点とする\n",
        "- 二原子分子の重心の **回転のみ** 扱う\n",
        "- 二原子分子の分子間の *振動は無視する*\n",
        "\n",
        "こととします."
      ]
    },
    {
      "cell_type": "code",
      "metadata": {
        "id": "u57k5Z4vzXOA",
        "colab_type": "code",
        "colab": {}
      },
      "source": [
        ""
      ],
      "execution_count": null,
      "outputs": []
    }
  ]
}