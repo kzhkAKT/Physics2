{
  "nbformat": 4,
  "nbformat_minor": 0,
  "metadata": {
    "colab": {
      "name": "3410_カルノーサイクル_物理2.ipynb",
      "provenance": [],
      "toc_visible": true,
      "authorship_tag": "ABX9TyN86ulRcEvBKjZcQSUW2gIm",
      "include_colab_link": true
    },
    "kernelspec": {
      "name": "python3",
      "display_name": "Python 3"
    }
  },
  "cells": [
    {
      "cell_type": "markdown",
      "metadata": {
        "id": "view-in-github",
        "colab_type": "text"
      },
      "source": [
        "<a href=\"https://colab.research.google.com/github/kzhkAKT/Physics2/blob/draft/3410_%E3%82%AB%E3%83%AB%E3%83%8E%E3%83%BC%E3%82%B5%E3%82%A4%E3%82%AF%E3%83%AB_%E7%89%A9%E7%90%862.ipynb\" target=\"_parent\"><img src=\"https://colab.research.google.com/assets/colab-badge.svg\" alt=\"Open In Colab\"/></a>"
      ]
    },
    {
      "cell_type": "markdown",
      "metadata": {
        "id": "MR45QD2lRhlW",
        "colab_type": "text"
      },
      "source": [
        "# 熱力学の第二法則"
      ]
    },
    {
      "cell_type": "markdown",
      "metadata": {
        "id": "tb7wJuMjRml_",
        "colab_type": "text"
      },
      "source": [
        "## カルノーサイクル\n",
        "\n",
        "熱機関:: 熱量を力学的な仕事に変換する装置\n",
        "\n",
        "カルノーサイクルは効率の上限を与える, 理想的な熱機関\n",
        "\n"
      ]
    },
    {
      "cell_type": "markdown",
      "metadata": {
        "id": "QYOMXVJVR2pv",
        "colab_type": "text"
      },
      "source": [
        "![https://en.wikipedia.org/wiki/Nicolas_L%C3%A9onard_Sadi_Carnot](https://upload.wikimedia.org/wikipedia/commons/thumb/8/80/Sadi_Carnot.jpeg/357px-Sadi_Carnot.jpeg)\n",
        "\n",
        "Nicolas Léonard Sadi Carnot: https://en.wikipedia.org/wiki/Nicolas_L%C3%A9onard_Sadi_Carnot"
      ]
    },
    {
      "cell_type": "code",
      "metadata": {
        "id": "Di_63ShGRY7U",
        "colab_type": "code",
        "cellView": "form",
        "colab": {
          "base_uri": "https://localhost:8080/",
          "height": 336
        },
        "outputId": "7ed2dc90-f2e6-4f64-a1ae-d7016d5438ad"
      },
      "source": [
        "#@title カルノーサイクルの動画(その1)\n",
        "%%html\n",
        "<iframe width=\"560\" height=\"315\" src=\"https://www.youtube-nocookie.com/embed/s3N_QJVucF8\" frameborder=\"0\" allow=\"accelerometer; autoplay; encrypted-media; gyroscope; picture-in-picture\" allowfullscreen></iframe>"
      ],
      "execution_count": null,
      "outputs": [
        {
          "output_type": "display_data",
          "data": {
            "text/html": [
              "<iframe width=\"560\" height=\"315\" src=\"https://www.youtube-nocookie.com/embed/s3N_QJVucF8\" frameborder=\"0\" allow=\"accelerometer; autoplay; encrypted-media; gyroscope; picture-in-picture\" allowfullscreen></iframe>"
            ],
            "text/plain": [
              "<IPython.core.display.HTML object>"
            ]
          },
          "metadata": {
            "tags": []
          }
        }
      ]
    },
    {
      "cell_type": "code",
      "metadata": {
        "id": "dG_TXHmVVVey",
        "colab_type": "code",
        "cellView": "form",
        "colab": {
          "base_uri": "https://localhost:8080/",
          "height": 336
        },
        "outputId": "d350736f-4e69-4e68-b90a-86fef6c49e50"
      },
      "source": [
        "#@title カルノーサイクルの動画(その2)\n",
        "%%html\n",
        "<iframe width=\"560\" height=\"315\" src=\"https://www.youtube-nocookie.com/embed/2B81W6nNds0?start=316\" frameborder=\"0\" allow=\"accelerometer; autoplay; encrypted-media; gyroscope; picture-in-picture\" allowfullscreen></iframe>"
      ],
      "execution_count": null,
      "outputs": [
        {
          "output_type": "display_data",
          "data": {
            "text/html": [
              "<iframe width=\"560\" height=\"315\" src=\"https://www.youtube-nocookie.com/embed/2B81W6nNds0?start=316\" frameborder=\"0\" allow=\"accelerometer; autoplay; encrypted-media; gyroscope; picture-in-picture\" allowfullscreen></iframe>"
            ],
            "text/plain": [
              "<IPython.core.display.HTML object>"
            ]
          },
          "metadata": {
            "tags": []
          }
        }
      ]
    },
    {
      "cell_type": "markdown",
      "metadata": {
        "id": "lF5MSdlSajTt",
        "colab_type": "text"
      },
      "source": [
        "### カルノーサイクルの構成\n",
        "\n",
        "1. 高温(High)と低温(Low)の等温変化\n",
        "  - $\\color{#FF0000}{T_{\\rm H}} > \\color{#0000FF}T_{\\rm L}$\n",
        "    - $\\color{#FF0000}{\\Delta T_{\\rm H}}=0$\n",
        "    - $\\color{#0000FF}{\\Delta T_{\\rm L}}=0$\n",
        "    \n",
        "2. それを往復する断熱変化\n",
        "  - $p_{\\rm A}V_{\\rm A}^\\gamma < \\color{green}{p_{\\rm C}V_{\\rm C}^\\gamma}$\n",
        "    - $p_{\\rm D}V_{\\rm D}^\\gamma = p_{\\rm A}V_{\\rm A}^\\gamma$  \n",
        "    - $\\color{green}{p_{\\rm B}V_{\\rm B}^\\gamma = p_{\\rm C}V_{\\rm C}^\\gamma}$"
      ]
    },
    {
      "cell_type": "code",
      "metadata": {
        "id": "8e5J906iZZCU",
        "colab_type": "code",
        "cellView": "form",
        "colab": {
          "base_uri": "https://localhost:8080/",
          "height": 302
        },
        "outputId": "f08dec9d-108b-4563-e54c-602386799996"
      },
      "source": [
        "#@title カルノーサイクルの描画\n",
        "%matplotlib inline\n",
        "\n",
        "import matplotlib.pyplot as plt\n",
        "import numpy as np\n",
        "\n",
        "x = np.linspace(0.001, 20, 50)\n",
        "\n",
        "fig = plt.figure()\n",
        "ax = fig.add_subplot(111)\n",
        "ax.set_ylabel('P [Pa]')\n",
        "ax.set_xlabel('V [m$^3$]')\n",
        "\n",
        "plt.xlim([0,20])\n",
        "plt.ylim([0,13])\n",
        "\n",
        "#ax.set_aspect('equal', adjustable='box')\n",
        "\n",
        "plt.plot(x, 10/x, '--', color=\"b\")\n",
        "plt.plot(x, 2*10/x, '--', color=\"r\")\n",
        "\n",
        "plt.plot(x, 3*10/x**(1.67), '-', color=\"k\")\n",
        "plt.plot(x, 2*3*10/x**(1.67), '-', color=\"g\")"
      ],
      "execution_count": null,
      "outputs": [
        {
          "output_type": "execute_result",
          "data": {
            "text/plain": [
              "[<matplotlib.lines.Line2D at 0x7f022413a9e8>]"
            ]
          },
          "metadata": {
            "tags": []
          },
          "execution_count": 49
        },
        {
          "output_type": "display_data",
          "data": {
            "image/png": "[encoded data removed]",
            "text/plain": [
              "<Figure size 432x288 with 1 Axes>"
            ]
          },
          "metadata": {
            "tags": [],
            "needs_background": "light"
          }
        }
      ]
    },
    {
      "cell_type": "markdown",
      "metadata": {
        "id": "8YbhXP_Se9Nu",
        "colab_type": "text"
      },
      "source": [
        "#### 4つの過程"
      ]
    },
    {
      "cell_type": "markdown",
      "metadata": {
        "id": "wdCahrH-e9K4",
        "colab_type": "text"
      },
      "source": [
        "##### \b簡略化されたカルノーサイクル\n",
        "<img src=\"https://upload.wikimedia.org/wikipedia/commons/0/0d/Carnot-cycle.jpg\" data-canonical-src=\"https://pt.wikipedia.org/wiki/Ciclo_de_Carnot\" width=\"400\" />\n",
        "\n",
        "<!--![https://ru.wikipedia.org/wiki/%D0%A6%D0%B8%D0%BA%D0%BB_%D0%9A%D0%B0%D1%80%D0%BD%D0%BE](https://upload.wikimedia.org/wikipedia/commons/c/c4/%D0%A6%D0%B8%D0%BA%D0%BB_%D0%9A%D0%B0%D1%80%D0%BD%D0%BE_%D0%BD%D0%B0_%D1%82%D0%B5%D1%80%D0%BC%D0%BE%D0%B4%D0%B8%D0%BD%D0%B0%D0%BC%D0%B8%D1%87%D0%B5%D1%81%D0%BA%D0%BE%D0%B9_%D0%BF%D0%BE%D0%B2%D0%B5%D1%80%D1%85%D0%BD%D0%BE%D1%81%D1%82%D0%B8_%D0%B8%D0%B4%D0%B5%D0%B0%D0%BB%D1%8C%D0%BD%D0%BE%D0%B3%D0%BE_%D0%B3%D0%B0%D0%B7%D0%B0.png)-->"
      ]
    }
  ]
}