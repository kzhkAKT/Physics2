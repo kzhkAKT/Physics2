{
  "nbformat": 4,
  "nbformat_minor": 0,
  "metadata": {
    "colab": {
      "name": "3420_熱効率_物理2.ipynb",
      "provenance": [],
      "authorship_tag": "ABX9TyMQ/2BxX6KsI2j5U/wub3Mi",
      "include_colab_link": true
    },
    "kernelspec": {
      "name": "python3",
      "display_name": "Python 3"
    }
  },
  "cells": [
    {
      "cell_type": "markdown",
      "metadata": {
        "id": "view-in-github",
        "colab_type": "text"
      },
      "source": [
        "<a href=\"https://colab.research.google.com/github/kzhkAKT/Physics2/blob/master/3420_%E7%86%B1%E5%8A%B9%E7%8E%87_%E7%89%A9%E7%90%862.ipynb\" target=\"_parent\"><img src=\"https://colab.research.google.com/assets/colab-badge.svg\" alt=\"Open In Colab\"/></a>"
      ]
    },
    {
      "cell_type": "markdown",
      "metadata": {
        "id": "H1Gv8ShIQjcT",
        "colab_type": "text"
      },
      "source": [
        "# 熱力学の第二法則"
      ]
    },
    {
      "cell_type": "markdown",
      "metadata": {
        "id": "kW-KmEXBQnjO",
        "colab_type": "text"
      },
      "source": [
        "## 熱効率 $\\eta$\n",
        "\n",
        "$\\eta$ の[読み方, [ETA]](https://en.wikipedia.org/wiki/Greek_letters_used_in_mathematics,_science,_and_engineering)\n"
      ]
    },
    {
      "cell_type": "code",
      "metadata": {
        "id": "36WjFROqu0tK",
        "colab_type": "code",
        "cellView": "form",
        "colab": {
          "base_uri": "https://localhost:8080/",
          "height": 342
        },
        "outputId": "8f5c3186-ade3-4c44-f5e8-90c9e49aa94e"
      },
      "source": [
        "#@title \b正サイクルと熱効率\n",
        "%%svg\n",
        "<svg xmlns=\"http://www.w3.org/2000/svg\" xmlns:xlink=\"http://www.w3.org/1999/xlink\" version=\"1.1\" width=\"257px\" viewBox=\"-0.5 -0.5 257 321\" content=\"&lt;mxfile host=&quot;app.diagrams.net&quot; modified=&quot;2020-08-07T00:55:08.800Z&quot; agent=&quot;5.0 (Macintosh; Intel Mac OS X 10_10_5) AppleWebKit/537.36 (KHTML, like Gecko) Chrome/84.0.4147.105 Safari/537.36&quot; etag=&quot;crZNOc-Fu_JX5uT1s4GX&quot; version=&quot;13.6.0&quot; type=&quot;google&quot;&gt;&lt;diagram id=&quot;IqefzBJmjiEjrmSx2Wwk&quot; name=&quot;Page-1&quot;&gt;7Vhdj9soFP01SNuHiQzYDn60J+nsSq203ak6u08VsbFjlQSP7UyS/vqCDYlxnGa+MjOt9ilwuFy4cO7hxgBfLjZXJS3mH0XCOEBOsgF4AhCCMHDlj0K2GnGI1yJZmSca2wPX+XdmDDW6yhNWWYa1ELzOCxuMxXLJ4trCaFmKtW2WCm6vWtCMHQDXMeWH6E2e1PMWRUEH/5Pl2Vyv7ELcDiyosdWBVHOaiHUHwlOAL0sh6ra12Fwyrg7PHEs77/2R0d36JVvW95nwdY0+ZeOL26y4/cLRPy68+gteaC93lK90vAD5XPqLUiHdyvOicTvg367UTqMrJsosp3tAhVZvuW2lZl9UzWWG0gCSYtOd4WfN7zQAYQQCAqY+iAgIAzAdAyLbsEFCEMiQHLOj3Mz7bBAZ7A40WLWaGQh17DpwB22DNDCyQkGlWC0Tpk7PkcPreV6z66I9jrUku8Tm9YLLHlQB55xfCi7KZi5OScziWG2nLsU31hmZEc/1nN16d6ys2ebolcIdUWSGMbFgdbmVJnoC1tTSueWO2+56z1Poa5N5l6Maozo1sp3jPX1kQzPoAWxCp9j0YKLci3+GTS6IJoBMz8Qm+HpsSigj6SCb/JiwWXoWNmH02nTCT6cTfjSd/lCkCScgxO/AFAOCQOTpRuiaxvumgZWK3ZMGMmz5crHTFKBV0T5nab5RtOlzIk7YjMyGOIF9HODkeTgxtjkB/UNOkAFKkHNRwh2gRO+E5TtbqGbK2SZUBYA8CbZMdHMSc1pVeWwftgnHRa2xLkPGI4wbQG79X5W5I890/9OJ3HQmG6u31b3+m5DG8fCb0LsxlhyUJL37kjUQLTNWn0qew3vtXJw3cHEGKxmndX5nb2PoNvUKf4u8yUjDMycYeRZzyNj2UYlVGTM9rVu1nPQEvZ6r9igOXDX82kX+eMp5r/qo9V+rTy9T+ygKfqAzWczbosTzbKmSSNKRSfJGSlxyWSyHemCRJ4nyEZVMxk9njT+VC4W6nubCvAh4E4lw5T6i8beseRpNOizFkv1Mu3Sdr13vy+tujhyXjqNCd+GMoONAi2mmOn5sMhgTkaYVOws3/fPKIYJ9OYRvUg7fjsztavAH6xw8Un29kMqNf0mVe2JN/huqnH9K5dDYw7bKoWfJBTTCyJ5zPtkjryF7B/KVomH5SvyZ7/m/gnx5tuYgxzdy9lD56v95RM7LylfwpuTr5p7yFW9juan/JWwgu38uYS551kJNuyZw1K8AnZFPnq5qsrv/ztua77+W4+kP&lt;/diagram&gt;&lt;/mxfile&gt;\" onclick=\"(function(svg){var src=window.event.target||window.event.srcElement;while (src!=null&amp;&amp;src.nodeName.toLowerCase()!='a'){src=src.parentNode;}if(src==null){if(svg.wnd!=null&amp;&amp;!svg.wnd.closed){svg.wnd.focus();}else{var r=function(evt){if(evt.data=='ready'&amp;&amp;evt.source==svg.wnd){svg.wnd.postMessage(decodeURIComponent(svg.getAttribute('content')),'*');window.removeEventListener('message',r);}};window.addEventListener('message',r);svg.wnd=window.open('https://viewer.diagrams.net/?client=1&amp;edit=_blank');}}})(this);\" style=\"cursor:pointer;max-width:100%;max-height:321px;\"><defs/><g><rect x=\"0\" y=\"0\" width=\"160\" height=\"40\" fill=\"#f8cecc\" stroke=\"#b85450\" pointer-events=\"all\"/><g transform=\"translate(-0.5 -0.5)\"><switch><foreignObject style=\"overflow: visible; text-align: left;\" pointer-events=\"none\" width=\"100%\" height=\"100%\" requiredFeatures=\"http://www.w3.org/TR/SVG11/feature#Extensibility\"><div xmlns=\"http://www.w3.org/1999/xhtml\" style=\"display: flex; align-items: unsafe center; justify-content: unsafe center; width: 158px; height: 1px; padding-top: 20px; margin-left: 1px;\"><div style=\"box-sizing: border-box; font-size: 0; text-align: center; \"><div style=\"display: inline-block; font-size: 12px; font-family: Helvetica; color: #000000; line-height: 1.2; pointer-events: all; white-space: normal; word-wrap: normal; \"><font face=\"Georgia\" style=\"font-size: 18px\">高温熱源 <i>T</i><sub>2</sub></font></div></div></div></foreignObject><text x=\"80\" y=\"24\" fill=\"#000000\" font-family=\"Helvetica\" font-size=\"12px\" text-anchor=\"middle\">高温熱源 T2</text></switch></g><rect x=\"0\" y=\"280\" width=\"160\" height=\"40\" fill=\"#dae8fc\" stroke=\"#6c8ebf\" pointer-events=\"all\"/><g transform=\"translate(-0.5 -0.5)\"><switch><foreignObject style=\"overflow: visible; text-align: left;\" pointer-events=\"none\" width=\"100%\" height=\"100%\" requiredFeatures=\"http://www.w3.org/TR/SVG11/feature#Extensibility\"><div xmlns=\"http://www.w3.org/1999/xhtml\" style=\"display: flex; align-items: unsafe center; justify-content: unsafe center; width: 158px; height: 1px; padding-top: 300px; margin-left: 1px;\"><div style=\"box-sizing: border-box; font-size: 0; text-align: center; \"><div style=\"display: inline-block; font-size: 12px; font-family: Helvetica; color: #000000; line-height: 1.2; pointer-events: all; white-space: normal; word-wrap: normal; \"><font style=\"font-size: 18px\" face=\"Georgia\">低温熱源 <i>T</i><sub>1</sub></font></div></div></div></foreignObject><text x=\"80\" y=\"304\" fill=\"#000000\" font-family=\"Helvetica\" font-size=\"12px\" text-anchor=\"middle\">低温熱源 T1</text></switch></g><ellipse cx=\"80\" cy=\"160\" rx=\"40\" ry=\"40\" fill=\"#cdeb8b\" stroke=\"#36393d\" pointer-events=\"all\"/><g transform=\"translate(-0.5 -0.5)\"><switch><foreignObject style=\"overflow: visible; text-align: left;\" pointer-events=\"none\" width=\"100%\" height=\"100%\" requiredFeatures=\"http://www.w3.org/TR/SVG11/feature#Extensibility\"><div xmlns=\"http://www.w3.org/1999/xhtml\" style=\"display: flex; align-items: unsafe center; justify-content: unsafe center; width: 78px; height: 1px; padding-top: 160px; margin-left: 41px;\"><div style=\"box-sizing: border-box; font-size: 0; text-align: center; \"><div style=\"display: inline-block; font-size: 12px; font-family: Helvetica; color: #000000; line-height: 1.2; pointer-events: all; white-space: normal; word-wrap: normal; \"><font style=\"font-size: 13px\" face=\"Georgia\">(正)サイクル</font></div></div></div></foreignObject><text x=\"80\" y=\"164\" fill=\"#000000\" font-family=\"Helvetica\" font-size=\"12px\" text-anchor=\"middle\">(正)サイクル</text></switch></g><path d=\"M 58.5 40.63 L 100.5 40.37 L 100.85 96.38 L 111.35 96.31 L 80 119.5 L 48.35 96.71 L 58.85 96.64 Z\" fill=\"#ffcccc\" stroke=\"#36393d\" stroke-linejoin=\"round\" stroke-miterlimit=\"10\" pointer-events=\"all\"/><g transform=\"translate(-0.5 -0.5)\"><switch><foreignObject style=\"overflow: visible; text-align: left;\" pointer-events=\"none\" width=\"100%\" height=\"100%\" requiredFeatures=\"http://www.w3.org/TR/SVG11/feature#Extensibility\"><div xmlns=\"http://www.w3.org/1999/xhtml\" style=\"display: flex; align-items: unsafe center; justify-content: unsafe center; width: 1px; height: 1px; padding-top: 77px; margin-left: 79px;\"><div style=\"box-sizing: border-box; font-size: 0; text-align: center; \"><div style=\"display: inline-block; font-size: 11px; font-family: Helvetica; color: #000000; line-height: 1.2; pointer-events: all; white-space: nowrap; \"><font style=\"font-size: 18px\" face=\"Georgia\"><i>Q</i><sub>2</sub></font></div></div></div></foreignObject><text x=\"79\" y=\"80\" fill=\"#000000\" font-family=\"Helvetica\" font-size=\"11px\" text-anchor=\"middle\">Q2</text></switch></g><path d=\"M 69 200.57 L 90 200.43 L 90.35 256.5 L 100.85 256.44 L 80 279.5 L 58.85 256.7 L 69.35 256.64 Z\" fill=\"#ffcccc\" stroke=\"#36393d\" stroke-linejoin=\"round\" stroke-miterlimit=\"10\" pointer-events=\"all\"/><g transform=\"translate(-0.5 -0.5)\"><switch><foreignObject style=\"overflow: visible; text-align: left;\" pointer-events=\"none\" width=\"100%\" height=\"100%\" requiredFeatures=\"http://www.w3.org/TR/SVG11/feature#Extensibility\"><div xmlns=\"http://www.w3.org/1999/xhtml\" style=\"display: flex; align-items: unsafe center; justify-content: unsafe center; width: 1px; height: 1px; padding-top: 230px; margin-left: 81px;\"><div style=\"box-sizing: border-box; font-size: 0; text-align: center; \"><div style=\"display: inline-block; font-size: 11px; font-family: Helvetica; color: #000000; line-height: 1.2; pointer-events: all; white-space: nowrap; \"><font style=\"font-size: 18px\" face=\"Georgia\"><i>Q</i><sub>1</sub></font></div></div></div></foreignObject><text x=\"81\" y=\"233\" fill=\"#000000\" font-family=\"Helvetica\" font-size=\"11px\" text-anchor=\"middle\">Q1</text></switch></g><path d=\"M 120.43 170 L 120.57 149 L 176.64 149.35 L 176.7 138.85 L 199.5 160 L 176.44 180.85 L 176.5 170.35 Z\" fill=\"#fff2cc\" stroke=\"#d6b656\" stroke-linejoin=\"round\" stroke-miterlimit=\"10\" pointer-events=\"all\"/><g transform=\"translate(-0.5 -0.5)\"><switch><foreignObject style=\"overflow: visible; text-align: left;\" pointer-events=\"none\" width=\"100%\" height=\"100%\" requiredFeatures=\"http://www.w3.org/TR/SVG11/feature#Extensibility\"><div xmlns=\"http://www.w3.org/1999/xhtml\" style=\"display: flex; align-items: unsafe center; justify-content: unsafe center; width: 1px; height: 1px; padding-top: 161px; margin-left: 231px;\"><div style=\"box-sizing: border-box; font-size: 0; text-align: center; \"><div style=\"display: inline-block; font-size: 11px; font-family: Helvetica; color: #000000; line-height: 1.2; pointer-events: all; white-space: nowrap; \"><font style=\"font-size: 18px\" face=\"Georgia\"><i>W</i><sub>cycle</sub></font></div></div></div></foreignObject><text x=\"231\" y=\"164\" fill=\"#000000\" font-family=\"Helvetica\" font-size=\"11px\" text-anchor=\"middle\">Wcycle</text></switch></g></g><switch><g requiredFeatures=\"http://www.w3.org/TR/SVG11/feature#Extensibility\"/><a transform=\"translate(0,-5)\" xlink:href=\"https://desk.draw.io/support/solutions/articles/16000042487\" target=\"_blank\"><text text-anchor=\"middle\" font-size=\"10px\" x=\"50%\" y=\"100%\">Viewer does not support full SVG 1.1</text></a></switch></svg>"
      ],
      "execution_count": null,
      "outputs": [
        {
          "output_type": "display_data",
          "data": {
            "text/plain": [
              "<IPython.core.display.SVG object>"
            ],
            "image/svg+xml": "<svg content=\"&lt;mxfile host=&quot;app.diagrams.net&quot; modified=&quot;2020-08-07T00:55:08.800Z&quot; agent=&quot;5.0 (Macintosh; Intel Mac OS X 10_10_5) AppleWebKit/537.36 (KHTML, like Gecko) Chrome/84.0.4147.105 Safari/537.36&quot; etag=&quot;crZNOc-Fu_JX5uT1s4GX&quot; version=&quot;13.6.0&quot; type=&quot;google&quot;&gt;&lt;diagram id=&quot;IqefzBJmjiEjrmSx2Wwk&quot; name=&quot;Page-1&quot;&gt;7Vhdj9soFP01SNuHiQzYDn60J+nsSq203ak6u08VsbFjlQSP7UyS/vqCDYlxnGa+MjOt9ilwuFy4cO7hxgBfLjZXJS3mH0XCOEBOsgF4AhCCMHDlj0K2GnGI1yJZmSca2wPX+XdmDDW6yhNWWYa1ELzOCxuMxXLJ4trCaFmKtW2WCm6vWtCMHQDXMeWH6E2e1PMWRUEH/5Pl2Vyv7ELcDiyosdWBVHOaiHUHwlOAL0sh6ra12Fwyrg7PHEs77/2R0d36JVvW95nwdY0+ZeOL26y4/cLRPy68+gteaC93lK90vAD5XPqLUiHdyvOicTvg367UTqMrJsosp3tAhVZvuW2lZl9UzWWG0gCSYtOd4WfN7zQAYQQCAqY+iAgIAzAdAyLbsEFCEMiQHLOj3Mz7bBAZ7A40WLWaGQh17DpwB22DNDCyQkGlWC0Tpk7PkcPreV6z66I9jrUku8Tm9YLLHlQB55xfCi7KZi5OScziWG2nLsU31hmZEc/1nN16d6ys2ebolcIdUWSGMbFgdbmVJnoC1tTSueWO2+56z1Poa5N5l6Maozo1sp3jPX1kQzPoAWxCp9j0YKLci3+GTS6IJoBMz8Qm+HpsSigj6SCb/JiwWXoWNmH02nTCT6cTfjSd/lCkCScgxO/AFAOCQOTpRuiaxvumgZWK3ZMGMmz5crHTFKBV0T5nab5RtOlzIk7YjMyGOIF9HODkeTgxtjkB/UNOkAFKkHNRwh2gRO+E5TtbqGbK2SZUBYA8CbZMdHMSc1pVeWwftgnHRa2xLkPGI4wbQG79X5W5I890/9OJ3HQmG6u31b3+m5DG8fCb0LsxlhyUJL37kjUQLTNWn0qew3vtXJw3cHEGKxmndX5nb2PoNvUKf4u8yUjDMycYeRZzyNj2UYlVGTM9rVu1nPQEvZ6r9igOXDX82kX+eMp5r/qo9V+rTy9T+ygKfqAzWczbosTzbKmSSNKRSfJGSlxyWSyHemCRJ4nyEZVMxk9njT+VC4W6nubCvAh4E4lw5T6i8beseRpNOizFkv1Mu3Sdr13vy+tujhyXjqNCd+GMoONAi2mmOn5sMhgTkaYVOws3/fPKIYJ9OYRvUg7fjsztavAH6xw8Un29kMqNf0mVe2JN/huqnH9K5dDYw7bKoWfJBTTCyJ5zPtkjryF7B/KVomH5SvyZ7/m/gnx5tuYgxzdy9lD56v95RM7LylfwpuTr5p7yFW9juan/JWwgu38uYS551kJNuyZw1K8AnZFPnq5qsrv/ztua77+W4+kP&lt;/diagram&gt;&lt;/mxfile&gt;\" onclick=\"(function(svg){var src=window.event.target||window.event.srcElement;while (src!=null&amp;&amp;src.nodeName.toLowerCase()!='a'){src=src.parentNode;}if(src==null){if(svg.wnd!=null&amp;&amp;!svg.wnd.closed){svg.wnd.focus();}else{var r=function(evt){if(evt.data=='ready'&amp;&amp;evt.source==svg.wnd){svg.wnd.postMessage(decodeURIComponent(svg.getAttribute('content')),'*');window.removeEventListener('message',r);}};window.addEventListener('message',r);svg.wnd=window.open('https://viewer.diagrams.net/?client=1&amp;edit=_blank');}}})(this);\" style=\"cursor:pointer;max-width:100%;max-height:321px;\" version=\"1.1\" viewBox=\"-0.5 -0.5 257 321\" width=\"257px\" xmlns=\"http://www.w3.org/2000/svg\" xmlns:xlink=\"http://www.w3.org/1999/xlink\"><defs/><g><rect fill=\"#f8cecc\" height=\"40\" pointer-events=\"all\" stroke=\"#b85450\" width=\"160\" x=\"0\" y=\"0\"/><g transform=\"translate(-0.5 -0.5)\"><switch><foreignObject height=\"100%\" pointer-events=\"none\" requiredFeatures=\"http://www.w3.org/TR/SVG11/feature#Extensibility\" style=\"overflow: visible; text-align: left;\" width=\"100%\"><div style=\"display: flex; align-items: unsafe center; justify-content: unsafe center; width: 158px; height: 1px; padding-top: 20px; margin-left: 1px;\" xmlns=\"http://www.w3.org/1999/xhtml\"><div style=\"box-sizing: border-box; font-size: 0; text-align: center; \"><div style=\"display: inline-block; font-size: 12px; font-family: Helvetica; color: #000000; line-height: 1.2; pointer-events: all; white-space: normal; word-wrap: normal; \"><font face=\"Georgia\" style=\"font-size: 18px\">高温熱源 <i>T</i><sub>2</sub></font></div></div></div></foreignObject><text fill=\"#000000\" font-family=\"Helvetica\" font-size=\"12px\" text-anchor=\"middle\" x=\"80\" y=\"24\">高温熱源 T2</text></switch></g><rect fill=\"#dae8fc\" height=\"40\" pointer-events=\"all\" stroke=\"#6c8ebf\" width=\"160\" x=\"0\" y=\"280\"/><g transform=\"translate(-0.5 -0.5)\"><switch><foreignObject height=\"100%\" pointer-events=\"none\" requiredFeatures=\"http://www.w3.org/TR/SVG11/feature#Extensibility\" style=\"overflow: visible; text-align: left;\" width=\"100%\"><div style=\"display: flex; align-items: unsafe center; justify-content: unsafe center; width: 158px; height: 1px; padding-top: 300px; margin-left: 1px;\" xmlns=\"http://www.w3.org/1999/xhtml\"><div style=\"box-sizing: border-box; font-size: 0; text-align: center; \"><div style=\"display: inline-block; font-size: 12px; font-family: Helvetica; color: #000000; line-height: 1.2; pointer-events: all; white-space: normal; word-wrap: normal; \"><font face=\"Georgia\" style=\"font-size: 18px\">低温熱源 <i>T</i><sub>1</sub></font></div></div></div></foreignObject><text fill=\"#000000\" font-family=\"Helvetica\" font-size=\"12px\" text-anchor=\"middle\" x=\"80\" y=\"304\">低温熱源 T1</text></switch></g><ellipse cx=\"80\" cy=\"160\" fill=\"#cdeb8b\" pointer-events=\"all\" rx=\"40\" ry=\"40\" stroke=\"#36393d\"/><g transform=\"translate(-0.5 -0.5)\"><switch><foreignObject height=\"100%\" pointer-events=\"none\" requiredFeatures=\"http://www.w3.org/TR/SVG11/feature#Extensibility\" style=\"overflow: visible; text-align: left;\" width=\"100%\"><div style=\"display: flex; align-items: unsafe center; justify-content: unsafe center; width: 78px; height: 1px; padding-top: 160px; margin-left: 41px;\" xmlns=\"http://www.w3.org/1999/xhtml\"><div style=\"box-sizing: border-box; font-size: 0; text-align: center; \"><div style=\"display: inline-block; font-size: 12px; font-family: Helvetica; color: #000000; line-height: 1.2; pointer-events: all; white-space: normal; word-wrap: normal; \"><font face=\"Georgia\" style=\"font-size: 13px\">(正)サイクル</font></div></div></div></foreignObject><text fill=\"#000000\" font-family=\"Helvetica\" font-size=\"12px\" text-anchor=\"middle\" x=\"80\" y=\"164\">(正)サイクル</text></switch></g><path d=\"M 58.5 40.63 L 100.5 40.37 L 100.85 96.38 L 111.35 96.31 L 80 119.5 L 48.35 96.71 L 58.85 96.64 Z\" fill=\"#ffcccc\" pointer-events=\"all\" stroke=\"#36393d\" stroke-linejoin=\"round\" stroke-miterlimit=\"10\"/><g transform=\"translate(-0.5 -0.5)\"><switch><foreignObject height=\"100%\" pointer-events=\"none\" requiredFeatures=\"http://www.w3.org/TR/SVG11/feature#Extensibility\" style=\"overflow: visible; text-align: left;\" width=\"100%\"><div style=\"display: flex; align-items: unsafe center; justify-content: unsafe center; width: 1px; height: 1px; padding-top: 77px; margin-left: 79px;\" xmlns=\"http://www.w3.org/1999/xhtml\"><div style=\"box-sizing: border-box; font-size: 0; text-align: center; \"><div style=\"display: inline-block; font-size: 11px; font-family: Helvetica; color: #000000; line-height: 1.2; pointer-events: all; white-space: nowrap; \"><font face=\"Georgia\" style=\"font-size: 18px\"><i>Q</i><sub>2</sub></font></div></div></div></foreignObject><text fill=\"#000000\" font-family=\"Helvetica\" font-size=\"11px\" text-anchor=\"middle\" x=\"79\" y=\"80\">Q2</text></switch></g><path d=\"M 69 200.57 L 90 200.43 L 90.35 256.5 L 100.85 256.44 L 80 279.5 L 58.85 256.7 L 69.35 256.64 Z\" fill=\"#ffcccc\" pointer-events=\"all\" stroke=\"#36393d\" stroke-linejoin=\"round\" stroke-miterlimit=\"10\"/><g transform=\"translate(-0.5 -0.5)\"><switch><foreignObject height=\"100%\" pointer-events=\"none\" requiredFeatures=\"http://www.w3.org/TR/SVG11/feature#Extensibility\" style=\"overflow: visible; text-align: left;\" width=\"100%\"><div style=\"display: flex; align-items: unsafe center; justify-content: unsafe center; width: 1px; height: 1px; padding-top: 230px; margin-left: 81px;\" xmlns=\"http://www.w3.org/1999/xhtml\"><div style=\"box-sizing: border-box; font-size: 0; text-align: center; \"><div style=\"display: inline-block; font-size: 11px; font-family: Helvetica; color: #000000; line-height: 1.2; pointer-events: all; white-space: nowrap; \"><font face=\"Georgia\" style=\"font-size: 18px\"><i>Q</i><sub>1</sub></font></div></div></div></foreignObject><text fill=\"#000000\" font-family=\"Helvetica\" font-size=\"11px\" text-anchor=\"middle\" x=\"81\" y=\"233\">Q1</text></switch></g><path d=\"M 120.43 170 L 120.57 149 L 176.64 149.35 L 176.7 138.85 L 199.5 160 L 176.44 180.85 L 176.5 170.35 Z\" fill=\"#fff2cc\" pointer-events=\"all\" stroke=\"#d6b656\" stroke-linejoin=\"round\" stroke-miterlimit=\"10\"/><g transform=\"translate(-0.5 -0.5)\"><switch><foreignObject height=\"100%\" pointer-events=\"none\" requiredFeatures=\"http://www.w3.org/TR/SVG11/feature#Extensibility\" style=\"overflow: visible; text-align: left;\" width=\"100%\"><div style=\"display: flex; align-items: unsafe center; justify-content: unsafe center; width: 1px; height: 1px; padding-top: 161px; margin-left: 231px;\" xmlns=\"http://www.w3.org/1999/xhtml\"><div style=\"box-sizing: border-box; font-size: 0; text-align: center; \"><div style=\"display: inline-block; font-size: 11px; font-family: Helvetica; color: #000000; line-height: 1.2; pointer-events: all; white-space: nowrap; \"><font face=\"Georgia\" style=\"font-size: 18px\"><i>W</i><sub>cycle</sub></font></div></div></div></foreignObject><text fill=\"#000000\" font-family=\"Helvetica\" font-size=\"11px\" text-anchor=\"middle\" x=\"231\" y=\"164\">Wcycle</text></switch></g></g><switch><g requiredFeatures=\"http://www.w3.org/TR/SVG11/feature#Extensibility\"/><a target=\"_blank\" transform=\"translate(0,-5)\" xlink:href=\"https://desk.draw.io/support/solutions/articles/16000042487\"><text font-size=\"10px\" text-anchor=\"middle\" x=\"50%\" y=\"100%\">Viewer does not support full SVG 1.1</text></a></switch></svg>"
          },
          "metadata": {
            "tags": []
          }
        }
      ]
    },
    {
      "cell_type": "markdown",
      "metadata": {
        "id": "8eIzTEMrREO6",
        "colab_type": "text"
      },
      "source": [
        "### $\\eta$ の定義\n",
        "\n",
        "上の (正) サイクルを見ながら確認すると\n",
        "- $W_{\\rm cycle} = Q_2 - Q_1 $\n",
        "- $Q_2 > Q_1$ を満たさない限り,   \n",
        "  外部に仕事が取り出せない($W_{\\rm cycle} > 0$)\n",
        "\n",
        "これらを踏まえると\n",
        "> 元の熱源から得られた熱量 $Q_2$ が, どれだけ外部への仕事として取り出されたか?\n",
        "\n",
        "という割合を熱効率 $\\eta$ として定義できる. \n",
        ">> 熱効率 $\\eta$ = (外部にした正味の仕事)/(高温熱源から吸収した熱量)\n",
        "\n",
        ">> \\begin{align*}\n",
        "\\eta &= \\dfrac{W_{\\rm cycle}}{Q_2}&\n",
        "\\end{align*}\n",
        "\n",
        "この熱効率 $\\eta$ については, (正) カルノーサイクルに従って,  \n",
        "$W_{\\rm cycle}$ を吸収した熱量 $Q_2$ と排熱した熱量 $Q_1$ で示すと\n",
        "\\begin{align*}\n",
        "\\eta &= \\dfrac{W_{\\rm cycle}}{Q_2}&\\\\\n",
        "&= \\dfrac{Q_2 - Q_1}{Q_2} = 1 - \\dfrac{Q_1}{Q_2}\n",
        "\\end{align*}\n",
        "と変形できます"
      ]
    },
    {
      "cell_type": "markdown",
      "metadata": {
        "id": "M50KjaAnTWY6",
        "colab_type": "text"
      },
      "source": [
        "排熱量 $Q_1$ を ゼロ にできれば, 熱効率 $\\eta$ は 1, つまり熱効率 100% なりますが,  \n",
        "自然はそんなに甘くなく, **排熱量 $Q_1$ を ゼロ にすることはできません**.\n",
        "\n",
        ">> **$\\eta=1$ となるような, (第2種)永久機関を作ることはできません**\n",
        "\n",
        "この考え方を, **熱力学第二法則** として後でまとめます."
      ]
    },
    {
      "cell_type": "markdown",
      "metadata": {
        "id": "KRDCVexCU7RQ",
        "colab_type": "text"
      },
      "source": [
        "### 熱量 $Q$ と熱源温度 $T$"
      ]
    },
    {
      "cell_type": "markdown",
      "metadata": {
        "id": "1oYfSnC0VT2S",
        "colab_type": "text"
      },
      "source": [
        "カルノーは熱量で表現された熱効率 $\\eta$ を, 熱源の温度で表現する表式を,  \n",
        "絶対温度を定義しながら, 証明しました.\n",
        "\n",
        "証明は今回紹介しませんが, (正) カルノーサイクル におけるその結果は, \n",
        "\\begin{align*}\n",
        "\\eta =  1 - \\dfrac{Q_1}{Q_2} \\leqq 1  - \\dfrac{T_1}{T_2} \n",
        "\\end{align*}\n",
        "ここで, \n",
        "- $T_2$ は, サイクルに熱量 $Q_2$ を供給する, 高温熱源の(絶対)温度\n",
        "- $T_1$ は, サイクルから熱量 $Q_1$ を排出する, 低温熱源の(絶対)温度\n",
        "\n",
        "です.\n",
        "\n",
        "熱効率 $\\eta$ の(絶対)温度による表現からもわかるように,   \n",
        "到達不可能な絶対零度を作らない限り $\\eta=1$ のサイクルを作ることはできません."
      ]
    }
  ]
}