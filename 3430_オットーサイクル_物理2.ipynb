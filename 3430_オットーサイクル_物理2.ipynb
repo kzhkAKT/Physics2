{
  "nbformat": 4,
  "nbformat_minor": 0,
  "metadata": {
    "colab": {
      "name": "3430_オットーサイクル_物理2.ipynb",
      "provenance": [],
      "authorship_tag": "ABX9TyPz6YE1vNWQ1hleRODQQjCk",
      "include_colab_link": true
    },
    "kernelspec": {
      "name": "python3",
      "display_name": "Python 3"
    }
  },
  "cells": [
    {
      "cell_type": "markdown",
      "metadata": {
        "id": "view-in-github",
        "colab_type": "text"
      },
      "source": [
        "<a href=\"https://colab.research.google.com/github/kzhkAKT/Physics2/blob/draft/3430_%E3%82%AA%E3%83%83%E3%83%88%E3%83%BC%E3%82%B5%E3%82%A4%E3%82%AF%E3%83%AB_%E7%89%A9%E7%90%862.ipynb\" target=\"_parent\"><img src=\"https://colab.research.google.com/assets/colab-badge.svg\" alt=\"Open In Colab\"/></a>"
      ]
    },
    {
      "cell_type": "markdown",
      "metadata": {
        "id": "WqPLqgF5Z7vF",
        "colab_type": "text"
      },
      "source": [
        "# 熱力学第2法則"
      ]
    },
    {
      "cell_type": "markdown",
      "metadata": {
        "id": "1NfOTU8pZ_5t",
        "colab_type": "text"
      },
      "source": [
        "## オットーサイクル\n",
        "\n",
        "ガソリンエンジンの基本 ~ 4ストロークエンジン ~ 発明者 Nicolaus Otto  \n",
        "// 直下の写真は同一人物\n",
        "\n",
        "![Nicolaus Otto, young](https://upload.wikimedia.org/wikipedia/commons/4/4a/Nikolaus_August_Otto.png)\n",
        "![Nicolaus Otto, old](https://upload.wikimedia.org/wikipedia/commons/d/df/Nicolaus-August-Otto.jpg)\n",
        "\n",
        "![Four-stroke engine](https://upload.wikimedia.org/wikipedia/commons/thumb/f/f2/PSM_V18_D500_An_american_internal_combustion_otto_engine.jpg/640px-PSM_V18_D500_An_american_internal_combustion_otto_engine.jpg)\n"
      ]
    },
    {
      "cell_type": "markdown",
      "metadata": {
        "id": "2dP28lsv3Bif",
        "colab_type": "text"
      },
      "source": [
        "### 歴史の狭間\n",
        "\n",
        "[Alphonse Beau de Rochas](https://en.wikipedia.org/wiki/Otto_cycle#History)  \n",
        "![https://en.wikipedia.org/wiki/Alphonse_Beau_de_Rochas](https://upload.wikimedia.org/wikipedia/commons/f/f3/Beauderochas.jpg),\n",
        "\n",
        "[Eugenio Barsanti](https://en.wikipedia.org/wiki/Eugenio_Barsanti)  \n",
        "[Felice Matteucci](https://en.wikipedia.org/wiki/Felice_Matteucci)  \n",
        "![https://en.wikipedia.org/wiki/Eugenio_Barsanti](https://upload.wikimedia.org/wikipedia/it/f/f2/Eugenio_Barsanti_Felice_Matteucci_francobollo.jpg)\n",
        "![](https://upload.wikimedia.org/wikipedia/commons/thumb/3/34/Osservatorio_ximeniano%2C_modello_del_motore_a_scoppio_barsanti-matteucci_03.JPG/345px-Osservatorio_ximeniano%2C_modello_del_motore_a_scoppio_barsanti-matteucci_03.JPG)\n",
        "\n",
        "\n"
      ]
    },
    {
      "cell_type": "code",
      "metadata": {
        "id": "5doQJrAUgojs",
        "colab_type": "code",
        "cellView": "form",
        "colab": {
          "base_uri": "https://localhost:8080/",
          "height": 336
        },
        "outputId": "b7b1fcdc-e596-4b42-ae3b-a94b2d9b18ee"
      },
      "source": [
        "#@title The Otto Silent 7 HP 1884\n",
        "%%html\n",
        "<iframe width=\"560\" height=\"315\" src=\"https://www.youtube-nocookie.com/embed/MH3U49n4g2M?start=142\" frameborder=\"0\" allow=\"accelerometer; autoplay; encrypted-media; gyroscope; picture-in-picture\" allowfullscreen></iframe>"
      ],
      "execution_count": null,
      "outputs": [
        {
          "output_type": "display_data",
          "data": {
            "text/html": [
              "<iframe width=\"560\" height=\"315\" src=\"https://www.youtube-nocookie.com/embed/MH3U49n4g2M?start=142\" frameborder=\"0\" allow=\"accelerometer; autoplay; encrypted-media; gyroscope; picture-in-picture\" allowfullscreen></iframe>"
            ],
            "text/plain": [
              "<IPython.core.display.HTML object>"
            ]
          },
          "metadata": {
            "tags": []
          }
        }
      ]
    },
    {
      "cell_type": "markdown",
      "metadata": {
        "id": "MxolRa0Igs7E",
        "colab_type": "text"
      },
      "source": [
        "### 現代版"
      ]
    },
    {
      "cell_type": "code",
      "metadata": {
        "id": "lnqrM5_IZhqC",
        "colab_type": "code",
        "cellView": "form",
        "colab": {
          "base_uri": "https://localhost:8080/",
          "height": 336
        },
        "outputId": "8e71bed2-a9d1-4ff6-8cb7-450ab0954951"
      },
      "source": [
        "#@title How 4-Stroke Gasoline Engines Work! (Otto cycle)\n",
        "%%html\n",
        "<iframe width=\"560\" height=\"315\" src=\"https://www.youtube-nocookie.com/embed/fNcZDrfT498\" frameborder=\"0\" allow=\"accelerometer; autoplay; encrypted-media; gyroscope; picture-in-picture\" allowfullscreen></iframe>"
      ],
      "execution_count": null,
      "outputs": [
        {
          "output_type": "display_data",
          "data": {
            "text/html": [
              "<iframe width=\"560\" height=\"315\" src=\"https://www.youtube-nocookie.com/embed/fNcZDrfT498\" frameborder=\"0\" allow=\"accelerometer; autoplay; encrypted-media; gyroscope; picture-in-picture\" allowfullscreen></iframe>"
            ],
            "text/plain": [
              "<IPython.core.display.HTML object>"
            ]
          },
          "metadata": {
            "tags": []
          }
        }
      ]
    },
    {
      "cell_type": "markdown",
      "metadata": {
        "id": "wV720QzXeQuV",
        "colab_type": "text"
      },
      "source": [
        "https://en.wikipedia.org/wiki/Four-stroke_engine\n",
        "\n",
        "<img src=\"https://upload.wikimedia.org/wikipedia/commons/d/dc/4StrokeEngine_Ortho_3D_Small.gif\" alt=\"https://fr.wikipedia.org/wiki/Cycle_de_Beau_de_Rochas\" width=250px>\n"
      ]
    },
    {
      "cell_type": "markdown",
      "metadata": {
        "id": "UfvYFMVejU80",
        "colab_type": "text"
      },
      "source": [
        "### 主な4サイクル\n",
        "吸引 > 圧縮 > 膨張 > 排気\n",
        "\n",
        "intake > compression > power > exhaust\n",
        "\n",
        "//図も左から順に同じ並び\n",
        "\n",
        "<img src=\"https://upload.wikimedia.org/wikipedia/commons/4/45/Four_stroke_cycle_intake.png\" alt=\"intake\" width=22%>\n",
        "<img src=\"https://upload.wikimedia.org/wikipedia/commons/7/7b/Four_stroke_cycle_compression.png\" alt=\"compression\" width=22%>\n",
        "<img src=\"https://upload.wikimedia.org/wikipedia/commons/c/cb/Four_stroke_cycle_power.png\" alt=\"power\" width=22%>\n",
        "<img src=\"https://upload.wikimedia.org/wikipedia/commons/b/b1/Four_stroke_cycle_exhaust.png\" alt=\"exhaust\" width=22%>\n"
      ]
    },
    {
      "cell_type": "markdown",
      "metadata": {
        "id": "xWk_trUElOcC",
        "colab_type": "text"
      },
      "source": [
        "#### 実際のサイクル\n",
        "\n",
        "(始動>) 吸引 > 圧縮 > ( 燃焼 >) 膨張 > 排気  \n",
        "(start >) intake > compression > (spark >) power > exhaust\n",
        "\n",
        "//図も左から順に同じ並び\n",
        "\n",
        "<img src=\"https://upload.wikimedia.org/wikipedia/commons/9/98/Four_stroke_cycle_start.png\" alt=\"start\" width=15%>\n",
        "<img src=\"https://upload.wikimedia.org/wikipedia/commons/4/45/Four_stroke_cycle_intake.png\" alt=\"intake\" width=15%>\n",
        "<img src=\"https://upload.wikimedia.org/wikipedia/commons/7/7b/Four_stroke_cycle_compression.png\" alt=\"compression\" width=15%>\n",
        "<img src=\"https://upload.wikimedia.org/wikipedia/commons/c/ce/Four_stroke_cycle_spark.png\" alt=\"spark\" width=15%>\n",
        "<img src=\"https://upload.wikimedia.org/wikipedia/commons/c/cb/Four_stroke_cycle_power.png\" alt=\"power\" width=15%>\n",
        "<img src=\"https://upload.wikimedia.org/wikipedia/commons/b/b1/Four_stroke_cycle_exhaust.png\" alt=\"exhaust\" width=15%>"
      ]
    },
    {
      "cell_type": "markdown",
      "metadata": {
        "id": "0flonKubiwAl",
        "colab_type": "text"
      },
      "source": [
        "### 理想的なオットーサイクル"
      ]
    },
    {
      "cell_type": "markdown",
      "metadata": {
        "id": "RUe0C5YYnpB8",
        "colab_type": "text"
      },
      "source": [
        "![https://es.wikipedia.org/wiki/Ciclo_Otto#Ciclo_de_4_tiempos_(2_vueltas_de_cig%C3%BCe%C3%B1al)](https://upload.wikimedia.org/wikipedia/commons/0/0b/Ciclo-otto-exacto.png)"
      ]
    },
    {
      "cell_type": "markdown",
      "metadata": {
        "id": "FJdf9t5ztlem",
        "colab_type": "text"
      },
      "source": [
        "理想的なオットーサイクルでは\n",
        "\n",
        "- $V_{\\rm A} > V_{\\rm B}$\n",
        "- $V_{\\rm A}=V_{\\rm D}$\n",
        "- $V_{\\rm B}=V_{\\rm C}$  \n",
        "\n",
        "となることをグラフで確認しておいてください."
      ]
    },
    {
      "cell_type": "markdown",
      "metadata": {
        "id": "ryuELdiqubyU",
        "colab_type": "text"
      },
      "source": [
        "#### 熱力学過程"
      ]
    },
    {
      "cell_type": "markdown",
      "metadata": {
        "id": "D-kV3_QFn08O",
        "colab_type": "text"
      },
      "source": [
        "##### 過程1: A -> B | 断熱圧縮\n",
        "\n",
        "ピストンが瞬間的に上昇し, 混合気体が可逆的に **断熱** 圧縮されます.\n",
        "\n",
        "<img src=\"https://upload.wikimedia.org/wikipedia/commons/7/7b/Four_stroke_cycle_compression.png\" alt=\"compression\" width=15%>\n",
        "\n",
        "\\begin{align*}\n",
        "T_{\\rm A} V_{\\rm A} ^{\\gamma -1} = T_{\\rm B} V_{\\rm B} ^{\\gamma -1}\n",
        "\\end{align*}\n",
        "ここで $\\gamma=\\dfrac{C_P}{C_V}$ となる比熱比です."
      ]
    },
    {
      "cell_type": "markdown",
      "metadata": {
        "id": "xUkoSh20o06p",
        "colab_type": "text"
      },
      "source": [
        "##### 過程2: B -> C | 定積加熱\n",
        "\n",
        "ガソリンが燃焼し, 瞬間的に熱量 $Q_1$ が加えられるので, **定積** 変化となります.\n",
        "\n",
        "<img src=\"https://upload.wikimedia.org/wikipedia/commons/c/ce/Four_stroke_cycle_spark.png\" alt=\"spark\" width=15%>\n",
        "\n",
        "閉じ込められた $n$ mol の気体に対し, 燃焼後も $n$ は変化しないとして,  \n",
        "定積モル比熱 $C_V$ を利用し, 熱量 $Q_1$ を表すと\n",
        "\\begin{align*}\n",
        "Q_1 = n C_V \\left( T_{\\rm C} - T_{\\rm B} \\right).\n",
        "\\end{align*}"
      ]
    },
    {
      "cell_type": "markdown",
      "metadata": {
        "colab_type": "text",
        "id": "O3piIqMTq66j"
      },
      "source": [
        "##### 過程3: C -> D | 断熱膨張\n",
        "\n",
        "ピストンが瞬間的に押し下げられ, 気体が可逆的に断熱膨張します.\n",
        "\n",
        "<img src=\"https://upload.wikimedia.org/wikipedia/commons/c/cb/Four_stroke_cycle_power.png\" alt=\"power\" width=15%>\n",
        "\n",
        "\\begin{align*}\n",
        "T_{\\rm C} V_{\\rm C} ^{\\gamma -1} = T_{\\rm D} V_{\\rm D} ^{\\gamma -1}\n",
        "\\end{align*}"
      ]
    },
    {
      "cell_type": "markdown",
      "metadata": {
        "colab_type": "text",
        "id": "O2RhRlJssVcu"
      },
      "source": [
        "##### 過程4: D -> A | 定積冷却\n",
        "\n",
        "燃焼後のガソリンと新しいガソリンを入れ替える: A -> E -> A  \n",
        "// この入れ替えは瞬間で行われるため無視します.  \n",
        "このとき, 燃焼後の気体の熱量 $Q_2$ を放出する.\n",
        "\n",
        "<img src=\"https://upload.wikimedia.org/wikipedia/commons/4/45/Four_stroke_cycle_intake.png\" alt=\"intake\" width=15%>\n",
        "\n",
        "\\begin{align*}\n",
        "Q_2 &= - n C_V \\left( T_{\\rm A} - T_{\\rm D} \\right)&\\\\\n",
        "&= n C_V \\left( T_{\\rm D} - T_{\\rm A} \\right).\n",
        "\\end{align*}"
      ]
    },
    {
      "cell_type": "markdown",
      "metadata": {
        "id": "ezI6YjSguYKH",
        "colab_type": "text"
      },
      "source": [
        "$\\require{cancel}$\n",
        "#### 熱効率 $\\eta$\n",
        "\n",
        "理想的なオットーサイクルでは\n",
        "- 吸熱:: $\\quad \\color{red}{Q_1= n C_V\\left( T_{\\rm C}- T_{\\rm B} \\right)}$\n",
        "- 排熱:: $\\quad \\color{blue}{Q_2= n C_V\\left( T_{\\rm D}- T_{\\rm A} \\right)}$.\n",
        "\n",
        "このサイクルの熱効率 $\\eta$ は\n",
        "\\begin{align*}\n",
        "\\eta &= \\dfrac{Q_1 - Q_2}{Q_1} = 1 - \\dfrac{Q_2}{Q_1}&\\\\\n",
        "&=1 -\n",
        "\\dfrac{\\bcancel{n C_V}\\left( T_{\\rm D}- T_{\\rm A} \\right)}\n",
        "{\\bcancel{n C_V}\\left( T_{\\rm C}- T_{\\rm B} \\right)}\n",
        "= 1 - \\dfrac{T_{\\rm D}- T_{\\rm A}}{T_{\\rm C}- T_{\\rm B}}\n",
        "\\end{align*}\n",
        "\n"
      ]
    },
    {
      "cell_type": "markdown",
      "metadata": {
        "id": "sbEU-_vawfk3",
        "colab_type": "text"
      },
      "source": [
        "ここで断熱膨張と断熱圧縮の熱力学過程を整理すると\n",
        "\\begin{align*}\n",
        "\\begin{cases}\n",
        "T_{\\rm A} V_{\\rm A} ^{\\gamma -1} &= T_{\\rm B} V_{\\rm B} ^{\\gamma -1}&\\\\\n",
        "T_{\\rm C} V_{\\rm \\cancelto{B}{C}} ^{\\gamma -1} \n",
        "&= T_{\\rm D} V_{\\rm \\cancelto{A}{D}} ^{\\gamma -1},&\n",
        "\\end{cases}\\\\\n",
        "\\begin{cases}\n",
        "T_{\\rm D} V_{\\rm A} ^{\\gamma -1}\n",
        "&=T_{\\rm C} V_{\\rm B} ^{\\gamma -1}&\\\\\n",
        "T_{\\rm A} V_{\\rm A} ^{\\gamma -1}\n",
        "&= T_{\\rm B} V_{\\rm B} ^{\\gamma -1}&\n",
        "\\end{cases}&\n",
        "\\end{align*}"
      ]
    },
    {
      "cell_type": "markdown",
      "metadata": {
        "id": "6AN1R7WqyVXa",
        "colab_type": "text"
      },
      "source": [
        "\\begin{align*}\n",
        "\\left( T_{\\rm D} - T_{\\rm A} \\right) V_{\\rm A} ^{\\gamma -1}\n",
        "&=\n",
        "\\left( T_{\\rm C} - T_{\\rm B} \\right) V_{\\rm B} ^{\\gamma -1}&\\\\\n",
        "\\left(\\dfrac{V_{\\rm B}}{V_{\\rm A}}\\right)^{\\gamma-1} \n",
        "&= \\dfrac{T_{\\rm D} - T_{\\rm A}}{T_{\\rm C} - T_{\\rm B}}&\n",
        "\\end{align*}"
      ]
    },
    {
      "cell_type": "markdown",
      "metadata": {
        "id": "WYUyKWxmy6NB",
        "colab_type": "text"
      },
      "source": [
        "これを利用すると理想的なオットーサイクルの熱効率 $\\eta$ は\n",
        "\\begin{align*}\n",
        "\\eta\n",
        "&= 1 - \\dfrac{T_{\\rm D}- T_{\\rm A}}{T_{\\rm C}- T_{\\rm B}}\n",
        "= 1 - \\left(\\dfrac{V_{\\rm B}}{V_{\\rm A}}\\right)^{\\gamma-1} &\\\\\n",
        "&= 1 - \\dfrac{1}{\\left(\\dfrac{V_{\\rm A}}{V_{\\rm B}}\\right)^{\\gamma-1} }\n",
        "= 1 - \\dfrac{1}{r_c^{\\gamma-1} }&\n",
        "\\end{align*}\n",
        "となります. ここで $r_c=\\frac{V_{\\rm A}}{V_{\\rm B}}$ は圧縮比と呼ばれます.\n"
      ]
    },
    {
      "cell_type": "markdown",
      "metadata": {
        "id": "IatWt-0S0gDa",
        "colab_type": "text"
      },
      "source": [
        "> Q. $V_{\\rm A} = 8 V_{\\rm B}$, 比熱比に二原子分子の値 $\\gamma=7/5$ を代入し, 理想的なオットーサイクルの熱効率 $\\eta$ を求めてください."
      ]
    }
  ]
}