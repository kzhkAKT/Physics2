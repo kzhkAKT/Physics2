{
  "nbformat": 4,
  "nbformat_minor": 0,
  "metadata": {
    "colab": {
      "name": "3440_熱力学の第2法則_物理2.ipynb",
      "provenance": [],
      "toc_visible": true,
      "authorship_tag": "ABX9TyNHYnaO6x/SKKyNS5O+8NQY",
      "include_colab_link": true
    },
    "kernelspec": {
      "name": "python3",
      "display_name": "Python 3"
    }
  },
  "cells": [
    {
      "cell_type": "markdown",
      "metadata": {
        "id": "view-in-github",
        "colab_type": "text"
      },
      "source": [
        "<a href=\"https://colab.research.google.com/github/kzhkAKT/Physics2/blob/draft/3440_%E7%86%B1%E5%8A%9B%E5%AD%A6%E3%81%AE%E7%AC%AC2%E6%B3%95%E5%89%87_%E7%89%A9%E7%90%862.ipynb\" target=\"_parent\"><img src=\"https://colab.research.google.com/assets/colab-badge.svg\" alt=\"Open In Colab\"/></a>"
      ]
    },
    {
      "cell_type": "markdown",
      "metadata": {
        "id": "WqPLqgF5Z7vF",
        "colab_type": "text"
      },
      "source": [
        "# 熱力学第2法則"
      ]
    },
    {
      "cell_type": "markdown",
      "metadata": {
        "id": "Yaq9GofE3D0i",
        "colab_type": "text"
      },
      "source": [
        "## 第1種永久機関"
      ]
    },
    {
      "cell_type": "markdown",
      "metadata": {
        "id": "m5P1c5Mp3IsY",
        "colab_type": "text"
      },
      "source": [
        "## 第2種永久機関"
      ]
    },
    {
      "cell_type": "markdown",
      "metadata": {
        "id": "nhrNGGuS3SVu",
        "colab_type": "text"
      },
      "source": [
        "### クラウジウスの原理"
      ]
    },
    {
      "cell_type": "code",
      "metadata": {
        "id": "bYgae_P93KyC",
        "colab_type": "code",
        "colab": {}
      },
      "source": [
        ""
      ],
      "execution_count": null,
      "outputs": []
    }
  ]
}