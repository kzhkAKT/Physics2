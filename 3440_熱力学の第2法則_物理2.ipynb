{
  "nbformat": 4,
  "nbformat_minor": 0,
  "metadata": {
    "colab": {
      "name": "3440_熱力学の第2法則_物理2.ipynb",
      "provenance": [],
      "authorship_tag": "ABX9TyPXss5EaztzLlbmLxhQSC+0",
      "include_colab_link": true
    },
    "kernelspec": {
      "name": "python3",
      "display_name": "Python 3"
    }
  },
  "cells": [
    {
      "cell_type": "markdown",
      "metadata": {
        "id": "view-in-github",
        "colab_type": "text"
      },
      "source": [
        "<a href=\"https://colab.research.google.com/github/kzhkAKT/Physics2/blob/draft/3440_%E7%86%B1%E5%8A%9B%E5%AD%A6%E3%81%AE%E7%AC%AC2%E6%B3%95%E5%89%87_%E7%89%A9%E7%90%862.ipynb\" target=\"_parent\"><img src=\"https://colab.research.google.com/assets/colab-badge.svg\" alt=\"Open In Colab\"/></a>"
      ]
    },
    {
      "cell_type": "markdown",
      "metadata": {
        "id": "WqPLqgF5Z7vF"
      },
      "source": [
        "# 熱力学第2法則"
      ]
    },
    {
      "cell_type": "markdown",
      "metadata": {
        "id": "Yaq9GofE3D0i"
      },
      "source": [
        "## 第1種永久機関"
      ]
    },
    {
      "cell_type": "markdown",
      "metadata": {
        "id": "BYnucAiRNIkr"
      },
      "source": [
        "非平衡をうまく利用する\n",
        "//出典　小学館　日本大百科全書(ニッポニカ)日本大百科全書(ニッポニカ)について\n",
        "![出典　小学館　日本大百科全書(ニッポニカ)日本大百科全書(ニッポニカ)について](https://kotobank.jp/image/dictionary/nipponica/media/81306024016255.jpg)"
      ]
    },
    {
      "cell_type": "markdown",
      "metadata": {
        "id": "6FONGTOSOMQG"
      },
      "source": [
        "わかりやすい説明 [永久機関いろいろ, いろもの物理学者](http://www.phys.u-ryukyu.ac.jp/~maeno/physgairon2018/lec6.html)"
      ]
    },
    {
      "cell_type": "code",
      "metadata": {
        "id": "b9ap77VkQbZz",
        "cellView": "form",
        "colab": {
          "base_uri": "https://localhost:8080/",
          "height": 336
        },
        "outputId": "bc2f931d-0753-40fd-d691-346cffafcc33"
      },
      "source": [
        "#@title 第1種永久機関(種明かし付き)\n",
        "%%html\n",
        "<iframe width=\"560\" height=\"315\" src=\"https://www.youtube-nocookie.com/embed/EiZU3BvqvP4\" frameborder=\"0\" allow=\"accelerometer; autoplay; encrypted-media; gyroscope; picture-in-picture\" allowfullscreen></iframe>"
      ],
      "execution_count": null,
      "outputs": [
        {
          "output_type": "display_data",
          "data": {
            "text/html": [
              "<iframe width=\"560\" height=\"315\" src=\"https://www.youtube-nocookie.com/embed/EiZU3BvqvP4\" frameborder=\"0\" allow=\"accelerometer; autoplay; encrypted-media; gyroscope; picture-in-picture\" allowfullscreen></iframe>"
            ],
            "text/plain": [
              "<IPython.core.display.HTML object>"
            ]
          },
          "metadata": {
            "tags": []
          }
        }
      ]
    },
    {
      "cell_type": "code",
      "metadata": {
        "id": "LXaM-P1vUVop",
        "cellView": "form",
        "colab": {
          "base_uri": "https://localhost:8080/",
          "height": 497
        },
        "outputId": "f9fb2211-7d92-4527-8e25-b1af15edffe4"
      },
      "source": [
        "#@title 第1種永久機関から第2種永久機関\n",
        "%%html\n",
        "<div style=\"max-width:854px\"><div style=\"position:relative;height:0;padding-bottom:56.25%\"><iframe src=\"https://embed.ted.com/talks/lang/ja/netta_schramm_why_don_t_perpetual_motion_machines_ever_work\" width=\"854\" height=\"480\" style=\"position:absolute;left:0;top:0;width:100%;height:100%\" frameborder=\"0\" scrolling=\"no\" allowfullscreen></iframe></div></div>"
      ],
      "execution_count": null,
      "outputs": [
        {
          "output_type": "display_data",
          "data": {
            "text/html": [
              "<div style=\"max-width:854px\"><div style=\"position:relative;height:0;padding-bottom:56.25%\"><iframe src=\"https://embed.ted.com/talks/lang/ja/netta_schramm_why_don_t_perpetual_motion_machines_ever_work\" width=\"854\" height=\"480\" style=\"position:absolute;left:0;top:0;width:100%;height:100%\" frameborder=\"0\" scrolling=\"no\" allowfullscreen></iframe></div></div>"
            ],
            "text/plain": [
              "<IPython.core.display.HTML object>"
            ]
          },
          "metadata": {
            "tags": []
          }
        }
      ]
    },
    {
      "cell_type": "code",
      "metadata": {
        "id": "Er2V8WonVUgZ",
        "cellView": "form",
        "colab": {
          "base_uri": "https://localhost:8080/",
          "height": 336
        },
        "outputId": "6fec0913-289d-482d-c851-1aeb20d473de"
      },
      "source": [
        "#@title 第1種永久機関と第2種永久機関\n",
        "%%html\n",
        "<iframe width=\"560\" height=\"315\" src=\"https://www.youtube-nocookie.com/embed/A1YCd-8LYgk\" frameborder=\"0\" allow=\"accelerometer; autoplay; encrypted-media; gyroscope; picture-in-picture\" allowfullscreen></iframe>"
      ],
      "execution_count": null,
      "outputs": [
        {
          "output_type": "display_data",
          "data": {
            "text/html": [
              "<iframe width=\"560\" height=\"315\" src=\"https://www.youtube-nocookie.com/embed/A1YCd-8LYgk\" frameborder=\"0\" allow=\"accelerometer; autoplay; encrypted-media; gyroscope; picture-in-picture\" allowfullscreen></iframe>"
            ],
            "text/plain": [
              "<IPython.core.display.HTML object>"
            ]
          },
          "metadata": {
            "tags": []
          }
        }
      ]
    },
    {
      "cell_type": "markdown",
      "metadata": {
        "id": "m5P1c5Mp3IsY"
      },
      "source": [
        "## 第2種永久機関\n",
        "\n",
        "> 熱効率 $\\quad \\eta \\lneqq 1$\n",
        "\n",
        "この表現は, \n",
        ">> 第2種永久機関は**存在しない**\n",
        "\n",
        "ことを表しており, *オスワルドの原理* と呼ばれています."
      ]
    },
    {
      "cell_type": "code",
      "metadata": {
        "id": "J-6OINgaWPdf",
        "cellView": "form",
        "colab": {
          "base_uri": "https://localhost:8080/",
          "height": 342
        },
        "outputId": "921a759c-dd1c-4da0-dc91-92db9c39530a"
      },
      "source": [
        "#@title 正(カルノー)サイクル\n",
        "%%svg\n",
        "<svg xmlns=\"http://www.w3.org/2000/svg\" xmlns:xlink=\"http://www.w3.org/1999/xlink\" version=\"1.1\" width=\"257px\" viewBox=\"-0.5 -0.5 257 321\" content=\"&lt;mxfile host=&quot;app.diagrams.net&quot; modified=&quot;2020-08-27T23:55:16.648Z&quot; agent=&quot;5.0 (Macintosh; Intel Mac OS X 10_10_5) AppleWebKit/537.36 (KHTML, like Gecko) Chrome/84.0.4147.135 Safari/537.36&quot; etag=&quot;hsGoajO9mVLQX2DRkIjP&quot; version=&quot;13.6.5&quot; type=&quot;google&quot;&gt;&lt;diagram id=&quot;IqefzBJmjiEjrmSx2Wwk&quot; name=&quot;Page-1&quot;&gt;5Vhdj9soFP01SN2HiQzYDnm0J+lspV2p7aza3aeKYOxYJcFjO02yv37BhsQ4bjMfyXxonwKHy4UL5x6uA/D1cntT0mLxp0y4AMhLtgBPAULQ88fqRyM7i+CwRbIyTwx2AG7zf7k1NOg6T3jlGNZSijovXJDJ1Yqz2sFoWcqNa5ZK4a5a0IwfAbeMimP0a57UixZFkw7+O8+zhVnZh7gdWFJrawKpFjSRmw6EZwBfl1LWbWu5veZCH549lnbe+5+M7tcv+aq+z4RvG/QpG1/dZcXdF4E++/DmA7wyXn5QsTbxAhQK5S9OpXKrzouydiC8W+udxjdclllOD4AOrd4J10rPvqqay4yUASTFtjsjzJrf2QREMZgQMAtBTEA0AbMxIKoNGyQCExWSZ3eU23l/WUQFuwctVq3nFkIduw7cQdsgLYycUFAp16uE69Pz1PBmkdf8tmiPY6PIrrBFvRSqB3XAuRDXUsiymYtTwjhjejt1Kb/zzsicBH7g7dfr3p+9DF7WfNuBzH2qk1/yutwpEzOKDbVMbtlc2xx4CkNjsuhy1GDUpEa2d3ygj2oYBj2ATegUmx5MlHvxz7LJB/EUkNmF2ARfjk0J5SQdZFPICJ+nF2ETRi9NJ/x0OuFH0+mdJk00BRH+DcwwIAjEgWlEvm28bxpYq9g9aaDCVi8XP00BWhXtc5bmW02bPidYwudkPsQJHOIJTs7DibHLCRgec4IMUIJcihL+ACV6J6ze2UI3U8G3kS4A1EnwVWKaUyZoVeXMPWwbjo9aY1OGjEcYN4Da+t86c0eB7f5jErnpTLdOb2d6/TchZWz4TTh9YzUtM16fzhWeONXM8b12Li4YuDiLlVzQOv/h1kBDt2lW+CjzJiP3dd9EHVWXOWTs+qjkumTcTOtWLSc9waDnqj2bI1cNv/aRP55ywYs+av3X6tPz1D6aR3/QuSrmXVESebbSSaT4yRV5Y60kuSqWIzOwzJNE+4hLruKn88afzoVCX09zYUEMgqlChHYfU/Y9a55Gmw4rueKDmfBLPegL2v57wGzBqbmHhO7KG0HPgw7TbHX82GSwJjJNK34RboaXlUME+3IIX4ccvlqZ29fgD9Y5+JPq65lUbvwmVe6JNflbUTmb5udQOTQOsKty6Cy5gEYYuXMuJ3vkJWTvSL5SNCxfSTgPg/AtyFfgag7yQitnD5Wv/scj8p5XviavSr6+3lO+2I6pTf0vJMym7HkkzCdnLdSMawJH/QrQG4Xk6aqmuof/eVvzw7/lePYf&lt;/diagram&gt;&lt;/mxfile&gt;\" onclick=\"(function(svg){var src=window.event.target||window.event.srcElement;while (src!=null&amp;&amp;src.nodeName.toLowerCase()!='a'){src=src.parentNode;}if(src==null){if(svg.wnd!=null&amp;&amp;!svg.wnd.closed){svg.wnd.focus();}else{var r=function(evt){if(evt.data=='ready'&amp;&amp;evt.source==svg.wnd){svg.wnd.postMessage(decodeURIComponent(svg.getAttribute('content')),'*');window.removeEventListener('message',r);}};window.addEventListener('message',r);svg.wnd=window.open('https://viewer.diagrams.net/?client=1&amp;edit=_blank');}}})(this);\" style=\"cursor:pointer;max-width:100%;max-height:321px;\"><defs/><g><rect x=\"0\" y=\"0\" width=\"160\" height=\"40\" fill=\"#f8cecc\" stroke=\"#b85450\" pointer-events=\"all\"/><g transform=\"translate(-0.5 -0.5)\"><switch><foreignObject style=\"overflow: visible; text-align: left;\" pointer-events=\"none\" width=\"100%\" height=\"100%\" requiredFeatures=\"http://www.w3.org/TR/SVG11/feature#Extensibility\"><div xmlns=\"http://www.w3.org/1999/xhtml\" style=\"display: flex; align-items: unsafe center; justify-content: unsafe center; width: 158px; height: 1px; padding-top: 20px; margin-left: 1px;\"><div style=\"box-sizing: border-box; font-size: 0; text-align: center; \"><div style=\"display: inline-block; font-size: 12px; font-family: Helvetica; color: #000000; line-height: 1.2; pointer-events: all; white-space: normal; word-wrap: normal; \"><font face=\"Georgia\" style=\"font-size: 18px\">高温熱源 <i>T</i><sub>2</sub></font></div></div></div></foreignObject><text x=\"80\" y=\"24\" fill=\"#000000\" font-family=\"Helvetica\" font-size=\"12px\" text-anchor=\"middle\">高温熱源 T2</text></switch></g><rect x=\"0\" y=\"280\" width=\"160\" height=\"40\" fill=\"#dae8fc\" stroke=\"#6c8ebf\" pointer-events=\"all\"/><g transform=\"translate(-0.5 -0.5)\"><switch><foreignObject style=\"overflow: visible; text-align: left;\" pointer-events=\"none\" width=\"100%\" height=\"100%\" requiredFeatures=\"http://www.w3.org/TR/SVG11/feature#Extensibility\"><div xmlns=\"http://www.w3.org/1999/xhtml\" style=\"display: flex; align-items: unsafe center; justify-content: unsafe center; width: 158px; height: 1px; padding-top: 300px; margin-left: 1px;\"><div style=\"box-sizing: border-box; font-size: 0; text-align: center; \"><div style=\"display: inline-block; font-size: 12px; font-family: Helvetica; color: #000000; line-height: 1.2; pointer-events: all; white-space: normal; word-wrap: normal; \"><font style=\"font-size: 18px\" face=\"Georgia\">低温熱源 <i>T</i><sub>1</sub></font></div></div></div></foreignObject><text x=\"80\" y=\"304\" fill=\"#000000\" font-family=\"Helvetica\" font-size=\"12px\" text-anchor=\"middle\">低温熱源 T1</text></switch></g><ellipse cx=\"80\" cy=\"160\" rx=\"40\" ry=\"40\" fill=\"#cdeb8b\" stroke=\"#36393d\" pointer-events=\"all\"/><g transform=\"translate(-0.5 -0.5)\"><switch><foreignObject style=\"overflow: visible; text-align: left;\" pointer-events=\"none\" width=\"100%\" height=\"100%\" requiredFeatures=\"http://www.w3.org/TR/SVG11/feature#Extensibility\"><div xmlns=\"http://www.w3.org/1999/xhtml\" style=\"display: flex; align-items: unsafe center; justify-content: unsafe center; width: 78px; height: 1px; padding-top: 160px; margin-left: 41px;\"><div style=\"box-sizing: border-box; font-size: 0; text-align: center; \"><div style=\"display: inline-block; font-size: 12px; font-family: Helvetica; color: #000000; line-height: 1.2; pointer-events: all; white-space: normal; word-wrap: normal; \"><font style=\"font-size: 13px\" face=\"Georgia\">(正)サイクル</font></div></div></div></foreignObject><text x=\"80\" y=\"164\" fill=\"#000000\" font-family=\"Helvetica\" font-size=\"12px\" text-anchor=\"middle\">(正)サイクル</text></switch></g><path d=\"M 58.5 40.63 L 100.5 40.37 L 100.85 96.38 L 111.35 96.31 L 80 119.5 L 48.35 96.71 L 58.85 96.64 Z\" fill=\"#ffcccc\" stroke=\"#36393d\" stroke-linejoin=\"round\" stroke-miterlimit=\"10\" pointer-events=\"all\"/><g transform=\"translate(-0.5 -0.5)\"><switch><foreignObject style=\"overflow: visible; text-align: left;\" pointer-events=\"none\" width=\"100%\" height=\"100%\" requiredFeatures=\"http://www.w3.org/TR/SVG11/feature#Extensibility\"><div xmlns=\"http://www.w3.org/1999/xhtml\" style=\"display: flex; align-items: unsafe center; justify-content: unsafe center; width: 1px; height: 1px; padding-top: 77px; margin-left: 79px;\"><div style=\"box-sizing: border-box; font-size: 0; text-align: center; \"><div style=\"display: inline-block; font-size: 11px; font-family: Helvetica; color: #000000; line-height: 1.2; pointer-events: all; white-space: nowrap; \"><font style=\"font-size: 18px\" face=\"Georgia\"><i>Q</i><sub>2</sub></font></div></div></div></foreignObject><text x=\"79\" y=\"80\" fill=\"#000000\" font-family=\"Helvetica\" font-size=\"11px\" text-anchor=\"middle\">Q2</text></switch></g><path d=\"M 69 200.57 L 90 200.43 L 90.35 256.5 L 100.85 256.44 L 80 279.5 L 58.85 256.7 L 69.35 256.64 Z\" fill=\"#ffcccc\" stroke=\"#36393d\" stroke-linejoin=\"round\" stroke-miterlimit=\"10\" pointer-events=\"all\"/><g transform=\"translate(-0.5 -0.5)\"><switch><foreignObject style=\"overflow: visible; text-align: left;\" pointer-events=\"none\" width=\"100%\" height=\"100%\" requiredFeatures=\"http://www.w3.org/TR/SVG11/feature#Extensibility\"><div xmlns=\"http://www.w3.org/1999/xhtml\" style=\"display: flex; align-items: unsafe center; justify-content: unsafe center; width: 1px; height: 1px; padding-top: 230px; margin-left: 81px;\"><div style=\"box-sizing: border-box; font-size: 0; text-align: center; \"><div style=\"display: inline-block; font-size: 11px; font-family: Helvetica; color: #000000; line-height: 1.2; pointer-events: all; white-space: nowrap; \"><font style=\"font-size: 18px\" face=\"Georgia\"><i>Q</i><sub>1</sub></font></div></div></div></foreignObject><text x=\"81\" y=\"233\" fill=\"#000000\" font-family=\"Helvetica\" font-size=\"11px\" text-anchor=\"middle\">Q1</text></switch></g><path d=\"M 120.43 170 L 120.57 149 L 176.64 149.35 L 176.7 138.85 L 199.5 160 L 176.44 180.85 L 176.5 170.35 Z\" fill=\"#fff2cc\" stroke=\"#d6b656\" stroke-linejoin=\"round\" stroke-miterlimit=\"10\" pointer-events=\"all\"/><g transform=\"translate(-0.5 -0.5)\"><switch><foreignObject style=\"overflow: visible; text-align: left;\" pointer-events=\"none\" width=\"100%\" height=\"100%\" requiredFeatures=\"http://www.w3.org/TR/SVG11/feature#Extensibility\"><div xmlns=\"http://www.w3.org/1999/xhtml\" style=\"display: flex; align-items: unsafe center; justify-content: unsafe center; width: 1px; height: 1px; padding-top: 161px; margin-left: 231px;\"><div style=\"box-sizing: border-box; font-size: 0; text-align: center; \"><div style=\"display: inline-block; font-size: 11px; font-family: Helvetica; color: #000000; line-height: 1.2; pointer-events: all; white-space: nowrap; \"><font style=\"font-size: 18px\" face=\"Georgia\"><i>W</i><sub>cycle</sub></font></div></div></div></foreignObject><text x=\"231\" y=\"164\" fill=\"#000000\" font-family=\"Helvetica\" font-size=\"11px\" text-anchor=\"middle\">Wcycle</text></switch></g></g><switch><g requiredFeatures=\"http://www.w3.org/TR/SVG11/feature#Extensibility\"/><a transform=\"translate(0,-5)\" xlink:href=\"https://desk.draw.io/support/solutions/articles/16000042487\" target=\"_blank\"><text text-anchor=\"middle\" font-size=\"10px\" x=\"50%\" y=\"100%\">Viewer does not support full SVG 1.1</text></a></switch></svg>"
      ],
      "execution_count": null,
      "outputs": [
        {
          "output_type": "display_data",
          "data": {
            "text/plain": [
              "<IPython.core.display.SVG object>"
            ],
            "image/svg+xml": "<svg content=\"&lt;mxfile host=&quot;app.diagrams.net&quot; modified=&quot;2020-08-27T23:55:16.648Z&quot; agent=&quot;5.0 (Macintosh; Intel Mac OS X 10_10_5) AppleWebKit/537.36 (KHTML, like Gecko) Chrome/84.0.4147.135 Safari/537.36&quot; etag=&quot;hsGoajO9mVLQX2DRkIjP&quot; version=&quot;13.6.5&quot; type=&quot;google&quot;&gt;&lt;diagram id=&quot;IqefzBJmjiEjrmSx2Wwk&quot; name=&quot;Page-1&quot;&gt;5Vhdj9soFP01SN2HiQzYDnm0J+lspV2p7aza3aeKYOxYJcFjO02yv37BhsQ4bjMfyXxonwKHy4UL5x6uA/D1cntT0mLxp0y4AMhLtgBPAULQ88fqRyM7i+CwRbIyTwx2AG7zf7k1NOg6T3jlGNZSijovXJDJ1Yqz2sFoWcqNa5ZK4a5a0IwfAbeMimP0a57UixZFkw7+O8+zhVnZh7gdWFJrawKpFjSRmw6EZwBfl1LWbWu5veZCH549lnbe+5+M7tcv+aq+z4RvG/QpG1/dZcXdF4E++/DmA7wyXn5QsTbxAhQK5S9OpXKrzouydiC8W+udxjdclllOD4AOrd4J10rPvqqay4yUASTFtjsjzJrf2QREMZgQMAtBTEA0AbMxIKoNGyQCExWSZ3eU23l/WUQFuwctVq3nFkIduw7cQdsgLYycUFAp16uE69Pz1PBmkdf8tmiPY6PIrrBFvRSqB3XAuRDXUsiymYtTwjhjejt1Kb/zzsicBH7g7dfr3p+9DF7WfNuBzH2qk1/yutwpEzOKDbVMbtlc2xx4CkNjsuhy1GDUpEa2d3ygj2oYBj2ATegUmx5MlHvxz7LJB/EUkNmF2ARfjk0J5SQdZFPICJ+nF2ETRi9NJ/x0OuFH0+mdJk00BRH+DcwwIAjEgWlEvm28bxpYq9g9aaDCVi8XP00BWhXtc5bmW02bPidYwudkPsQJHOIJTs7DibHLCRgec4IMUIJcihL+ACV6J6ze2UI3U8G3kS4A1EnwVWKaUyZoVeXMPWwbjo9aY1OGjEcYN4Da+t86c0eB7f5jErnpTLdOb2d6/TchZWz4TTh9YzUtM16fzhWeONXM8b12Li4YuDiLlVzQOv/h1kBDt2lW+CjzJiP3dd9EHVWXOWTs+qjkumTcTOtWLSc9waDnqj2bI1cNv/aRP55ywYs+av3X6tPz1D6aR3/QuSrmXVESebbSSaT4yRV5Y60kuSqWIzOwzJNE+4hLruKn88afzoVCX09zYUEMgqlChHYfU/Y9a55Gmw4rueKDmfBLPegL2v57wGzBqbmHhO7KG0HPgw7TbHX82GSwJjJNK34RboaXlUME+3IIX4ccvlqZ29fgD9Y5+JPq65lUbvwmVe6JNflbUTmb5udQOTQOsKty6Cy5gEYYuXMuJ3vkJWTvSL5SNCxfSTgPg/AtyFfgag7yQitnD5Wv/scj8p5XviavSr6+3lO+2I6pTf0vJMym7HkkzCdnLdSMawJH/QrQG4Xk6aqmuof/eVvzw7/lePYf&lt;/diagram&gt;&lt;/mxfile&gt;\" onclick=\"(function(svg){var src=window.event.target||window.event.srcElement;while (src!=null&amp;&amp;src.nodeName.toLowerCase()!='a'){src=src.parentNode;}if(src==null){if(svg.wnd!=null&amp;&amp;!svg.wnd.closed){svg.wnd.focus();}else{var r=function(evt){if(evt.data=='ready'&amp;&amp;evt.source==svg.wnd){svg.wnd.postMessage(decodeURIComponent(svg.getAttribute('content')),'*');window.removeEventListener('message',r);}};window.addEventListener('message',r);svg.wnd=window.open('https://viewer.diagrams.net/?client=1&amp;edit=_blank');}}})(this);\" style=\"cursor:pointer;max-width:100%;max-height:321px;\" version=\"1.1\" viewBox=\"-0.5 -0.5 257 321\" width=\"257px\" xmlns=\"http://www.w3.org/2000/svg\" xmlns:xlink=\"http://www.w3.org/1999/xlink\"><defs/><g><rect fill=\"#f8cecc\" height=\"40\" pointer-events=\"all\" stroke=\"#b85450\" width=\"160\" x=\"0\" y=\"0\"/><g transform=\"translate(-0.5 -0.5)\"><switch><foreignObject height=\"100%\" pointer-events=\"none\" requiredFeatures=\"http://www.w3.org/TR/SVG11/feature#Extensibility\" style=\"overflow: visible; text-align: left;\" width=\"100%\"><div style=\"display: flex; align-items: unsafe center; justify-content: unsafe center; width: 158px; height: 1px; padding-top: 20px; margin-left: 1px;\" xmlns=\"http://www.w3.org/1999/xhtml\"><div style=\"box-sizing: border-box; font-size: 0; text-align: center; \"><div style=\"display: inline-block; font-size: 12px; font-family: Helvetica; color: #000000; line-height: 1.2; pointer-events: all; white-space: normal; word-wrap: normal; \"><font face=\"Georgia\" style=\"font-size: 18px\">高温熱源 <i>T</i><sub>2</sub></font></div></div></div></foreignObject><text fill=\"#000000\" font-family=\"Helvetica\" font-size=\"12px\" text-anchor=\"middle\" x=\"80\" y=\"24\">高温熱源 T2</text></switch></g><rect fill=\"#dae8fc\" height=\"40\" pointer-events=\"all\" stroke=\"#6c8ebf\" width=\"160\" x=\"0\" y=\"280\"/><g transform=\"translate(-0.5 -0.5)\"><switch><foreignObject height=\"100%\" pointer-events=\"none\" requiredFeatures=\"http://www.w3.org/TR/SVG11/feature#Extensibility\" style=\"overflow: visible; text-align: left;\" width=\"100%\"><div style=\"display: flex; align-items: unsafe center; justify-content: unsafe center; width: 158px; height: 1px; padding-top: 300px; margin-left: 1px;\" xmlns=\"http://www.w3.org/1999/xhtml\"><div style=\"box-sizing: border-box; font-size: 0; text-align: center; \"><div style=\"display: inline-block; font-size: 12px; font-family: Helvetica; color: #000000; line-height: 1.2; pointer-events: all; white-space: normal; word-wrap: normal; \"><font face=\"Georgia\" style=\"font-size: 18px\">低温熱源 <i>T</i><sub>1</sub></font></div></div></div></foreignObject><text fill=\"#000000\" font-family=\"Helvetica\" font-size=\"12px\" text-anchor=\"middle\" x=\"80\" y=\"304\">低温熱源 T1</text></switch></g><ellipse cx=\"80\" cy=\"160\" fill=\"#cdeb8b\" pointer-events=\"all\" rx=\"40\" ry=\"40\" stroke=\"#36393d\"/><g transform=\"translate(-0.5 -0.5)\"><switch><foreignObject height=\"100%\" pointer-events=\"none\" requiredFeatures=\"http://www.w3.org/TR/SVG11/feature#Extensibility\" style=\"overflow: visible; text-align: left;\" width=\"100%\"><div style=\"display: flex; align-items: unsafe center; justify-content: unsafe center; width: 78px; height: 1px; padding-top: 160px; margin-left: 41px;\" xmlns=\"http://www.w3.org/1999/xhtml\"><div style=\"box-sizing: border-box; font-size: 0; text-align: center; \"><div style=\"display: inline-block; font-size: 12px; font-family: Helvetica; color: #000000; line-height: 1.2; pointer-events: all; white-space: normal; word-wrap: normal; \"><font face=\"Georgia\" style=\"font-size: 13px\">(正)サイクル</font></div></div></div></foreignObject><text fill=\"#000000\" font-family=\"Helvetica\" font-size=\"12px\" text-anchor=\"middle\" x=\"80\" y=\"164\">(正)サイクル</text></switch></g><path d=\"M 58.5 40.63 L 100.5 40.37 L 100.85 96.38 L 111.35 96.31 L 80 119.5 L 48.35 96.71 L 58.85 96.64 Z\" fill=\"#ffcccc\" pointer-events=\"all\" stroke=\"#36393d\" stroke-linejoin=\"round\" stroke-miterlimit=\"10\"/><g transform=\"translate(-0.5 -0.5)\"><switch><foreignObject height=\"100%\" pointer-events=\"none\" requiredFeatures=\"http://www.w3.org/TR/SVG11/feature#Extensibility\" style=\"overflow: visible; text-align: left;\" width=\"100%\"><div style=\"display: flex; align-items: unsafe center; justify-content: unsafe center; width: 1px; height: 1px; padding-top: 77px; margin-left: 79px;\" xmlns=\"http://www.w3.org/1999/xhtml\"><div style=\"box-sizing: border-box; font-size: 0; text-align: center; \"><div style=\"display: inline-block; font-size: 11px; font-family: Helvetica; color: #000000; line-height: 1.2; pointer-events: all; white-space: nowrap; \"><font face=\"Georgia\" style=\"font-size: 18px\"><i>Q</i><sub>2</sub></font></div></div></div></foreignObject><text fill=\"#000000\" font-family=\"Helvetica\" font-size=\"11px\" text-anchor=\"middle\" x=\"79\" y=\"80\">Q2</text></switch></g><path d=\"M 69 200.57 L 90 200.43 L 90.35 256.5 L 100.85 256.44 L 80 279.5 L 58.85 256.7 L 69.35 256.64 Z\" fill=\"#ffcccc\" pointer-events=\"all\" stroke=\"#36393d\" stroke-linejoin=\"round\" stroke-miterlimit=\"10\"/><g transform=\"translate(-0.5 -0.5)\"><switch><foreignObject height=\"100%\" pointer-events=\"none\" requiredFeatures=\"http://www.w3.org/TR/SVG11/feature#Extensibility\" style=\"overflow: visible; text-align: left;\" width=\"100%\"><div style=\"display: flex; align-items: unsafe center; justify-content: unsafe center; width: 1px; height: 1px; padding-top: 230px; margin-left: 81px;\" xmlns=\"http://www.w3.org/1999/xhtml\"><div style=\"box-sizing: border-box; font-size: 0; text-align: center; \"><div style=\"display: inline-block; font-size: 11px; font-family: Helvetica; color: #000000; line-height: 1.2; pointer-events: all; white-space: nowrap; \"><font face=\"Georgia\" style=\"font-size: 18px\"><i>Q</i><sub>1</sub></font></div></div></div></foreignObject><text fill=\"#000000\" font-family=\"Helvetica\" font-size=\"11px\" text-anchor=\"middle\" x=\"81\" y=\"233\">Q1</text></switch></g><path d=\"M 120.43 170 L 120.57 149 L 176.64 149.35 L 176.7 138.85 L 199.5 160 L 176.44 180.85 L 176.5 170.35 Z\" fill=\"#fff2cc\" pointer-events=\"all\" stroke=\"#d6b656\" stroke-linejoin=\"round\" stroke-miterlimit=\"10\"/><g transform=\"translate(-0.5 -0.5)\"><switch><foreignObject height=\"100%\" pointer-events=\"none\" requiredFeatures=\"http://www.w3.org/TR/SVG11/feature#Extensibility\" style=\"overflow: visible; text-align: left;\" width=\"100%\"><div style=\"display: flex; align-items: unsafe center; justify-content: unsafe center; width: 1px; height: 1px; padding-top: 161px; margin-left: 231px;\" xmlns=\"http://www.w3.org/1999/xhtml\"><div style=\"box-sizing: border-box; font-size: 0; text-align: center; \"><div style=\"display: inline-block; font-size: 11px; font-family: Helvetica; color: #000000; line-height: 1.2; pointer-events: all; white-space: nowrap; \"><font face=\"Georgia\" style=\"font-size: 18px\"><i>W</i><sub>cycle</sub></font></div></div></div></foreignObject><text fill=\"#000000\" font-family=\"Helvetica\" font-size=\"11px\" text-anchor=\"middle\" x=\"231\" y=\"164\">Wcycle</text></switch></g></g><switch><g requiredFeatures=\"http://www.w3.org/TR/SVG11/feature#Extensibility\"/><a target=\"_blank\" transform=\"translate(0,-5)\" xlink:href=\"https://desk.draw.io/support/solutions/articles/16000042487\"><text font-size=\"10px\" text-anchor=\"middle\" x=\"50%\" y=\"100%\">Viewer does not support full SVG 1.1</text></a></switch></svg>"
          },
          "metadata": {
            "tags": []
          }
        }
      ]
    },
    {
      "cell_type": "markdown",
      "metadata": {
        "id": "AA3Iw9DiWeUi"
      },
      "source": [
        "$\\require{cancel}$\n",
        "\\begin{align*}\n",
        "\\eta\n",
        "&= \\dfrac{W}{Q_2}&\\\\\n",
        "&= \\dfrac{Q_2-Q_1}{Q_2} \\lneqq 1&\n",
        "\\end{align*}"
      ]
    },
    {
      "cell_type": "markdown",
      "metadata": {
        "id": "NsWMmww1YR7h"
      },
      "source": [
        "$\\require{cancel}$\n",
        "吸熱 $Q_2$, 排熱 $Q_1$ がともに正の量であることに注意すれば\n",
        "\\begin{align*}\n",
        "\\bcancel{Q_2}-Q_1 \\lneqq \\bcancel{Q_2}&\\\\\n",
        "Q_1 &\\gneqq 0&\n",
        "\\end{align*}\n",
        "このことから\n",
        "> 排熱 $Q_1$ を零にすることはできない\n",
        "\n",
        "といえます."
      ]
    },
    {
      "cell_type": "markdown",
      "metadata": {
        "id": "GyDJ3quge7aO"
      },
      "source": [
        "### [トムソン](https://en.wikipedia.org/wiki/William_Thomson,_1st_Baron_Kelvin)の原理"
      ]
    },
    {
      "cell_type": "markdown",
      "metadata": {
        "id": "nhrNGGuS3SVu"
      },
      "source": [
        "\n",
        "![William Thomson, 1st Baron Kelvin](https://upload.wikimedia.org/wikipedia/commons/thumb/a/a0/Lord_Kelvin_photograph.jpg/383px-Lord_Kelvin_photograph.jpg)\n"
      ]
    },
    {
      "cell_type": "markdown",
      "metadata": {
        "id": "GsW0Rs3Ce_sG"
      },
      "source": [
        ">> 一つの熱源から正の熱を受け取り, これをすべての仕事に変える以外に,   \n",
        "他に何の変化も起こさないようにする熱サイクルは **存在しない**."
      ]
    },
    {
      "cell_type": "code",
      "metadata": {
        "id": "qexQoE5serYD",
        "cellView": "form",
        "colab": {
          "base_uri": "https://localhost:8080/",
          "height": 342
        },
        "outputId": "7d00b1e8-484d-44ba-b611-01686a11c991"
      },
      "source": [
        "#@title 模式図:トムソンの原理\n",
        "%%svg\n",
        "<svg xmlns=\"http://www.w3.org/2000/svg\" xmlns:xlink=\"http://www.w3.org/1999/xlink\" version=\"1.1\" width=\"257px\" viewBox=\"-0.5 -0.5 257 321\" content=\"&lt;mxfile host=&quot;app.diagrams.net&quot; modified=&quot;2020-08-28T00:41:56.316Z&quot; agent=&quot;5.0 (Macintosh; Intel Mac OS X 10_10_5) AppleWebKit/537.36 (KHTML, like Gecko) Chrome/84.0.4147.135 Safari/537.36&quot; etag=&quot;QxN-aR1a0qA3JFk-cwSu&quot; version=&quot;13.6.5&quot; type=&quot;google&quot;&gt;&lt;diagram id=&quot;IqefzBJmjiEjrmSx2Wwk&quot; name=&quot;Page-1&quot;&gt;5Vhdc5s4FP01mtk+xAMSH/IjxDTdnXam2XSa7NOOAIGZyBYBHNv76yuBZCPM1k7Wbrq7TxZH0kX33nOPLgboerG5qUg5/8RTygC00g1AMwChbTm++JHIViPY7ZC8KlKF7YG74i+qFyp0VaS0NhY2nLOmKE0w4cslTRoDI1XF1+ayjDPzrSXJ6QFwlxB2iN4XaTPvUDjt4R9okc/Vmx0bdRMLotcqR+o5Sfm6B6EIoOuK86YbLTbXlMng6bB0+97/zezu/RVdNqds+HMNb3P/6ikvn74y+Ltj3/xqXykrz4StlL8AekzYCzMuzIp4kaSb8J5W8qThDeVVXpA9IF1rtsxcJXdf1W0yA7HAxuWmv8PL299oCoIQTDGIPBBiEExB5AMsxnaLBGAqXLL0iQq974tGhLM7UGP1KtYQ7K3rwT20c1LD0HAFVny1TKmMniWm1/OioXdlF461ILvA5s2CiSdbOlwwds0Zr9q9KMMJTRJ5nKbij7Q3E2PXca3d+/r508mgVUM3PUjlU0R+QZtqK5aoWaSopWpL19p6z1PbU0vmfY4qjKjSyHeG9/QRA8WgF7AJHmPTi4lyEv80mxwQzgCOLsQm++3YlBKKs1E2eQmmcXYRNiH41nRC/5xO6NV0+kWSJpiBAL0DEQIYgtBVg8DRg/ftAEkVO5EGwm1xc9HjFCB12V1nWbGRtBlyIklpjOMxTiAPTVF6Hk74Jids75ATeIQS+FKUcEYoMYiwuGdLOcwY3QSyARCRoMtUDWcJI3VdJGawtTsO7BarNsSfINQC4ugPsnInrn78QxVy+zDbGE9b9TS8E7IkGb8TjmesIVVOm+O1QlOjmznMay9x7kjiNFZRRpri2eyBxrKp3vCZF21F7vq+6cQ1mIN900bNV1VC1bZ+13LUku0OTHWxOTDV8mvn+esp577ppTa8rW5/TO8jefSRxKKZN0WJFflSFpHgJxXkDaWSFKJZDtTEokhTaSOsqPCfxK09WQulTE+bMDcE7kwgTJoPSfKYt1ejLoclX9LRSviuHgwFbfc9oI5g9NxjQndlTWzLsg2m6e74tcWgl/Asq+lFuIkvK4fQHsrhWKubZXBc1lIv9lzve7L2s8iVa15z0PK06LxUr4ZdFLR+rFpNfyq1uj9RrZJtIg71v1AsXbLnUCzoO/isiqVMY3sylEJr4mHTzFlUzXXRh3Ucz2+j3x7g9vH5/hOMTmnyegqmwt/LeSdE+t8a518gQP7w02vQP5/cLQ2FbPhtdj71Gc3cWK/0387cMOKvTp1/qcyJx/2fjN3y/V+1KPoG&lt;/diagram&gt;&lt;/mxfile&gt;\" onclick=\"(function(svg){var src=window.event.target||window.event.srcElement;while (src!=null&amp;&amp;src.nodeName.toLowerCase()!='a'){src=src.parentNode;}if(src==null){if(svg.wnd!=null&amp;&amp;!svg.wnd.closed){svg.wnd.focus();}else{var r=function(evt){if(evt.data=='ready'&amp;&amp;evt.source==svg.wnd){svg.wnd.postMessage(decodeURIComponent(svg.getAttribute('content')),'*');window.removeEventListener('message',r);}};window.addEventListener('message',r);svg.wnd=window.open('https://viewer.diagrams.net/?client=1&amp;edit=_blank');}}})(this);\" style=\"cursor:pointer;max-width:100%;max-height:321px;\"><defs/><g><rect x=\"0\" y=\"0\" width=\"160\" height=\"40\" fill=\"#f8cecc\" stroke=\"#b85450\" pointer-events=\"all\"/><g transform=\"translate(-0.5 -0.5)\"><switch><foreignObject style=\"overflow: visible; text-align: left;\" pointer-events=\"none\" width=\"100%\" height=\"100%\" requiredFeatures=\"http://www.w3.org/TR/SVG11/feature#Extensibility\"><div xmlns=\"http://www.w3.org/1999/xhtml\" style=\"display: flex; align-items: unsafe center; justify-content: unsafe center; width: 158px; height: 1px; padding-top: 20px; margin-left: 1px;\"><div style=\"box-sizing: border-box; font-size: 0; text-align: center; \"><div style=\"display: inline-block; font-size: 12px; font-family: Helvetica; color: #000000; line-height: 1.2; pointer-events: all; white-space: normal; word-wrap: normal; \"><font face=\"Georgia\" style=\"font-size: 18px\">高温熱源 <i>T</i><sub>2</sub></font></div></div></div></foreignObject><text x=\"80\" y=\"24\" fill=\"#000000\" font-family=\"Helvetica\" font-size=\"12px\" text-anchor=\"middle\">高温熱源 T2</text></switch></g><rect x=\"0\" y=\"280\" width=\"160\" height=\"40\" fill=\"#dae8fc\" stroke=\"#6c8ebf\" pointer-events=\"all\"/><g transform=\"translate(-0.5 -0.5)\"><switch><foreignObject style=\"overflow: visible; text-align: left;\" pointer-events=\"none\" width=\"100%\" height=\"100%\" requiredFeatures=\"http://www.w3.org/TR/SVG11/feature#Extensibility\"><div xmlns=\"http://www.w3.org/1999/xhtml\" style=\"display: flex; align-items: unsafe center; justify-content: unsafe center; width: 158px; height: 1px; padding-top: 300px; margin-left: 1px;\"><div style=\"box-sizing: border-box; font-size: 0; text-align: center; \"><div style=\"display: inline-block; font-size: 12px; font-family: Helvetica; color: #000000; line-height: 1.2; pointer-events: all; white-space: normal; word-wrap: normal; \"><font style=\"font-size: 18px\" face=\"Georgia\">低温熱源 <i>T</i><sub>1</sub></font></div></div></div></foreignObject><text x=\"80\" y=\"304\" fill=\"#000000\" font-family=\"Helvetica\" font-size=\"12px\" text-anchor=\"middle\">低温熱源 T1</text></switch></g><ellipse cx=\"80\" cy=\"160\" rx=\"40\" ry=\"40\" fill=\"#cdeb8b\" stroke=\"#36393d\" pointer-events=\"all\"/><g transform=\"translate(-0.5 -0.5)\"><switch><foreignObject style=\"overflow: visible; text-align: left;\" pointer-events=\"none\" width=\"100%\" height=\"100%\" requiredFeatures=\"http://www.w3.org/TR/SVG11/feature#Extensibility\"><div xmlns=\"http://www.w3.org/1999/xhtml\" style=\"display: flex; align-items: unsafe center; justify-content: unsafe center; width: 78px; height: 1px; padding-top: 160px; margin-left: 41px;\"><div style=\"box-sizing: border-box; font-size: 0; text-align: center; \"><div style=\"display: inline-block; font-size: 12px; font-family: Helvetica; color: #000000; line-height: 1.2; pointer-events: all; white-space: normal; word-wrap: normal; \"><font style=\"font-size: 13px\" face=\"Georgia\">(正)サイクル</font></div></div></div></foreignObject><text x=\"80\" y=\"164\" fill=\"#000000\" font-family=\"Helvetica\" font-size=\"12px\" text-anchor=\"middle\">(正)サイクル</text></switch></g><path d=\"M 58.5 40.63 L 100.5 40.37 L 100.85 96.38 L 111.35 96.31 L 80 119.5 L 48.35 96.71 L 58.85 96.64 Z\" fill=\"#ffcccc\" stroke=\"#36393d\" stroke-linejoin=\"round\" stroke-miterlimit=\"10\" pointer-events=\"all\"/><g transform=\"translate(-0.5 -0.5)\"><switch><foreignObject style=\"overflow: visible; text-align: left;\" pointer-events=\"none\" width=\"100%\" height=\"100%\" requiredFeatures=\"http://www.w3.org/TR/SVG11/feature#Extensibility\"><div xmlns=\"http://www.w3.org/1999/xhtml\" style=\"display: flex; align-items: unsafe center; justify-content: unsafe center; width: 1px; height: 1px; padding-top: 77px; margin-left: 79px;\"><div style=\"box-sizing: border-box; font-size: 0; text-align: center; \"><div style=\"display: inline-block; font-size: 11px; font-family: Helvetica; color: #000000; line-height: 1.2; pointer-events: all; white-space: nowrap; \"><font style=\"font-size: 18px\" face=\"Georgia\"><i>Q</i><sub>2</sub></font></div></div></div></foreignObject><text x=\"79\" y=\"80\" fill=\"#000000\" font-family=\"Helvetica\" font-size=\"11px\" text-anchor=\"middle\">Q2</text></switch></g><path d=\"M 120.43 170 L 120.57 149 L 176.64 149.35 L 176.7 138.85 L 199.5 160 L 176.44 180.85 L 176.5 170.35 Z\" fill=\"#fff2cc\" stroke=\"#d6b656\" stroke-linejoin=\"round\" stroke-miterlimit=\"10\" pointer-events=\"all\"/><g transform=\"translate(-0.5 -0.5)\"><switch><foreignObject style=\"overflow: visible; text-align: left;\" pointer-events=\"none\" width=\"100%\" height=\"100%\" requiredFeatures=\"http://www.w3.org/TR/SVG11/feature#Extensibility\"><div xmlns=\"http://www.w3.org/1999/xhtml\" style=\"display: flex; align-items: unsafe center; justify-content: unsafe center; width: 1px; height: 1px; padding-top: 161px; margin-left: 231px;\"><div style=\"box-sizing: border-box; font-size: 0; text-align: center; \"><div style=\"display: inline-block; font-size: 11px; font-family: Helvetica; color: #000000; line-height: 1.2; pointer-events: all; white-space: nowrap; \"><font style=\"font-size: 18px\" face=\"Georgia\"><i>W</i><sub>cycle</sub></font></div></div></div></foreignObject><text x=\"231\" y=\"164\" fill=\"#000000\" font-family=\"Helvetica\" font-size=\"11px\" text-anchor=\"middle\">Wcycle</text></switch></g><path d=\"M 40 273 L 120 193\" fill=\"none\" stroke=\"#000000\" stroke-width=\"4\" stroke-miterlimit=\"10\" pointer-events=\"stroke\"/><path d=\"M 120 273 L 40 193\" fill=\"none\" stroke=\"#000000\" stroke-width=\"4\" stroke-miterlimit=\"10\" pointer-events=\"stroke\"/></g><switch><g requiredFeatures=\"http://www.w3.org/TR/SVG11/feature#Extensibility\"/><a transform=\"translate(0,-5)\" xlink:href=\"https://desk.draw.io/support/solutions/articles/16000042487\" target=\"_blank\"><text text-anchor=\"middle\" font-size=\"10px\" x=\"50%\" y=\"100%\">Viewer does not support full SVG 1.1</text></a></switch></svg>"
      ],
      "execution_count": null,
      "outputs": [
        {
          "output_type": "display_data",
          "data": {
            "text/plain": [
              "<IPython.core.display.SVG object>"
            ],
            "image/svg+xml": "<svg content=\"&lt;mxfile host=&quot;app.diagrams.net&quot; modified=&quot;2020-08-28T00:41:56.316Z&quot; agent=&quot;5.0 (Macintosh; Intel Mac OS X 10_10_5) AppleWebKit/537.36 (KHTML, like Gecko) Chrome/84.0.4147.135 Safari/537.36&quot; etag=&quot;QxN-aR1a0qA3JFk-cwSu&quot; version=&quot;13.6.5&quot; type=&quot;google&quot;&gt;&lt;diagram id=&quot;IqefzBJmjiEjrmSx2Wwk&quot; name=&quot;Page-1&quot;&gt;5Vhdc5s4FP01mtk+xAMSH/IjxDTdnXam2XSa7NOOAIGZyBYBHNv76yuBZCPM1k7Wbrq7TxZH0kX33nOPLgboerG5qUg5/8RTygC00g1AMwChbTm++JHIViPY7ZC8KlKF7YG74i+qFyp0VaS0NhY2nLOmKE0w4cslTRoDI1XF1+ayjDPzrSXJ6QFwlxB2iN4XaTPvUDjt4R9okc/Vmx0bdRMLotcqR+o5Sfm6B6EIoOuK86YbLTbXlMng6bB0+97/zezu/RVdNqds+HMNb3P/6ikvn74y+Ltj3/xqXykrz4StlL8AekzYCzMuzIp4kaSb8J5W8qThDeVVXpA9IF1rtsxcJXdf1W0yA7HAxuWmv8PL299oCoIQTDGIPBBiEExB5AMsxnaLBGAqXLL0iQq974tGhLM7UGP1KtYQ7K3rwT20c1LD0HAFVny1TKmMniWm1/OioXdlF461ILvA5s2CiSdbOlwwds0Zr9q9KMMJTRJ5nKbij7Q3E2PXca3d+/r508mgVUM3PUjlU0R+QZtqK5aoWaSopWpL19p6z1PbU0vmfY4qjKjSyHeG9/QRA8WgF7AJHmPTi4lyEv80mxwQzgCOLsQm++3YlBKKs1E2eQmmcXYRNiH41nRC/5xO6NV0+kWSJpiBAL0DEQIYgtBVg8DRg/ftAEkVO5EGwm1xc9HjFCB12V1nWbGRtBlyIklpjOMxTiAPTVF6Hk74Jids75ATeIQS+FKUcEYoMYiwuGdLOcwY3QSyARCRoMtUDWcJI3VdJGawtTsO7BarNsSfINQC4ugPsnInrn78QxVy+zDbGE9b9TS8E7IkGb8TjmesIVVOm+O1QlOjmznMay9x7kjiNFZRRpri2eyBxrKp3vCZF21F7vq+6cQ1mIN900bNV1VC1bZ+13LUku0OTHWxOTDV8mvn+esp577ppTa8rW5/TO8jefSRxKKZN0WJFflSFpHgJxXkDaWSFKJZDtTEokhTaSOsqPCfxK09WQulTE+bMDcE7kwgTJoPSfKYt1ejLoclX9LRSviuHgwFbfc9oI5g9NxjQndlTWzLsg2m6e74tcWgl/Asq+lFuIkvK4fQHsrhWKubZXBc1lIv9lzve7L2s8iVa15z0PK06LxUr4ZdFLR+rFpNfyq1uj9RrZJtIg71v1AsXbLnUCzoO/isiqVMY3sylEJr4mHTzFlUzXXRh3Ucz2+j3x7g9vH5/hOMTmnyegqmwt/LeSdE+t8a518gQP7w02vQP5/cLQ2FbPhtdj71Gc3cWK/0387cMOKvTp1/qcyJx/2fjN3y/V+1KPoG&lt;/diagram&gt;&lt;/mxfile&gt;\" onclick=\"(function(svg){var src=window.event.target||window.event.srcElement;while (src!=null&amp;&amp;src.nodeName.toLowerCase()!='a'){src=src.parentNode;}if(src==null){if(svg.wnd!=null&amp;&amp;!svg.wnd.closed){svg.wnd.focus();}else{var r=function(evt){if(evt.data=='ready'&amp;&amp;evt.source==svg.wnd){svg.wnd.postMessage(decodeURIComponent(svg.getAttribute('content')),'*');window.removeEventListener('message',r);}};window.addEventListener('message',r);svg.wnd=window.open('https://viewer.diagrams.net/?client=1&amp;edit=_blank');}}})(this);\" style=\"cursor:pointer;max-width:100%;max-height:321px;\" version=\"1.1\" viewBox=\"-0.5 -0.5 257 321\" width=\"257px\" xmlns=\"http://www.w3.org/2000/svg\" xmlns:xlink=\"http://www.w3.org/1999/xlink\"><defs/><g><rect fill=\"#f8cecc\" height=\"40\" pointer-events=\"all\" stroke=\"#b85450\" width=\"160\" x=\"0\" y=\"0\"/><g transform=\"translate(-0.5 -0.5)\"><switch><foreignObject height=\"100%\" pointer-events=\"none\" requiredFeatures=\"http://www.w3.org/TR/SVG11/feature#Extensibility\" style=\"overflow: visible; text-align: left;\" width=\"100%\"><div style=\"display: flex; align-items: unsafe center; justify-content: unsafe center; width: 158px; height: 1px; padding-top: 20px; margin-left: 1px;\" xmlns=\"http://www.w3.org/1999/xhtml\"><div style=\"box-sizing: border-box; font-size: 0; text-align: center; \"><div style=\"display: inline-block; font-size: 12px; font-family: Helvetica; color: #000000; line-height: 1.2; pointer-events: all; white-space: normal; word-wrap: normal; \"><font face=\"Georgia\" style=\"font-size: 18px\">高温熱源 <i>T</i><sub>2</sub></font></div></div></div></foreignObject><text fill=\"#000000\" font-family=\"Helvetica\" font-size=\"12px\" text-anchor=\"middle\" x=\"80\" y=\"24\">高温熱源 T2</text></switch></g><rect fill=\"#dae8fc\" height=\"40\" pointer-events=\"all\" stroke=\"#6c8ebf\" width=\"160\" x=\"0\" y=\"280\"/><g transform=\"translate(-0.5 -0.5)\"><switch><foreignObject height=\"100%\" pointer-events=\"none\" requiredFeatures=\"http://www.w3.org/TR/SVG11/feature#Extensibility\" style=\"overflow: visible; text-align: left;\" width=\"100%\"><div style=\"display: flex; align-items: unsafe center; justify-content: unsafe center; width: 158px; height: 1px; padding-top: 300px; margin-left: 1px;\" xmlns=\"http://www.w3.org/1999/xhtml\"><div style=\"box-sizing: border-box; font-size: 0; text-align: center; \"><div style=\"display: inline-block; font-size: 12px; font-family: Helvetica; color: #000000; line-height: 1.2; pointer-events: all; white-space: normal; word-wrap: normal; \"><font face=\"Georgia\" style=\"font-size: 18px\">低温熱源 <i>T</i><sub>1</sub></font></div></div></div></foreignObject><text fill=\"#000000\" font-family=\"Helvetica\" font-size=\"12px\" text-anchor=\"middle\" x=\"80\" y=\"304\">低温熱源 T1</text></switch></g><ellipse cx=\"80\" cy=\"160\" fill=\"#cdeb8b\" pointer-events=\"all\" rx=\"40\" ry=\"40\" stroke=\"#36393d\"/><g transform=\"translate(-0.5 -0.5)\"><switch><foreignObject height=\"100%\" pointer-events=\"none\" requiredFeatures=\"http://www.w3.org/TR/SVG11/feature#Extensibility\" style=\"overflow: visible; text-align: left;\" width=\"100%\"><div style=\"display: flex; align-items: unsafe center; justify-content: unsafe center; width: 78px; height: 1px; padding-top: 160px; margin-left: 41px;\" xmlns=\"http://www.w3.org/1999/xhtml\"><div style=\"box-sizing: border-box; font-size: 0; text-align: center; \"><div style=\"display: inline-block; font-size: 12px; font-family: Helvetica; color: #000000; line-height: 1.2; pointer-events: all; white-space: normal; word-wrap: normal; \"><font face=\"Georgia\" style=\"font-size: 13px\">(正)サイクル</font></div></div></div></foreignObject><text fill=\"#000000\" font-family=\"Helvetica\" font-size=\"12px\" text-anchor=\"middle\" x=\"80\" y=\"164\">(正)サイクル</text></switch></g><path d=\"M 58.5 40.63 L 100.5 40.37 L 100.85 96.38 L 111.35 96.31 L 80 119.5 L 48.35 96.71 L 58.85 96.64 Z\" fill=\"#ffcccc\" pointer-events=\"all\" stroke=\"#36393d\" stroke-linejoin=\"round\" stroke-miterlimit=\"10\"/><g transform=\"translate(-0.5 -0.5)\"><switch><foreignObject height=\"100%\" pointer-events=\"none\" requiredFeatures=\"http://www.w3.org/TR/SVG11/feature#Extensibility\" style=\"overflow: visible; text-align: left;\" width=\"100%\"><div style=\"display: flex; align-items: unsafe center; justify-content: unsafe center; width: 1px; height: 1px; padding-top: 77px; margin-left: 79px;\" xmlns=\"http://www.w3.org/1999/xhtml\"><div style=\"box-sizing: border-box; font-size: 0; text-align: center; \"><div style=\"display: inline-block; font-size: 11px; font-family: Helvetica; color: #000000; line-height: 1.2; pointer-events: all; white-space: nowrap; \"><font face=\"Georgia\" style=\"font-size: 18px\"><i>Q</i><sub>2</sub></font></div></div></div></foreignObject><text fill=\"#000000\" font-family=\"Helvetica\" font-size=\"11px\" text-anchor=\"middle\" x=\"79\" y=\"80\">Q2</text></switch></g><path d=\"M 120.43 170 L 120.57 149 L 176.64 149.35 L 176.7 138.85 L 199.5 160 L 176.44 180.85 L 176.5 170.35 Z\" fill=\"#fff2cc\" pointer-events=\"all\" stroke=\"#d6b656\" stroke-linejoin=\"round\" stroke-miterlimit=\"10\"/><g transform=\"translate(-0.5 -0.5)\"><switch><foreignObject height=\"100%\" pointer-events=\"none\" requiredFeatures=\"http://www.w3.org/TR/SVG11/feature#Extensibility\" style=\"overflow: visible; text-align: left;\" width=\"100%\"><div style=\"display: flex; align-items: unsafe center; justify-content: unsafe center; width: 1px; height: 1px; padding-top: 161px; margin-left: 231px;\" xmlns=\"http://www.w3.org/1999/xhtml\"><div style=\"box-sizing: border-box; font-size: 0; text-align: center; \"><div style=\"display: inline-block; font-size: 11px; font-family: Helvetica; color: #000000; line-height: 1.2; pointer-events: all; white-space: nowrap; \"><font face=\"Georgia\" style=\"font-size: 18px\"><i>W</i><sub>cycle</sub></font></div></div></div></foreignObject><text fill=\"#000000\" font-family=\"Helvetica\" font-size=\"11px\" text-anchor=\"middle\" x=\"231\" y=\"164\">Wcycle</text></switch></g><path d=\"M 40 273 L 120 193\" fill=\"none\" pointer-events=\"stroke\" stroke=\"#000000\" stroke-miterlimit=\"10\" stroke-width=\"4\"/><path d=\"M 120 273 L 40 193\" fill=\"none\" pointer-events=\"stroke\" stroke=\"#000000\" stroke-miterlimit=\"10\" stroke-width=\"4\"/></g><switch><g requiredFeatures=\"http://www.w3.org/TR/SVG11/feature#Extensibility\"/><a target=\"_blank\" transform=\"translate(0,-5)\" xlink:href=\"https://desk.draw.io/support/solutions/articles/16000042487\"><text font-size=\"10px\" text-anchor=\"middle\" x=\"50%\" y=\"100%\">Viewer does not support full SVG 1.1</text></a></switch></svg>"
          },
          "metadata": {
            "tags": []
          }
        }
      ]
    },
    {
      "cell_type": "markdown",
      "metadata": {
        "id": "7mJ36UgbZRhX"
      },
      "source": [
        "### [クラウジウス](https://en.wikipedia.org/wiki/Rudolf_Clausius)の原理"
      ]
    },
    {
      "cell_type": "markdown",
      "metadata": {
        "id": "kVz2gkQVfI0D"
      },
      "source": [
        "![https://en.wikipedia.org/wiki/Rudolf_Clausius](https://upload.wikimedia.org/wikipedia/commons/4/40/Clausius.jpg)\n"
      ]
    },
    {
      "cell_type": "markdown",
      "metadata": {
        "id": "a7pAmZhLfLtJ"
      },
      "source": [
        ">> 低温の物体から高温の物体に熱を移動し,   \n",
        ">> それ以外に何の変化も残さないようにすることは **できない**."
      ]
    },
    {
      "cell_type": "markdown",
      "metadata": {
        "id": "FYOgI1ofC8U_"
      },
      "source": [
        "$\\require{cancel}$\n",
        "\\begin{align*}\n",
        "\\eta\n",
        "&= \\dfrac{W}{Q_2} = \\dfrac{W_{\\rm out}}{Q_{\\rm 2:in}} \\lneqq 1\\\\\n",
        "  W_{\\rm out}&\\lneqq Q_{\\rm 2:in}\\\\\n",
        "  -W_{\\rm out}&\\gneqq - Q_{\\rm 2:in}\\\\\n",
        "  W_{\\rm in} &\\gneqq  Q_{\\rm 2:out} > 0\\\\   \n",
        "\\end{align*}"
      ]
    },
    {
      "cell_type": "code",
      "metadata": {
        "id": "M8NyHxPOgdoK",
        "cellView": "form",
        "colab": {
          "base_uri": "https://localhost:8080/",
          "height": 342
        },
        "outputId": "93911530-fe98-4af9-d4c3-f080213387bb"
      },
      "source": [
        "#@title 模式図: クラウジウスの原理\n",
        "%%html\n",
        "<svg xmlns=\"http://www.w3.org/2000/svg\" xmlns:xlink=\"http://www.w3.org/1999/xlink\" version=\"1.1\" width=\"224px\" viewBox=\"-0.5 -0.5 224 321\" content=\"&lt;mxfile host=&quot;app.diagrams.net&quot; modified=&quot;2020-08-28T00:39:56.699Z&quot; agent=&quot;5.0 (Macintosh; Intel Mac OS X 10_10_5) AppleWebKit/537.36 (KHTML, like Gecko) Chrome/84.0.4147.135 Safari/537.36&quot; etag=&quot;fWF5eMC9v6usUQg9VOwl&quot; version=&quot;13.6.5&quot; type=&quot;google&quot;&gt;&lt;diagram id=&quot;IqefzBJmjiEjrmSx2Wwk&quot; name=&quot;Page-1&quot;&gt;3VlRc6M2EP41mmkf7AEJMDxC7Etvpp2pm06v15cbAQLrDlsEcEzu11cCCSNMLo5jx5Pzi6VP0kq7++1qZQN0s65vC5yv/mAxyQA04hqgOYDQNKwZ/xLIo0Jcu0XSgsYS2wN39DtREyW6pTEptYkVY1lFcx2M2GZDokrDcFGwnT4tYZm+a45TcgDcRTg7RD/RuFq1KPR6+G+Epiu5s2WidmCN1VypSLnCMdv1ILQA6KZgrGpb6/qGZMJ4yiztug9PjHb7F2RTHbPgyw4u09nkPs3v/8ngX5Z5+9GcSCkPONtKfQF0Mi4vSBgXy+2Fo3bAud+Kkwa3hBUpxXtAqFY9ZvossXpSNs70+QTTzev+Cidtvhce8APguWDhgMAFvgcWM+DyttkgPvC4SoY6EVXr/lYIV7YDFVZuQwXB3rwe3ENbJRUMNVVgwbabmAjrGXx4t6IVuctbc+w42Tm2qtYZ75lCYZplNyxjRbMWJW5EokgcpyrYN9IbCV3bso1uv77/lDNIUZG6B0l/csuvSVU88ilyFElqydhSsbbb89R05JRVn6MSwzI00k7wnj68IRn0AjbB59j0YqIcxT/FJgsEc+AuLsQm83psijFxk1E2OZFLwuQibELw2nRCr6cTOplOvwjS+HPgo1/BAgEXgsCWDd9SjQ9NA4ksdiQNuNr85iLPUwCXeXudJbQWtBlyIopJ6IZjnEAO8lB8Hk7MdE6YziEn3BFKuJeihDVCiYGF+T2bi2aSkdoXBQC3BNnEsjmPMlyWNNKNrdSxYDtZliGzKUINwI/+r4jcqa26n2UgN515rfUeZW94JyRRNH4ndB4jNa16G/Fetw9v77cRHbXLk14m8aCyKdm2kPT/QcAdcqHnbHvE2QorSIYr+qDvOcYAucOfjDZR3NWK3tTW2WbPdCGtAnJdv9R5VpQ7kFThIiXVgaSGk53mp9PUvupFOLzhlm9TLwm+/Y5D/gDQE1lG040IPM5PwgkfiOxDeYHty4E1jWMhIygI1x+HjTzB7Fy4p3GYHQB7zpFMiA9w9C1trlMVQhu2IaOR8MMcMkyC3RtCHkGr08eS48SYmoZhakRTFfWpwaCmsCQpyUW46Vw2hUJzmELNN02hx6bDq6U584ky6/VJrnsAvFGWm73LLPfKOv69ZDkV5ufIcnBmIz3LwbPEwsScuqbX/7i6iLNkwfDj8lNolcuHSeB8/e97bSy9z6M/fAw9vc940vQ9f7cJSP0iZHV+OSi6DjLR1RLPoJY/eLcdm3i6A3WPgoGg86WdUdeN/crwc7tuaPGTXTfkwFu77ojn2wtcB9+B67yB54YPkaM9h4YUuNhdP+q5sRfNz+05XtprFvdOjTlrEHPoXDHHu/u/D9rp+z9h0OJ/&lt;/diagram&gt;&lt;/mxfile&gt;\" onclick=\"(function(svg){var src=window.event.target||window.event.srcElement;while (src!=null&amp;&amp;src.nodeName.toLowerCase()!='a'){src=src.parentNode;}if(src==null){if(svg.wnd!=null&amp;&amp;!svg.wnd.closed){svg.wnd.focus();}else{var r=function(evt){if(evt.data=='ready'&amp;&amp;evt.source==svg.wnd){svg.wnd.postMessage(decodeURIComponent(svg.getAttribute('content')),'*');window.removeEventListener('message',r);}};window.addEventListener('message',r);svg.wnd=window.open('https://viewer.diagrams.net/?client=1&amp;edit=_blank');}}})(this);\" style=\"cursor:pointer;max-width:100%;max-height:321px;\"><defs/><g><rect x=\"0\" y=\"0\" width=\"160\" height=\"40\" fill=\"#f8cecc\" stroke=\"#b85450\" pointer-events=\"all\"/><g transform=\"translate(-0.5 -0.5)\"><switch><foreignObject style=\"overflow: visible; text-align: left;\" pointer-events=\"none\" width=\"100%\" height=\"100%\" requiredFeatures=\"http://www.w3.org/TR/SVG11/feature#Extensibility\"><div xmlns=\"http://www.w3.org/1999/xhtml\" style=\"display: flex; align-items: unsafe center; justify-content: unsafe center; width: 158px; height: 1px; padding-top: 20px; margin-left: 1px;\"><div style=\"box-sizing: border-box; font-size: 0; text-align: center; \"><div style=\"display: inline-block; font-size: 12px; font-family: Helvetica; color: #000000; line-height: 1.2; pointer-events: all; white-space: normal; word-wrap: normal; \"><font face=\"Georgia\" style=\"font-size: 18px\">高温熱源 <i>T</i><sub>2</sub></font></div></div></div></foreignObject><text x=\"80\" y=\"24\" fill=\"#000000\" font-family=\"Helvetica\" font-size=\"12px\" text-anchor=\"middle\">高温熱源 T2</text></switch></g><rect x=\"0\" y=\"280\" width=\"160\" height=\"40\" fill=\"#dae8fc\" stroke=\"#6c8ebf\" pointer-events=\"all\"/><g transform=\"translate(-0.5 -0.5)\"><switch><foreignObject style=\"overflow: visible; text-align: left;\" pointer-events=\"none\" width=\"100%\" height=\"100%\" requiredFeatures=\"http://www.w3.org/TR/SVG11/feature#Extensibility\"><div xmlns=\"http://www.w3.org/1999/xhtml\" style=\"display: flex; align-items: unsafe center; justify-content: unsafe center; width: 158px; height: 1px; padding-top: 300px; margin-left: 1px;\"><div style=\"box-sizing: border-box; font-size: 0; text-align: center; \"><div style=\"display: inline-block; font-size: 12px; font-family: Helvetica; color: #000000; line-height: 1.2; pointer-events: all; white-space: normal; word-wrap: normal; \"><font style=\"font-size: 18px\" face=\"Georgia\">低温熱源 <i>T</i><sub>1</sub></font></div></div></div></foreignObject><text x=\"80\" y=\"304\" fill=\"#000000\" font-family=\"Helvetica\" font-size=\"12px\" text-anchor=\"middle\">低温熱源 T1</text></switch></g><ellipse cx=\"80\" cy=\"160\" rx=\"40\" ry=\"40\" fill=\"#cdeb8b\" stroke=\"#36393d\" pointer-events=\"all\"/><g transform=\"translate(-0.5 -0.5)\"><switch><foreignObject style=\"overflow: visible; text-align: left;\" pointer-events=\"none\" width=\"100%\" height=\"100%\" requiredFeatures=\"http://www.w3.org/TR/SVG11/feature#Extensibility\"><div xmlns=\"http://www.w3.org/1999/xhtml\" style=\"display: flex; align-items: unsafe center; justify-content: unsafe center; width: 78px; height: 1px; padding-top: 160px; margin-left: 41px;\"><div style=\"box-sizing: border-box; font-size: 0; text-align: center; \"><div style=\"display: inline-block; font-size: 12px; font-family: Helvetica; color: #000000; line-height: 1.2; pointer-events: all; white-space: normal; word-wrap: normal; \"><font style=\"font-size: 13px\" face=\"Georgia\">(正)サイクル</font></div></div></div></foreignObject><text x=\"80\" y=\"164\" fill=\"#000000\" font-family=\"Helvetica\" font-size=\"12px\" text-anchor=\"middle\">(正)サイクル</text></switch></g><path d=\"M 101 119.37 L 59 119.63 L 58.65 63.62 L 48.15 63.69 L 79.5 40.5 L 111.15 63.29 L 100.65 63.36 Z\" fill=\"#ffcccc\" stroke=\"#36393d\" stroke-linejoin=\"round\" stroke-miterlimit=\"10\" pointer-events=\"all\"/><g transform=\"translate(-0.5 -0.5)\"><switch><foreignObject style=\"overflow: visible; text-align: left;\" pointer-events=\"none\" width=\"100%\" height=\"100%\" requiredFeatures=\"http://www.w3.org/TR/SVG11/feature#Extensibility\"><div xmlns=\"http://www.w3.org/1999/xhtml\" style=\"display: flex; align-items: unsafe center; justify-content: unsafe center; width: 1px; height: 1px; padding-top: 84px; margin-left: 81px;\"><div style=\"box-sizing: border-box; font-size: 0; text-align: center; \"><div style=\"display: inline-block; font-size: 11px; font-family: Helvetica; color: #000000; line-height: 1.2; pointer-events: all; white-space: nowrap; \"><font style=\"font-size: 18px\" face=\"Georgia\"><i>Q</i><sub>2</sub></font></div></div></div></foreignObject><text x=\"81\" y=\"88\" fill=\"#000000\" font-family=\"Helvetica\" font-size=\"11px\" text-anchor=\"middle\">Q2</text></switch></g><path d=\"M 90.5 279.43 L 69.5 279.57 L 69.15 223.5 L 58.65 223.56 L 79.5 200.5 L 100.65 223.3 L 90.15 223.36 Z\" fill=\"#ffcccc\" stroke=\"#36393d\" stroke-linejoin=\"round\" stroke-miterlimit=\"10\" pointer-events=\"all\"/><g transform=\"translate(-0.5 -0.5)\"><switch><foreignObject style=\"overflow: visible; text-align: left;\" pointer-events=\"none\" width=\"100%\" height=\"100%\" requiredFeatures=\"http://www.w3.org/TR/SVG11/feature#Extensibility\"><div xmlns=\"http://www.w3.org/1999/xhtml\" style=\"display: flex; align-items: unsafe center; justify-content: unsafe center; width: 1px; height: 1px; padding-top: 251px; margin-left: 80px;\"><div style=\"box-sizing: border-box; font-size: 0; text-align: center; \"><div style=\"display: inline-block; font-size: 11px; font-family: Helvetica; color: #000000; line-height: 1.2; pointer-events: all; white-space: nowrap; \"><font style=\"font-size: 18px\" face=\"Georgia\"><i>Q</i><sub>1</sub></font></div></div></div></foreignObject><text x=\"80\" y=\"255\" fill=\"#000000\" font-family=\"Helvetica\" font-size=\"11px\" text-anchor=\"middle\">Q1</text></switch></g><path d=\"M 140 193 L 220 113\" fill=\"none\" stroke=\"#000000\" stroke-width=\"4\" stroke-miterlimit=\"10\" pointer-events=\"stroke\"/><path d=\"M 220 193 L 140 113\" fill=\"none\" stroke=\"#000000\" stroke-width=\"4\" stroke-miterlimit=\"10\" pointer-events=\"stroke\"/><path d=\"M 60 240 L 100 200\" fill=\"none\" stroke=\"#000000\" stroke-width=\"2\" stroke-miterlimit=\"10\" pointer-events=\"stroke\"/><path d=\"M 70 43 L 110 83\" fill=\"none\" stroke=\"#000000\" stroke-width=\"2\" stroke-miterlimit=\"10\" pointer-events=\"stroke\"/></g><switch><g requiredFeatures=\"http://www.w3.org/TR/SVG11/feature#Extensibility\"/><a transform=\"translate(0,-5)\" xlink:href=\"https://desk.draw.io/support/solutions/articles/16000042487\" target=\"_blank\"><text text-anchor=\"middle\" font-size=\"10px\" x=\"50%\" y=\"100%\">Viewer does not support full SVG 1.1</text></a></switch></svg>"
      ],
      "execution_count": null,
      "outputs": [
        {
          "output_type": "display_data",
          "data": {
            "text/html": [
              "<svg xmlns=\"http://www.w3.org/2000/svg\" xmlns:xlink=\"http://www.w3.org/1999/xlink\" version=\"1.1\" width=\"224px\" viewBox=\"-0.5 -0.5 224 321\" content=\"&lt;mxfile host=&quot;app.diagrams.net&quot; modified=&quot;2020-08-28T00:39:56.699Z&quot; agent=&quot;5.0 (Macintosh; Intel Mac OS X 10_10_5) AppleWebKit/537.36 (KHTML, like Gecko) Chrome/84.0.4147.135 Safari/537.36&quot; etag=&quot;fWF5eMC9v6usUQg9VOwl&quot; version=&quot;13.6.5&quot; type=&quot;google&quot;&gt;&lt;diagram id=&quot;IqefzBJmjiEjrmSx2Wwk&quot; name=&quot;Page-1&quot;&gt;3VlRc6M2EP41mmkf7AEJMDxC7Etvpp2pm06v15cbAQLrDlsEcEzu11cCCSNMLo5jx5Pzi6VP0kq7++1qZQN0s65vC5yv/mAxyQA04hqgOYDQNKwZ/xLIo0Jcu0XSgsYS2wN39DtREyW6pTEptYkVY1lFcx2M2GZDokrDcFGwnT4tYZm+a45TcgDcRTg7RD/RuFq1KPR6+G+Epiu5s2WidmCN1VypSLnCMdv1ILQA6KZgrGpb6/qGZMJ4yiztug9PjHb7F2RTHbPgyw4u09nkPs3v/8ngX5Z5+9GcSCkPONtKfQF0Mi4vSBgXy+2Fo3bAud+Kkwa3hBUpxXtAqFY9ZvossXpSNs70+QTTzev+Cidtvhce8APguWDhgMAFvgcWM+DyttkgPvC4SoY6EVXr/lYIV7YDFVZuQwXB3rwe3ENbJRUMNVVgwbabmAjrGXx4t6IVuctbc+w42Tm2qtYZ75lCYZplNyxjRbMWJW5EokgcpyrYN9IbCV3bso1uv77/lDNIUZG6B0l/csuvSVU88ilyFElqydhSsbbb89R05JRVn6MSwzI00k7wnj68IRn0AjbB59j0YqIcxT/FJgsEc+AuLsQm83psijFxk1E2OZFLwuQibELw2nRCr6cTOplOvwjS+HPgo1/BAgEXgsCWDd9SjQ9NA4ksdiQNuNr85iLPUwCXeXudJbQWtBlyIopJ6IZjnEAO8lB8Hk7MdE6YziEn3BFKuJeihDVCiYGF+T2bi2aSkdoXBQC3BNnEsjmPMlyWNNKNrdSxYDtZliGzKUINwI/+r4jcqa26n2UgN515rfUeZW94JyRRNH4ndB4jNa16G/Fetw9v77cRHbXLk14m8aCyKdm2kPT/QcAdcqHnbHvE2QorSIYr+qDvOcYAucOfjDZR3NWK3tTW2WbPdCGtAnJdv9R5VpQ7kFThIiXVgaSGk53mp9PUvupFOLzhlm9TLwm+/Y5D/gDQE1lG040IPM5PwgkfiOxDeYHty4E1jWMhIygI1x+HjTzB7Fy4p3GYHQB7zpFMiA9w9C1trlMVQhu2IaOR8MMcMkyC3RtCHkGr08eS48SYmoZhakRTFfWpwaCmsCQpyUW46Vw2hUJzmELNN02hx6bDq6U584ky6/VJrnsAvFGWm73LLPfKOv69ZDkV5ufIcnBmIz3LwbPEwsScuqbX/7i6iLNkwfDj8lNolcuHSeB8/e97bSy9z6M/fAw9vc940vQ9f7cJSP0iZHV+OSi6DjLR1RLPoJY/eLcdm3i6A3WPgoGg86WdUdeN/crwc7tuaPGTXTfkwFu77ojn2wtcB9+B67yB54YPkaM9h4YUuNhdP+q5sRfNz+05XtprFvdOjTlrEHPoXDHHu/u/D9rp+z9h0OJ/&lt;/diagram&gt;&lt;/mxfile&gt;\" onclick=\"(function(svg){var src=window.event.target||window.event.srcElement;while (src!=null&amp;&amp;src.nodeName.toLowerCase()!='a'){src=src.parentNode;}if(src==null){if(svg.wnd!=null&amp;&amp;!svg.wnd.closed){svg.wnd.focus();}else{var r=function(evt){if(evt.data=='ready'&amp;&amp;evt.source==svg.wnd){svg.wnd.postMessage(decodeURIComponent(svg.getAttribute('content')),'*');window.removeEventListener('message',r);}};window.addEventListener('message',r);svg.wnd=window.open('https://viewer.diagrams.net/?client=1&amp;edit=_blank');}}})(this);\" style=\"cursor:pointer;max-width:100%;max-height:321px;\"><defs/><g><rect x=\"0\" y=\"0\" width=\"160\" height=\"40\" fill=\"#f8cecc\" stroke=\"#b85450\" pointer-events=\"all\"/><g transform=\"translate(-0.5 -0.5)\"><switch><foreignObject style=\"overflow: visible; text-align: left;\" pointer-events=\"none\" width=\"100%\" height=\"100%\" requiredFeatures=\"http://www.w3.org/TR/SVG11/feature#Extensibility\"><div xmlns=\"http://www.w3.org/1999/xhtml\" style=\"display: flex; align-items: unsafe center; justify-content: unsafe center; width: 158px; height: 1px; padding-top: 20px; margin-left: 1px;\"><div style=\"box-sizing: border-box; font-size: 0; text-align: center; \"><div style=\"display: inline-block; font-size: 12px; font-family: Helvetica; color: #000000; line-height: 1.2; pointer-events: all; white-space: normal; word-wrap: normal; \"><font face=\"Georgia\" style=\"font-size: 18px\">高温熱源 <i>T</i><sub>2</sub></font></div></div></div></foreignObject><text x=\"80\" y=\"24\" fill=\"#000000\" font-family=\"Helvetica\" font-size=\"12px\" text-anchor=\"middle\">高温熱源 T2</text></switch></g><rect x=\"0\" y=\"280\" width=\"160\" height=\"40\" fill=\"#dae8fc\" stroke=\"#6c8ebf\" pointer-events=\"all\"/><g transform=\"translate(-0.5 -0.5)\"><switch><foreignObject style=\"overflow: visible; text-align: left;\" pointer-events=\"none\" width=\"100%\" height=\"100%\" requiredFeatures=\"http://www.w3.org/TR/SVG11/feature#Extensibility\"><div xmlns=\"http://www.w3.org/1999/xhtml\" style=\"display: flex; align-items: unsafe center; justify-content: unsafe center; width: 158px; height: 1px; padding-top: 300px; margin-left: 1px;\"><div style=\"box-sizing: border-box; font-size: 0; text-align: center; \"><div style=\"display: inline-block; font-size: 12px; font-family: Helvetica; color: #000000; line-height: 1.2; pointer-events: all; white-space: normal; word-wrap: normal; \"><font style=\"font-size: 18px\" face=\"Georgia\">低温熱源 <i>T</i><sub>1</sub></font></div></div></div></foreignObject><text x=\"80\" y=\"304\" fill=\"#000000\" font-family=\"Helvetica\" font-size=\"12px\" text-anchor=\"middle\">低温熱源 T1</text></switch></g><ellipse cx=\"80\" cy=\"160\" rx=\"40\" ry=\"40\" fill=\"#cdeb8b\" stroke=\"#36393d\" pointer-events=\"all\"/><g transform=\"translate(-0.5 -0.5)\"><switch><foreignObject style=\"overflow: visible; text-align: left;\" pointer-events=\"none\" width=\"100%\" height=\"100%\" requiredFeatures=\"http://www.w3.org/TR/SVG11/feature#Extensibility\"><div xmlns=\"http://www.w3.org/1999/xhtml\" style=\"display: flex; align-items: unsafe center; justify-content: unsafe center; width: 78px; height: 1px; padding-top: 160px; margin-left: 41px;\"><div style=\"box-sizing: border-box; font-size: 0; text-align: center; \"><div style=\"display: inline-block; font-size: 12px; font-family: Helvetica; color: #000000; line-height: 1.2; pointer-events: all; white-space: normal; word-wrap: normal; \"><font style=\"font-size: 13px\" face=\"Georgia\">(正)サイクル</font></div></div></div></foreignObject><text x=\"80\" y=\"164\" fill=\"#000000\" font-family=\"Helvetica\" font-size=\"12px\" text-anchor=\"middle\">(正)サイクル</text></switch></g><path d=\"M 101 119.37 L 59 119.63 L 58.65 63.62 L 48.15 63.69 L 79.5 40.5 L 111.15 63.29 L 100.65 63.36 Z\" fill=\"#ffcccc\" stroke=\"#36393d\" stroke-linejoin=\"round\" stroke-miterlimit=\"10\" pointer-events=\"all\"/><g transform=\"translate(-0.5 -0.5)\"><switch><foreignObject style=\"overflow: visible; text-align: left;\" pointer-events=\"none\" width=\"100%\" height=\"100%\" requiredFeatures=\"http://www.w3.org/TR/SVG11/feature#Extensibility\"><div xmlns=\"http://www.w3.org/1999/xhtml\" style=\"display: flex; align-items: unsafe center; justify-content: unsafe center; width: 1px; height: 1px; padding-top: 84px; margin-left: 81px;\"><div style=\"box-sizing: border-box; font-size: 0; text-align: center; \"><div style=\"display: inline-block; font-size: 11px; font-family: Helvetica; color: #000000; line-height: 1.2; pointer-events: all; white-space: nowrap; \"><font style=\"font-size: 18px\" face=\"Georgia\"><i>Q</i><sub>2</sub></font></div></div></div></foreignObject><text x=\"81\" y=\"88\" fill=\"#000000\" font-family=\"Helvetica\" font-size=\"11px\" text-anchor=\"middle\">Q2</text></switch></g><path d=\"M 90.5 279.43 L 69.5 279.57 L 69.15 223.5 L 58.65 223.56 L 79.5 200.5 L 100.65 223.3 L 90.15 223.36 Z\" fill=\"#ffcccc\" stroke=\"#36393d\" stroke-linejoin=\"round\" stroke-miterlimit=\"10\" pointer-events=\"all\"/><g transform=\"translate(-0.5 -0.5)\"><switch><foreignObject style=\"overflow: visible; text-align: left;\" pointer-events=\"none\" width=\"100%\" height=\"100%\" requiredFeatures=\"http://www.w3.org/TR/SVG11/feature#Extensibility\"><div xmlns=\"http://www.w3.org/1999/xhtml\" style=\"display: flex; align-items: unsafe center; justify-content: unsafe center; width: 1px; height: 1px; padding-top: 251px; margin-left: 80px;\"><div style=\"box-sizing: border-box; font-size: 0; text-align: center; \"><div style=\"display: inline-block; font-size: 11px; font-family: Helvetica; color: #000000; line-height: 1.2; pointer-events: all; white-space: nowrap; \"><font style=\"font-size: 18px\" face=\"Georgia\"><i>Q</i><sub>1</sub></font></div></div></div></foreignObject><text x=\"80\" y=\"255\" fill=\"#000000\" font-family=\"Helvetica\" font-size=\"11px\" text-anchor=\"middle\">Q1</text></switch></g><path d=\"M 140 193 L 220 113\" fill=\"none\" stroke=\"#000000\" stroke-width=\"4\" stroke-miterlimit=\"10\" pointer-events=\"stroke\"/><path d=\"M 220 193 L 140 113\" fill=\"none\" stroke=\"#000000\" stroke-width=\"4\" stroke-miterlimit=\"10\" pointer-events=\"stroke\"/><path d=\"M 60 240 L 100 200\" fill=\"none\" stroke=\"#000000\" stroke-width=\"2\" stroke-miterlimit=\"10\" pointer-events=\"stroke\"/><path d=\"M 70 43 L 110 83\" fill=\"none\" stroke=\"#000000\" stroke-width=\"2\" stroke-miterlimit=\"10\" pointer-events=\"stroke\"/></g><switch><g requiredFeatures=\"http://www.w3.org/TR/SVG11/feature#Extensibility\"/><a transform=\"translate(0,-5)\" xlink:href=\"https://desk.draw.io/support/solutions/articles/16000042487\" target=\"_blank\"><text text-anchor=\"middle\" font-size=\"10px\" x=\"50%\" y=\"100%\">Viewer does not support full SVG 1.1</text></a></switch></svg>"
            ],
            "text/plain": [
              "<IPython.core.display.HTML object>"
            ]
          },
          "metadata": {
            "tags": []
          }
        }
      ]
    },
    {
      "cell_type": "markdown",
      "metadata": {
        "id": "u2sWUX3fbdIs"
      },
      "source": [
        "### それぞれの原理について\n",
        "\n",
        "- 歴史的には, クラウジウス, トムソン, オスワイルド と整理されました.\n",
        "- トムソンの原理とクラウジウスの原理は, 証明でいう *対偶* にあたります.\n",
        "- これら以外に, プランクの原理「摩擦により発生する熱は不可逆である」もあります.\n",
        "\n",
        "\n"
      ]
    }
  ]
}